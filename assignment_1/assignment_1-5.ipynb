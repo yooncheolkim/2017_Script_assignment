{
 "cells": [
  {
   "cell_type": "code",
   "execution_count": 4,
   "metadata": {},
   "outputs": [
    {
     "name": "stdout",
     "output_type": "stream",
     "text": [
      "1 \n",
      "3 \n",
      "5 \n",
      "7 \n",
      "9 \n",
      "11 \n",
      "13 \n",
      "15 \n",
      "17 \n",
      "19 \n",
      "21 \n",
      "23 \n",
      "25 \n",
      "27 \n",
      "29 \n",
      "31 \n",
      "33 \n",
      "35 \n",
      "37 \n",
      "39 \n",
      "41 \n",
      "43 \n",
      "45 \n",
      "47 \n",
      "49 \n",
      "51 \n",
      "53 \n",
      "55 \n",
      "57 \n",
      "59 \n",
      "61 \n",
      "63 \n",
      "65 \n",
      "67 \n",
      "69 \n",
      "71 \n",
      "73 \n",
      "75 \n",
      "77 \n",
      "79 \n",
      "81 \n",
      "83 \n",
      "85 \n",
      "87 \n",
      "89 \n",
      "91 \n",
      "93 \n",
      "95 \n",
      "97 \n",
      "99 \n"
     ]
    }
   ],
   "source": [
    "for i in range(1,101):\n",
    "    if i%2 == 1:\n",
    "        print(str(i)+ \" \" )"
   ]
  },
  {
   "cell_type": "markdown",
   "metadata": {
    "collapsed": true
   },
   "source": [
    "for 문을 이용하였다.  range 1(included) ~ 101(excluded)\n",
    "\n",
    "i의 값이 2로 나누어 떨어지지 않으면, 홀수 이므로, 이를 바로 출력하였다."
   ]
  },
  {
   "cell_type": "code",
   "execution_count": null,
   "metadata": {
    "collapsed": true
   },
   "outputs": [],
   "source": []
  }
 ],
 "metadata": {
  "kernelspec": {
   "display_name": "Python 3",
   "language": "python",
   "name": "python3"
  },
  "language_info": {
   "codemirror_mode": {
    "name": "ipython",
    "version": 3
   },
   "file_extension": ".py",
   "mimetype": "text/x-python",
   "name": "python",
   "nbconvert_exporter": "python",
   "pygments_lexer": "ipython3",
   "version": "3.6.1"
  }
 },
 "nbformat": 4,
 "nbformat_minor": 2
}
