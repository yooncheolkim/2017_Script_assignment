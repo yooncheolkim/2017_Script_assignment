{
 "cells": [
  {
   "cell_type": "code",
   "execution_count": 10,
   "metadata": {},
   "outputs": [
    {
     "name": "stdout",
     "output_type": "stream",
     "text": [
      "5\n",
      "54321\n",
      "15\n"
     ]
    }
   ],
   "source": [
    "n = input()\n",
    "num = input()\n",
    "result = 0\n",
    "for i in range(0,int(n)):\n",
    "    result += int(num[i])\n",
    "print(result)"
   ]
  },
  {
   "cell_type": "markdown",
   "metadata": {
    "collapsed": true
   },
   "source": [
    "빈칸없이 숫자를 입력 받으므로, num에 문자열을 입력받는다. \n",
    "\n",
    "사실, 처음 입력받은 n은 필요없다. len(num)을 사용하면 되니깐.\n",
    "\n",
    "num의 길이 만큼 반복하여, result에 값을 int 변환하여 더해준다.\n",
    "![img](./image/ACM-ICPC_11720.png)"
   ]
  },
  {
   "cell_type": "markdown",
   "metadata": {
    "collapsed": true
   },
   "source": [
    "### 소감\n",
    "지난학기에 라즈베리파이를 만지면서, 파이썬을 코딩을 했었다. 처음 과제이고, 이전에 접했던 것들이라서 그런지, 어려운 부분은 없었다. 백준에 있는 문제들도 이전에 풀었던 문제들이라서, 쉬웠다. 다음에는 조금 더 난이도가 있는 과제가 나왔으면 한다."
   ]
  },
  {
   "cell_type": "code",
   "execution_count": null,
   "metadata": {
    "collapsed": true
   },
   "outputs": [],
   "source": []
  }
 ],
 "metadata": {
  "kernelspec": {
   "display_name": "Python 3",
   "language": "python",
   "name": "python3"
  },
  "language_info": {
   "codemirror_mode": {
    "name": "ipython",
    "version": 3
   },
   "file_extension": ".py",
   "mimetype": "text/x-python",
   "name": "python",
   "nbconvert_exporter": "python",
   "pygments_lexer": "ipython3",
   "version": "3.6.1"
  }
 },
 "nbformat": 4,
 "nbformat_minor": 2
}
