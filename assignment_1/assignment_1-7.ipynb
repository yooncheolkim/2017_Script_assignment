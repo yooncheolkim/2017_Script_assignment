{
 "cells": [
  {
   "cell_type": "code",
   "execution_count": 15,
   "metadata": {},
   "outputs": [
    {
     "name": "stdout",
     "output_type": "stream",
     "text": [
      "정수를 입력하세요 : \n",
      "1234567\n"
     ]
    }
   ],
   "source": [
    "print(\"정수를 입력하세요 : \")\n",
    "a = input()"
   ]
  },
  {
   "cell_type": "code",
   "execution_count": 16,
   "metadata": {},
   "outputs": [
    {
     "name": "stdout",
     "output_type": "stream",
     "text": [
      "숫자 역순 : \n",
      "7654321\n"
     ]
    }
   ],
   "source": [
    "print(\"숫자 역순 : \")\n",
    "i = len(a)-1\n",
    "result = \"\"\n",
    "while i>=0:\n",
    "    result += a[i]\n",
    "    i -= 1\n",
    "print (result)"
   ]
  },
  {
   "cell_type": "markdown",
   "metadata": {
    "collapsed": true
   },
   "source": [
    "input() 함수를 이용하여 정수를 입력 받아, a에 넣는다. 이 a의 타입은 str이다.\n",
    "\n",
    "a의 길이 만큼 반복 하며, a의 문자열 끝부터 result에 다시 넣어 출력하였다."
   ]
  }
 ],
 "metadata": {
  "kernelspec": {
   "display_name": "Python 3",
   "language": "python",
   "name": "python3"
  },
  "language_info": {
   "codemirror_mode": {
    "name": "ipython",
    "version": 3
   },
   "file_extension": ".py",
   "mimetype": "text/x-python",
   "name": "python",
   "nbconvert_exporter": "python",
   "pygments_lexer": "ipython3",
   "version": "3.6.1"
  }
 },
 "nbformat": 4,
 "nbformat_minor": 2
}
