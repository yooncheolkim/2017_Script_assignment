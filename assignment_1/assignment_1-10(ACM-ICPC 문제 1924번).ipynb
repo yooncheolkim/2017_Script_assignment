{
 "cells": [
  {
   "cell_type": "code",
   "execution_count": 3,
   "metadata": {},
   "outputs": [
    {
     "name": "stdout",
     "output_type": "stream",
     "text": [
      "2 6\n",
      "TUE\n"
     ]
    }
   ],
   "source": [
    "month,day = input().split()\n",
    "\n",
    "Month2007List = [0,0,31,28,31,30,31,30,31,31,30,31,30,31]\n",
    "MonthList = [\"SUN\",\"MON\", \"TUE\", \"WED\", \"THU\", \"FRI\", \"SAT\"]\n",
    "a = 0\n",
    "for i in range(1, int(month) + 1):\n",
    "    a += int(Month2007List[i])\n",
    "a += int(day)\n",
    "\n",
    "result = a % 7\n",
    "print (MonthList[result])"
   ]
  },
  {
   "cell_type": "markdown",
   "metadata": {
    "collapsed": true
   },
   "source": [
    "먼저, input().split() 를 이용하여 한칸을 두고 입력을 받는다.\n",
    "\n",
    "리스트 인덱스와 각 달의 이름(수)를 일치하기 위해 Month2007List의 앞 두 인덱스를 0으로 하였다.\n",
    "\n",
    "이후 각 입력받은 달과 일을 계산하여, 총 일수를 받고, 그 수를 7로 나누어 결과를 출력한다.\n",
    "![img](./image/ACM-ICPC_1924.png)"
   ]
  },
  {
   "cell_type": "code",
   "execution_count": null,
   "metadata": {
    "collapsed": true
   },
   "outputs": [],
   "source": []
  }
 ],
 "metadata": {
  "kernelspec": {
   "display_name": "Python 3",
   "language": "python",
   "name": "python3"
  },
  "language_info": {
   "codemirror_mode": {
    "name": "ipython",
    "version": 3
   },
   "file_extension": ".py",
   "mimetype": "text/x-python",
   "name": "python",
   "nbconvert_exporter": "python",
   "pygments_lexer": "ipython3",
   "version": "3.6.1"
  }
 },
 "nbformat": 4,
 "nbformat_minor": 2
}
