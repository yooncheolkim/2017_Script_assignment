{
 "cells": [
  {
   "cell_type": "code",
   "execution_count": 12,
   "metadata": {},
   "outputs": [
    {
     "name": "stdout",
     "output_type": "stream",
     "text": [
      "10\n",
      "         *\n",
      "        **\n",
      "       ***\n",
      "      ****\n",
      "     *****\n",
      "    ******\n",
      "   *******\n",
      "  ********\n",
      " *********\n",
      "**********\n"
     ]
    }
   ],
   "source": [
    "a = input()\n",
    "b = int(a)\n",
    "c = \"\"\n",
    "for i in range(0,b):\n",
    "    c +=\" \"\n",
    "\n",
    "for i in range(0,b):\n",
    "    c = c[:b-i-1] + \"*\"\n",
    "    for j in range(0,b-len(c)):\n",
    "        c += \"*\"\n",
    "    print(c)"
   ]
  },
  {
   "cell_type": "markdown",
   "metadata": {
    "collapsed": true
   },
   "source": [
    "먼저 별의 갯수를 입력 받고, 별의 갯수 -1 만큼 c에 \" \" 문자열을 삽입한다. \n",
    "\n",
    "이후, c 문자열 끝에 *이 처음 나오는 부분 (인덱스 b-i-1) 에 별을 삽입하고, 그 이후 부터 b 끝까지 *을 삽입한다.\n",
    "\n",
    "![img](ACM-ICPC_2439.png)"
   ]
  },
  {
   "cell_type": "code",
   "execution_count": null,
   "metadata": {
    "collapsed": true
   },
   "outputs": [],
   "source": []
  }
 ],
 "metadata": {
  "kernelspec": {
   "display_name": "Python 3",
   "language": "python",
   "name": "python3"
  },
  "language_info": {
   "codemirror_mode": {
    "name": "ipython",
    "version": 3
   },
   "file_extension": ".py",
   "mimetype": "text/x-python",
   "name": "python",
   "nbconvert_exporter": "python",
   "pygments_lexer": "ipython3",
   "version": "3.6.1"
  }
 },
 "nbformat": 4,
 "nbformat_minor": 2
}
