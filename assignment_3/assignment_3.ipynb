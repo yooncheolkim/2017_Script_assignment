{
 "cells": [
  {
   "cell_type": "markdown",
   "metadata": {},
   "source": [
    "### assignment_3-01"
   ]
  },
  {
   "cell_type": "code",
   "execution_count": 2,
   "metadata": {},
   "outputs": [
    {
     "name": "stdout",
     "output_type": "stream",
     "text": [
      "[1, 100, 4, 5]\n"
     ]
    }
   ],
   "source": [
    "L = [1,2,3,4,5]\n",
    "L[1:3] = [100]\n",
    "print(L)"
   ]
  },
  {
   "cell_type": "markdown",
   "metadata": {},
   "source": [
    "리스트에 1~2 인덱스를 [100] 인 리스트로 치환 하는 과정이다."
   ]
  },
  {
   "cell_type": "code",
   "execution_count": 3,
   "metadata": {},
   "outputs": [
    {
     "name": "stdout",
     "output_type": "stream",
     "text": [
      "[1, 100, 4, 5]\n"
     ]
    }
   ],
   "source": [
    "L = [1,2,3,4,5]\n",
    "L[1:3] = [(100)]\n",
    "print(L)"
   ]
  },
  {
   "cell_type": "markdown",
   "metadata": {},
   "source": [
    "[100] == [(100)] 의 결과는 true 이다.<br/>\n",
    "위와 같은 결과가 나온다."
   ]
  },
  {
   "cell_type": "code",
   "execution_count": 4,
   "metadata": {
    "scrolled": false
   },
   "outputs": [
    {
     "ename": "TypeError",
     "evalue": "can only assign an iterable",
     "output_type": "error",
     "traceback": [
      "\u001b[1;31m---------------------------------------------------------------------------\u001b[0m",
      "\u001b[1;31mTypeError\u001b[0m                                 Traceback (most recent call last)",
      "\u001b[1;32m<ipython-input-4-15464e5e216c>\u001b[0m in \u001b[0;36m<module>\u001b[1;34m()\u001b[0m\n\u001b[0;32m      1\u001b[0m \u001b[0mL\u001b[0m \u001b[1;33m=\u001b[0m \u001b[1;33m[\u001b[0m\u001b[1;36m1\u001b[0m\u001b[1;33m,\u001b[0m\u001b[1;36m2\u001b[0m\u001b[1;33m,\u001b[0m\u001b[1;36m3\u001b[0m\u001b[1;33m,\u001b[0m\u001b[1;36m4\u001b[0m\u001b[1;33m,\u001b[0m\u001b[1;36m5\u001b[0m\u001b[1;33m]\u001b[0m\u001b[1;33m\u001b[0m\u001b[0m\n\u001b[1;32m----> 2\u001b[1;33m \u001b[0mL\u001b[0m\u001b[1;33m[\u001b[0m\u001b[1;36m1\u001b[0m\u001b[1;33m:\u001b[0m\u001b[1;36m3\u001b[0m\u001b[1;33m]\u001b[0m \u001b[1;33m=\u001b[0m \u001b[1;36m100\u001b[0m\u001b[1;33m\u001b[0m\u001b[0m\n\u001b[0m\u001b[0;32m      3\u001b[0m \u001b[0mprint\u001b[0m\u001b[1;33m(\u001b[0m\u001b[0mL\u001b[0m\u001b[1;33m)\u001b[0m\u001b[1;33m\u001b[0m\u001b[0m\n",
      "\u001b[1;31mTypeError\u001b[0m: can only assign an iterable"
     ]
    }
   ],
   "source": [
    "L = [1,2,3,4,5]\n",
    "L[1:3] = 100\n",
    "print(L)"
   ]
  },
  {
   "cell_type": "markdown",
   "metadata": {},
   "source": [
    "위 결과가 오류 나는 이유는 크기가 2인 리스트 슬라이스 값인 L[1:3] 에 한개의 크기인 <br/>\n",
    "정수형을 넣으려고 하기 때문에 'can only assign an iterable' 오류가 발생하였다.\n",
    "iterable 의 종류에는 str, tuple, list 가 있다."
   ]
  },
  {
   "cell_type": "code",
   "execution_count": 5,
   "metadata": {
    "scrolled": true
   },
   "outputs": [
    {
     "ename": "TypeError",
     "evalue": "can only assign an iterable",
     "output_type": "error",
     "traceback": [
      "\u001b[1;31m---------------------------------------------------------------------------\u001b[0m",
      "\u001b[1;31mTypeError\u001b[0m                                 Traceback (most recent call last)",
      "\u001b[1;32m<ipython-input-5-7131b7ae1ab5>\u001b[0m in \u001b[0;36m<module>\u001b[1;34m()\u001b[0m\n\u001b[0;32m      1\u001b[0m \u001b[0mL\u001b[0m \u001b[1;33m=\u001b[0m \u001b[1;33m[\u001b[0m\u001b[1;36m1\u001b[0m\u001b[1;33m,\u001b[0m\u001b[1;36m2\u001b[0m\u001b[1;33m,\u001b[0m\u001b[1;36m3\u001b[0m\u001b[1;33m,\u001b[0m\u001b[1;36m4\u001b[0m\u001b[1;33m,\u001b[0m\u001b[1;36m5\u001b[0m\u001b[1;33m]\u001b[0m\u001b[1;33m\u001b[0m\u001b[0m\n\u001b[1;32m----> 2\u001b[1;33m \u001b[0mL\u001b[0m\u001b[1;33m[\u001b[0m\u001b[1;36m1\u001b[0m\u001b[1;33m:\u001b[0m\u001b[1;36m3\u001b[0m\u001b[1;33m]\u001b[0m \u001b[1;33m=\u001b[0m \u001b[1;33m(\u001b[0m\u001b[1;36m100\u001b[0m\u001b[1;33m)\u001b[0m\u001b[1;33m\u001b[0m\u001b[0m\n\u001b[0m\u001b[0;32m      3\u001b[0m \u001b[0mprint\u001b[0m\u001b[1;33m(\u001b[0m\u001b[0mL\u001b[0m\u001b[1;33m)\u001b[0m\u001b[1;33m\u001b[0m\u001b[0m\n",
      "\u001b[1;31mTypeError\u001b[0m: can only assign an iterable"
     ]
    }
   ],
   "source": [
    "L = [1,2,3,4,5]\n",
    "L[1:3] = (100)\n",
    "print(L)"
   ]
  },
  {
   "cell_type": "markdown",
   "metadata": {},
   "source": [
    "(100)은 튜플이 아니라, 자료 한개인 정수형과 같다.<br/>\n",
    "그러므로, L[1:3] = 100 의 오류와 같은 결과를 나타낸다."
   ]
  },
  {
   "cell_type": "code",
   "execution_count": 6,
   "metadata": {},
   "outputs": [
    {
     "name": "stdout",
     "output_type": "stream",
     "text": [
      "[1, 100, 101, 102, 4, 5]\n"
     ]
    }
   ],
   "source": [
    "L = [1,2,3,4,5]\n",
    "L[1:3] = (100, 101, 102)\n",
    "print(L)"
   ]
  },
  {
   "cell_type": "markdown",
   "metadata": {},
   "source": [
    "리스트는 튜플로 치환 가능하다."
   ]
  },
  {
   "cell_type": "code",
   "execution_count": 7,
   "metadata": {},
   "outputs": [
    {
     "name": "stdout",
     "output_type": "stream",
     "text": [
      "[1, 100, 101, 102, 4, 5]\n"
     ]
    }
   ],
   "source": [
    "L = [1,2,3,4,5]\n",
    "L[1:3] = [100, 101, 102]\n",
    "print(L)"
   ]
  },
  {
   "cell_type": "code",
   "execution_count": 8,
   "metadata": {},
   "outputs": [
    {
     "name": "stdout",
     "output_type": "stream",
     "text": [
      "[1, (100, 101, 102), 4, 5]\n"
     ]
    }
   ],
   "source": [
    "L = [1,2,3,4,5]\n",
    "L[1:3] = [(100, 101, 102)]\n",
    "print(L)"
   ]
  },
  {
   "cell_type": "code",
   "execution_count": 9,
   "metadata": {},
   "outputs": [
    {
     "name": "stdout",
     "output_type": "stream",
     "text": [
      "[1, [100, 101, 102], 4, 5]\n"
     ]
    }
   ],
   "source": [
    "L = [1,2,3,4,5]\n",
    "L[1:3] = [[100, 101, 102]]\n",
    "print(L)"
   ]
  },
  {
   "cell_type": "code",
   "execution_count": 7,
   "metadata": {
    "scrolled": true
   },
   "outputs": [
    {
     "name": "stdout",
     "output_type": "stream",
     "text": [
      "[1, 100, 3, 4, 5]\n"
     ]
    }
   ],
   "source": [
    "L = [1,2,3,4,5]\n",
    "L[1] = 100\n",
    "print(L)"
   ]
  },
  {
   "cell_type": "markdown",
   "metadata": {},
   "source": [
    "한개의 리스트 값을 나타내는 L[1]의 타입은 리스트가 아닌 int 형이다.<br/>\n",
    "그러므로, 100으로 치환 가능하다."
   ]
  },
  {
   "cell_type": "markdown",
   "metadata": {},
   "source": [
    "### assignment_3-02"
   ]
  },
  {
   "cell_type": "code",
   "execution_count": 83,
   "metadata": {},
   "outputs": [
    {
     "name": "stdout",
     "output_type": "stream",
     "text": [
      "Python and World Hello\n"
     ]
    }
   ],
   "source": [
    "s = 'Hello World and Python'\n",
    "s_reverse = s.split()\n",
    "s_reverse.reverse()\n",
    "s1 = \"\"\n",
    "for i in range(0,len(s_reverse)):\n",
    "    s1 = s1 + s_reverse[i] + \" \"\n",
    "s1 = s1[0:len(s1)-1]\n",
    "print(s1)"
   ]
  },
  {
   "cell_type": "markdown",
   "metadata": {},
   "source": [
    "먼저 s를 단어 단위로 나눈후, reverse 를 이용하여 거꾸로 바꾼다. 이때 결과는 리스트<br/>\n",
    "그것을 s1 문자열에 \" \"를 붙여주며, 문자열로 바꿔준다."
   ]
  },
  {
   "cell_type": "code",
   "execution_count": 84,
   "metadata": {},
   "outputs": [
    {
     "name": "stdout",
     "output_type": "stream",
     "text": [
      "PythonandWorldHello\n"
     ]
    }
   ],
   "source": [
    "s_temp = s1.split()\n",
    "s_result = \"\".join(s_temp)\n",
    "print(s_result)"
   ]
  },
  {
   "cell_type": "markdown",
   "metadata": {},
   "source": [
    "s1의 결과를 split으로 나누어 리스트로 저장한다.<br/>\n",
    "이후, 빈 문자열인 \"\"로 구분하여 join 함수를 이용하면 공백없이 합쳐진 문자열이 생긴다."
   ]
  },
  {
   "cell_type": "markdown",
   "metadata": {},
   "source": [
    "### assignment_3-03"
   ]
  },
  {
   "cell_type": "code",
   "execution_count": 85,
   "metadata": {},
   "outputs": [
    {
     "name": "stdout",
     "output_type": "stream",
     "text": [
      "[1, 2, 3, 1, 2, 3, 1, 2, 3]\n",
      "[[1, 2, 3], [1, 2, 3], [1, 2, 3]]\n"
     ]
    }
   ],
   "source": [
    "a = [1, 2, 3]\n",
    "b = a * 3\n",
    "c = [a] * 3\n",
    "print(b)\n",
    "print(c)"
   ]
  },
  {
   "cell_type": "code",
   "execution_count": 86,
   "metadata": {
    "collapsed": true
   },
   "outputs": [],
   "source": [
    "a[0]=0"
   ]
  },
  {
   "cell_type": "code",
   "execution_count": 87,
   "metadata": {},
   "outputs": [
    {
     "name": "stdout",
     "output_type": "stream",
     "text": [
      "[1, 2, 3, 1, 2, 3, 1, 2, 3]\n",
      "<class 'list'>\n",
      "\n",
      "[[0, 2, 3], [0, 2, 3], [0, 2, 3]]\n",
      "<class 'list'>\n"
     ]
    }
   ],
   "source": [
    "print(b)\n",
    "print(type(b))\n",
    "print()\n",
    "print(c)\n",
    "print(type(c))"
   ]
  },
  {
   "cell_type": "markdown",
   "metadata": {
    "collapsed": true
   },
   "source": [
    "b의 결과는 a의 원소 값을 세번 반복하여 리스트로 만든것이고<br/>\n",
    "c의 결과는 a 리스트 자체를 3번 반복하여 리스트 안에 리스트로 만든것이다.<br/>\n",
    "즉, b의 원소는 9개, 각각 다른 원소를 가지고 있고,<br/>\n",
    "c의 원소는 3개 각 3개는 같은 a의 값을 참조하고 있다.<br/>\n",
    "그러므로, a[0]이 참조하는 값을 0으로 바꾼다면, c의 원소들이 참조하고 있는 a의 값도 바뀌는 것이다.<br/>"
   ]
  },
  {
   "cell_type": "markdown",
   "metadata": {},
   "source": [
    "### assignment_3-04"
   ]
  },
  {
   "cell_type": "code",
   "execution_count": 20,
   "metadata": {},
   "outputs": [
    {
     "name": "stdout",
     "output_type": "stream",
     "text": [
      "['first star', 'second star', 'third star']\n"
     ]
    }
   ],
   "source": [
    "s = '  first star   :   second star   :    third star  '\n",
    "L = []\n",
    "temp=\"\"\n",
    "for i in range(0,len(s)):\n",
    "    if s[i] == ':' or i == len(s)-1:\n",
    "        L.append(temp)\n",
    "        temp = \"\"\n",
    "    else:\n",
    "        temp+=s[i]\n",
    "for i in range(0,len(L)):\n",
    "    L[i] = L[i].strip()\n",
    "print(L)"
   ]
  },
  {
   "cell_type": "markdown",
   "metadata": {},
   "source": [
    "':'을 기준으로 나누어 L 리스트에 저장한다. 이후 strip 함수를 이용하여 좌우 공백을 제거."
   ]
  },
  {
   "cell_type": "code",
   "execution_count": 23,
   "metadata": {
    "scrolled": true
   },
   "outputs": [
    {
     "name": "stdout",
     "output_type": "stream",
     "text": [
      "['  first star   ', '   second star   ', '    third star  ']\n",
      "['first star', 'second star', 'third star']\n"
     ]
    }
   ],
   "source": [
    "L = s.split(\":\")\n",
    "print(L)\n",
    "L = [L[i].strip() for i in range(0,len(L))]\n",
    "print (L)"
   ]
  },
  {
   "cell_type": "markdown",
   "metadata": {},
   "source": [
    "\":\"를 기준으로 split 함수를 이용, L에 저장.<br/>\n",
    "리스트 내포와 strip 함수를 이용하여, L에 strip 된 값을 넣는다."
   ]
  },
  {
   "cell_type": "markdown",
   "metadata": {},
   "source": [
    "### assignment_3-05"
   ]
  },
  {
   "cell_type": "code",
   "execution_count": 57,
   "metadata": {},
   "outputs": [
    {
     "name": "stdout",
     "output_type": "stream",
     "text": [
      "45\n",
      "45\n",
      "25\n",
      "25\n"
     ]
    }
   ],
   "source": [
    "def addall_for(input):\n",
    "    result = 0\n",
    "    for i in range(0,len(input)):\n",
    "        result += input[i]\n",
    "    return result\n",
    "\n",
    "def addall_comprehension(input):\n",
    "    return sum(input,0)\n",
    "\n",
    "def addallodd_for(input):\n",
    "    result = 0\n",
    "    for i in range(0,len(input)):\n",
    "        if input[i]%2 ==1:\n",
    "            result += input[i]\n",
    "    return result\n",
    "\n",
    "def addallodd_comprehension(input):\n",
    "    result = [input[i] for i in range(0,len(input)) if input[i]%2 == 1]\n",
    "    return sum(result,0)\n",
    "    \n",
    "print(addall_for([1, 2, 3, 4, 5, 6, 7, 8, 9]))\n",
    "print(addall_comprehension([1, 2, 3, 4, 5, 6, 7, 8, 9]))\n",
    "print(addallodd_for([1, 2, 3, 4, 5, 6, 7, 8, 9]))\n",
    "print(addallodd_comprehension([1, 2, 3, 4, 5, 6, 7, 8, 9]))"
   ]
  },
  {
   "cell_type": "markdown",
   "metadata": {},
   "source": [
    "for 문을 이용한 addall 은 함수 몸체에서 for 문을 이용하여 input의 크기 만큼 for문을 수행하여, 결과를 반환하면 된다. <br/>\n",
    "addall_comprehension은 다른 리스트 내포 필요없이 sum 내장함수만으로 구성 가능하다.<br/>\n",
    "addallodd_comprehension은 리스트 내포를 이용하여 input[i]%2 가 1일 경우에만 input[i]를 저장하는 result 리스트를 다시 만들어 sum 내장함수를 이용한다.<br/>"
   ]
  },
  {
   "cell_type": "markdown",
   "metadata": {},
   "source": [
    "### assignment_3-06"
   ]
  },
  {
   "cell_type": "code",
   "execution_count": 60,
   "metadata": {},
   "outputs": [
    {
     "name": "stdout",
     "output_type": "stream",
     "text": [
      "{'low': [1, 2, 3], 'high': [4, 5, 6]}\n",
      "{'low': [1, 2, 3], 'high': [4, 5, 6]}\n",
      "{'low': [1, 2, 3], 'high': [4, 5, 6]}\n",
      "\n",
      "{'low': [10, 20, 30], 'high': [4, 500, 6]}\n",
      "{'low': [10, 20, 30], 'high': [4, 500, 6]}\n",
      "{'low': [1, 2, 3], 'high': [4, 500, 6]}\n"
     ]
    }
   ],
   "source": [
    "L1 = [1, 2, 3]\n",
    "L2 = [4, 5, 6]\n",
    "d = {'low':L1, 'high':L2}\n",
    "e = d\n",
    "f = d.copy()\n",
    "print(d)\n",
    "print(e)\n",
    "print(f)\n",
    "print()\n",
    "d['low'] = [10, 20, 30]\n",
    "d['high'][1] = 500\n",
    "print(d)\n",
    "print(e)\n",
    "print(f)"
   ]
  },
  {
   "cell_type": "markdown",
   "metadata": {},
   "source": [
    "1) 위 코드의 수행 결과 d와 e는 항상 같은 결과를 출력한다. 그 이유는 무엇인가?<br/>\n",
    "    ans) e는 d의 사전 레퍼런스를 복사한것. 사전객체 {'low':L1, 'high':L2} 는 공유한다.<br/>\n",
    "    \n",
    "2) 위 코드의 수행 결과 마지막 f의 내용은 다음과 같다. 이 때 'high' 키의 값 내용 중 500이 출력된 이유와 'low' 키의 값 내용 중 [1, 2, 3]이 출력된 이유를 설명하시오 ([hint]: shallow copy 관점에서 설명하시오.)<br/>\n",
    "    and) f 는 d의 Shallow Copy 를 수행한 결과이다. d['low'] = [10, 20, 30] 를 수행할때, d['low']는 아예 새로운 [10,20,30]이라는 리스트를 가지게 되므로, d['low']와 f['low']는 다른 리스트를 참조하게 된다. 그러나, d['high'][1] = 500를 수행하면, d['high']는 다른 리스트를 참조하는것이 아니라, 리스트의 값만을 바꾸는 것이므로, d['high']와 f['high']는 계속 같은 리스트를 참조하고 있게 된다."
   ]
  },
  {
   "cell_type": "markdown",
   "metadata": {},
   "source": [
    "### assignment_3-07"
   ]
  },
  {
   "cell_type": "code",
   "execution_count": 13,
   "metadata": {},
   "outputs": [
    {
     "name": "stdout",
     "output_type": "stream",
     "text": [
      "[('five', 5), ('four', 4), ('one', 1), ('three', 3), ('two', 2)]\n",
      "[('two', 2), ('three', 3), ('one', 1), ('four', 4), ('five', 5)]\n",
      "[('one', 1), ('two', 2), ('three', 3), ('four', 4), ('five', 5)]\n",
      "[('five', 5), ('four', 4), ('three', 3), ('two', 2), ('one', 1)]\n"
     ]
    }
   ],
   "source": [
    "d = {'one':1, 'two':2, 'three':3, 'four':4, 'five':5}\n",
    "key = list(d.keys())\n",
    "value = list(d.values())\n",
    "\n",
    "key.sort()\n",
    "result = [(key[i], d[key[i]]) for i in range(0,len(key))]\n",
    "print(result)\n",
    "\n",
    "key.sort(reverse = True)\n",
    "result = [(key[i], d[key[i]]) for i in range(0,len(key))]\n",
    "print(result)\n",
    "\n",
    "result = []\n",
    "value.sort()\n",
    "for i in range(0,len(value)):\n",
    "    for j in d.keys():\n",
    "        if d[j] == value[i]:\n",
    "            result.append((j,i+1))\n",
    "print(result)\n",
    "\n",
    "result = []\n",
    "value.sort(reverse = True)\n",
    "for i in range(0,len(value)):\n",
    "    for j in d.keys():\n",
    "        if d[j] == value[i]:\n",
    "            result.append((j,value[i]))\n",
    "print(result)"
   ]
  },
  {
   "cell_type": "markdown",
   "metadata": {
    "collapsed": true
   },
   "source": [
    "사전 d를 keys 와 values를 통해 리스트를 얻어 낸후, 그 리스트의 sort 함수를 이용하여, 내림차순 오름차순을 구하였다. 1), 2) 문제는 key 에 대한 내림 차순과 오름차순 이므로, key 를 이용하여 그 키의 value 를 찾아 순서대로 리스트 내포를 이용, 리스트에 넣어 주었다.<br/>\n",
    "value 값에 의한 오름차순 내림 차순은 이중 for 문을 이용하여 현재 value 값과 사전의 키값의 value 값이 동일할때 결과 리스트에 추가 하도록 하였다."
   ]
  },
  {
   "cell_type": "markdown",
   "metadata": {},
   "source": [
    "### assignment_3-08"
   ]
  },
  {
   "cell_type": "code",
   "execution_count": 20,
   "metadata": {},
   "outputs": [
    {
     "name": "stdout",
     "output_type": "stream",
     "text": [
      "\n",
      "0\n"
     ]
    }
   ],
   "source": [
    "a = input()\n",
    "L = a.split()\n",
    "print (len(L))"
   ]
  },
  {
   "cell_type": "markdown",
   "metadata": {},
   "source": [
    "![img](./acmicpc_1152.PNG)"
   ]
  },
  {
   "cell_type": "markdown",
   "metadata": {},
   "source": [
    "입력을 받고, split 함수를 이용하여, L 리스트에 저장하고, L의 길이를 출력하면 완료!"
   ]
  },
  {
   "cell_type": "markdown",
   "metadata": {},
   "source": [
    "### assignment_3-09"
   ]
  },
  {
   "cell_type": "code",
   "execution_count": 7,
   "metadata": {
    "collapsed": true
   },
   "outputs": [],
   "source": [
    "import string\n",
    "from urllib import request \n",
    " \n",
    "url = 'http://cse.koreatech.ac.kr'\n",
    "f = request.urlopen(url)\n",
    "source_bytes = f.read()\n",
    "source = source_bytes.decode('utf-8')\n",
    "\n",
    "# 추후 숙제 답안 제출 때엔 아래 코드는 주석처리할 것                 \n",
    "##print(type(source_bytes))\n",
    "##print(type(source))\n",
    "##print(source)"
   ]
  },
  {
   "cell_type": "code",
   "execution_count": 8,
   "metadata": {},
   "outputs": [
    {
     "name": "stdout",
     "output_type": "stream",
     "text": [
      "단어 수 : 510\n",
      "\n",
      "\n",
      "['컴퓨터공학부', 'var', 'current_url', '=', '\"https://cse.koreatech.ac.kr/\";', 'var', 'request_uri', '=', '\"https://cse.koreatech.ac.kr/\";', 'var', 'current_mid', '=', '\"home_2015\";', 'var', 'waiting_message', '=', '\"서버에', '요청', '중입니다.', '잠시만', '기다려주세요.\";', 'var', 'ssl_actions', '=', 'new', 'Array();', 'var', 'default_url', '=', '\"https://cse.koreatech.ac.kr/\";', 'var', 'http_port', '=', '80;var', 'https_port', '=', '443;var', 'enforce_ssl', '=', 'true;', '//', 'Schoolfun', '-', 'Study', 'and', 'Fun', '--', '로그인', '로그인', '아이디', '비밀번호', '로그인', '유지', '브라우저를', '닫더라도', '로그인이', '계속', '유지될', '수', '있습니다.', '로그인', '유지', '기능을', '사용할', '경우', '다음', '접속부터는', '로그인할', '필요가', '없습니다.', '단,', '게임방,', '학교', '등', '공공장소에서', '이용', '시', '개인정보가', '유출될', '수', '있으니', '꼭', '로그아웃을', '해주세요.', '회원가입', 'ID/PW', '찾기', 'IT', '교육의', '글로벌', '메카!한국기술교육대학교', '컴퓨터공학부', 'Close', '소개', '구성원소개', '학사안내', '입학', '학부', '대학원', '학부광장', '자료실', '대학원', '공학교육인증', '학부서비스', 'Registration', '컴퓨터공학부', 'School', 'of', 'Computer', 'Science', 'and', 'Engineering', 'IT', '융합소프트웨어', '인력양성사업', 'CK', '(Creative', 'Korea)-I', '교육역량강화사업', '온라인', '컨텐츠', 'Online', 'Contents', 'for', 'Education', 'Capability', 'Empowerment', 'IT', '교육의', '글로벌', '메카', '한국기술교육대학교', '컴퓨터공학부', '홈페이지에', '오신', '것을환영합니다!', 'IT', '융합소프트웨어', '인력양성사업', '글로벌', '수준의', 'IT전문인력', '양성', 'IT융합분야에', '대한', '국제적인', '경쟁력', '고취', '바로가기', '교육역량강화사업', '컨텐츠', '교육역량강화사업', '온라인', '컨텐츠를', '소개합니다.', '바로가기', '공지사항', '&amp;quot;찾아가는', '기술교육학교&amp;quot;', '프로그램...', '2017-10-30', '15:33', '15:33', '정전에', '따른', '홈페이지', '서비스', '중지', '안내', '2017-10-30', '11:53', '11:53', '[특성화]', '2017', 'IT융합', '아이디어', '경진대회', '학생', '모집', '공...', '2017-10-27', '15:36', '15:36', '[특성화]', 'G-STAR', '2017', '전시회', '선발', '학생', '공고', '2017-10-25', '19:24', '19:24', '[특성화]', '[신청마감]', 'G-STAR', '2017', '전시회', '학생', '모집', '공고', '2017-10-19', '14:46', '14:46', '자유게시판', '2017', '홈커밍데이', '2017-10-26', '00:43', '00:43', '[졸업사진촬영자', '필독!]', '졸업앨범', '증명사진', '원본파일', '안내', '2017-10-23', '01:29', '01:29', '간식이벤트', '공지입니다^^', '2017-10-22', '20:04', '20:04', 'PaaS', '&amp;amp;', 'IaaS', '오라클데이', '개최(천안)', '-', '아젠다', '...', '2017-10-19', '08:58', '08:58', '제6회', '레몬', '정보보호', '세미나', '개최', '2017-10-06', '23:40', '23:40', '취업게시판', '[IT', 'Startup]', '마이모', '-', 'C#,', 'Web', '개발자', '정규직', '채용(채...', '2017-10-30', '17:13', '17:13', '[화성]', '(주)유진테크', 'SW', '개발', '정규직', '채용(~11.3)', '2017-10-27', '08:43', '08:43', '(주)엑시콘', '산학공동연구소', '연구원', '모집', '~11/3(금)', '2017-10-26', '13:27', '13:27', '[평택]', '애디언트오토모티브인테리어코리아_IT팀', '신입사...', '2017-10-19', '08:45', '08:45', '[천안]', '(주)ABB코리아', '채용', '공고문', '-', '로봇사업부', '채용(...', '2017-09-29', '11:29', '11:29', 'Platum', '[인터뷰]', '통쾌함과', '불편함을', '오가며', '대중의', '마음을', '사...', '2017-10-30', '08:01', '08:01', '11월', '첫째주', '스타트업', '이벤트(1030~1105)', '2017-10-30', '07:59', '07:59', '[세계', '녹색', '기업을', '찾아서', '#1]', '베를린에서', '만난', '‘작은', '...', '2017-10-30', '07:30', '07:30', '배달의민족,', '네이버로부터', '350억원', '투자', '유치', '…', 'AI', '스...', '2017-10-29', '18:20', '18:20', '김봉진', '우아한형제들', '대표,', '개인', '지분', '정리해', '100억', '사...', '2017-10-27', '11:01', '11:01', '전자신문', '[이브와', 'ICT', '멘토링]&lt;상&gt;여성IT인재', '양성', '요람', '2017-10-30', '17:00', '17:00', '[미래기업포커스]닷밀,', '\"혼합현실(MR)', '테마파크', '...', '2017-10-30', '17:00', '17:00', '이통사', '“애플워치3', 'LTE', '출시', '안', '한다”····통신품...', '2017-10-30', '17:00', '17:00', '휴대폰유통協,', '뿔나다···애플코리아', '대표에', \"'항의'\", '2017-10-30', '17:00', '17:00', '[국감기획]방문판매,', '할부수수료', '등', '국감이슈로', '부상', '2017-10-30', '15:45', '15:45', 'TechCrunch', 'iPhone', '8', 'launch', 'propels', 'Apple', 'to', 'growth', 'in', 'Chi...', '2017-10-30', '19:19', '19:19', 'Cult', 'game', 'Football', 'Manager', '2018', 'is', 'adding', 'supp...', '2017-10-30', '17:26', '17:26', 'Cardlytics', 'filed', 'for', 'marketing', 'analytics', 'IPO', '2017-10-30', '16:45', '16:45', 'The', 'new', 'Japan', 'Taxi', 'from', 'Toyota', 'wants', 'to', 'be', 'an', '...', '2017-10-30', '12:48', '12:48', 'The', 'Toyota', 'TJ', 'Cruiser', 'concept', 'is', 'a', 'fun-filled', '...', '2017-10-30', '09:02', '09:02', 'Back', 'to', 'Top', 'Leading', 'Together', 'for', 'Brighter', 'Future', '--', 'Quick', 'Navigation', '한국기술교육대학교', '홈페이지', '한국기술교육대학교', 'WEBMAIL', '한국기술교육대학교', '온라인', '평생교육원', 'IT', '융합소프트웨어', '인력양성사업', '컴퓨터공학부', '교직원', '업무', '자료실', '컴퓨터공학부', '포트폴리오--', 'Campus', 'Location', 'Contact', 'CSE', '충청남도', '천안시', '동남구', '병천면', '충절로', '1600한국기술교육대학교', '컴퓨터공학부', '학과사무실', 'TEL', '(041)', '560', '1460', '~', '1461', 'FAX', '(041)', '560', '1462', 'Facebook', 'Twitter', 'Google', 'Plus', 'Linkedin--', '(31253)', '충청남도', '천안시', '동남구', '병천면', '충절로', '1600', '(가전리,', '한국기술교육대학교)', '컴퓨터공학부', 'Copyright', '©', '2015.', 'All', 'rights', 'reserved']\n"
     ]
    }
   ],
   "source": [
    "\n",
    "isOpen = False\n",
    "pureWord = []\n",
    "text = ''\n",
    "for i in source:\n",
    "    if i == '<':\n",
    "        isOpen = True\n",
    "        continue\n",
    "    if i == '>':\n",
    "        isOpen = False\n",
    "        continue\n",
    "    if isOpen == False and not i.isspace():\n",
    "        text = text + i\n",
    "        ##print (i)\n",
    "        ##print(text)\n",
    "        ##print (isOpen)\n",
    "    if isOpen == False and i.isspace() and text:\n",
    "        pureWord.append(text)\n",
    "        text=''\n",
    "print(\"단어 수 : \" + str(len(pureWord)))\n",
    "print()\n",
    "print()\n",
    "print(pureWord)"
   ]
  },
  {
   "cell_type": "code",
   "execution_count": 9,
   "metadata": {
    "scrolled": true
   },
   "outputs": [
    {
     "name": "stdout",
     "output_type": "stream",
     "text": [
      "!\"#$%&'()*+,-./:;<=>?@[\\]^_`{|}~\n"
     ]
    }
   ],
   "source": [
    "print(string.punctuation)\n",
    "L = [string.punctuation[i] for i in range(0,len(string.punctuation)-1)]"
   ]
  },
  {
   "cell_type": "markdown",
   "metadata": {},
   "source": [
    "L 리스트에 리스트 내포를 이용하여, punctuation 요소를 다 집어 넣음."
   ]
  },
  {
   "cell_type": "code",
   "execution_count": 10,
   "metadata": {},
   "outputs": [
    {
     "name": "stdout",
     "output_type": "stream",
     "text": [
      "['컴퓨터공학부', 'var', 'currenturl', '', 'httpscsekoreatechackr', 'var', 'requesturi', '', 'httpscsekoreatechackr', 'var', 'currentmid', '', 'home2015', 'var', 'waitingmessage', '', '서버에', '요청', '중입니다', '잠시만', '기다려주세요', 'var', 'sslactions', '', 'new', 'Array', 'var', 'defaulturl', '', 'httpscsekoreatechackr', 'var', 'httpport', '', '80var', 'httpsport', '', '443var', 'enforcessl', '', 'true', '', 'Schoolfun', '', 'Study', 'and', 'Fun', '', '로그인', '로그인', '아이디', '비밀번호', '로그인', '유지', '브라우저를', '닫더라도', '로그인이', '계속', '유지될', '수', '있습니다', '로그인', '유지', '기능을', '사용할', '경우', '다음', '접속부터는', '로그인할', '필요가', '없습니다', '단', '게임방', '학교', '등', '공공장소에서', '이용', '시', '개인정보가', '유출될', '수', '있으니', '꼭', '로그아웃을', '해주세요', '회원가입', 'IDPW', '찾기', 'IT', '교육의', '글로벌', '메카한국기술교육대학교', '컴퓨터공학부', 'Close', '소개', '구성원소개', '학사안내', '입학', '학부', '대학원', '학부광장', '자료실', '대학원', '공학교육인증', '학부서비스', 'Registration', '컴퓨터공학부', 'School', 'of', 'Computer', 'Science', 'and', 'Engineering', 'IT', '융합소프트웨어', '인력양성사업', 'CK', 'Creative', 'KoreaI', '교육역량강화사업', '온라인', '컨텐츠', 'Online', 'Contents', 'for', 'Education', 'Capability', 'Empowerment', 'IT', '교육의', '글로벌', '메카', '한국기술교육대학교', '컴퓨터공학부', '홈페이지에', '오신', '것을환영합니다', 'IT', '융합소프트웨어', '인력양성사업', '글로벌', '수준의', 'IT전문인력', '양성', 'IT융합분야에', '대한', '국제적인', '경쟁력', '고취', '바로가기', '교육역량강화사업', '컨텐츠', '교육역량강화사업', '온라인', '컨텐츠를', '소개합니다', '바로가기', '공지사항', 'ampquot찾아가는', '기술교육학교ampquot', '프로그램', '20171030', '1533', '1533', '정전에', '따른', '홈페이지', '서비스', '중지', '안내', '20171030', '1153', '1153', '특성화', '2017', 'IT융합', '아이디어', '경진대회', '학생', '모집', '공', '20171027', '1536', '1536', '특성화', 'GSTAR', '2017', '전시회', '선발', '학생', '공고', '20171025', '1924', '1924', '특성화', '신청마감', 'GSTAR', '2017', '전시회', '학생', '모집', '공고', '20171019', '1446', '1446', '자유게시판', '2017', '홈커밍데이', '20171026', '0043', '0043', '졸업사진촬영자', '필독', '졸업앨범', '증명사진', '원본파일', '안내', '20171023', '0129', '0129', '간식이벤트', '공지입니다', '20171022', '2004', '2004', 'PaaS', 'ampamp', 'IaaS', '오라클데이', '개최천안', '', '아젠다', '', '20171019', '0858', '0858', '제6회', '레몬', '정보보호', '세미나', '개최', '20171006', '2340', '2340', '취업게시판', 'IT', 'Startup', '마이모', '', 'C', 'Web', '개발자', '정규직', '채용채', '20171030', '1713', '1713', '화성', '주유진테크', 'SW', '개발', '정규직', '채용~113', '20171027', '0843', '0843', '주엑시콘', '산학공동연구소', '연구원', '모집', '~113금', '20171026', '1327', '1327', '평택', '애디언트오토모티브인테리어코리아IT팀', '신입사', '20171019', '0845', '0845', '천안', '주ABB코리아', '채용', '공고문', '', '로봇사업부', '채용', '20170929', '1129', '1129', 'Platum', '인터뷰', '통쾌함과', '불편함을', '오가며', '대중의', '마음을', '사', '20171030', '0801', '0801', '11월', '첫째주', '스타트업', '이벤트1030~1105', '20171030', '0759', '0759', '세계', '녹색', '기업을', '찾아서', '1', '베를린에서', '만난', '‘작은', '', '20171030', '0730', '0730', '배달의민족', '네이버로부터', '350억원', '투자', '유치', '…', 'AI', '스', '20171029', '1820', '1820', '김봉진', '우아한형제들', '대표', '개인', '지분', '정리해', '100억', '사', '20171027', '1101', '1101', '전자신문', '이브와', 'ICT', '멘토링lt상gt여성IT인재', '양성', '요람', '20171030', '1700', '1700', '미래기업포커스닷밀', '혼합현실MR', '테마파크', '', '20171030', '1700', '1700', '이통사', '“애플워치3', 'LTE', '출시', '안', '한다”····통신품', '20171030', '1700', '1700', '휴대폰유통協', '뿔나다···애플코리아', '대표에', '항의', '20171030', '1700', '1700', '국감기획방문판매', '할부수수료', '등', '국감이슈로', '부상', '20171030', '1545', '1545', 'TechCrunch', 'iPhone', '8', 'launch', 'propels', 'Apple', 'to', 'growth', 'in', 'Chi', '20171030', '1919', '1919', 'Cult', 'game', 'Football', 'Manager', '2018', 'is', 'adding', 'supp', '20171030', '1726', '1726', 'Cardlytics', 'filed', 'for', 'marketing', 'analytics', 'IPO', '20171030', '1645', '1645', 'The', 'new', 'Japan', 'Taxi', 'from', 'Toyota', 'wants', 'to', 'be', 'an', '', '20171030', '1248', '1248', 'The', 'Toyota', 'TJ', 'Cruiser', 'concept', 'is', 'a', 'funfilled', '', '20171030', '0902', '0902', 'Back', 'to', 'Top', 'Leading', 'Together', 'for', 'Brighter', 'Future', '', 'Quick', 'Navigation', '한국기술교육대학교', '홈페이지', '한국기술교육대학교', 'WEBMAIL', '한국기술교육대학교', '온라인', '평생교육원', 'IT', '융합소프트웨어', '인력양성사업', '컴퓨터공학부', '교직원', '업무', '자료실', '컴퓨터공학부', '포트폴리오', 'Campus', 'Location', 'Contact', 'CSE', '충청남도', '천안시', '동남구', '병천면', '충절로', '1600한국기술교육대학교', '컴퓨터공학부', '학과사무실', 'TEL', '041', '560', '1460', '~', '1461', 'FAX', '041', '560', '1462', 'Facebook', 'Twitter', 'Google', 'Plus', 'Linkedin', '31253', '충청남도', '천안시', '동남구', '병천면', '충절로', '1600', '가전리', '한국기술교육대학교', '컴퓨터공학부', 'Copyright', '©', '2015', 'All', 'rights', 'reserved']\n"
     ]
    }
   ],
   "source": [
    "def trans(a):\n",
    "    list_a = list(a)\n",
    "    for i in range(0,len(list_a)):\n",
    "        for j in range(0,len(L)):\n",
    "            if list_a[i] == L[j]:\n",
    "                list_a[i] = ''\n",
    "    result = \"\"\n",
    "    for i in range(0,len(list_a)):\n",
    "        result = result + list_a[i]\n",
    "    return result\n",
    "\n",
    "for i in range(0,len(pureWord)-1):\n",
    "    pureWord[i] = trans(pureWord[i])\n",
    "                \n",
    "print(pureWord)"
   ]
  },
  {
   "cell_type": "markdown",
   "metadata": {},
   "source": [
    "요구사항 1번, 구두 문자 제거. 구두문자들을 리스트로 뽑아와, 모든 구두문자들을 제거하였다."
   ]
  },
  {
   "cell_type": "code",
   "execution_count": 11,
   "metadata": {},
   "outputs": [
    {
     "name": "stdout",
     "output_type": "stream",
     "text": [
      "['컴퓨터공학부', 'var', 'currenturl', 'httpscsekoreatechackr', 'var', 'requesturi', 'httpscsekoreatechackr', 'var', 'currentmid', 'home2015', 'var', 'waitingmessage', '서버에', '요청', '중입니다', '잠시만', '기다려주세요', 'var', 'sslactions', 'new', 'Array', 'var', 'defaulturl', 'httpscsekoreatechackr', 'var', 'httpport', '80var', 'httpsport', '443var', 'enforcessl', 'true', 'Schoolfun', 'Study', 'and', 'Fun', '로그인', '로그인', '아이디', '비밀번호', '로그인', '유지', '브라우저를', '닫더라도', '로그인이', '계속', '유지될', '수', '있습니다', '로그인', '유지', '기능을', '사용할', '경우', '다음', '접속부터는', '로그인할', '필요가', '없습니다', '단', '게임방', '학교', '등', '공공장소에서', '이용', '시', '개인정보가', '유출될', '수', '있으니', '꼭', '로그아웃을', '해주세요', '회원가입', 'IDPW', '찾기', 'IT', '교육의', '글로벌', '메카한국기술교육대학교', '컴퓨터공학부', 'Close', '소개', '구성원소개', '학사안내', '입학', '학부', '대학원', '학부광장', '자료실', '대학원', '공학교육인증', '학부서비스', 'Registration', '컴퓨터공학부', 'School', 'of', 'Computer', 'Science', 'and', 'Engineering', 'IT', '융합소프트웨어', '인력양성사업', 'CK', 'Creative', 'KoreaI', '교육역량강화사업', '온라인', '컨텐츠', 'Online', 'Contents', 'for', 'Education', 'Capability', 'Empowerment', 'IT', '교육의', '글로벌', '메카', '한국기술교육대학교', '컴퓨터공학부', '홈페이지에', '오신', '것을환영합니다', 'IT', '융합소프트웨어', '인력양성사업', '글로벌', '수준의', 'IT전문인력', '양성', 'IT융합분야에', '대한', '국제적인', '경쟁력', '고취', '바로가기', '교육역량강화사업', '컨텐츠', '교육역량강화사업', '온라인', '컨텐츠를', '소개합니다', '바로가기', '공지사항', 'ampquot찾아가는', '기술교육학교ampquot', '프로그램', '20171030', '1533', '1533', '정전에', '따른', '홈페이지', '서비스', '중지', '안내', '20171030', '1153', '1153', '특성화', '2017', 'IT융합', '아이디어', '경진대회', '학생', '모집', '공', '20171027', '1536', '1536', '특성화', 'GSTAR', '2017', '전시회', '선발', '학생', '공고', '20171025', '1924', '1924', '특성화', '신청마감', 'GSTAR', '2017', '전시회', '학생', '모집', '공고', '20171019', '1446', '1446', '자유게시판', '2017', '홈커밍데이', '20171026', '0043', '0043', '졸업사진촬영자', '필독', '졸업앨범', '증명사진', '원본파일', '안내', '20171023', '0129', '0129', '간식이벤트', '공지입니다', '20171022', '2004', '2004', 'PaaS', 'ampamp', 'IaaS', '오라클데이', '개최천안', '아젠다', '20171019', '0858', '0858', '제6회', '레몬', '정보보호', '세미나', '개최', '20171006', '2340', '2340', '취업게시판', 'IT', 'Startup', '마이모', 'C', 'Web', '개발자', '정규직', '채용채', '20171030', '1713', '1713', '화성', '주유진테크', 'SW', '개발', '정규직', '채용~113', '20171027', '0843', '0843', '주엑시콘', '산학공동연구소', '연구원', '모집', '~113금', '20171026', '1327', '1327', '평택', '애디언트오토모티브인테리어코리아IT팀', '신입사', '20171019', '0845', '0845', '천안', '주ABB코리아', '채용', '공고문', '로봇사업부', '채용', '20170929', '1129', '1129', 'Platum', '인터뷰', '통쾌함과', '불편함을', '오가며', '대중의', '마음을', '사', '20171030', '0801', '0801', '11월', '첫째주', '스타트업', '이벤트1030~1105', '20171030', '0759', '0759', '세계', '녹색', '기업을', '찾아서', '1', '베를린에서', '만난', '‘작은', '20171030', '0730', '0730', '배달의민족', '네이버로부터', '350억원', '투자', '유치', '…', 'AI', '스', '20171029', '1820', '1820', '김봉진', '우아한형제들', '대표', '개인', '지분', '정리해', '100억', '사', '20171027', '1101', '1101', '전자신문', '이브와', 'ICT', '멘토링lt상gt여성IT인재', '양성', '요람', '20171030', '1700', '1700', '미래기업포커스닷밀', '혼합현실MR', '테마파크', '20171030', '1700', '1700', '이통사', '“애플워치3', 'LTE', '출시', '안', '한다”····통신품', '20171030', '1700', '1700', '휴대폰유통協', '뿔나다···애플코리아', '대표에', '항의', '20171030', '1700', '1700', '국감기획방문판매', '할부수수료', '등', '국감이슈로', '부상', '20171030', '1545', '1545', 'TechCrunch', 'iPhone', '8', 'launch', 'propels', 'Apple', 'to', 'growth', 'in', 'Chi', '20171030', '1919', '1919', 'Cult', 'game', 'Football', 'Manager', '2018', 'is', 'adding', 'supp', '20171030', '1726', '1726', 'Cardlytics', 'filed', 'for', 'marketing', 'analytics', 'IPO', '20171030', '1645', '1645', 'The', 'new', 'Japan', 'Taxi', 'from', 'Toyota', 'wants', 'to', 'be', 'an', '20171030', '1248', '1248', 'The', 'Toyota', 'TJ', 'Cruiser', 'concept', 'is', 'a', 'funfilled', '20171030', '0902', '0902', 'Back', 'to', 'Top', 'Leading', 'Together', 'for', 'Brighter', 'Future', 'Quick', 'Navigation', '한국기술교육대학교', '홈페이지', '한국기술교육대학교', 'WEBMAIL', '한국기술교육대학교', '온라인', '평생교육원', 'IT', '융합소프트웨어', '인력양성사업', '컴퓨터공학부', '교직원', '업무', '자료실', '컴퓨터공학부', '포트폴리오', 'Campus', 'Location', 'Contact', 'CSE', '충청남도', '천안시', '동남구', '병천면', '충절로', '1600한국기술교육대학교', '컴퓨터공학부', '학과사무실', 'TEL', '041', '560', '1460', '~', '1461', 'FAX', '041', '560', '1462', 'Facebook', 'Twitter', 'Google', 'Plus', 'Linkedin', '31253', '충청남도', '천안시', '동남구', '병천면', '충절로', '1600', '가전리', '한국기술교육대학교', '컴퓨터공학부', 'Copyright', '©', '2015', 'All', 'rights', 'reserved']\n"
     ]
    }
   ],
   "source": [
    "def delete_empty(a):\n",
    "    i = 0\n",
    "    while (i != len(a)):\n",
    "        if a[i] == '':\n",
    "            del(a[i])\n",
    "        i +=1\n",
    "    return a\n",
    "\n",
    "pureWord = delete_empty(pureWord)\n",
    "print(pureWord)"
   ]
  },
  {
   "cell_type": "markdown",
   "metadata": {},
   "source": [
    "요구사항 2번, 구두 문자를 제거한후, 공백으로 나타나는 ''단어들을 del 함수를 이용하여 제거하였다."
   ]
  },
  {
   "cell_type": "code",
   "execution_count": 12,
   "metadata": {},
   "outputs": [
    {
     "name": "stdout",
     "output_type": "stream",
     "text": [
      "{'컴퓨터공학부': 8, 'var': 7, 'currenturl': 1, 'httpscsekoreatechackr': 3, 'requesturi': 1, 'currentmid': 1, 'home2015': 1, 'waitingmessage': 1, '서버에': 1, '요청': 1, '중입니다': 1, '잠시만': 1, '기다려주세요': 1, 'sslactions': 1, 'new': 2, 'Array': 1, 'defaulturl': 1, 'httpport': 1, '80var': 1, 'httpsport': 1, '443var': 1, 'enforcessl': 1, 'true': 1, 'Schoolfun': 1, 'Study': 1, 'and': 2, 'Fun': 1, '로그인': 4, '아이디': 1, '비밀번호': 1, '유지': 2, '브라우저를': 1, '닫더라도': 1, '로그인이': 1, '계속': 1, '유지될': 1, '수': 2, '있습니다': 1, '기능을': 1, '사용할': 1, '경우': 1, '다음': 1, '접속부터는': 1, '로그인할': 1, '필요가': 1, '없습니다': 1, '단': 1, '게임방': 1, '학교': 1, '등': 2, '공공장소에서': 1, '이용': 1, '시': 1, '개인정보가': 1, '유출될': 1, '있으니': 1, '꼭': 1, '로그아웃을': 1, '해주세요': 1, '회원가입': 1, 'IDPW': 1, '찾기': 1, 'IT': 6, '교육의': 2, '글로벌': 3, '메카한국기술교육대학교': 1, 'Close': 1, '소개': 1, '구성원소개': 1, '학사안내': 1, '입학': 1, '학부': 1, '대학원': 2, '학부광장': 1, '자료실': 2, '공학교육인증': 1, '학부서비스': 1, 'Registration': 1, 'School': 1, 'of': 1, 'Computer': 1, 'Science': 1, 'Engineering': 1, '융합소프트웨어': 3, '인력양성사업': 3, 'CK': 1, 'Creative': 1, 'KoreaI': 1, '교육역량강화사업': 3, '온라인': 3, '컨텐츠': 2, 'Online': 1, 'Contents': 1, 'for': 3, 'Education': 1, 'Capability': 1, 'Empowerment': 1, '메카': 1, '한국기술교육대학교': 5, '홈페이지에': 1, '오신': 1, '것을환영합니다': 1, '수준의': 1, 'IT전문인력': 1, '양성': 2, 'IT융합분야에': 1, '대한': 1, '국제적인': 1, '경쟁력': 1, '고취': 1, '바로가기': 2, '컨텐츠를': 1, '소개합니다': 1, '공지사항': 1, 'ampquot찾아가는': 1, '기술교육학교ampquot': 1, '프로그램': 1, '20171030': 16, '1533': 2, '정전에': 1, '따른': 1, '홈페이지': 2, '서비스': 1, '중지': 1, '안내': 2, '1153': 2, '특성화': 3, '2017': 4, 'IT융합': 1, '아이디어': 1, '경진대회': 1, '학생': 3, '모집': 3, '공': 1, '20171027': 3, '1536': 2, 'GSTAR': 2, '전시회': 2, '선발': 1, '공고': 2, '20171025': 1, '1924': 2, '신청마감': 1, '20171019': 3, '1446': 2, '자유게시판': 1, '홈커밍데이': 1, '20171026': 2, '0043': 2, '졸업사진촬영자': 1, '필독': 1, '졸업앨범': 1, '증명사진': 1, '원본파일': 1, '20171023': 1, '0129': 2, '간식이벤트': 1, '공지입니다': 1, '20171022': 1, '2004': 2, 'PaaS': 1, 'ampamp': 1, 'IaaS': 1, '오라클데이': 1, '개최천안': 1, '아젠다': 1, '0858': 2, '제6회': 1, '레몬': 1, '정보보호': 1, '세미나': 1, '개최': 1, '20171006': 1, '2340': 2, '취업게시판': 1, 'Startup': 1, '마이모': 1, 'C': 1, 'Web': 1, '개발자': 1, '정규직': 2, '채용채': 1, '1713': 2, '화성': 1, '주유진테크': 1, 'SW': 1, '개발': 1, '채용~113': 1, '0843': 2, '주엑시콘': 1, '산학공동연구소': 1, '연구원': 1, '~113금': 1, '1327': 2, '평택': 1, '애디언트오토모티브인테리어코리아IT팀': 1, '신입사': 1, '0845': 2, '천안': 1, '주ABB코리아': 1, '채용': 2, '공고문': 1, '로봇사업부': 1, '20170929': 1, '1129': 2, 'Platum': 1, '인터뷰': 1, '통쾌함과': 1, '불편함을': 1, '오가며': 1, '대중의': 1, '마음을': 1, '사': 2, '0801': 2, '11월': 1, '첫째주': 1, '스타트업': 1, '이벤트1030~1105': 1, '0759': 2, '세계': 1, '녹색': 1, '기업을': 1, '찾아서': 1, '1': 1, '베를린에서': 1, '만난': 1, '‘작은': 1, '0730': 2, '배달의민족': 1, '네이버로부터': 1, '350억원': 1, '투자': 1, '유치': 1, '…': 1, 'AI': 1, '스': 1, '20171029': 1, '1820': 2, '김봉진': 1, '우아한형제들': 1, '대표': 1, '개인': 1, '지분': 1, '정리해': 1, '100억': 1, '1101': 2, '전자신문': 1, '이브와': 1, 'ICT': 1, '멘토링lt상gt여성IT인재': 1, '요람': 1, '1700': 8, '미래기업포커스닷밀': 1, '혼합현실MR': 1, '테마파크': 1, '이통사': 1, '“애플워치3': 1, 'LTE': 1, '출시': 1, '안': 1, '한다”····통신품': 1, '휴대폰유통協': 1, '뿔나다···애플코리아': 1, '대표에': 1, '항의': 1, '국감기획방문판매': 1, '할부수수료': 1, '국감이슈로': 1, '부상': 1, '1545': 2, 'TechCrunch': 1, 'iPhone': 1, '8': 1, 'launch': 1, 'propels': 1, 'Apple': 1, 'to': 3, 'growth': 1, 'in': 1, 'Chi': 1, '1919': 2, 'Cult': 1, 'game': 1, 'Football': 1, 'Manager': 1, '2018': 1, 'is': 2, 'adding': 1, 'supp': 1, '1726': 2, 'Cardlytics': 1, 'filed': 1, 'marketing': 1, 'analytics': 1, 'IPO': 1, '1645': 2, 'The': 2, 'Japan': 1, 'Taxi': 1, 'from': 1, 'Toyota': 2, 'wants': 1, 'be': 1, 'an': 1, '1248': 2, 'TJ': 1, 'Cruiser': 1, 'concept': 1, 'a': 1, 'funfilled': 1, '0902': 2, 'Back': 1, 'Top': 1, 'Leading': 1, 'Together': 1, 'Brighter': 1, 'Future': 1, 'Quick': 1, 'Navigation': 1, 'WEBMAIL': 1, '평생교육원': 1, '교직원': 1, '업무': 1, '포트폴리오': 1, 'Campus': 1, 'Location': 1, 'Contact': 1, 'CSE': 1, '충청남도': 2, '천안시': 2, '동남구': 2, '병천면': 2, '충절로': 2, '1600한국기술교육대학교': 1, '학과사무실': 1, 'TEL': 1, '041': 2, '560': 2, '1460': 1, '~': 1, '1461': 1, 'FAX': 1, '1462': 1, 'Facebook': 1, 'Twitter': 1, 'Google': 1, 'Plus': 1, 'Linkedin': 1, '31253': 1, '1600': 1, '가전리': 1, 'Copyright': 1, '©': 1, '2015': 1, 'All': 1, 'rights': 1, 'reserved': 1}\n"
     ]
    }
   ],
   "source": [
    "frequency_word = {}\n",
    "def frequency(a):\n",
    "    result = {}\n",
    "    for i in range(0,len(a)):\n",
    "        if (result.get(a[i])):\n",
    "            result[a[i]] += 1 ## 기존에 있는 key 면 value 값 1 증가\n",
    "        else:\n",
    "            result[a[i]] = 1 ##사전에 a[i] 와 value 1추가\n",
    "    return result\n",
    "\n",
    "frequency_word = frequency(pureWord)\n",
    "print(frequency_word)"
   ]
  },
  {
   "cell_type": "markdown",
   "metadata": {},
   "source": [
    "요구사항 3번, 구두문자와 공백을 제거한 단어 리스트에서 각 단어들의 단어들과 그 단어들의 횟수를 사전으로 저장하였다."
   ]
  },
  {
   "cell_type": "markdown",
   "metadata": {},
   "source": [
    "요구사항 4번, \n",
    "http://www.naver.com\n",
    "http://www.daum.net\n",
    "http://www.nytimes.com\n",
    "에 대한 결과."
   ]
  },
  {
   "cell_type": "code",
   "execution_count": 13,
   "metadata": {},
   "outputs": [
    {
     "name": "stdout",
     "output_type": "stream",
     "text": [
      "{'var': 22, 'nsc': 1, 'navertopv3': 1, 'documentdomain': 1, 'navercom': 1, 'jindoAll': 1, 'httpsspstaticnetpm2jscjindov171025js': 1, 'if': 4, 'windowconsole': 1, 'windowconsolewindowconsolelogfunction': 1, 'isLogin': 1, 'false': 4, 'function': 6, 'refreshLcsetc': 1, 'etc': 4, 'ifdocumentcookieindexOfnrefreshx1': 1, '1': 4, 'etcmrf1': 1, 'else': 1, 'etcpanjobreturn': 1, 'lcsdorefreshLcs': 1, 'NAVER': 3, '뉴스스탠드': 2, '바로가기': 7, '주제별캐스트': 1, '타임스퀘어': 2, '쇼핑캐스트': 2, '로그인': 2, '네이버': 7, '네이버를': 1, '시작페이지로': 1, '쥬니어네이버': 1, '해피빈': 1, '검색': 2, '통합검색블로그카페': 1, '카페명': 1, '카페글지식iN뉴스사이트': 1, '카테고리': 1, '사이트영화웹문서사전': 1, '백과사전': 1, '영어사전': 1, '영영사전': 1, '국어사전': 1, '일본어사전': 1, '한자사전': 1, '용어사전책음악전문자료쇼핑지역동영상이미지내PC영화자동차게임건강인물긍정부정검색': 1, '자동완성': 12, '펼치기': 1, '한글': 1, '입력기': 1, '생각한대로': 1, '검색해': 1, '보세요': 3, 'Beta': 1, 'txttxt': 1, '시간대와': 1, '관심사에': 1, '맞춘': 1, '컨텍스트': 3, '도움말': 2, '보기': 21, 'ON선택됨': 1, 'OFF': 1, '동일한': 1, '시간대연령남녀별': 1, '사용자': 1, '그룹의관심사에': 1, '맞춰': 1, '자동완성을': 1, '제공합니다': 1, '자세히': 2, 'ONOFF설정은해당': 1, '기기브라우저에': 1, '저장됩니다': 1, '레이어': 1, '닫기': 3, '도움말신고검색어저장': 4, '켜기자동완성': 4, '끄기': 5, '기능을': 5, '다시': 4, '켤': 4, '때는': 4, '펼치기을': 4, '클릭하세요': 4, '현재': 1, '사용하고': 1, '계십니다': 1, '기능이': 5, '활성화되었습니다': 1, '꺼져': 3, '있습니다': 4, '켜기': 1, '최근검색어내': 1, '검색어': 7, '내': 6, '등록txtdate삭제intxt': 1, '최근검색어': 1, '내역이': 1, '없습니다': 1, '저장': 2, '해제txt': 1, '설정된': 1, '검색어가': 1, '없습니다최근검색어에서': 1, '등록를': 1, '선택하여': 1, '자주': 1, '찾는': 1, '검색어를내': 1, '검색어로': 1, '저장해': 1, '알림공용': 1, 'PC에서는': 1, '개인정보': 1, '보호를': 1, '위하여': 1, '반드시': 1, '로그아웃을': 1, '해': 1, '주세요': 1, '기록': 3, '삭제검색어저장': 2, '끄기자동완성': 2, '전체': 5, '삭제완료': 1, '검색어는': 1, '최대': 1, '10개': 1, '까지': 1, '저장할': 1, '수': 2, '있습니다추가하시려면': 1, '기존': 1, '검색어를': 1, '지워주세요': 1, '제19대': 1, '대통령선거': 1, '후보에': 1, '대해': 1, '5월': 1, '9일': 1, '선거일까지': 1, '제공되지': 1, '않습니다': 1, '자세히보기': 1, 'image7': 1, '6': 3, '12': 3, '6789101112': 1, '5회차13': 1, '14money': 1, '6원10': 1, '8': 3, '97': 1, '7': 4, '기온': 2, '8℃': 2, '9': 4, '1011': 2, '5': 4, 'displaylink': 1, '사이트로': 1, '바로': 2, '이동': 3, 'query': 1, 'intend': 1, 'txt': 1, '바로이동': 1, 'intxt': 1, 'mismatchbeforematchmismatchafter': 2, '메일': 1, '카페': 1, '블로그': 1, '지식인': 1, '쇼핑': 1, '네이버페이': 1, '네이버TV': 1, '사전': 1, '뉴스': 2, '증권금융': 1, '부동산': 1, '지도': 1, '영화': 2, '뮤직': 2, '책': 1, '만화': 1, '웹툰': 2, '더보기': 1, '실시간': 2, '급상승': 2, '김주혁': 7, '2': 2, '이유영': 2, '3': 2, '교통사고': 2, '4': 2, '김무생': 2, '이범호': 2, '아르곤': 2, '도민호': 2, '1박2일': 2, '육각수': 2, '10': 3, '공조': 2, '11': 2, '유아인': 2, '멜론티켓': 2, '13': 2, '트와이스': 4, '14': 2, '2017': 2, '멜론뮤직어워드': 2, '15': 2, 'likey': 2, '16': 2, '부라더': 2, '17': 2, '김종도': 2, '18': 2, '남태현': 2, '19': 2, '기아': 4, '20': 2, '두산': 2, 'DataLab급상승': 1, '트래킹': 1, '1~10위': 1, '11~20위': 1, '데이터랩': 20, '그래프': 20, '20171030': 1, '195930': 1, '기준': 1, '연합뉴스': 1, '검찰': 1, '경영비리': 1, '롯데': 1, '신동빈': 1, '징역': 1, '10년': 2, '구형…12월22일': 1, '선고': 1, '삼성동': 1, '교통사고로': 1, '사망…향년': 1, '45세': 1, '2500선': 1, '첫발': 1, '코스피': 1, '2000서': 1, '걸렸다': 1, '종료': 1, '하루앞두고': 1, '국감': 1, '정상화…공방속': 1, '곳곳': 1, '정회': 1, '김재철': 1, 'MBC': 1, '前사장': 1, '국정원': 1, '직원': 1, '만난적': 1, '없다': 1, '洪': 2, '朴제명': 1, '강행친박': 1, '직무정지가처분': 1, '미성년자': 1, '유인': 1, '이영학': 1, '딸': 1, '구속…구속사유': 1, '있어': 1, '강경화': 1, '한중관계발전': 1, '위해': 1, '사드관련': 1, '조치': 1, '있을것': 1, '홍종학': 1, '내로남불': 1, '논란…증여·딸': 1, '국제중': 1, '재학': 1, '온종일': 1, '초겨울': 1, '추위…서울·춘천·대전': 1, '올해': 1, '첫': 1, '얼음': 1, '네이버뉴스': 1, '연예': 1, '스포츠': 3, '경제': 1, '랭킹': 1, '언론사': 4, 'MY': 1, '이미지형': 1, '리스트형': 1, '설정': 3, '이전': 2, '페이지': 2, '다음': 2, '목록': 3, '구독': 19, '해지': 18, '기사보기': 18, '종합경제': 1, '방송통신': 1, 'IT': 1, '영자지': 1, '스포츠연예': 1, '매거진전문지': 1, '지역': 1, '설정한': 2, '언론사가': 1, '없습니다언론사': 1, '설정에서': 1, 'MY언론사를': 1, '추가하면설정한': 1, '언론사의': 1, '기사들을': 1, '홈에서': 1, '보실': 1, '추가': 1, 'Sign': 3, 'in': 2, 'Connect': 1, 'with': 1, 'people': 1, 'up': 1, 'Forgot': 1, 'Username': 1, 'or': 1, 'Password': 1, '1030월': 1, '영어회화': 1, '앞의': 1, '목록으로': 2, '뒤의': 1, '세일은nbsp언제부터': 1, '해요': 1, 'Whennbsparenbspyounbsphavingnbspsalesnbsp': 1, '웬nbsp아': 1, '유': 1, '해빙nbsp세일스': 1, '주제형': 1, '캐스트': 1, '관심': 4, '주제': 8, '선택': 1, '리빙': 1, '푸드': 1, '자동차': 1, '패션뷰티': 1, '맘·키즈': 1, '건강': 1, '게임': 1, 'TV연예': 1, '책문화': 1, '함께N': 1, '여행': 1, '디자인': 1, '경제M': 1, 'JOB': 13, '과학': 1, '중국': 1, '비즈니스': 3, 'FARM': 1, '스쿨잼': 1, '공연전시': 1, '법률': 1, '동물공감': 1, '연애·결혼': 1, '테크': 1, '열기': 1, 'name': 3, 'isNewPanel': 1, 'NEWif': 1, 'name를': 1, '관심주제로': 1, '설정하시겠습니까': 1, '확인': 3, '취소': 3, '모바일에서': 1, '주제를': 1, '가져오시겠습니까': 1, '관심주제': 1, '모바일': 2, '가져오기': 2, '로그인후': 2, '사용': 2, '가능합니다': 2, '초기화': 1, '전체선택': 1, '취업·창업·직업': 1, '프리미엄': 1, '콘텐츠': 1, '모바일에서도': 1, '주잡스엔': 1, '55kg→44kg': 1, '야근·회식': 1, '살': 1, '잡고': 1, '몸짱된': 1, '‘독한’': 1, '이대리': 1, '인물': 2, '개그맨': 1, '고명환씨': 1, '“책이': 1, '시키는대로': 1, '했더니': 1, '연매출': 2, '10억': 1, '사장님': 1, '됐죠”': 1, '창업': 4, '이슈': 4, '학창시절': 1, '‘왕따’': 1, '경험': 1, '고백한': 1, '연예인들': 1, '인사이트': 1, '퇴직금': 1, '400만원으로': 1, '30억': 1, '달성…비결은': 1, '‘꽌시’': 1, 'jobsN': 2, 'Books': 2, 'navercorpda': 1, 'windownavercorpda': 1, '': 14, 'dadomid': 2, 'pmainjob00trim': 1, 'uId': 2, 'dadomidlength': 1, '0': 2, 'typeof': 2, 'nbpad': 1, 'undefined': 3, 'nbpadmobilenetworkaddivid': 1, 'adwda': 1, 'tarEl': 1, 'NBPCORPuId': 2, 'util': 1, 'navercorpdaUtil': 2, 'new': 6, 'NBPCORPNimp': 1, 'iftarEl': 1, 'ActiveView': 1, 'acenddate': 2, '20301231235959': 2, 'adenddate': 2, 'scrolltarget': 2, 'dascrolltarget': 1, 'dascrolltargettargetEl': 1, 'window': 1, 'orientationchangetime': 2, '500': 1, 'callback': 3, 'url': 2, 'httpsnvvetanavercomfxvieweuEU10016020ac7560751src3184385evtcdC1073xti944tbJOB1oidsid1sid2rkWfcGMApgIskAAaYfj0YAAAJIelttsI2aZ2FTXNTneQXVt412FHSNA3D3DeidV900xev': 1, 'xev': 4, 'try': 2, 'target': 2, 'parseInttargetgetBoundingClientRectheight': 1, 'targetoffsetHeight': 1, '000': 3, '111': 1, 'catche': 2, 'finally': 1, 'utillogurl': 1, 'callbackForInValid': 3, 'navercorpdaactiveViewsuId': 4, 'null': 2, 'ifnavercorpdaactiveViewsuId': 1, 'navercorpdaactiveViewsuIdclearActiveView': 1, 'navercorpdaActiveView': 1, 'adDivId': 1, 'acEndDate': 1, 'adEndDate': 1, 'scrollTarget': 1, 'activeViewTime': 1, '1000': 1, 'activeViewPercentage': 1, '05': 1, 'orientationChangeTime': 1, 'navercorpdaactiveViewsuIdcheckActiveView': 1, '이': 1, '‘초콜릿': 1, '복근’': 1, '지닌': 1, '남성…': 1, '뜻밖의': 1, '직업은': 2, '직장인': 1, '마감': 1, '직전': 1, '파스타': 1, '주문한': 1, '저희가': 1, '진상': 1, '고객인가요': 1, '나왔다': 1, '하면': 1, '대박': 1, '나영석표': 1, '예능의': 1, '히트': 1, '비법': 1, '일본': 1, '명문': 1, '와세다대': 1, '수석·조기졸업한': 1, '한국여학생': 1, '공부법': 1, '‘죽었던’': 1, '이화여대': 1, '뒷골목': 1, '살린': 1, '‘신의': 1, '한': 1, '수’': 1, '유럽': 1, '직구했는데': 1, '이틀만에': 1, '배송직구혁명': 1, '일으킨': 1, '청년': 1, '스타트업': 2, '가슴에': 1, '동생': 1, '묻고…': 1, '누나의': 1, '질주가': 1, '시작됐다': 1, '문재인': 1, '구두': 1, '아지오': 1, '폐업': 1, '아픔': 1, '딛고': 1, '새': 1, '출발': 1, '“국민': 1, '성원': 1, '힘입었다”': 1, '국무총리상': 1, '받았던': 1, '‘꼬마': 1, '에디슨’이': 1, '커서': 1, '만든': 1, '‘히트상품’': 1, '남자들': 1, '스웨그': 1, '책임지는': 1, '18개월': 1, '아들': 1, '둔': 1, '그녀의': 1, '분노': 1, '많아진': 1, '한국인': 1, '공략': 1, '성공': 1, '…‘19금': 1, '방’으로': 1, '월': 1, '1천만원': 1, 'httpscastboxshoppingnavercomshopboxmainnhnsvglesstrue': 1, '제2회': 1, '소상공인의날': 1, '우리동네': 1, '소상공인': 1, '축제': 1, '전국의': 1, '작은가게를': 1, '응원하고다양한': 1, '혜택도': 1, '누리세요': 1, '지식iN': 1, '정책참여': 1, '국민삶의': 1, '질': 1, '지표': 1, '개선': 1, '우리': 1, '삶을': 1, '잘': 1, '표현하는지표를': 1, '만들어가요': 1, '공지사항': 1, '주이스트소프트': 1, '계정': 1, '침해': 1, '대상자에': 1, '대한': 1, '안내': 2, '서비스': 1, '전체보기': 1, '프로젝트': 2, '꽃': 2, '인공지능': 1, '스피커프렌즈': 1, '클로바': 1, 'AI': 1, '스피커': 1, 'Creators': 1, '크리에이터': 1, '스몰비즈니스': 1, 'Partners': 1, '파트너': 1, '·': 1, '광고': 1, '스토어': 1, '개설': 1, '지역업체': 1, '등록': 1, 'Developers': 1, '개발자센터': 1, '오픈': 1, 'API': 1, '오픈소스': 1, 'D2': 1, '랩스': 1, '정책': 2, '및': 1, '약관': 1, '회사소개': 1, '인재채용': 1, '제휴제안': 1, '이용약관': 1, '개인정보처리방침': 1, '청소년보호정책': 1, '고객센터': 1, 'ⓒ': 1, 'Corp': 1, 'svr': 2, 'svt': 1, '20171030200000': 1, 'aPanelListAll': 2, 'nmainJS': 1, 'httpsspstaticnetpm2jscnmainv171025js': 1, 'sThemecastAdScriptUrl': 1, 'httpssslpstaticnettvetalibsassetsjspcmainminpcvetacoreminjs20170914': 1, 'nmainJSpushsThemecastAdScriptUrl': 1, 'loadJS': 1, 'jindoLazyLoadingloadnmainJS': 1, 'JEagleEyeClientsetEnabletrue': 1, 'iftypeof': 1, 'initPage': 2, 'openDatenulladMapnullcodeLIVINGHOMEname리빙csslivinghomenclicklifopenDatenulladMapnullcodeLIVINGname푸드csslivingnclickfodopenDatenulladMapnullcodeSPORTSname스포츠csssportsnclickspoopenDatenulladMapnullcodeCARGAMEname자동차csscargamenclickautopenDatenulladMapnullcodeBEAUTYname패션뷰티cssbeautynclickbtyopenDatenulladMapnullcodeMOMKIDSname맘·키즈cssmomkidsnclickmomopenDatenulladMapnullcodeHEALTHname건강csshealthnclickheaopenDatenulladMapnullcodeBBOOMname웹툰cssbboomnclickwebopenDatenulladMapnullcodeGAMEAPPname게임cssgameappnclickgamopenDatenulladMapnullcodeVIDEOnameTV연예cssvideonclicktvcopenDatenulladMapnullcodeMUSICname뮤직cssmusicnclickmucopenDatenulladMapnullcodeMOVIEname영화cssmovienclickmovopenDatenulladMapnullcodeCULTUREname책문화cssculturenclickbokopenDatenulladMapnullcodeWITHname함께NcsswithnclickpubopenDatenulladMapnullcodeTRAVELname여행csstravelnclicktraopenDatenulladMapnullcodeDESIGNname디자인cssdesignnclickdesopenDatenulladMapnullcodeFINANCEname경제McssfinancenclickfinopenDatenulladMapnullcodeJOBnameJOBcssjobnclickjobopenDatenulladMapnullcodeSCIENCEname과학csssciencenclicksciopenDatenulladMapnullcodeCHINAname중국csschinanclickchnopenDatenulladMapnullcodeBUSINESSname비즈니스cssbusinessnclickbsnopenDatenulladMapnullcodeFARMnameFARMcssfarmnclickfaropenDatenulladMapnullcodeSCHOOLname스쿨잼cssschoolnclicksclopenDate20170622adMapnullcodeSHOWname공연전시cssshownclicksowopenDate20170803adMapnullcodeLAWname법률csslawnclicklawopenDate20170824adMapnullcodeANIMALname동물공감cssanimalnclickaniopenDate20170831adMapnullcodeWEDDINGname연애·결혼cssweddingnclickwedopenDate20170921adMapnullcodeITTECHname테크cssittechnclicktec': 1, 'JEagleEyeClientsendErrorinvalid': 1, 'paneljson': 1, 'navermainPageRefreshinit': 1, 'navermainPanelinitaPanelListAll': 1, 'navermainLoginit': 1, 'navermainServiceNaviinit': 1, 'navermainThemecastNaviinit': 1, 'bFlick': 1, 'sAdList': 1, 'headermsgsuccesscode0bodyadScriptListadScriptPCMain1httpshttpssslpstaticnettvetalibsassetsjspcmainminpcvetacoreminjshttphttpssslpstaticnettvetalibsassetsjspcmainminpcvetacoreminjsadListmenuBUSINESSadTypesingleDommultiDomAdUrlmultiDomUnitinfoListadposId1000084singleDomAdUrlhttpnvvetanavercomfxshowparamdadomidpmainbusiness00tbBUSINESS1unitSU10204typepositionrelpositionIndex0subjectcontentsdomnullmenuDESIGNadTypesingleDommultiDomAdUrlmultiDomUnitinfoListadposId1000090singleDomAdUrlhttpnvvetanavercomfxshowparamdadomidpmaindesign00tbDESIGN1unitSU10205typepositionrelpositionIndex0subjectcontentsdomnullmenuJOBadTypesingleDommultiDomAdUrlmultiDomUnitinfoListadposId1000088singleDomAdUrlhttpnvvetanavercomfxshowparamdadomidpmainjob00tbJOB1unitSU10200typepositionrelpositionIndex0subjectcontentsdomnullmenuMOMKIDSadTypesingleDommultiDomAdUrlmultiDomUnitinfoListadposId1000089singleDomAdUrlhttpnvvetanavercomfxshowparamdadomidpmainmomkids00tbMOMKIDS1unitSU10226typepositionrelpositionIndex0subjectcontentsdomnullmenuMOVIEadTypesingleDommultiDomAdUrlmultiDomUnitinfoListadposId1000087singleDomAdUrlhttpnvvetanavercomfxshowparamdadomidpmainmovie00tbMOVIE1unitSU10199typepositionrelpositionIndex0subjectcontentsdomnullmenuSCHOOLadTypesingleDommultiDomAdUrlmultiDomUnitinfoListadposId1000085singleDomAdUrlhttpnvvetanavercomfxshowparamdadomidpmainschool01tbSCHOOL1unitSU10210typepositionrelpositionIndex0subjectcontentsdomnullmenuTRAVELadTypesingleDommultiDomAdUrlmultiDomUnitinfoListadposId1000086singleDomAdUrlhttpnvvetanavercomfxshowparamdadomidpmaintravel00tbTRAVEL1unitSU10198typepositionrelpositionIndex0subjectcontentsdomnull': 1, 'navermainCenterBannerinit': 1, 'newSmartSearch': 1, 'navermainNewsstand': 1, 'rcode': 1, '15131360': 1, 'newspaperURL': 1, 'newspapernavercom': 1, 'newsStandURL': 1, 'newsstandnavercom': 1, 'userInfoURL': 1, 'userinfowwwnavercom': 1, 'newsCastInfo': 1, 'newsStandInfo': 1, 'headlineList': 1, 'pid': 1, '002003005006008009011013014015016018020021022023024025028029030031032038040042044047050052055056057073075076079081082083087088089092108109117120122123135138139140143144213214215241243277293296308310311312314326327328329330331332333334335336337338339340344345346354355356361362363364366368374376384385386387388389390391396404410416417421422440447536539901902903904905906907908909910911912913914915916917920921922923924925926927928930931932933934935936937938939940941942943944945946947948949': 1, 'amigo': 1, 'invalid': 1, 'pressCategory': 1, 'ct1pid032name경향신문imghttpsspstaticnetstaticnewsstandup20170424nsd14372435pngcatect2amigoNviewerYtodayNlocalnullpid005name국민일보imghttpsspstaticnetstaticnewsstandup20170424nsd1438916pngcatect2amigoNviewerYtodayNlocalnullpid079name노컷뉴스imghttpsspstaticnetstaticnewsstandup20170424nsd143958887pngcatect2amigoNviewerYtodayNlocalnullpid327name뉴데일리imghttpsspstaticnetstaticnewsstandup20170424nsd144037935pngcatect2amigoNviewerYtodayNlocalnullpid003name뉴시스imghttpsspstaticnetstaticnewsstandup20170424nsd14449981pngcatect3amigoNviewerYtodayNlocalnullpid368name데일리안imghttpsspstaticnetstaticnewsstandup20170424nsd14463367pngcatect2amigoNviewerYtodayNlocalnullpid020name동아일보imghttpsspstaticnetstaticnewsstandup20170424nsd14479875pngcatect2amigoNviewerYtodayNlocalnullpid029name디지털타임스imghttpsspstaticnetstaticnewsstandup20170424nsd144824356pngcatect4amigoNviewerYtodayNlocalnullpid117name마이데일리imghttpsspstaticnetstaticnewsstandup20170424nsd144944309pngcatect6amigoNviewerYtodayNlocalnullpid009name매일경제imghttpsspstaticnetstaticnewsstandup20170424nsd145032565pngcatect2amigoNviewerYtodayNlocalnullpid008name머니투데이imghttpsspstaticnetstaticnewsstandup20170424nsd145214517pngcatect2amigoNviewerYtodayNlocalnullpid021name문화일보imghttpsspstaticnetstaticnewsstandup20170424nsd19245981pngcatect2amigoNviewerYtodayNlocalnullpid006name미디어오늘imghttpsspstaticnetstaticnewsstandup20170424nsd145346617pngcatect2amigoNviewerYtodayNlocalnullpid293name블로터imghttpsspstaticnetstaticnewsstandup20170424nsd145534698pngcatect4amigoNviewerYtodayNlocalnullpid011name서울경제imghttpsspstaticnetstaticnewsstandup20170424nsd145718601pngcatect2amigoNviewerYtodayNlocalnullpid081name서울신문imghttpsspstaticnetstaticnewsstandup20170424nsd145738195pngcatect2amigoNviewerYtodayNlocalnullpid022name세계일보imghttpsspstaticnetstaticnewsstandup20170424nsd145813557pngcatect2amigoNviewerYtodayNlocalnullpid314name스포츠동아imghttpsspstaticnetstaticnewsstandup20170424nsd145951763pngcatect6amigoNviewerYtodayNlocalnullpid076name스포츠조선imghttpsspstaticnetstaticnewsstandup20170424nsd183553864pngcatect6amigoNviewerYtodayNlocalnullpid139name스포탈코리아imghttpsspstaticnetstaticnewsstandup20170424nsd151840663pngcatect6amigoNviewerYtodayNlocalnullpid277name아시아경제imghttpsspstaticnetstaticnewsstandup20170424nsd153432228pngcatect2amigoNviewerYtodayNlocalnullpid031name아이뉴스24imghttpsspstaticnetstaticnewsstandup20170424nsd153955864pngcatect4amigoNviewerYtodayNlocalnullpid047name오마이뉴스imghttpsspstaticnetstaticnewsstandup20170424nsd154314463pngcatect2amigoNviewerYtodayNlocalnullpid018name이데일리imghttpsspstaticnetstaticnewsstandup20170424nsd154426359pngcatect2amigoNviewerYtodayNlocalnullpid241name일간스포츠imghttpsspstaticnetstaticnewsstandup20170424nsd154619739pngcatect6amigoNviewerYtodayNlocalnullpid030name전자신문imghttpsspstaticnetstaticnewsstandup20170424nsd162528724pngcatect4amigoNviewerYtodayNlocalnullpid366name조선비즈imghttpsspstaticnetstaticnewsstandup20170424nsd162659528pngcatect2amigoNviewerYtodayNlocalnullpid023name조선일보imghttpsspstaticnetstaticnewsstandup20170424nsd162718792pngcatect2amigoNviewerYtodayNlocalnullpid330name중앙데일리imghttpsspstaticnetstaticnewsstandup20170424nsd162959945pngcatect5amigoNviewerYtodayNlocalnullpid025name중앙일보imghttpsspstaticnetstaticnewsstandup20170424nsd164240664pngcatect2amigoNviewerYtodayNlocalnullpid092name지디넷코리아imghttpsspstaticnetstaticnewsstandup20170424nsd16425834pngcatect4amigoNviewerYtodayNlocalnullpid376name지지통신imghttpsspstaticnetstaticnewsstandup20170424nsd16432873pngcatect3amigoNviewerYtodayNlocalnullpid040name코리아타임스imghttpsspstaticnetstaticnewsstandup20170424nsd1729401pngcatect5amigoNviewerYtodayNlocalnullpid044name코리아헤럴드imghttpsspstaticnetstaticnewsstandup20170424nsd17341942pngcatect5amigoNviewerYtodayNlocalnullpid014name파이낸셜뉴스imghttpsspstaticnetstaticnewsstandup20170424nsd172557496pngcatect2amigoNviewerYtodayNlocalnullpid002name프레시안imghttpsspstaticnetstaticnewsstandup20170424nsd172615885pngcatect2amigoNviewerYtodayNlocalnullpid028name한겨레imghttpsspstaticnetstaticnewsstandup20170424nsd17263596pngcatect2amigoNviewerYtodayNlocalnullpid015name한국경제imghttpsspstaticnetstaticnewsstandup20170424nsd172736175pngcatect2amigoNviewerYtodayNlocalnullpid215name한국경제TVimghttpsspstaticnetstaticnewsstandup20170424nsd172755139pngcatect3amigoNviewerYtodayNlocalnullpid038name한국일보imghttpsspstaticnetstaticnewsstandup20170424nsd172837200pngcatect2amigoNviewerYtodayNlocalnullpid016name헤럴드경제imghttpsspstaticnetstaticnewsstandup20170424nsd172855569pngcatect2amigoNviewerYtodayNlocalnullpid056nameKBSimghttpsspstaticnetstaticnewsstandup20170424nsd173124306pngcatect3amigoNviewerYtodayNlocalnullpid326nameKBS': 1, 'Worldimghttpsspstaticnetstaticnewsstandup20170424nsd173138949pngcatect5amigoNviewerYtodayNlocalnullpid214nameMBCimghttpsspstaticnetstaticnewsstandup20170424nsd17324940pngcatect3amigoNviewerYtodayNlocalnullpid057nameMBNimghttpsspstaticnetstaticnewsstandup20170424nsd173223533pngcatect3amigoNviewerYtodayNlocalnullpid109nameOSENimghttpsspstaticnetstaticnewsstandup20170424nsd17338859pngcatect6amigoNviewerYtodayNlocalnullpid055nameSBSimghttpsspstaticnetstaticnewsstandup20170424nsd173335676pngcatect3amigoNviewerYtodayNlocalnullpid052nameYTNimghttpsspstaticnetstaticnewsstandup20170424nsd173559874pngcatect3amigoNviewerYtodayNlocalnullct2pid032name경향신문imghttpsspstaticnetstaticnewsstandup20170424nsd14372435pngcatect2amigoNviewerYtodayNlocalnullpid005name국민일보imghttpsspstaticnetstaticnewsstandup20170424nsd1438916pngcatect2amigoNviewerYtodayNlocalnullpid944name나우뉴스imghttpsspstaticnetstaticnewsstandup20170424nsd14392079pngcatect2amigoNviewerYtodayNlocalnullpid079name노컷뉴스imghttpsspstaticnetstaticnewsstandup20170424nsd143958887pngcatect2amigoNviewerYtodayNlocalnullpid327name뉴데일리imghttpsspstaticnetstaticnewsstandup20170424nsd144037935pngcatect2amigoNviewerYtodayNlocalnullpid930name뉴스타파imghttpsspstaticnetstaticnewsstandup20170424nsd144152433pngcatect2amigoNviewerYtodayNlocalnullpid913name뉴스토마토imghttpsspstaticnetstaticnewsstandup20170424nsd14431117pngcatect2amigoNviewerYtodayNlocalnullpid914name뉴스핌imghttpsspstaticnetstaticnewsstandup20170613nsd173430698pngcatect2amigoNviewerYtodayNlocalnullpid536name더팩트imghttpsspstaticnetstaticnewsstandup20170424nsd144543120pngcatect2amigoNviewerYtodayNlocalnullpid368name데일리안imghttpsspstaticnetstaticnewsstandup20170424nsd14463367pngcatect2amigoNviewerYtodayNlocalnullpid020name동아일보imghttpsspstaticnetstaticnewsstandup20170424nsd14479875pngcatect2amigoNviewerYtodayNlocalnullpid009name매일경제imghttpsspstaticnetstaticnewsstandup20170424nsd145032565pngcatect2amigoNviewerYtodayNlocalnullpid008name머니투데이imghttpsspstaticnetstaticnewsstandup20170424nsd145214517pngcatect2amigoNviewerYtodayNlocalnullpid021name문화일보imghttpsspstaticnetstaticnewsstandup20170424nsd19245981pngcatect2amigoNviewerYtodayNlocalnullpid006name미디어오늘imghttpsspstaticnetstaticnewsstandup20170424nsd145346617pngcatect2amigoNviewerYtodayNlocalnullpid931name민중의소리imghttpsspstaticnetstaticnewsstandup20170424nsd14546867pngcatect2amigoNviewerYtodayNlocalnullpid939name브릿지경제imghttpsspstaticnetstaticnewsstandup20170424nsd145512265pngcatect2amigoNviewerYtodayNlocalnullpid943name비즈니스워치imghttpsspstaticnetstaticnewsstandup20170424nsd145553365pngcatect2amigoNviewerYtodayNlocalnullpid942name비즈니스포스트imghttpsspstaticnetstaticnewsstandup20170424nsd145630550pngcatect2amigoNviewerYtodayNlocalnullpid011name서울경제imghttpsspstaticnetstaticnewsstandup20170424nsd145718601pngcatect2amigoNviewerYtodayNlocalnullpid081name서울신문imghttpsspstaticnetstaticnewsstandup20170424nsd145738195pngcatect2amigoNviewerYtodayNlocalnullpid022name세계일보imghttpsspstaticnetstaticnewsstandup20170424nsd145813557pngcatect2amigoNviewerYtodayNlocalnullpid277name아시아경제imghttpsspstaticnetstaticnewsstandup20170424nsd153432228pngcatect2amigoNviewerYtodayNlocalnullpid920name아시아투데이imghttpsspstaticnetstaticnewsstandup20170424nsd153458161pngcatect2amigoNviewerYtodayNlocalnullpid921name아주경제imghttpsspstaticnetstaticnewsstandup20170424nsd154016764pngcatect2amigoNviewerYtodayNlocalnullpid013name연합인포맥스imghttpsspstaticnetstaticnewsstandup20170424nsd154238686pngcatect2amigoNviewerYtodayNlocalnullpid047name오마이뉴스imghttpsspstaticnetstaticnewsstandup20170424nsd154314463pngcatect2amigoNviewerYtodayNlocalnullpid539name위키트리imghttpsspstaticnetstaticnewsstandup20170424nsd15444343pngcatect2amigoNviewerYtodayNlocalnullpid018name이데일리imghttpsspstaticnetstaticnewsstandup20170424nsd154426359pngcatect2amigoNviewerYtodayNlocalnullpid243name이코노미스트imghttpsspstaticnetstaticnewsstandup20170424nsd15444742pngcatect2amigoNviewerYtodayNlocalnullpid922name이투데이imghttpsspstaticnetstaticnewsstandup20170424nsd15453589pngcatect2amigoNviewerYtodayNlocalnullpid923name인민망imghttpsspstaticnetstaticnewsstandup20170424nsd154522345pngcatect2amigoNviewerYtodayNlocalnullpid925name일요신문imghttpsspstaticnetstaticnewsstandup20170424nsd192546763pngcatect2amigoNviewerYtodayNlocalnullpid366name조선비즈imghttpsspstaticnetstaticnewsstandup20170424nsd162659528pngcatect2amigoNviewerYtodayNlocalnullpid023name조선일보imghttpsspstaticnetstaticnewsstandup20170424nsd162718792pngcatect2amigoNviewerYtodayNlocalnullpid025name중앙일보imghttpsspstaticnetstaticnewsstandup20170424nsd164240664pngcatect2amigoNviewerYtodayNlocalnullpid941name초이스경제imghttpsspstaticnetstaticnewsstandup20170424nsd164431529pngcatect2amigoNviewerYtodayNlocalnullpid143name쿠키뉴스imghttpsspstaticnetstaticnewsstandup20170424nsd172415111pngcatect2amigoNviewerYtodayNlocalnullpid014name파이낸셜뉴스imghttpsspstaticnetstaticnewsstandup20170424nsd172557496pngcatect2amigoNviewerYtodayNlocalnullpid002name프레시안imghttpsspstaticnetstaticnewsstandup20170424nsd172615885pngcatect2amigoNviewerYtodayNlocalnullpid028name한겨레imghttpsspstaticnetstaticnewsstandup20170424nsd17263596pngcatect2amigoNviewerYtodayNlocalnullpid015name한국경제imghttpsspstaticnetstaticnewsstandup20170424nsd172736175pngcatect2amigoNviewerYtodayNlocalnullpid038name한국일보imghttpsspstaticnetstaticnewsstandup20170424nsd172837200pngcatect2amigoNviewerYtodayNlocalnullpid016name헤럴드경제imghttpsspstaticnetstaticnewsstandup20170424nsd172855569pngcatect2amigoNviewerYtodayNlocalnullpid932nameCEO스코어데일리imghttpsspstaticnetstaticnewsstandup20170904nsd10420716pngcatect2amigoNviewerYtodayNlocalnullpid120nameEBNimghttpsspstaticnetstaticnewsstandup20171017nsd173540697pngcatect2amigoNviewerYtodayNlocalnullct3pid421name뉴스1imghttpsspstaticnetstaticnewsstandup20170424nsd14405515pngcatect3amigoNviewerYtodayNlocalnullpid003name뉴시스imghttpsspstaticnetstaticnewsstandup20170424nsd14449981pngcatect3amigoNviewerYtodayNlocalnullpid916name머니투데이방송imghttpsspstaticnetstaticnewsstandup20170424nsd145249746pngcatect3amigoNviewerYtodayNlocalnullpid934name아리랑TVimghttpsspstaticnetstaticnewsstandup20170424nsd153357809pngcatect3amigoNviewerYtodayNlocalnullpid422name연합뉴스TVimghttpsspstaticnetstaticnewsstandup20170424nsd154219877pngcatect3amigoNviewerYtodayNlocalnullpid376name지지통신imghttpsspstaticnetstaticnewsstandup20170424nsd16432873pngcatect3amigoNviewerYtodayNlocalnullpid903name채널에이imghttpsspstaticnetstaticnewsstandup20170424nsd164352456pngcatect3amigoNviewerYtodayNlocalnullpid215name한국경제TVimghttpsspstaticnetstaticnewsstandup20170424nsd172755139pngcatect3amigoNviewerYtodayNlocalnullpid938name환경TVimghttpsspstaticnetstaticnewsstandup20170424nsd172938871pngcatect3amigoNviewerYtodayNlocalnullpid933nameCNNimghttpsspstaticnetstaticnewsstandup20170424nsd173010586pngcatect3amigoNviewerYtodayNlocalnullpid344nameEBSimghttpsspstaticnetstaticnewsstandup20170424nsd173043431pngcatect3amigoNviewerYtodayNlocalnullpid904nameJTBCimghttpsspstaticnetstaticnewsstandup20170424nsd173111263pngcatect3amigoNviewerYtodayNlocalnullpid056nameKBSimghttpsspstaticnetstaticnewsstandup20170424nsd173124306pngcatect3amigoNviewerYtodayNlocalnullpid906nameKNNimghttpsspstaticnetstaticnewsstandup20170424nsd173151831pngcatect3amigoNviewerYtodayNlocalnullpid214nameMBCimghttpsspstaticnetstaticnewsstandup20170424nsd17324940pngcatect3amigoNviewerYtodayNlocalnullpid057nameMBNimghttpsspstaticnetstaticnewsstandup20170424nsd173223533pngcatect3amigoNviewerYtodayNlocalnullpid340nameOBSimghttpsspstaticnetstaticnewsstandup20170424nsd173252323pngcatect3amigoNviewerYtodayNlocalnullpid055nameSBSimghttpsspstaticnetstaticnewsstandup20170424nsd173335676pngcatect3amigoNviewerYtodayNlocalnullpid374nameSBSCNBCimghttpsspstaticnetstaticnewsstandup20170424nsd173348251pngcatect3amigoNviewerYtodayNlocalnullpid902nameTV조선imghttpsspstaticnetstaticnewsstandup20170424nsd1735138pngcatect3amigoNviewerYtodayNlocalnullpid052nameYTNimghttpsspstaticnetstaticnewsstandup20170424nsd173559874pngcatect3amigoNviewerYtodayNlocalnullpid945nameYTN사이언스imghttpsspstaticnetstaticnewsstandup20170424nsd173618176pngcatect3amigoNviewerYtodayNlocalnullct4pid910name넥스트데일리imghttpsspstaticnetstaticnewsstandup20170424nsd143938201pngcatect4amigoNviewerYtodayNlocalnullpid138name디지털데일리imghttpsspstaticnetstaticnewsstandup20170424nsd14481127pngcatect4amigoNviewerYtodayNlocalnullpid029name디지털타임스imghttpsspstaticnetstaticnewsstandup20170424nsd144824356pngcatect4amigoNviewerYtodayNlocalnullpid293name블로터imghttpsspstaticnetstaticnewsstandup20170424nsd145534698pngcatect4amigoNviewerYtodayNlocalnullpid031name아이뉴스24imghttpsspstaticnetstaticnewsstandup20170424nsd153955864pngcatect4amigoNviewerYtodayNlocalnullpid030name전자신문imghttpsspstaticnetstaticnewsstandup20170424nsd162528724pngcatect4amigoNviewerYtodayNlocalnullpid092name지디넷코리아imghttpsspstaticnetstaticnewsstandup20170424nsd16425834pngcatect4amigoNviewerYtodayNlocalnullpid917nameIT조선imghttpsspstaticnetstaticnewsstandup20170424nsd173057968pngcatect4amigoNviewerYtodayNlocalnullct5pid330name중앙데일리imghttpsspstaticnetstaticnewsstandup20170424nsd162959945pngcatect5amigoNviewerYtodayNlocalnullpid040name코리아타임스imghttpsspstaticnetstaticnewsstandup20170424nsd1729401pngcatect5amigoNviewerYtodayNlocalnullpid044name코리아헤럴드imghttpsspstaticnetstaticnewsstandup20170424nsd17341942pngcatect5amigoNviewerYtodayNlocalnullpid326nameKBS': 1, 'Worldimghttpsspstaticnetstaticnewsstandup20170424nsd173138949pngcatect5amigoNviewerYtodayNlocalnullpid946nameYONHAPNEWSimghttpsspstaticnetstaticnewsstandup20170424nsd173542219pngcatect5amigoNviewerYtodayNlocalnullct6pid447name뉴스엔imghttpsspstaticnetstaticnewsstandup20170424nsd144110729pngcatect6amigoNviewerYtodayNlocalnullpid117name마이데일리imghttpsspstaticnetstaticnewsstandup20170424nsd144944309pngcatect6amigoNviewerYtodayNlocalnullpid108name스타뉴스imghttpsspstaticnetstaticnewsstandup20170424nsd14592836pngcatect6amigoNviewerYtodayNlocalnullpid144name스포츠경향imghttpsspstaticnetstaticnewsstandup20170424nsd14593063pngcatect6amigoNviewerYtodayNlocalnullpid314name스포츠동아imghttpsspstaticnetstaticnewsstandup20170424nsd145951763pngcatect6amigoNviewerYtodayNlocalnullpid073name스포츠서울imghttpsspstaticnetstaticnewsstandup20170424nsd15042554pngcatect6amigoNviewerYtodayNlocalnullpid396name스포츠월드imghttpsspstaticnetstaticnewsstandup20170424nsd1521496pngcatect6amigoNviewerYtodayNlocalnullpid076name스포츠조선imghttpsspstaticnetstaticnewsstandup20170424nsd183553864pngcatect6amigoNviewerYtodayNlocalnullpid940name스포츠투데이imghttpsspstaticnetstaticnewsstandup20170424nsd183628961pngcatect6amigoNviewerYtodayNlocalnullpid139name스포탈코리아imghttpsspstaticnetstaticnewsstandup20170424nsd151840663pngcatect6amigoNviewerYtodayNlocalnullpid311name엑스포츠뉴스imghttpsspstaticnetstaticnewsstandup20170424nsd154117pngcatect6amigoNviewerYtodayNlocalnullpid241name일간스포츠imghttpsspstaticnetstaticnewsstandup20170424nsd154619739pngcatect6amigoNviewerYtodayNlocalnullpid947name조이뉴스24imghttpsspstaticnetstaticnewsstandup20170424nsd162759461pngcatect6amigoNviewerYtodayNlocalnullpid312name텐아시아imghttpsspstaticnetstaticnewsstandup20170424nsd172519405pngcatect6amigoNviewerYtodayNlocalnullpid440name티브이데일리imghttpsspstaticnetstaticnewsstandup20170424nsd172538465pngcatect6amigoNviewerYtodayNlocalnullpid410nameMK스포츠imghttpsspstaticnetstaticnewsstandup20170424nsd173237747pngcatect6amigoNviewerYtodayNlocalnullpid109nameOSENimghttpsspstaticnetstaticnewsstandup20170424nsd17338859pngcatect6amigoNviewerYtodayNlocalnullpid416nameSBS연예스포츠imghttpsspstaticnetstaticnewsstandup20170424nsd173430905pngcatect6amigoNviewerYtodayNlocalnullpid213nameTV리포트imghttpsspstaticnetstaticnewsstandup20170424nsd173446621pngcatect6amigoNviewerYtodayNlocalnullpid404nameenews24imghttpsspstaticnetstaticnewsstandup20170424nsd173715121pngcatect6amigoNviewerYtodayNlocalnullct7pid356name게임메카imghttpsspstaticnetstaticnewsstandup20170424nsd143454437pngcatect7amigoNviewerYtodayNlocalnullpid363name과학동아imghttpsspstaticnetstaticnewsstandup20170424nsd143721586pngcatect7amigoNviewerYtodayNlocalnullpid908name국방일보imghttpsspstaticnetstaticnewsstandup20170424nsd143827635pngcatect7amigoNviewerYtodayNlocalnullpid911name농민신문imghttpsspstaticnetstaticnewsstandup20170424nsd144020188pngcatect7amigoNviewerYtodayNlocalnullpid912name뉴스컬처imghttpsspstaticnetstaticnewsstandup20170424nsd14412867pngcatect7amigoNviewerYtodayNlocalnullpid905name더스쿠프imghttpsspstaticnetstaticnewsstandup20170424nsd144523858pngcatect7amigoNviewerYtodayNlocalnullpid042name데일리한국imghttpsspstaticnetstaticnewsstandup20170424nsd144629578pngcatect7amigoNviewerYtodayNlocalnullpid345name디자인정글imghttpsspstaticnetstaticnewsstandup20170424nsd144732945pngcatect7amigoNviewerYtodayNlocalnullpid915name르몽드': 1, '디플로마티크imghttpsspstaticnetstaticnewsstandup20170424nsd1449112pngcatect7amigoNviewerYtodayNlocalnullpid024name매경이코노미imghttpsspstaticnetstaticnewsstandup20170424nsd145011543pngcatect7amigoNviewerYtodayNlocalnullpid075name맥스무비imghttpsspstaticnetstaticnewsstandup20170424nsd183033195pngcatect7amigoNviewerYtodayNlocalnullpid417name머니에스imghttpsspstaticnetstaticnewsstandup20170424nsd145150694pngcatect7amigoNviewerYtodayNlocalnullpid122name법률신문imghttpsspstaticnetstaticnewsstandup20170424nsd145431309pngcatect7amigoNviewerYtodayNlocalnullpid355name사이언스타임즈imghttpsspstaticnetstaticnewsstandup20170424nsd145657590pngcatect7amigoNviewerYtodayNlocalnullpid329name소년한국일보imghttpsspstaticnetstaticnewsstandup20170424nsd14583498pngcatect7amigoNviewerYtodayNlocalnullpid308name시사인imghttpsspstaticnetstaticnewsstandup20170424nsd151929775pngcatect7amigoNviewerYtodayNlocalnullpid135name시사저널imghttpsspstaticnetstaticnewsstandup20170424nsd153228485pngcatect7amigoNviewerYtodayNlocalnullpid140name씨네21imghttpsspstaticnetstaticnewsstandup20170424nsd153251814pngcatect7amigoNviewerYtodayNlocalnullpid328name에이블뉴스imghttpsspstaticnetstaticnewsstandup20170424nsd154040656pngcatect7amigoNviewerYtodayNlocalnullpid354name엘르imghttpsspstaticnetstaticnewsstandup20170424nsd154119884pngcatect7amigoNviewerYtodayNlocalnullpid310name여성신문imghttpsspstaticnetstaticnewsstandup20170424nsd154151666pngcatect7amigoNviewerYtodayNlocalnullpid924name인벤imghttpsspstaticnetstaticnewsstandup20170424nsd154539705pngcatect7amigoNviewerYtodayNlocalnullpid362name자동차생활imghttpsspstaticnetstaticnewsstandup20170424nsd162354371pngcatect7amigoNviewerYtodayNlocalnullpid123name조세일보imghttpsspstaticnetstaticnewsstandup20170424nsd162739461pngcatect7amigoNviewerYtodayNlocalnullpid361name채널예스imghttpsspstaticnetstaticnewsstandup20170424nsd164412540pngcatect7amigoNviewerYtodayNlocalnullpid928name컴퓨터월드imghttpsspstaticnetstaticnewsstandup20170424nsd17150763pngcatect7amigoNviewerYtodayNlocalnullpid296name코메디닷컴imghttpsspstaticnetstaticnewsstandup20170424nsd172354656pngcatect7amigoNviewerYtodayNlocalnullpid948name한겨레21imghttpsspstaticnetstaticnewsstandup20170424nsd172654646pngcatect7amigoNviewerYtodayNlocalnullpid050name한경비즈니스imghttpsspstaticnetstaticnewsstandup20170424nsd172712628pngcatect7amigoNviewerYtodayNlocalnullpid384name한국대학신문imghttpsspstaticnetstaticnewsstandup20170424nsd172816434pngcatect7amigoNviewerYtodayNlocalnullpid346name헬스조선imghttpsspstaticnetstaticnewsstandup20170424nsd172911723pngcatect7amigoNviewerYtodayNlocalnullpid364namePC사랑imghttpsspstaticnetstaticnewsstandup20170424nsd173322105pngcatect7amigoNviewerYtodayNlocalnullpid949nameTheAsiaNimghttpsspstaticnetstaticnewsstandup20170424nsd173523100pngcatect7amigoNviewerYtodayNlocalnullct8pid335name강원도민일보imghttpsspstaticnetstaticnewsstandup20170424nsd14341394pngcatect8amigoNviewerYtodayNlocalname강원code01pid087name강원일보imghttpsspstaticnetstaticnewsstandup20170424nsd143434899pngcatect8amigoNviewerYtodayNlocalname강원code01pid339name경기일보imghttpsspstaticnetstaticnewsstandup20170424nsd143511509pngcatect8amigoNviewerYtodayNlocalname경기code02name인천code11pid333name경남신문imghttpsspstaticnetstaticnewsstandup20170424nsd143531816pngcatect8amigoNviewerYtodayNlocalname경남code03name부산code08name울산code10pid907name경북매일신문imghttpsspstaticnetstaticnewsstandup20170424nsd143555345pngcatect8amigoNviewerYtodayNlocalname경북code04name대구code06pid337name경북일보imghttpsspstaticnetstaticnewsstandup20170424nsd143612100pngcatect8amigoNviewerYtodayNlocalname경북code04name대구code06name울산code10pid935name경상일보imghttpsspstaticnetstaticnewsstandup20170424nsd143628241pngcatect8amigoNviewerYtodayNlocalname울산code10pid338name경인일보imghttpsspstaticnetstaticnewsstandup20170424nsd143645415pngcatect8amigoNviewerYtodayNlocalname경기code02name인천code11pid083name광주일보imghttpsspstaticnetstaticnewsstandup20170424nsd143742681pngcatect8amigoNviewerYtodayNlocalname광주code05name전남code12pid332name국제신문imghttpsspstaticnetstaticnewsstandup20170424nsd143844997pngcatect8amigoNviewerYtodayNlocalname경남code03name부산code08name울산code10pid909name기호일보imghttpsspstaticnetstaticnewsstandup20170424nsd14392544pngcatect8amigoNviewerYtodayNlocalname경기code02name인천code11pid936name대구일보imghttpsspstaticnetstaticnewsstandup20170424nsd144433908pngcatect8amigoNviewerYtodayNlocalname경북code04name대구code06pid089name대전일보imghttpsspstaticnetstaticnewsstandup20170424nsd144457151pngcatect8amigoNviewerYtodayNlocalname대전code07name충남code15name충북code16name세종code17pid088name매일신문imghttpsspstaticnetstaticnewsstandup20170424nsd14505572pngcatect8amigoNviewerYtodayNlocalname경북code04name대구code06pid082name부산일보imghttpsspstaticnetstaticnewsstandup20170424nsd145450220pngcatect8amigoNviewerYtodayNlocalname경남code03name부산code08name울산code10pid385name영남일보imghttpsspstaticnetstaticnewsstandup20170424nsd154255890pngcatect8amigoNviewerYtodayNlocalname경북code04name대구code06pid386name울산매일imghttpsspstaticnetstaticnewsstandup20170424nsd154334776pngcatect8amigoNviewerYtodayNlocalname울산code10pid387name인천일보imghttpsspstaticnetstaticnewsstandup20170424nsd154558680pngcatect8amigoNviewerYtodayNlocalname경기code02name인천code11pid388name전남일보imghttpsspstaticnetstaticnewsstandup20170424nsd162423309pngcatect8amigoNviewerYtodayNlocalname광주code05name전남code12pid937name전북도민일보imghttpsspstaticnetstaticnewsstandup20170424nsd16244628pngcatect8amigoNviewerYtodayNlocalname전북code13pid336name전북일보imghttpsspstaticnetstaticnewsstandup20170424nsd16256807pngcatect8amigoNviewerYtodayNlocalname전북code13pid901name제민일보imghttpsspstaticnetstaticnewsstandup20170424nsd16254923pngcatect8amigoNviewerYtodayNlocalname제주code14pid389name제주도민일보imghttpsspstaticnetstaticnewsstandup20170424nsd1626960pngcatect8amigoNviewerYtodayNlocalname제주code14pid334name제주의소리imghttpsspstaticnetstaticnewsstandup20170424nsd162631114pngcatect8amigoNviewerYtodayNlocalname제주code14pid390name중도일보imghttpsspstaticnetstaticnewsstandup20170424nsd162822857pngcatect8amigoNviewerYtodayNlocalname대전code07name충남code15pid926name중부일보imghttpsspstaticnetstaticnewsstandup20170424nsd162931439pngcatect8amigoNviewerYtodayNlocalname경기code02name인천code11pid927name충북일보imghttpsspstaticnetstaticnewsstandup20170424nsd164449667pngcatect8amigoNviewerYtodayNlocalname충북code16name세종code17pid391name충청일보imghttpsspstaticnetstaticnewsstandup20170424nsd17115481pngcatect8amigoNviewerYtodayNlocalname대전code07name충남code15name충북code16name세종code17pid331name충청투데이imghttpsspstaticnetstaticnewsstandup20170424nsd17133978pngcatect8amigoNviewerYtodayNlocalname대전code07name충남code15name충북code16name세종code17': 1, 'isSupportedFlicking': 2, 'navermainTimesquare': 1, 'aOrderedPanel': 1, 'codeweathername날씨codenewsname뉴스codesportsname스포츠codefinancename금융codeconversationname회화codelifetoolsname생활도구': 1, 'navermainRealtimeKeyword': 1, 'Agentnavigatorie': 1, '$Agent().navigator().version': 1}\n"
     ]
    }
   ],
   "source": [
    "import string\n",
    "from urllib import request \n",
    "def trans(a):\n",
    "    list_a = list(a)\n",
    "    for i in range(0,len(list_a)):\n",
    "        for j in range(0,len(L)):\n",
    "            if list_a[i] == L[j]:\n",
    "                list_a[i] = ''\n",
    "    result = \"\"\n",
    "    for i in range(0,len(list_a)):\n",
    "        result = result + list_a[i]\n",
    "    return result\n",
    "\n",
    "def delete_empty(a):\n",
    "    i = 0\n",
    "    while (i != len(a)):\n",
    "        if a[i] == '':\n",
    "            del(a[i])\n",
    "        i +=1\n",
    "    return a\n",
    "\n",
    "def frequency(a):\n",
    "    result = {}\n",
    "    for i in range(0,len(a)):\n",
    "        if (result.get(a[i])):\n",
    "            result[a[i]] += 1 ## 기존에 있는 key 면 value 값 1 증가\n",
    "        else:\n",
    "            result[a[i]] = 1 ##사전에 a[i] 와 value 1추가\n",
    "    return result\n",
    "\n",
    "url = 'http://www.naver.com'\n",
    "f = request.urlopen(url)\n",
    "source_bytes = f.read()\n",
    "source = source_bytes.decode('utf-8')\n",
    "\n",
    "isOpen = False\n",
    "pureWord = []\n",
    "text = ''\n",
    "for i in source:\n",
    "    if i == '<':\n",
    "        isOpen = True\n",
    "        continue\n",
    "    if i == '>':\n",
    "        isOpen = False\n",
    "        continue\n",
    "    if isOpen == False and not i.isspace():\n",
    "        text = text + i\n",
    "        ##print (i)\n",
    "        ##print(text)\n",
    "        ##print (isOpen)\n",
    "    if isOpen == False and i.isspace() and text:\n",
    "        pureWord.append(text)\n",
    "        text=''\n",
    "\n",
    "L = [string.punctuation[i] for i in range(0,len(string.punctuation)-1)]\n",
    "\n",
    "for i in range(0,len(pureWord)-1):\n",
    "    pureWord[i] = trans(pureWord[i])\n",
    "\n",
    "pureWord = delete_empty(pureWord)\n",
    "\n",
    "frequency_word = {}\n",
    "frequency_word = frequency(pureWord)\n",
    "print(frequency_word)"
   ]
  },
  {
   "cell_type": "code",
   "execution_count": 14,
   "metadata": {},
   "outputs": [
    {
     "name": "stdout",
     "output_type": "stream",
     "text": [
      "{'Daum': 1, 'charset': 1, 'utf8': 1, 'bodydivdldtddulollih1h2h3h4h5h6precodeformfieldsetlegendtextareapblockquotethtdinputselectbuttonmargin0padding0': 1, 'fieldsetimgborder0': 1, 'none': 5, 'dlulolmenuliliststylenone': 1, 'blockquote': 1, 'qquotes': 1, 'blockquotebefore': 1, 'blockquoteafterqbefore': 1, 'qaftercontentcontentnone': 1, 'inputselecttextareabuttonverticalalignmiddle': 1, 'inputmscleardisplaynone': 1, 'buttonborder0': 1, 'nonebackgroundcolortransparentcursorpointer': 1, 'bodybackgroundfffdirectionltrwebkittextsizeadjustnone': 1, 'bodythtdinputselecttextareabuttonfontsize13pxlineheight15fontfamilyAppleSDGothicNeoRegularMalgun': 1, 'Gothic맑은': 1, '고딕dotum돋움sansserifcolor222letterspacing1px': 1, 'osmac': 144, 'bodyosmac': 1, 'thosmac': 1, 'tdosmac': 1, 'inputosmac': 1, 'selectosmac': 1, 'textareaosmac': 1, 'buttonletterspacing0': 1, 'acolor222textdecorationnone': 1, 'ahovercolor118efftextdecorationunderline': 1, 'aactivebackgroundcolortransparent': 1, 'addresscaptioncitecodedfnemvarfontstylenormalfontweightnormal': 1, 'irpmdisplayblockoverflowhiddenfontsize1pxlineheight0textindent9999px': 1, 'irwadisplayblockoverflowhiddenpositionrelativewidth100height100zindex1': 1, 'screenoutoverflowhiddenpositionabsolutewidth0height0lineheight0textindent9999px': 1, 'showdisplayblock': 1, 'hidedisplaynone': 1, 'dindexpositionrelativewidth100': 1, 'dindex': 7, 'shortcutgpositionabsolutetop34pxleft0height33pxpadding0': 1, '20px': 10, '0': 171, '26pxborderbottom1px': 1, 'solid': 53, '3f4243fontsize11pxlineheight14pxbackgroundcolor26292acolorfffletterspacing1pxtextaligncenter': 1, 'shortcutgactive': 2, 'shortcutgfocusoverflowhiddentop0textdecorationnonezindex101': 1, 'shortcutghovercolorfff': 1, 'shortcutg': 2, 'innershortcutdisplayinlineblockpaddingright10pxmargintop8pxbackgroundposition100': 1, '220pxverticalaligntop': 1, 'innershortcutmargintop11pxbackgroundposition100': 1, '223px': 1, 'icopctopoverflowhiddenbackgroundurlt1daumcdnnetdaumtopdecoimagestop2017icopctop170828png': 1, 'norepeat': 19, 'icovertoverflowhiddenbackgroundurlt1daumcdnnetdaumtopdecoimagestop2017icopctopvert170724png': 1, 'txtpctopoverflowhiddenbackgroundurlt1daumcdnnetdaumtopdecoimagestop2017txtpctop170915png': 1, '0letterspacing1pxwhitespacenowrap': 1, 'bgpctopbackgroundurlt1daumcdnnetdaumtopdecoimagestop2017bgpctop170328png': 1, 'numpctopoverflowhiddenbackgroundurlt1daumcdnnetdaumtopdecoimagestop2017numpctop170405png': 1, 'imgthumbdisplayblockverticalaligntop': 1, 'framegpositionabsolutetop0left0border1px': 1, '000opacity008filteralphaopacity8': 1, 'thumbgdisplayblockpositionrelative': 1, 'daumWrappositionrelativeminwidth1080px': 1, 'daumWraptransformtranslate3d0px': 1, '0px': 3, 'headdaumpositionrelativezindex100': 1, 'contmainpositionrelativewidth990pxmargin15px': 1, 'auto': 7, 'conttopicoverflowhiddenpositionrelativezindex0width100bordertop1px': 1, 'ecececbackgroundcolorfbfbfcbackgroundposition50': 1, '100backgroundrepeatnorepeat': 1, 'featuretmpdisplayinlineblockverticalaligntop': 1, 'wrapmainpaddingbottom40pxclearbothzoom1': 1, 'wrapmainafterdisplayblockvisibilityhiddenheight0fontsize0clearbothcontent': 1, 'cmaintmpfloatleftwidth655pxmarginright35px': 1, 'wingtmpfloatleftwidth300px': 1, 'footdaumbordertop1px': 1, '888': 5, 'footdaum': 26, 'innerfootoverflowhiddenpositionrelativewidth990pxmargin0': 1, 'autopadding37px': 1, '78px': 1, 'linklogofloatleft': 1, 'infonoticeoverflowhiddenpadding0': 1, '250px': 3, '30px': 19, 'titnoticefloatleftfontsize13px': 1, 'linknoticedisplayblockpaddingright9pxbackgroundposition100': 1, '169px': 1, 'linknoticehovercolor222': 1, 'listnoticeoverflowhiddenwidth542pxheight19pxpaddingleft9px': 1, 'listnotice': 2, 'linkinfodisplayblockoverflowhiddentextoverflowellipsiswhitespacenowrap': 1, 'linkinfohovercolor222': 1, 'searchfootpositionabsolutetop32pxright0': 1, 'boxsearchpositionrelativezindex1width209pxheight28pxborder1px': 1, 'c8c8c8': 1, 'searchonbordercolor0089ff': 1, 'tfkeywordfloatleftwidth164pxmargin5px': 1, '9pxborder1px': 1, 'transparentlineheight19pxoutline0': 1, 'btnsearchfloatrightwidth32pxheight28pxlineheight28pxbackgroundposition0': 1, '230pxbackgroundcolortransparent': 1, 'linksvcallpositionabsolutetop81pxright0paddingright10pxfontweightboldcolor888backgroundposition100': 1, '194px': 1, 'infopolicypadding23px': 1, 'infopolicy': 2, 'linkpolicyfontsize12pxcolor888': 1, 'txtdotpadding0': 1, '2pxfontsize12pxcolor888': 1, 'txtcopyrightdisplayblockpaddingtop6pxfontsize11pxcolor888': 1, 'txtcopyright': 1, 'linkkakaocolor888': 1, 'infonoticepadding3px': 1, '31px': 1, 'linknoticepaddingright12pxbackgroundpositiony172px': 1, 'tfkeywordmargintop4px': 1, 'linksvcalltop83pxbackgroundpositiony196px': 1, 'infopolicypaddingtop24px': 1, 'txtcopyrightpaddingtop5px': 1, 'dheadborderbottom1px': 1, 'ececec': 8, 'dhead': 1, 'innerheadpositionrelativezindex1width1080pxheight150pxmargin0': 1, 'titdaumoverflowhiddenfloatleftwidth180pxheight150pxtextaligncenter': 1, 'linkdaumoverflowhiddendisplayblockmargin28px': 1, 'linklaunchpositionabsolutetop6pxleft45pxpaddingright8pxfontsize11pxcolor888backgroundposition100': 1, '18px': 3, 'linklaunchtop9pxbackgroundposition100': 1, '21px': 1, 'wrapsearchfloatleftpositionrelativemargintop50px': 1, 'wrapsearch': 1, 'dschbackgroundcolorfff': 1, 'headdaum': 15, 'boxsearchpositionrelativeheight44pxmargin1px': 1, '1px': 5, '0border1px': 2, '0089ffborderradius1px': 1, 'boxsearch': 2, 'innersearchpositionrelativezindex1height44pxpadding0': 1, '60px': 8, '14px': 5, 'boxsearchbefore': 1, 'innersearchbefore': 1, 'boxsearchafterpositionabsoluteleft0right100height1pxcontentbackgroundcolor0089ff': 1, 'boxsearchbeforetop1px': 1, 'boxsearchafterbottom1px': 1, 'boxsearchhoverbefore': 1, 'boxsearchhoverafterright0transitionpropertyrighttransitionduration08sbackgroundlineargradientto': 1, 'right': 1, '86aaff': 1, '70bc4c': 1, 'ffbe00': 1, 'f46e85': 1, 'boxsearchhover': 1, 'innersearchbeforetop1pxbottom1pxleftautoright1pxwidth1pxheight46pxbackgroundcolorf46e85transitionpropertyheighttransitiondelay08s': 1, 'tfkeywordfloatleftwidth442pxmargintop7pxborder1px': 1, 'transparentfontsize18pxlineheight24pxbackgroundcolortransparentoutline0imemodeactivewebkitappearancenone': 1, 'btnsearchpositionabsolutetop0right0width49pxheight42pxmargin1pxlineheight44pxbackgroundposition40px': 1, '231pxbackgroundcolortransparent': 1, 'slidefavorschoverflowhiddenwidth480pxheight28px': 1, 'listfavorschoverflowhiddenpaddingtop7px': 1, 'listfavorsch': 3, 'lifloatleftpaddingright10px': 1, 'linkfavorschdisplayblockfontsize12pxcolor555': 1, 'pagepctopzindex1right1pxbottom3px': 1, 'headbnrpositionabsolutetop33pxright45px': 1, 'headbnr': 1, 'linkheadbnrdisplayblock': 1, 'boxsearchmargintop0': 1, 'tfkeywordmargintop11px': 1, 'listfavorschpaddingtop10px': 1, 'lipaddingright14px': 1, 'daumSuggestWrappositionrelativemarginright90pxclearboth': 1, 'suggestBoxpositionabsolutetop45pxleft0zindex9999width520pxpadding0backgroundnone': 1, 'baseBoxbordertop1px': 1, 'dcdcdcfontsize12pxlineheight17pxfontfamily굴림gulimsansserifbackgroundcolorfff': 1, 'baseBoxfontfamilyApple': 1, 'SD': 6, 'Gothic': 6, 'Neosansserif': 6, 'suggestBox': 96, 'listpadding7px': 1, '13pxborderleft1px': 1, 'dcdcdcborderright1px': 2, 'dcdcdccolor333backgroundcolorfff': 1, 'suggestBoxreverseType': 2, 'listpadding3px': 1, '7pxcolor333': 1, 'baseBox': 4, 'lioverflowhiddenheight26pxpadding0': 1, '16pxlineheight26pxtextalignleftcursorpointer': 1, 'li': 8, 'itemdisplayblockheight100': 1, 'itemhovertextdecorationnone': 1, 'list': 1, 'onbackgroundcolorf6f6f6': 1, 'strongfontweightnormalcolor0089ff': 1, 'lineoverflowhiddenheight1pxmargin7px': 1, '6pxpadding0fontsize1pxlineheight1pxbackgroundcolore5e5e5': 1, 'guidepadding15px': 1, '10pxcolor555': 1, 'footerpositionrelativeheight20pxpadding8px': 1, '12px': 7, '4px': 11, '7pxborder1px': 1, 'dcdcdcbordertop1px': 1, 'ecececfontsize11pxbackgroundcolorfbfbfbletterspacing1pxclearboth': 1, 'footerbordertopcolordcdcdcborderbottomcolorededed': 1, 'footer': 7, 'flfloatleft': 1, 'frfloatright': 1, 'btnclosepaddingleft12pxbackgroundposition0': 1, '939px': 1, 'bardisplaynonepadding0': 1, '2pxcolorddd': 1, 'fl': 1, 'barpadding0': 1, '2px': 11, 'offGuidedisplaynonepositionabsoluteright0bottom19pxwidth211pxheight27pxbackgroundurlsearch1daumcdnnetsearchstaticscommonpisuggestservicegif': 1, 'norepeattextindent999em': 1, 'offSuggestdisplaynone': 1, 'listpadding9px': 1, '11px': 3, 'lipadding0': 1, '17px': 2, 'acolor777': 1, 'answerborderleft1px': 1, 'dcdcdc': 1, 'answer': 1, 'spancursorpointer': 1, 'afontsize14pxcolor333fontfamily돋움dotumsansseriftextdecorationnone': 1, 'afontfamilyApple': 1, 'linedisplayblockoverflowhiddenclearboth': 1, 'blineborderbottom1px': 1, 'ededed': 1, 'suggestexactdisplayblockoverflowhiddenheight40pxpadding12px': 1, 'suggestexacthovertextdecorationnone': 1, 'eonbackgroundcolorf8f8f8textdecorationnone': 1, 'suggestexact': 56, 'txtexactoverflowhiddenfloatleftheight44pxmargintop0backgroundposition0': 1, 'txtunitfontsize14pxfontfamilyarialsansserif': 1, 'titmarginleft1pxfontweightnormalfontsize12pxlineheight18pxfontfamily굴림gulimsansserifcolor333': 1, 'contdisplayblock': 1, 'txtcontmarginright4pxfontweightboldfontsize14pxlineheight16pxfontfamily돋움dotumsansserifcolor333': 1, 'txtnum1fontsize18pxlineheight20pxfontfamilytahomasansserifcolor333': 1, 'txtnum2marginleft3pxfontsize12pxlineheight14pxfontfamily굴림gulimsansserifcolor333': 1, 'txtnum3fontsize20pxlineheight23pxfontfamilyarialsansserifcolor333': 1, 'txtnum4marginleft3pxfontsize12pxlineheight14pxfontfamily굴림gulimsansserifcolor333': 1, 'txtexact': 5, 'icosuggest2backgroundurlsearch1daumcdnnetsearchstaticscommonpiicoicosuggest20110721gif': 1, 'icocelsiusbackgroundnone': 1, 'icoarrowuppaddingleft11pxbackgroundposition0': 1, '58px': 1, 'icoarrowdownpaddingleft11pxbackgroundposition0': 1, '98px': 1, 'icoarrowequalpaddingleft11pxbackgroundposition0': 1, '75px': 1, 'txtbluecolor007aff': 1, 'txtblue2color007aff': 1, 'txtredcolore52d38': 1, 'txtred2colore52d38': 1, 'txttimefloatrightmargin25px': 1, '16px': 4, '0fontsize11pxfontfamily돋움dotumsansserifcolora1a1a1': 1, 'icocelsiuswidth12pxheight13pxfontfamilyarialsansserifbackgroundpositionright': 1, '5px': 6, 'barfontsize14pxcolordedede': 1, 'wraptodayoverflowhiddenheight21pxpadding4px': 1, '10px': 2, '9pxlineheight21px': 1, 'wraptoday': 2, 'contfontsize14pxcolor333textdecorationnone': 1, 'contimportfontweightnormalcolorea570a': 1, 'titfontfamilyApple': 1, 'txtnum2fontfamilyApple': 1, 'txtnum4fontfamilyApple': 1, 'txttimefontfamilyApple': 1, 'icolottofloatleftwidth28pxheight28pxmargin6px': 1, '0borderradius20pxtextaligncenter': 1, 'icolotto': 1, 'txtnumdisplayinlineblockmargintop7pxfontsize14pxlineheight1fontfamilyarialsansserifcolorfffverticalaligntop': 1, 'num1backgroundcolorf6a800': 1, 'num10backgroundcolor4155cb': 1, 'num20backgroundcolorf64d61': 1, 'num30backgroundcolor585d6e': 1, 'num40backgroundcolorf6a800': 1, 'pluswidth8pxheight8pxmargin16px': 1, '8px': 10, '4pxbackgroundurlsearch1daumcdnnetsearchstaticscommonpiicoicosuggest20110721gif': 1, '40pxtextindent9999pxopacity05': 1, 'icosuggestpaddingleft59pxcolor555backgroundurlsearch1daumcdnnetsearchstaticscommonpiweathericoweathermpng': 1, 'icosuggest': 1, 'cont': 1, 'screenoutpositionstaticfontsize14pxfontfamilyarialsansseriftextindent0': 1, 'txtexactoverflowhiddenfloatleftheight44pxmargintop0': 1, 'icow00backgroundposition0': 1, '1620px': 1, 'icow01backgroundposition0': 2, 'night': 16, 'icow02backgroundposition0': 2, '120px': 5, '180px': 4, 'icow03backgroundposition0': 2, '240px': 7, '300px': 10, 'icow04backgroundposition0': 1, '360px': 2, 'icow05backgroundposition0': 2, '420px': 1, '480px': 2, 'icow06backgroundposition0': 2, '540px': 1, '600px': 1, 'icow07backgroundposition0': 1, '660px': 1, 'icow08backgroundposition0': 1, '720px': 1, 'icow09backgroundposition0': 1, '780px': 1, 'icow10backgroundposition0': 2, '840px': 1, '900px': 1, 'icow11backgroundposition0': 1, '960px': 1, 'icow12backgroundposition0': 1, '1020px': 1, 'icow13backgroundposition0': 2, '1080px': 1, '1140px': 1, 'icow14backgroundposition0': 1, '1200px': 1, 'icow15backgroundposition0': 1, '1260px': 1, 'icow16backgroundposition0': 2, '1320px': 1, '1380px': 1, 'icow17backgroundposition0': 1, '1440px': 1, 'icow18backgroundposition0': 1, '1500px': 1, 'icow19backgroundposition0': 1, '1560px': 1, 'daumSuggestWrapdisplaynone': 1, 'dserviceborderbottom1px': 1, 'dservice': 1, 'innerservicepositionrelativewidth990pxheight45pxmargin0': 1, 'menuservicefloatleftpositionrelativewidth660px': 1, 'menuservice': 1, 'linkmoreoverflowhiddenfloatleftwidth60pxheight25pxpadding10px': 1, '9pxlineheight20pxbackgroundposition0': 1, '8pxbackgroundcolortransparenttextaligncenter': 1, 'menuon': 2, 'linkmorebackgroundposition60px': 1, 'listmainsvcfloatleft': 1, 'listmainsvc': 16, 'lifloatleftheight45px': 1, 'txtpctopdisplayblockheight25pxpadding10px': 1, '0fontweightboldfontsize13pxlineheight25pxbackgroundcolortransparenttextaligncenter': 1, 'linkcafewidth30pxbackgroundposition0': 1, 'linkmailwidth36pxbackgroundposition30px': 1, 'linknewswidth37pxbackgroundposition66px': 1, 'linkmapwidth36pxbackgroundposition103px': 1, 'linkstockwidth37pxbackgroundposition139px': 1, 'linkshoppingwidth36pxbackgroundposition176px': 1, 'linkkakaotvwidth64pxbackgroundposition212px': 1, 'linkwebtoonwidth37pxbackgroundposition276px': 1, 'linkblogwidth48pxbackgroundposition313px': 1, 'linkbrunchwidth47pxbackgroundposition361px': 1, 'linkdicwidth36pxbackgroundposition408px': 1, 'linkgamewidth37pxbackgroundposition444px': 1, 'linkstarplaywidth59pxbackgroundposition481px': 1, 'linktogetherwidth59pxbackgroundposition540px': 1, 'servicelayerdisplaynonepositionabsolutetop45pxleft0width653pxborder1px': 1, '888backgroundcolorfff': 3, 'servicelayerdisplayblock': 1, 'servicelayer': 18, 'layerbodyoverflowhiddenbackgroundurlt1daumcdnnetdaumtopdecoimagestop2017bglinegif': 1, 'repeaty': 1, 'sortservicefloatleftwidth94pxpadding0': 1, '15px': 5, 'sortservicefstpaddingleft14px': 1, 'sortservice': 9, 'dtmargin11px': 1, '4pxfontweightboldfontsize12px': 1, 'ddclearbothfontsize12pxlineheight22px': 1, 'titsplitfloatleftpaddingright9pxbackgroundposition100': 1, 'titsplit2margintop22px': 1, 'linksvccolor555': 1, 'linksvchovercolor118eff': 1, 'iconewdisplayinlineblockwidth11pxheight11pxmargin2px': 1, '2pxfontsize0lineheight0backgroundposition160px': 1, '80pxverticalalignmiddletextindent9999px': 1, 'layerfootoverflowhiddenheight32pxbordertop1px': 1, 'ecececbackgroundcolorfbfbfb': 5, 'layerfoot': 4, 'linktotalfloatleftpaddingright8pxmarginleft13pxfontsize11pxlineheight29pxcolor555backgroundposition100': 1, 'btnclosefloatrightpadding0': 1, '13pxmargin2pxfontsize11pxlineheight24pxcolor888': 1, 'sortservicepaddingbottom12px': 1, 'dtmargin14px': 1, 'titsplitbackgroundposition100': 1, '3px': 3, 'linktotalpaddingright10pxmarginleft14pxlineheight32pxbackgroundposition100': 1, 'btnclosepadding0': 1, '12pxlineheight28px': 1, 'todaybasefloatrightpositionrelativeheight45px': 1, 'todaybase': 5, 'compbasedisplayinlineblockverticalaligntop': 1, 'imgweatherbackgroundimageurlt1daumcdnnetdaumtopdecoimagestop2017imgweather170628pngbackgroundrepeatnorepeatfontsize0lineheight0textindent9999px': 1, 'txttemperfloatleftfontsize14pxfontfamilytahomaarialsansserifletterspacing0': 1, 'txttemperfontfamilyhelveticaarialsansserif': 1, 'infotodayfloatleftfontsize13px': 1, 'infotoday': 30, 'datetodayfloatleftheight24pxpaddingtop10pxlineheight20pxletterspacing0': 1, 'txtpartfloatleftmarginright5pxfontweightboldlineheight24px': 1, 'linkweatherfloatleftheight25pxmarginleft16pxpadding8px': 1, '12pxlineheight24pxtextalignright': 1, 'linkweatherhovercolor222textdecorationnone': 2, 'listweatherfloatleftoverflowhiddenheight25px': 1, 'listweather': 1, 'lioverflowhiddenheight25px': 1, 'datetodaylineheight26px': 1, 'txtpartlineheight30px': 1, 'linkweatherlineheight26px': 1, 'linkweather': 4, 'icomoremargintop10px': 1, 'imgweatherfloatleftwidth26pxheight26pxmargin1px': 1, '0verticalaligntop': 2, 'icowm01backgroundposition0': 2, 'icowm01backgroundposition30px': 1, 'icowm02backgroundposition60px': 1, 'icowm02backgroundposition90px': 1, 'icowm03backgroundposition0': 2, '270px': 4, 'icowm03backgroundposition30px': 1, 'icowm04backgroundposition60px': 1, 'icowm07backgroundposition90px': 1, 'icowm09backgroundposition0': 2, 'icowm10backgroundposition30px': 1, 'icowm10backgroundposition60px': 1, 'icowm11backgroundposition90px': 1, 'icowm14backgroundposition0': 2, '330px': 4, 'icowm17backgroundposition30px': 1, 'icowm18backgroundposition60px': 1, 'icowm19backgroundposition90px': 1, 'txttempermargintop1px': 2, 'icodegreefloatleftwidth17pxheight15pxmargin7px': 1, '0fontsize12pxlineheight17pxbackgroundposition210px': 1, '270pxbackgroundcolortransparenttextaligncentertextindent0': 1, 'icomorewidth13pxheight9pxmargin9px': 1, '1pxbackgroundposition138px': 1, '292px': 2, 'todayon': 2, 'icomorebackgroundposition138px': 1, '304px': 1, 'todaylayerdisplaynonepositionabsolutetop45pxright0width298pxborder1px': 1, 'todaylayer': 67, 'icowmbackgroundimageurlt1daumcdnnetdaumtopdecoimagestop2017icowmpngbackgroundrepeatnorepeatfontsize0lineheight0textindent9999px': 1, 'layerbodyoverflowhidden': 1, 'layerbodyafterpositionabsolutetop0right0width42pxheight42pxcontent': 1, 'weatherpartpositionrelativeheight135px': 1, 'btnlocatepositionabsolutetop17pxleft18pxwidth21pxheight21pxfontsize0lineheight0backgroundposition176px': 1, '246pxtextindent9999px': 1, 'btnlocateonbackgroundposition176px': 1, '286px': 1, 'linkweatherdisplayblockoverflowhiddenheight135px': 1, 'txtplacedisplayblockheight20pxmargin17px': 1, '22pxfontweightboldfontsize13pxlineheight19px': 1, 'txtplace': 1, 'txtlocaldisplayinlineblock': 1, 'icowmfloatleftwidth90pxheight90pxmarginleft22px': 1, 'icowm01backgroundposition100px': 1, 'icowm02backgroundposition200px': 1, 'icowm02backgroundposition300px': 1, '100px': 8, 'icowm03backgroundposition100px': 1, 'icowm04backgroundposition200px': 1, 'icowm07backgroundposition300px': 1, '200px': 13, 'icowm10backgroundposition100px': 1, 'icowm10backgroundposition200px': 1, 'icowm11backgroundposition300px': 1, 'icowm17backgroundposition100px': 1, 'icowm18backgroundposition200px': 1, 'icowm19backgroundposition300px': 1, 'infotemperdisplayblockoverflowhiddenheight32pxmargin19px': 1, '130pxfontfamilytahomaarialsansserif': 1, 'infotemper': 13, 'imgweatherfloatleftwidth22pxheight32pxmargin0': 1, 'num0backgroundposition260px': 1, 'num1backgroundposition260px': 1, '40px': 8, 'num2backgroundposition260px': 1, '80px': 9, 'num3backgroundposition260px': 1, 'num4backgroundposition260px': 1, '160px': 4, 'num5backgroundposition260px': 1, 'num6backgroundposition260px': 1, 'num7backgroundposition260px': 1, '280px': 1, 'num8backgroundposition260px': 1, '320px': 1, 'num9backgroundposition260px': 1, 'icominuswidth22pxheight32pxbackgroundposition260px': 1, '400px': 2, 'icodegreewidth39pxheight32pxbackgroundposition210px': 1, 'statedescdisplayblockoverflowhiddenmargin7px': 1, '130pxlineheight16px': 1, 'statedesc': 4, 'icodegreefloatleftwidth14pxheight12pxmargin3px': 1, '0backgroundposition240px': 1, '208px': 1, 'txtdescfloatleftmarginright2px': 1, 'layerfootoverflowhiddenbordertop1px': 1, 'linkstatefloatleftoverflowhiddenwidth50height39pxcolor101010textdecorationnone': 1, 'infowmoverflowhiddenheight22pxpaddingtop8pxlineheight21px': 1, 'infowm': 5, 'dtfloatleftpaddingright9px': 1, 'ddfloatleft': 1, 'imgweatherdisplayinlineblockverticalaligntop': 1, 'infodustpaddingleft18px': 1, 'icodustwidth20pxheight20pxmargintop3pxmarginright6pxbackgroundposition140px': 1, 'icoairwidth21pxheight21pxmargin1px': 1, '7px': 7, '2pxbackgroundposition140px': 1, '264px': 1, 'stategoodcolor0078ff': 1, 'statenormalcolor27aa1d': 1, 'statebadcolorfecc3d': 1, 'stateworstcolore30000': 1, 'btnclosepositionabsolutetop18pxright18pxwidth16pxheight16pxbackgroundposition0': 2, 'txtplacemargintop20pxlineheight18px': 1, 'infotempermargintop15px': 1, 'statedescmargintop10px': 1, 'icodegreemargintop1px': 1, 'infowmpaddingtop11px': 1, 'icodustmargintop0': 1, 'icoairmargintop2px': 1, 'todaylayerdisplayblock': 1, 'adverttmpfloatleftpositionrelativewidth655pxheight120pxmarginright35px': 1, 'adverttmp': 1, 'bglinepositionabsolutetop0left0zindex1width653pxheight118pxborder1px': 1, 'advertstationdisplayinlineblockpositionrelativewidth300pxheight150pxmargintop15pxfontsize0lineheight0verticalaligntop': 1, 'advertstation': 1, 'bglinepositionabsolutetop0left0zindex1width298pxheight148pxborder1px': 1, 'boxshoppingdisplayinlineblockpositionrelativewidth300pxheight1177pxmargintop15pxverticalaligntop': 1, 'boxshopping': 2, 'bgline1positionabsolutetop0left0zindex1width298pxheight775pxborder1px': 1, 'bgline2positionabsolutetop792pxleft0zindex1width298pxheight383pxborder1px': 1, 'advertsvcbnrmargintop15px': 1, 'advertsvcbnr': 2, 'linkbnrdisplayblockpositionrelativeheight60px': 1, 'framegwidth298pxheight58px': 1, 'advertbnrmargintop15px': 1, 'advertbnr': 2, 'linkbnrdisplayblockoverflowhiddenpositionrelativeheight143px': 1, 'framegwidth298pxheight141px': 1, 'wraptiercontpositionrelativezindex99width990pxmargin0': 1, 'logintmpfloatrightpositionrelativezindex0width300pxheight120pxletterspacing1px': 1, 'loginmyzindex10backgroundurlt1daumcdnnetdaumtopdecoimagestop2017bgpctop170328png': 1, 'loginmy': 22, 'wrapmywidth285pxheight45pxpadding15px': 1, 'infomyfloatleftpadding1px': 1, 'relmyfloatrightpaddingright15px': 1, 'nameuserfloatleftmarginright4pxfontweightbold': 1, 'linkmyinfofloatleftfontsize11pxmargin2px': 1, '0lineheight14pxcolor555textdecorationunderline': 1, 'linkssopositionabsolutetop41pxleft15pxwidth68pxheight22pxfontsize11pxlineheight22pxbackgroundposition100px': 1, '235pxwhitespacenowrap': 2, 'linkssoingbackgroundposition100px': 1, '205px': 1, 'linkssohelppositionabsolutetop41pxleft85pxwidth6pxheight22pxpadding0': 1, '6pxfontsize12pxlineheight22pxbackgroundposition180px': 1, 'layerssopositionabsolutetop77pxleft0zindex11width298pxheight82pxborder1px': 1, '118effbackgroundcolorfff': 1, 'layersso': 4, 'boxhelpdisplaytablewidth100height100': 1, 'txthelpdisplaytablecellpadding0': 1, '2pxfontsize12pxlineheight16pxcolor555verticalalignmiddle': 1, 'btnclosepositionabsolutetop5pxright5pxwidth21pxheight21pxpadding0': 1, '6pxbackgroundposition210px': 1, '235px': 1, 'linkempathyfloatleftmargin5px': 1, '0fontsize11pxlineheight14pxcolor5b6473': 1, 'btnlogoutfloatleftwidth56pxheight24pxfontsize11pxlineheight24pxbackgroundposition180px': 1, '30pxbackgroundcolortransparent': 1, 'listbasisoverflowhiddenpositionabsolutetop43pxright9pxheight30pxletterspacing012em': 1, 'listbasis': 6, 'lifloatleftpaddingright8pxlineheight15px': 1, 'linkbasisfloatleftfontsize12pxcolor555': 1, 'numbasismarginleft3pxcolor118eff': 1, 'nummsgwidth30px': 1, 'linknumfontweightboldcolor118eff': 1, 'mymileage': 1, 'linkbasismarginright8px': 1, 'wrapmysvcpositionrelativezindex10width300px': 1, 'mysvclistpositionrelativewidth300pxheight43px': 1, 'listmysvcdisplayinlineblockpositionrelativewidth300pxheight43pxverticalaligntopletterspacing1px': 1, 'listmysvc': 13, 'lipositionrelativefloatleftwidth100pxheight43px': 1, 'linkmysvcdisplayblockoverflowhiddenheight31pxpaddingtop12pxfontsize12pxlineheight18pxtextaligncentercolor555': 1, 'linkmysvchovertextdecorationnone': 1, 'cafeg': 5, 'linkmysvcheight30pxpaddingtop13pxlineheight16px': 1, 'txtmysvcdisplayinlineblockheight26pxcolor555verticalaligntop': 1, 'txtmysvcpaddingleft24pxbackgroundposition0': 1, 'stockg': 1, 'txtmysvcpaddingleft27pxbackgroundposition0': 1, '109px': 1, 'blogg': 1, 'txtmysvcpaddingleft29pxbackgroundposition0': 1, '139px': 1, 'iconewdisplaynonewidth11pxheight11pxmargin5px': 1, '4pxbackgroundposition160px': 1, '80pxtextindent9999pxverticalaligntop': 1, 'newg': 1, 'iconewdisplayinlineblock': 1, 'iconewmargintop4px': 2, 'mycafeonbackgroundurlt1daumcdnnetdaumtopdecoimagestop2017bgpctop170328png': 1, '310px': 15, 'mystockonbackgroundurlt1daumcdnnetdaumtopdecoimagestop2017bgpctop170328png': 1, '50px': 2, 'myblogonbackgroundurlt1daumcdnnetdaumtopdecoimagestop2017bgpctop170328png': 1, 'layermycontpositionabsolutetop120pxleft0width300pxheight353pxbackgroundposition0': 1, '130px': 11, 'layermycont': 2, 'btnclosepositionabsolutetop320pxright0width46pxheight32pxpadding3px': 1, '4pxfontsize11pxlineheight18pxcolor888': 1, 'txthelppaddingtop2pxpaddingbottom0': 1, 'logintmpletterspacing0': 1, 'infomypaddingtop4px': 1, 'nameusermarginright7px': 1, 'linkprivacymargintop0': 1, 'listbasistop45pxright6pxletterspacing0': 1, 'lipaddingright9px': 1, 'linkmysvclineheight21px': 1, 'linkmysvclineheight20px': 1, 'iconewmargintop3px': 1, 'btnclosepaddingtop5px': 1, 'panelblocpositionrelativepaddingtop61px': 1, 'tittabcontpositionabsolutetop15pxfontsize16px': 1, 'tittabcont': 1, 'linktitdisplayblockheight36pxlineheight36pxbackgroundcolortransparenttextaligncenter': 1, 'wraptabcontdisplaynonewidth655px': 1, 'icoviewoverflowhiddenpositionabsoluteright8pxbottom8pxwidth23pxheight23pxbackgroundposition40px': 1, '0textindent9999pxcursorpointer': 3, 'icovideooverflowhiddenpositionabsoluteright8pxbottom8pxwidth23pxheight23pxbackgroundposition70px': 1, 'icoliveoverflowhiddenpositionabsoluteright8pxbottom8pxwidth23pxheight23pxbackgroundposition130px': 1, 'colorg1colore30000': 1, 'colorg2color118eff': 1, 'icolabeloverflowhiddenpositionabsolutetop15pxleft15pxheight22pxpadding0': 1, '8pxfontsize11pxlineheight19pxcolorfffbackgroundcolor118eff': 1, 'icolabel2overflowhiddenpositionabsolutetop0left0height20pxpadding0': 1, '7pxfontsize11pxlineheight17pxcolorfffbackgroundcolorrgba00006filterprogidDXImageTransformMicrosoftgradientstartColorstr99000000endColorstr99000000GradientType0': 1, 'icolabel3overflowhiddenpositionabsolutetop15pxleft15pxheight22pxpadding0': 1, '8pxfontsize11pxlineheight19pxcolorfffbackgroundcolore8493d': 1, 'icolabelosmac': 1, 'icolabel3lineheight23px': 1, 'icolabel2lineheight21px': 1, 'taglivewidth30pxheight15pxbackgroundposition120px': 1, '70px': 3, 'tagnewwidth31pxheight15pxbackgroundposition120px': 1, '90px': 3, 'tageventwidth40pxheight15pxbackgroundposition120px': 1, '110px': 4, 'tagissuewidth37pxheight15pxbackgroundposition120px': 1, 'pagepctoppositionabsolutewidthautoheight16px': 1, 'pagepctop': 13, 'btnpagefloatleftwidth16pxheight16pxlineheight16pxbackgroundcolortransparentbackgroundposition210px': 1, 'btnnextwidth15pxbackgroundposition226px': 2, 'infopagefloatleftpadding2px': 1, '0fontsize12pxlineheight16pxcolor555fontfamilytahomaarialsansserif': 1, 'infopage': 1, 'txtslashpadding0': 1, 'infopagelineheight16pxfontfamilyhelveticaarialsansserif': 1, 'pagebtypetop20pxright0height26px': 1, 'pagebtype': 4, 'btnpagewidth26pxheight26pxlineheight26pxbackgroundposition110px': 1, '170pxtextindent10px': 1, 'btnnextwidth25pxbackgroundposition136px': 1, '170px': 4, 'infopagepaddingtop1pxpaddingright8pxfontsize14pxlineheight22px': 1, 'infopagelineheight24px': 1, 'pagetabcontpositionabsolutezindex1top16pxleft30pxcursorpointer': 1, 'pagetabcont': 2, 'btnpageoverflowhiddenfloatleftwidth7pxheight7pxmargin9px': 1, '0fontsize10pxlineheight7pxbackgroundposition100px': 1, '170pxbackgroundcolortransparent': 1, 'onpositionrelativebackgroundposition100px': 1, '177px': 1, 'listthumboverflowhidden': 1, 'listthumb': 12, 'lifloatleftwidth154pxheight146pxmarginleft13px': 1, 'fstmarginleft0': 2, 'linkitemdisplayblock': 1, 'thumbgwidth154pxheight94px': 2, 'framegwidth152pxheight92px': 3, 'contitempadding4px': 2, 'tititemdisplayblockoverflowhiddenmaxheight36pxpaddingright12pxfontweightnormallineheight18pxwordbreakkeepallwordwrapbreakword': 2, 'contitempaddingtop6px': 3, 'tititempaddingright14px': 3, 'listtxtfloatleft': 1, 'listtxt': 13, 'lioverflowhiddenheight20pxpadding4px': 1, '2pxwhitespacenowraptextoverflowellipsis': 1, 'icopctopdisplayinlineblockmargin3px': 1, '0textindent9999pxverticalaligntop': 3, 'splittxtpaddingleft10pxmarginleft10pxcolor888backgroundurlt1daumcdnnetdaumtopdecoimagestop2017icopctopvert170724png': 1, '46px': 1, 'splittxthovercolor118eff': 1, 'partmidpaddingtop18pxlineheight16px': 1, 'splitpartdisplayinlineblockoverflowhiddenverticalaligntop': 1, 'splitpart': 3, 'linktxtmarginright3px': 1, 'splitfstfloatleftoverflowhiddenmaxwidth222pxtextoverflowellipsis': 1, 'lilineheight20px': 1, 'splittxtbackgroundposition0': 1, '49px': 1, 'partmidlineheight22px': 1, 'splitpartletterspacing003em': 1, 'linktxtmarginright7px': 1, 'liststxtmargintop7px': 1, 'liststxt': 2, 'lioverflowhiddenpaddingbottom4pxlineheight19pxwhitespacenowraptextoverflowellipsis': 1, 'txtmarkfontsize12pxcolor888': 2, 'linksectordisplayblockpositionrelativezindex0width321pxheight131px': 1, 'linksector': 11, 'framegwidth319pxheight129px': 1, 'contitempositionabsoluteright0left0bottom0width100height100pxbackgroundurlt1daumcdnnetdaumtopdecoimagestop2017bgplate2png': 1, '100': 5, 'tititemoverflowhiddenpositionabsoluteleft0bottom13pxright0padding0': 1, '15pxfontweightnormalfontsize14pxlineheight20pxcolorfff': 1, 'icolabel': 1, 'icolabel2': 1, 'icolabel3': 1, 'icopctopzindex1': 1, 'tititembottom10px': 2, 'listranking': 16, 'liheight20pxpaddingbottom5px': 1, 'linkrankingdisplayblockoverflowhiddenlineheight18px': 1, 'txtrankingoverflowhiddenfloatleftwidth288pxwhitespacenowraptextoverflowellipsis': 1, 'linkrankinghover': 2, 'txtrankingtextdecorationunderline': 1, 'numpctopfloatleftwidth16pxheight16pxmargin3px': 2, 'num1backgroundposition0': 3, 'num2backgroundposition0': 3, 'num3backgroundposition0': 3, 'num4backgroundposition0': 2, 'num5backgroundposition0': 2, 'numpctopmargintop0': 3, 'lilineheight22px': 1, 'boxstoryoverflowhiddenborder1px': 1, 'ecececbackgroundcolorfbfbfc': 2, 'boxstory': 5, 'titsubjectoverflowhiddenmargintop7pxfontsize13px': 1, 'titsubject': 2, 'linktitfloatleftpaddingright9pxbackgroundposition100': 1, 'titsubjectmargintop10px': 1, 'linktitbackgroundposition100': 1, 'liststxtmargintop10px': 1, 'sectionmediapositionrelative': 1, 'sectionmedia': 4, 'pagebtypetop15px': 1, 'panelblocpadding57px': 1, '25px': 1, 'tittabconttop11pxleft0': 1, 'panelbloc': 50, 'titnewsleft5px': 1, 'titentertainleft55px': 1, 'titsportsleft94px': 1, 'titmovieleft147px': 1, 'titautoleft186px': 1, 'titrealestateleft240px': 1, 'titnews': 2, 'linktitwidth36pxbackgroundposition0': 2, 'titentertain': 2, 'linktitwidth36pxbackgroundposition36px': 1, 'titsports': 2, 'linktitwidth50pxbackgroundposition72px': 1, 'titmovie': 2, 'linktitwidth36pxbackgroundposition122px': 1, 'titauto': 2, 'linktitwidth51pxbackgroundposition158px': 1, 'titrealestate': 2, 'linktitwidth48pxbackgroundposition209px': 1, 'newson': 2, 'linktitbackgroundposition0': 3, '166px': 6, 'entertainon': 2, 'linktitbackgroundposition36px': 2, 'sportson': 2, 'linktitbackgroundposition72px': 1, 'movieon': 2, 'linktitbackgroundposition122px': 1, 'autoon': 2, 'linktitbackgroundposition158px': 1, 'realestateon': 2, 'linktitbackgroundposition209px': 1, 'wrapnews': 8, 'wrapentertain': 1, 'wrapsports': 1, 'wrapmovie': 1, 'wrapauto': 1, 'wraprealestatedisplayblock': 1, 'wraptabcontheight480px': 1, 'groupnewsdisplayinlineblockheight292pxverticalaligntop': 1, 'newsprimeheight438px': 1, 'newsprime': 2, 'listtxtwidth316pxpaddingleft4px': 1, 'tititemwordbreaknormal': 1, 'boxsectoroverflowhiddenfloatleftwidth321pxmarginright13px': 1, 'boxsector': 4, 'listthumbwidth334pxmarginleft13px': 1, 'linksectormarginbottom15px': 1, 'newsflowoverflowhiddenpositionrelativeheight40pxborder1px': 1, 'ecececlineheight35pxbackgroundcolorfbfbfb': 1, 'unithomefloatleftpaddingleft12px': 1, 'unithome': 7, 'tithomefloatleftmarginright10px': 1, 'tithome': 2, 'linkhomepaddingright7pxbackgroundposition100': 1, '6px': 3, 'listhomefloatleft': 1, 'listhome': 2, 'lifloatleftpadding0': 1, 'linkhomecolor555': 1, 'linkhomehovercolor118eff': 1, 'unitlivefloatleftpaddingleft25px': 1, 'unitlive': 3, 'icopctopfloatleftmargin12px': 1, '0textindent9999px': 2, 'linklivemarginright5pxcolor555': 1, 'linklivehovercolor118eff': 1, 'newsflow': 1, 'linkhashpadding0': 1, '7pxcolor118eff': 1, 'newsflowlineheight40px': 1, 'linkhomepaddingright9pxbackgroundposition100': 1, 'boxissuefloatleftpositionrelativemarginright13px': 1, 'boxissue': 8, 'linkissuedisplayblockoverflowhiddenpositionrelativewidth321pxheight277px': 1, 'covergpositionabsoluteleft0bottom0width100height132pxbackgroundurlt1daumcdnnetdaumtopdecoimagestop2017bgplate8png': 1, 'framegwidth319pxheight275px': 1, 'icolabelheight27pxfontsize14pxlineheight25pxbackgroundcolorrgba171422559': 1, 'contitemoverflowhiddenpositionabsoluteright0bottom14pxleft0': 1, 'contitem': 2, 'tititemdisplayblockoverflowhiddenmaxheight44pxpadding0': 1, '16pxfontweightnormalfontsize16pxlineheight22pxcolorfff': 1, 'icolabellineheight29px': 1, 'contitembottom10px': 1, 'specialissue': 7, 'titissueoverflowhiddenpositionabsolutetop25pxleft21pxmaxheight60pxpaddingright20pxfontsize22pxcolorfff': 1, 'contitembottom12px': 1, 'listitempadding0': 1, 'listitem': 4, 'lioverflowhiddenmargintop3pxfontsize14px': 1, 'fstfontsize16pxlineheight26px': 1, 'linkitemdisplayblockoverflowhiddencolorfffwhitespacenowraptextoverflowellipsis': 1, 'fstlineheight23px': 1, 'newsprimefloatleftwidth501pxheight438px': 1, 'newsflowclearboth': 1, 'boxsectorwidth154px': 1, 'listthumbwidthautomarginleft0': 1, 'lifloatnonemarginleft0': 1, 'linksectorwidth154pxheight277pxmarginbottom0': 1, 'framegwidth152pxheight275px': 1, 'rankingnewsoverflowhiddenpositionrelativeheight148pxpadding0': 1, '148px': 1, 'ranknewstitpositionabsolutetop3pxleft0width148px': 1, 'ranknewstit': 2, 'titrankingfloatleftlineheight17pxcolor118eff': 1, 'linktitcolor118eff': 1, 'helppartdisplayinlinefloatleftmargin3px': 1, 'helppart': 1, 'linkhelpdisplayblockwidth31pxheight15pxfontsize11pxbackgroundcolortransparentbackgroundposition0': 1, '265px': 1, 'helplayeroverflowhiddenpositionabsolutetop27pxleft0width126pxheight48pxborder1px': 1, '888backgroundcolorfbfbfb': 1, 'helplayer': 2, 'txthelppadding8px': 1, '13px': 7, '13pxfontsize11pxlineheight15pxcolor888': 1, 'btnclosepositionabsolutetop8pxright8pxwidth16pxheight16pxbackgroundposition0': 1, 'rankingnews': 2, 'listrankingmargintop3px': 1, 'tabrankingpositionabsolutetop30pxleft0width64px': 1, 'tabranking': 6, 'limarginbottom3px': 2, 'linktabdisplayinlineblockoverflowhiddenfontweightboldlineheight16pxcolor888': 1, 'on': 6, 'linktabcolor222textdecorationunderline': 1, 'icopctopfloatleftwidth6pxheight6pxmargin6px': 1, '0backgroundposition100px': 1, '190px': 1, 'contrankingdisplaynoneoverflowhidden': 1, 'contrankingondisplayblock': 1, 'helppartmargintop0': 1, 'helplayertop25px': 1, 'ranknewstittop6px': 1, 'listrankingmargintop5px': 1, 'tabrankingtop33px': 1, 'limarginbottom1px': 1, 'icopctopmargintop4px': 1, 'castsportspositionrelativewidth321pxmarginbottom15px': 1, 'castsports': 8, 'headcastheight35pxborder1px': 1, 'titcastmargin6px': 1, '11pxfontsize13px': 1, 'pagepctoptop11pxright14pxbottomauto': 1, 'btnpagewidth16pxheight16pxlineheight16pxbackgroundposition210px': 1, 'linkmorepositionabsolutetop9pxright13pxpaddingright7pxfontsize11pxcolor888backgroundposition100': 1, 'listrelayborder1px': 1, 'ecececbordertop0': 1, 'listrelay': 33, 'lioverflowhidden': 1, 'linkrelayhovercolor222textdecorationnone': 1, 'txtteamoverflowhiddenfontsize12pxlineheight26pxwhitespacenowraptextoverflowellipsis': 1, 'txttimefloatleftfontsize11pxfontfamilytahomaarialsansserifletterspacing0': 1, 'txtleaguefloatleftpaddingleft3pxfontsize11pxcolor888': 1, 'txtscore': 13, 'innerscoredisplayinlineblockverticalaligntop': 1, 'numpctopfloatleftwidth11pxheight16pxbackgroundcolortransparent': 1, 'num0backgroundposition60px': 1, 'num1backgroundposition60px': 1, 'num2backgroundposition60px': 1, 'num3backgroundposition60px': 1, 'num4backgroundposition60px': 1, 'num5backgroundposition60px': 1, 'num6backgroundposition60px': 1, 'num7backgroundposition60px': 1, '140px': 3, 'num8backgroundposition60px': 1, 'num9backgroundposition60px': 1, 'numnonebackgroundposition60px': 1, 'tagcastwidth56pxheight15pxfontsize11pxbackgroundcolortransparenttextaligncenter': 1, 'cast1backgroundposition0': 1, 'cast2backgroundposition0': 1, 'cast3backgroundposition0': 1, 'cast4backgroundposition0': 1, 'cast5backgroundposition0': 1, '150px': 5, 'cast6backgroundposition60px': 1, 'cast7backgroundposition60px': 1, 'cast8backgroundposition60px': 1, 'cast9backgroundposition60px': 1, 'titcastmargin9px': 1, 'linkmoretop11pxbackgroundposition100': 1, 'txttimefontfamilyhelveticaarialsansserif': 1, 'relaygeneralheight93px': 1, 'relaygeneral': 9, 'linkrelayoverflowhiddenfloatleftpositionrelativewidth147pxheight84pxpadding9px': 1, '11pxborderleft1px': 1, 'f5f5f5': 2, 'linkrelayfstwidth146pxpaddingleft12pxborderleft0': 1, 'eventteamoverflowhiddenpositionabsoluteleft11pxtop57pxright0height25px': 1, 'eventteamfstleft11pxtop30px': 1, 'eventteam': 6, 'imgthumbfloatleft': 1, 'txtteamfloatleftwidth69pxlineheight22pxmargin0': 1, 'txtscorefloatleftwidth33pxmargintop5pxtextalignright': 1, 'tagcastfloatrightmargin1px': 1, 'relayspecial': 14, 'linkrelaydisplayblockoverflowhiddenpositionrelativeheight47pxbordertop1px': 1, 'linkrelayfstbordertop0': 1, 'eventteamoverflowhiddenpositionabsoluteleft159pxtop0width52pxheight47pxpaddingleft107px': 1, 'imgthumbpositionabsolutetop10pxright53px': 1, 'txtteamfloatleftwidth45pxmargin8px': 1, 'txtscorepositionabsolutetop15pxleft38pxwidth33pxtextaligncenter': 1, 'eventteamfstleft0width53pxpadding0': 1, '106px': 1, 'eventteamfst': 3, 'txtscoreleft89px': 1, 'imgthumbleft53pxrightauto': 1, 'txtteamtextalignright': 1, 'txttimedisplayblockfloatnonemargintop3pxtextaligncenter': 1, 'tagcastdisplayblockmargin2px': 1, 'linkviewwidth158pxheight66pxpadding27px': 1, '0fontsize12pxcolor888textaligncenter': 1, 'linkviewhovercolor888textdecorationnone': 1, 'linkview': 1, 'txtviewdisplayblockcolor118efftextdecorationunderline': 1, 'txtteamlineheight27px': 1, 'txtteammargintop12px': 1, 'txttimemargintop5px': 1, 'linkviewheight63pxpaddingtop30px': 1, 'boxspecialoverflowhiddenpositionrelativezindex0width641pxheight93pxmarginbottom15pxpadding36px': 1, '12pxborder1px': 1, 'boxspecial': 14, 'titspecialpositionabsolutetop7pxleft12pxfontsize13px': 1, 'linkspecialmarginright3px': 1, 'linkspecial2color888': 1, 'packslideoverflowhidden': 1, 'pagepctoptop8pxright12pxheight19px': 1, 'btnpagewidth19pxheight19pxlineheight19pxbackgroundposition40px': 1, 'btnnextwidth18pxbackgroundposition59px': 1, 'infopagecolor888': 1, 'numindexfontweightnormal': 1, 'linkbannerfloatleftpositionrelativewidth308pxheight80pxmarginleft5px': 1, 'linkbanner': 1, 'framegwidth306pxheight78px': 1, 'bannerwidewidth419pxheight80pxmarginleft11px': 1, 'bannerwide': 1, 'framegwidth417pxheight78px': 1, 'listspecialfloatleft': 1, 'listspecial': 8, 'lifloatleft': 2, 'linkthumbfloatleftpositionrelative': 1, 'linkthumb': 10, 'framegwidth54pxheight78px': 1, 'numgpositionabsolutetop0left0width16pxheight16pxfontsize11pxlineheight16pxcolorffffontfamilytahomaarialsansseriftextaligncenter': 1, 'continfooverflowhiddenwordbreakkeepall': 1, 'titinfodisplayblockoverflowhiddenmaxheight33pxfontweightnormalfontsize13pxlineheight17pxwordbreakbreakall': 1, 'txtinfodisplayblockoverflowhiddenfontsize12pxlineheight16pxcolor888whitespacenowraptextoverflowellipsis': 1, 'listmovie1': 9, 'liwidth146pxpaddingright12px': 2, 'numgbackgroundposition20px': 2, 'numpointbackgroundposition0': 2, 'continfopositionrelativepadding36px': 1, '9px': 2, 'titinfopositionabsolutetop0left9px': 1, 'txtinfofloatleftwidth100letterspacing0': 1, 'gradestardisplayblockoverflowhiddenpositionrelativewidth62pxheight12pxbackgroundposition40px': 1, 'innerstarpositionabsolutetop0left0widthautoheight12pxfontsize0lineheight0backgroundposition40px': 1, '50pxtextindent9999px': 1, 'listmovie2': 6, 'continfopadding0': 1, 'titinfomargin2px': 1, 'txtinfomaxheight31pxwhitespacenormal': 1, 'listmovie3': 10, 'limarginleft10px': 1, 'lifstmarginleft0': 2, 'linkthumbwidth203pxheight80px': 1, 'framegwidth201pxheight78px': 1, 'icoplaypositionabsoluteright10pxbottom10pxwidth22pxheight22pxfontsize0lineheight0backgroundposition100px': 1, 'continfopositionabsolutetop38pxleft0width152pxpadding0': 1, '10pxcolorfff': 1, 'txtinfocolorfff': 1, 'titinfodisplayinline': 1, 'txtruntimedisplayblockoverflowhiddenfontsize11pxlineheight13pxfontfamilytahomaarialsansserifwhitespacenowraptextoverflowellipsisletterspacing0': 1, 'listauto': 8, 'liwidth199pxpaddingleft10pxborderleft1px': 1, 'lifstpaddingleft0borderleft0': 1, 'linkthumbwidth120pxheight80px': 1, 'continfopadding13px': 1, 'titinfomarginbottom2px': 1, 'listrealestate': 8, 'liwidth203pxmarginleft8px': 1, 'linkthumbwidth110pxheight80px': 1, 'framegwidth108pxheight78px': 1, 'continfopaddingleft8px': 1, 'titinfomargintop2pxmarginbottom4px': 1, 'txtinfomargintop2pxlineheight14px': 1, 'titspecialtop10px': 1, 'numgfontfamilyhelveticaarialsansserif': 1, 'gradestarmarginbottom3px': 1, 'continfopaddingtop1px': 1, 'titinfomargintop0': 1, 'txtruntimemarginbottom2pxfontfamilyhelveticaarialsansserif': 1, 'continfopaddingtop16px': 1, 'titinfomargintop1pxlineheight16px': 1, 'listhotissueoverflowhiddenpositionrelativewidth180pxheight280px': 1, 'listhotissue': 33, 'lioverflowhiddenpositionrelativewidth100height20pxmarginbottom8px': 1, 'rolltxtpositionrelative': 1, 'rankcontoverflowhiddenpositionrelativeheight20px': 1, 'numpctopfloatleftwidth16pxheight16pxmargintop1pxfontsize12pxlineheight17pxfontfamilytahomaarialsansserifbackgroundcolortransparenttextaligncenter': 1, 'rank1backgroundposition20px': 1, 'rank2backgroundposition0': 1, 'rank3backgroundposition0': 1, 'rank4backgroundposition0': 1, 'rank5backgroundposition0': 1, 'rank6backgroundposition0': 1, 'rank7backgroundposition0': 1, 'rank8backgroundposition0': 1, 'rank9backgroundposition0': 1, 'rank10backgroundposition0': 1, 'txtissueoverflowhiddenfloatleftwidth119pxpaddingleft6pxlineheight15px': 1, 'linkissuedisplayblockoverflowhiddenpaddingbottom1pxwhitespacenowraptextoverflowellipsis': 1, 'rankresultfloatrightmargin1px': 1, '0fontweightnormalfontsize13pxlineheight14pxcolor888fontfamilytahomaarialsansserifbackgroundcolortransparentletterspacing005em': 1, 'rankresult': 1, 'icopctopdisplayinlineblockbackgroundcolortransparentverticalaligntop': 1, 'icoupwidth11pxheight14pxmarginright3pxbackgroundposition120px': 1, 'icodownwidth11pxheight14pxmarginright3pxbackgroundposition140px': 1, 'icosteadywidth11pxheight6pxmargin5px': 1, '0lineheight10pxbackgroundposition160px': 1, 'iconewwidth27pxheight12pxmargin2px': 1, '0backgroundposition120px': 1, 'txtissuelineheight20px': 1, 'rankresultlineheight16pxfontfamilyhelveticasansserif': 1, 'hotissuepositionabsolutetop19pxright90pxzindex1': 1, 'hotissueminioverflowhiddenpositionrelativewidth161pxheight20pxbackgroundcolorfff': 1, 'hotissuemini': 17, 'listhotissuewidth117px': 1, 'txtissuewidth95px': 1, 'txtrealtimefloatleftwidth44pxheight18pxlineheight18pxbackgroundposition325px': 1, '80pxbackgroundcolortransparenttextaligncenter': 1, 'rank2backgroundposition20px': 1, 'rank3backgroundposition20px': 1, 'rank4backgroundposition20px': 1, 'rank5backgroundposition20px': 1, 'rank6backgroundposition20px': 1, 'rank7backgroundposition20px': 1, 'rank8backgroundposition20px': 1, 'rank9backgroundposition20px': 1, 'rank10backgroundposition20px': 1, 'hotissuelayerdisplaynonepositionabsolutetop38pxright90pxwidth198pxheight384pxpaddingleft20pxborder1px': 1, 'hotissuelayer': 4, 'tithotissuepositionstaticwidth104pxheight34pxmargin10px': 1, '0fontsize13pxlineheight34pxbackgroundposition210px': 1, '80pxbackgroundcolortransparenttextindent0': 1, 'txtstandarddisplayblockpositionstaticwidthautoheightautomargintop5pxfontsize12pxlineheight14pxcolor888textindent0letterspacing0': 1, 'txtstandardmargintop8px': 1, 'issueopen': 1, 'hotissuelayerdisplayblock': 1, 'hotissuebuiltinpositionabsolutetop57pxright0width153pxheight424pxborderleft1px': 1, 'realtimepartheight292pxmarginleft14px': 1, 'realtimepart': 5, 'tithotissuepadding2px': 1, '6pxfontsize13pxcolor118eff': 1, 'listhotissuewidth138pxheight240px': 1, 'liwidth138pxmarginbottom4px': 1, 'txtissuewidth114px': 1, 'tithotissuepadding5px': 1, 'stockpartheight102pxmarginleft15px': 1, 'stockpart': 11, 'linkstockdisplayblockheight40pxmarginbottom8px': 1, 'linkstockhovercolor222textdecorationnone': 1, 'titstockdisplayblockmarginbottom1pxfontweightboldfontsize13pxlineheight15px': 1, 'numstockfontweightnormalfontsize14pxfontfamilytahomaarialsansserifletterspacing003em': 1, 'numstatuspaddingleft3pxfontsize12pxletterspacing0': 1, 'numstatus': 4, 'icoarrowdisplayinlineblockwidth9pxheight10pxmargin8px': 1, '0fontsize0lineheight0textindent9999pxverticalaligntop': 1, 'stockup': 2, 'numstatuscolore30000': 1, 'stockdown': 2, 'numstatuscolor118eff': 1, 'icoarrowbackgroundposition120px': 1, 'icoarrowbackgroundposition130px': 1, 'stockstay': 1, 'icoarrowbackgroundposition140px': 1, 'relpartoverflowhiddenwidth136pxheight28pxmarginleft14pxborder1px': 1, 'relpart': 3, 'itemreldisplayblockwidth139pxheight28px': 1, 'linkrelfloatleftwidth45pxheight28pxborderright1px': 1, 'ecececfontsize12pxlineheight26pxcolor888textaligncenter': 1, 'linkrellineheight29px': 1, 'sectionmultipositionrelativebordertop1px': 1, 'sectionmulti': 1, 'wraptabcontheight157px': 1, 'titkakaotv': 2, 'linktitwidth82pxbackgroundposition380px': 1, 'kakaotvon': 2, 'linktitbackgroundposition380px': 1, 'wrapkakaotv': 2, 'melonon': 1, 'wrapmelondisplayblock': 1, 'tabmultipositionabsolutetop14pxleft90pxheight36px': 1, 'tabmulti': 4, 'lidisplayinlinefloatleftmarginleft13px': 1, 'linktitdisplayblockoverflowhiddenheight36pxfontweightboldlineheight33pxcolor888textdecorationnone': 1, 'linktitcolor222textdecorationunderline': 1, 'linktitlineheight38px': 1, 'boximgspefloatleftmarginright13px': 1, 'boximgspe': 1, 'icolabelboximgspe': 1, 'icolabel3fontsize12px': 1, 'icovideobackgroundposition0': 1, 'sectionblogpositionrelativebordertop1px': 1, 'sectionblog': 2, 'wraptabcontoverflowhiddenheight179px': 1, 'titcafeleft5px': 1, 'titmiznetleft34px': 1, 'titkakaostoryleft87px': 1, 'tittistoryleft178px': 1, 'titbrunchleft243px': 1, 'titilboonleft296px': 1, 'titstoryfundingleft349px': 1, 'titcafe': 2, '220px': 8, 'titmiznet': 2, 'linktitwidth50pxbackgroundposition36px': 1, 'titkakaostory': 2, 'linktitwidth88pxbackgroundposition86px': 1, 'tittistory': 2, 'linktitwidth62pxbackgroundposition174px': 1, 'titbrunch': 2, 'linktitwidth50pxbackgroundposition236px': 1, 'titilboon': 2, 'linktitwidth50pxbackgroundposition286px': 1, 'titstoryfunding': 2, 'linktitwidth74pxbackgroundposition336px': 1, 'cafeon': 2, '256px': 7, 'mizneton': 2, 'kakaostoryon': 2, 'linktitbackgroundposition86px': 1, 'tistoryon': 2, 'linktitbackgroundposition174px': 1, 'brunchon': 2, 'linktitbackgroundposition236px': 1, 'ilboonon': 2, 'linktitbackgroundposition286px': 1, 'storyfundingon': 2, 'linktitbackgroundposition336px': 1, 'wrapmiznet': 1, 'wrapcafe': 1, 'wrapkakaostory': 1, 'wraptistory': 1, 'wrapbrunch': 1, 'wrapilboon': 1, 'wrapstoryfundingdisplayblock': 1, 'boxstoryfloatrightwidth297pxheight152pxpadding0': 1, 'liststoryoverflowhiddenfloatleft': 1, 'liststory': 17, 'lifloatleftheight160pxmarginleft13px': 1, 'linkitemdisplayblockpositionrelativewidth154pxcursorpointer': 1, 'linkitemhovercolor222textdecorationnone': 2, 'contitemheight56pxpadding4px': 1, 'originitemdisplayblockoverflowhiddenpositionrelativemargintop4pxfontsize12pxlineheight18pxcolor888whitespacenowraptextoverflowellipsis': 1, 'originitem': 4, 'txttellerdisplayblockoverflowhiddenwhitespacenowraptextoverflowellipsis': 1, 'icostorytelleroverflowhiddenpositionabsoluteright0top4pxwidth13pxheight15pxfontsize1pxlineheight0backgroundposition170px': 1, '100pxtextindent9999px': 1, 'linkitemhover': 6, 'tititemcolor118efftextdecorationunderline': 2, 'originitemcolor888textdecorationnone': 1, 'itemtellerdisplayinlineblockmaxwidth115pxpaddingright18px': 1, 'contitemheight54pxpaddingtop6px': 1, 'icostorytellertop0': 1, 'typedesc': 8, 'linkitemwidth152pxheight152pxborder1px': 1, 'contitemheight117pxpadding7px': 1, 'tititemheightautomaxheight36px': 1, 'descitemdisplayblockoverflowhiddenmaxheight48pxpaddingtop8pxfontsize11pxlineheight16pxcolor888wordbreakkeepallwordwrapbreakword': 1, 'originitempositionabsoluteleft13pxbottom9pxright13px': 1, 'itemtellerrightautomaxwidth106px': 1, 'contitemheight96pxpaddingtop10px': 1, 'originitembottom6px': 2, 'typeimg': 10, 'thumbgzindex1height154px': 1, 'framegwidth152pxheight152px': 2, 'contitempositionabsolutetop0left0bottom0width154pxheight154pxbackgroundurlt1daumcdnnetdaumtopdecoimagestop2017bgplate6png': 1, 'tititempositionabsoluteleft13pxright13pxbottom37pxheightautomaxheight36pxpaddingright10pxcolorfff': 1, 'originitempositionabsoluteleft13pxright13pxbottom14pxcolorc9c9c9': 1, 'originitemcolorc9c9c9textdecorationnone': 1, 'tititemcolorffftextdecorationunderline': 1, 'contitemheightautopadding0': 1, 'tititembottom30px': 2, 'graphitemoverflowhiddenpositionabsolutetop74pxleft0width154px': 1, 'graphitem': 7, 'infographpositionabsoluteright10pxtop0zindex10colorfff': 1, 'infograph': 1, 'numgraphfontweightbold': 1, 'bargraphdisplayblockheight20pxbackgroundurlt1daumcdnnetdaumtopdecoimagestop2017bggraphpng': 1, 'repeat': 1, 'barsupportpositionabsoluteleft0top0height20px': 1, 'barsupport': 4, 'bgleftpositionabsoluteleft0top0right16pxheight20pxbackgroundurlt1daumcdnnetdaumtopdecoimagestop2017bargraphpng': 1, 'repeatx': 2, 'bgrightpositionabsoluteright14pxtop0width30pxheight20pxbackgroundurlt1daumcdnnetdaumtopdecoimagestop2017bargraphrightpng': 1, 'fullgraph': 3, 'barsupportwidth100backgroundurlt1daumcdnnetdaumtopdecoimagestop2017bargraphfull2png': 1, 'bgleft': 1, 'bgrightwidth0backgroundnone': 1, 'infographtop2px': 1, 'sectionchannelpositionrelativebordertop1px': 1, 'sectionchannel': 6, 'panelblocpaddingtop60px': 1, 'wraptabcontoverflowhiddenheight507px': 1, 'tithomecookingleft5px': 1, 'titmoneyleft59px': 1, 'titpetleft96px': 1, 'titwomenleft133px': 1, 'titmenleft182px': 1, 'tittravelleft212px': 1, 'titbusinessleft274px': 1, 'titmusicleft325px': 1, 'titwebtoonleft362px': 1, 'titgameleft398px': 1, 'tittogetherpanelbloc': 1, 'tittogether2left434px': 1, 'tithomecooking': 2, 'linktitwidth59pxbackgroundposition0': 1, 'titmoney': 2, 'linktitwidth37pxbackgroundposition59px': 1, 'titpet': 2, 'linktitwidth37pxbackgroundposition96px': 1, 'titwomen': 2, 'linktitwidth49pxbackgroundposition133px': 1, 'titmen': 2, 'linktitwidth30pxbackgroundposition182px': 1, 'tittravel': 2, 'linktitwidth62pxbackgroundposition212px': 1, 'titbusiness': 2, 'linktitwidth51pxbackgroundposition274px': 1, 'titmusic': 2, 'linktitwidth37pxbackgroundposition325px': 1, 'titwebtoon': 2, 'linktitwidth36pxbackgroundposition362px': 1, 'titgame': 2, 'linktitwidth36pxbackgroundposition398px': 1, 'tittogether': 2, 'linktitwidth63pxbackgroundposition434px': 1, 'tittogether2': 2, 'linktitwidth72pxbackgroundposition497px': 1, 'homecookingon': 2, '346px': 12, 'moneyon': 1, 'linktitbackgroundposition59px': 1, 'peton': 1, 'linktitbackgroundposition96px': 1, 'womenon': 1, 'linktitbackgroundposition133px': 1, 'menon': 2, 'linktitbackgroundposition182px': 1, 'travelon': 2, 'linktitbackgroundposition212px': 1, 'businesson': 2, 'linktitbackgroundposition274px': 1, 'musicon': 2, 'linktitbackgroundposition325px': 1, 'webtoonon': 2, 'linktitbackgroundposition362px': 1, 'gameon': 2, 'linktitbackgroundposition398px': 1, 'togetheron': 3, 'linktitbackgroundposition434px': 1, 'linktitbackgroundposition497px': 1, 'wraphomecookingmoneyon': 1, 'wrapmoneypeton': 1, 'wrappetwomenon': 1, 'wrapwomen': 1, 'wrapmen': 1, 'wraptravel': 1, 'wrapbusiness': 1, 'wrapmusic': 1, 'wrapwebtoon': 1, 'wrapgame': 1, 'wraptogetherdisplayblock': 1, 'boxchannelfloatleftpositionrelativewidth154pxheight159pxmargin0': 1, 'boxchannelfstmarginleft0': 1, 'boxchannel': 18, 'linkitemdisplayblockpositionrelativewidth154px': 1, 'thumbgoverflowhiddenwidth154pxheight94px': 1, 'icoadpositionabsoluteright9pxbottom9pxwidth33pxheight19pxfontsize0lineheight0backgroundposition0': 1, '40pxtextindent9999px': 1, 'tititemdisplayblockoverflowhiddenmaxheight36pxpaddingright12pxfontweightnormallineheight18pxwordwrapbreakword': 1, 'channelitemdisplayblockheight18pxpadding4px': 1, '0fontsize12pxlineheight18px': 1, 'channelitem': 2, 'linkchanneldisplayinlineblockoverflowhiddenmaxwidth124pxheight20pxlineheight18pxcolor888verticalaligntopwhitespacenowraptextoverflowellipsis': 1, 'originitemdisplayblockoverflowhiddenmargintop3pxfontsize12pxlineheight21pxcolor888whitespacenowraptextoverflowellipsis': 1, 'thumbchanneldisplayinlineblockpositionrelativemargin1px': 1, 'thumbchannel': 2, 'imgthumbborderradius18px': 1, 'bgframepositionabsolutetop0left0width18pxheight18pxbackgroundposition410px': 1, 'thumbchannelmargintop0': 1, 'linkchannellineheight20px': 2, 'typechdescbackgroundcolorfbfbfc': 1, 'typechdesc': 5, 'linkitemwidth152pxheight129pxborder1px': 1, 'ecececborderbottomwidth0': 1, 'contitemheight112pxpadding13px': 1, 'descitemdisplayblockoverflowhiddenmaxheight48pxpaddingtop8pxfontsize11pxlineheight16pxcolor888': 1, 'channelitempadding0': 1, '13pxborder1px': 1, 'ecececbordertopwidth0': 1, 'contitemheight108pxpaddingtop16px': 1, 'boximgspemarginright0': 1, 'linksectorheight159px': 1, 'framegwidth319pxheight157px': 2, 'contitemheight159pxbackgroundimageurlt1daumcdnnetdaumtopdecoimagestop2017bgplate5png': 1, 'boxchwidefloatleftpositionrelativewidth321pxheight159pxmargin0': 1, 'boxchwide': 10, 'linkitemdisplayblockoverflowhiddenpositionrelativewidth321pxheight159px': 1, 'linkitem': 6, 'thumbgzindex1width321pxheight159px': 1, 'contitempositionabsolutetop0left0width321pxheight159pxcolorfffbackgroundurlt1daumcdnnetdaumtopdecoimagestop2017bgplate5png': 1, 'tititemoverflowhiddenpositionabsoluteleft17pxbottom13pxmaxwidth284pxheight20pxfontweightnormalfontsize14pxlineheight20pxwhitespacenowraptextoverflowellipsis': 1, 'tititemhovercolorfff': 1, 'linkchanneloverflowhiddenpositionabsoluteleft16pxbottom32pxmaxwidth284pxheight20pxfontsize12pxlineheight18pxcolorfffwhitespacenowraptextoverflowellipsis': 1, 'thumbchanneldisplayinlineblockpositionrelativemarginright5pxverticalaligntop': 1, 'boxchextraoverflowhiddenfloatleftpositionrelativewidth154pxheight159pxmargin0': 1, 'boxchextra': 17, 'titchextrapositionabsolutetop14pxleft15pxright50pxzindex1fontsize11pxcolor118eff': 1, 'linkitemdisplayblockwidth154pxheight159px': 1, 'thumbgzindex1width154pxheight159px': 1, 'framegwidth152pxheight157px': 1, 'contitempositionabsolutetop0left0width154pxheight159pxbackgroundurlt1daumcdnnetdaumtopdecoimagestop2017bgplate6png': 1, 'emphextrapositionabsolutetop14pxleft15pxright15pxfontsize11pxcolor118eff': 1, 'tititempositionabsoluteleft14pxright14pxbottom34pxfontweightnormallineheight18pxcolorfff': 1, 'tititemtextdecorationunderline': 1, 'originitemdisplayinlineblockoverflowhiddenpositionabsoluteleft13pxrightautobottom8pxmaxwidth124pxfontsize12pxlineheight24pxcolorc9c9c9whitespacenowraptextoverflowellipsis': 1, 'titchextratop17px': 1, 'emphextratop17px': 1, 'originitembottom5px': 1, 'titbanneroverflowhiddenpositionabsoluteleft14pxright14pxbottom15pxfontweightnormalfontsize11pxcolorffftextdecorationunderlinetextaligncenterwhitespacenowraptextoverflowellipsis': 1, 'pagepctoptop15pxright15pxbottomauto': 1, 'btnpagewidth16pxheight16pxlineheight16pxbackgroundposition60px': 1, 'btnnextwidth15pxbackgroundposition76px': 1, 'listchbest': 9, 'lipositionrelativewidth154pxheight159px': 1, 'thumbgzindex0': 1, 'linkchbestpositionabsolutetop0left0width154pxheight120px': 1, 'titchbestoverflowhiddenpositionabsoluteleft14pxright14pxbottom0maxheight36pxfontweightnormalfontsize13pxlineheight18pxcolorfffwordbreakkeepallwordwrapbreakword': 1, 'titchbesthovertextdecorationunderline': 1, 'linkchanneloverflowhiddenpositionabsoluteleft0bottom0maxwidth124pxheight25pxpadding2px': 1, '10pxfontsize11pxlineheight23pxcolorc9c9c9whitespacenowraptextoverflowellipsis': 1, 'thumbchannelfloatleftpositionrelativemargin5px': 1, 'linkchannelpadding4px': 1, 'thumbchannelmargintop3px': 1, 'boxinfobnrfloatleftmargin0': 1, 'boxinfobnr': 15, 'linkitemdisplayblockoverflowhiddenpositionrelative': 1, 'linkitemhovercolor222': 1, 'thumbgzindex1width154pxheight154pxbackgroundcolorfff': 1, 'contitemoverflowhiddenpositionabsolutetop8pxleft13pxright7px': 1, 'tititemdisplayinlineblockoverflowhiddenmaxwidth120pxpaddingright8pxfontweightboldbackgroundposition100': 1, '7pxwhitespacenowraptextoverflowellipsisverticalaligntop': 1, 'txtinfodisplayblockoverflowhiddenmargintop2pxwhitespacenowraptextoverflowellipsis': 1, 'originitemdisplayblockoverflowhiddenmargintop2pxfontsize12pxlineheight16pxcolor888whitespacenowraptextoverflowellipsis': 1, 'contitemtop11px': 1, 'tititembackgroundposition100': 1, 'wraptogether': 2, 'thumbgheight159px': 2, 'framegheight157px': 2, 'grouprecommoverflowhiddenwidth670pxclearboth': 1, 'grouprecomm': 6, 'boxstoryfloatleftwidth295pxheight157pxmarginright13pxpadding0': 1, 'boxrecomm': 6, 'listrecommoverflowhiddenwidth321pxmargintop11px': 1, 'listrecomm': 4, 'lifloatleftwidth140pxheight30pxmargin0': 1, 'linkrecommdisplayinlineblockoverflowhiddenmaxwidth100lineheight30pxwhitespacenowraptextoverflowellipsis': 1, 'thumbrecommfloatleftwidth30pxheight30pxmarginright6pxverticalaligntop': 1, 'thumbrecomm': 1, 'imgthumbborderradius30px': 1, 'listrecommmargintop9px': 1, 'boxbest': 5, 'listrankingmargintop7px': 1, 'txtrankingwidth270px': 1, 'lipaddingbottom3px': 1, 'numpctopmargintop2px': 1, 'boxgamemarginright0': 1, 'boxinfobnrheight159pxmarginbottom0': 1, 'txtinfomargin0': 1, 'boxwtrankpositionrelative': 1, 'boxwtrank': 1, 'titsubjectpositionabsolutetop0left11pxzindex1': 1, 'listwtrankmargintop13px': 1, 'listwtrank': 16, 'fstoverflowhiddenpositionrelativeheight62pxmarginbottom9pxpaddingtop20pxborderbottom1px': 1, 'imgthumbpositionabsolutetop0right0widthautoheight83pxpointereventsnone': 1, 'linkrankingdisplayinlineblockoverflowhiddenlineheight18pxverticalaligntop': 1, 'contitemoverflowhiddenwidth140px': 1, 'txtrankingdisplayblockoverflowhiddenmaxwidth200pxwhitespacenowraptextoverflowellipsis': 1, 'txtrankingcolor118efftextdecorationunderline': 1, 'txtrankingmaxheight36pxwhitespacenormalwordbreakkeepallwordwrapbreakword': 1, 'limarginbottom4px': 1, 'fstheight59pxmarginbottom9pxpaddingtop23px': 1, 'boxmusicpaddingleft12pxheight157px': 1, 'boxmusic': 6, 'headitemoverflowhiddenpadding7px': 1, '11pxlineheight18px': 1, 'headitem': 4, 'titsubjectfloatleftmargin0': 1, 'txtstandardfloatleftfontsize11pxcolor888': 1, 'txtnumfontfamilytahomaarialsansserifletterspacing0': 1, 'listmusicoverflowhiddenwidth646px': 1, 'listmusic': 16, 'lifloatleftpositionrelativewidth70pxmarginright36pxpaddingleft22px': 1, 'linkitemdisplayblockwidth70px': 1, 'thumbgwidth70pxheight70px': 1, 'framegwidth68pxheight68px': 1, 'contitemdisplayblockpaddingtop4px': 1, 'tititemdisplayblockoverflowhiddenmargin0fontweightnormallineheight16pxwhitespacenowraptextoverflowellipsis': 1, 'tititemhovercolor118efftextdecorationunderline': 1, 'originitemdisplayblockoverflowhiddenfontsize12pxlineheight16pxcolor888whitespacenowraptextoverflowellipsis': 1, 'linksingercolor888': 1, 'numpctoppositionabsolutetop0left0width16pxheight16pxtextindent9999pxverticalaligntop': 1, 'headitempadding10px': 1, 'txtnumfontfamilyhelveticaarialsansserif': 1, 'wraptopicwidth990pxmargin0': 1, 'autopadding29px': 1, '45px': 1, 'wraptopic': 4, 'titphotodisplayinlineblockoverflowhiddenheight36pxfontsize16pxlineheight33pxverticalaligntop': 1, 'linkphotoclipdisplayinlineblockpaddingright11pxbackgroundposition100': 1, '242pxwhitespacenowrapverticalaligntop': 1, 'linkphotothemedisplayinlineblockmarginright6pxcolor118effverticalaligntop': 1, 'viewphotooverflowhiddenpositionrelativewidth990pxheight400pxmargintop20px': 1, 'viewphoto': 26, 'listphotooverflowhiddenpositionabsolutetop0': 1, 'listphoto': 2, 'boxphotodisplayblockoverflowhiddenwidth682pxheight400pxbackgroundcolor333textdecorationnonetextaligncenter': 1, 'boxphoto': 1, 'imgthumbdisplayinline': 1, 'detailphotodisplaynonepositionabsolutetop0left50width682pxmarginleft341pxpaddingtop330px': 1, 'detailphoto': 2, 'framegwidth680pxheight398px': 1, 'linkphotodisplayblockoverflowhiddenpositionrelativeheight70pxbackgroundurlt1daumcdnnetdaumtopdecoimagestop2017bgplateslidepng': 1, 'linkphotohovertextdecorationnone': 1, 'linkphoto': 4, 'icophotopositionabsolutetop18pxright20pxwidth17pxheight15pxbackgroundposition160px': 1, '60pxtextindent9999px': 1, 'titgalleryoverflowhiddenmargin14px': 1, '57px': 1, '20pxfontweightnormalfontsize14pxcolorf4f4f4textdecorationnonewhitespacenowraptextoverflowellipsis': 1, 'descsourcedisplayblockpadding1px': 1, '20pxfontsize11pxcolorfffopacity06filteralphaopacity60': 1, 'txtdatemarginleft10pxfontfamilyHelveticatahomasansserif': 1, 'btnpreviewoverflowhiddenpositionabsolutetop0width152pxheight400pxbackgroundurlt1daumcdnnetdaumtopdecoimagestop2017bgplateslide2png': 1, 'norepeattextdecorationnonecursorpointer': 1, 'btnpreview': 4, 'framegwidth150pxheight398px': 1, 'icopctoppositionabsolutetop170pxwidth60pxheight60pxtextindent9999px': 1, 'btnprevleft0borderright2px': 1, 'fff': 2, 'btnprev': 2, 'icopctopleft0backgroundposition190px': 1, 'btnnextright0borderleft2px': 1, 'btnnext': 3, 'icopctopright0backgroundposition190px': 1, 'btngallerybackgroundcolor333': 1, 'txtgallerydisplaynonepadding184px': 1, '71pxlineheight16pxcolorfff': 1, 'btngallery': 1, 'txtgallerydisplayblock': 1, 'txtgallerypaddingright71pxpaddingleft0textalignright': 1, 'viewslideoverflowhiddenpositionrelativeheight60pxmargintop20px': 1, 'viewslide': 27, 'listthumbnailoverflowhidden': 1, 'listthumbnail': 4, 'lifloatleftpaddingleft2px': 1, 'lifstpaddingleft0': 1, 'linkthumbdisplayblockpositionrelativewidth60pxheight60px': 1, 'framegwidth58pxheight58pxcursorpointer': 1, 'framegwidth56pxheight56pxborder2px': 1, '118effopacity1filteralphaopacity100': 1, 'covergpositionabsolutetop0bottom0left0right0backgroundfffopacity06filteralphaopacity60': 1, 'btnmovepositionabsolutetop0width20pxheight60px': 1, 'btnprevleft0': 1, 'btnnextright0': 1, 'btnmove': 1, 'icopctopdisplayblockwidth20pxheight20pxmargintop20pxtextindent9999pxcursorpointer': 1, 'icopctopbackgroundposition190px': 1, 'icopctopbackgroundposition220px': 1, 'titphotolineheight39px': 1, 'titgallerymargintop16px': 1, 'descsourcepaddingtop2px': 1, 'txtgallerypaddingtop186px': 1, 'vphototype2': 9, 'boxphotowidth990px': 1, 'detailphotowidth990pxmarginleft495px': 1, 'framegwidth988px': 1, 'linkphotobackgroundrepeat': 1, 'btnpreviewtop140pxheight120pxborder0': 1, 'nonebackgroundnone': 1, 'framegdisplaynone': 1, 'icopctoptop30px': 1, 'txtgallerypaddingtop43px': 1, 'listthumbnail2': 3, 'linkthumbwidth246px': 1, 'framegwidth244px': 1, 'framegwidth242px': 1, 'listthumbnail3': 9, 'linkthumboverflowhiddenwidth196px': 1, 'framegwidth194px': 1, 'framegwidth192px': 1, 'fst': 2, 'lst': 2, 'linkthumbwidth197px': 1, 'frameg': 2, 'framegwidth195px': 1, 'fston': 1, 'lston': 1, 'framegwidth193px': 1, 'txtgallerypaddingtop46px': 1, 'topicspepositionabsolutetop0left50width990pxmarginleft495pxbackgroundred': 1, 'topicspe': 3, 'linkspeoverflowhiddenpositionabsolutetop0width464pxheight610pxfontsize1pxlineheight0textalignlefttextindent9999px': 1, 'linkspeleftleft465px': 1, 'linksperightright465px': 1, 'noticelayeroverflowhiddenwidth100borderbottom1px': 1, 'ecf2f7backgroundcolorf4faff': 1, 'innernoticelayeroverflowhiddenpositionrelativewidth990pxheight110pxmargin0': 1, 'autobackgroundimageurlt1daumcdnnetdaumtopdecoimagestop2017noticestartpngbackgroundrepeatnorepeat': 1, 'innernoticelayer1backgroundposition100': 1, 'innernoticelayer': 6, 'setstartfloatleftpaddingtop29px': 1, 'txtnewsdisplayblockfontweightnormalfontsize20px': 1, 'linkstartoverflowhiddenfloatleftmargintop3pxpaddingright9pxfontsize12pxcolor888backgroundposition100': 1, '197pxtextdecorationunderline': 1, 'btncloseoverflowhiddenpositionabsolutetop36pxright0width20pxheight20pxbackgroundposition170px': 1, '180pxtextindent9999px': 1, 'setstartpaddingtop33px': 1, 'linkstartmargintop0': 1, 'mobileweblayeroverflowhiddenwidth100paddingbottom29pxbordertop1px': 1, 'ecececbackgroundcolorf2f2f2textaligncenter': 1, 'mobileweblayer': 7, 'txtmobilemargintop18pxmarginleft13pxfontsize12pxcolor888': 1, 'txtmobile': 2, 'icoinfodisplayinlineblockwidth13pxheight13pxmargin3px': 1, '0backgroundposition170px': 1, '120pxverticalaligntop': 1, 'linkmobiledisplayblockwidth100pxheight30pxmargin12px': 1, 'dadbddfontweightboldfontsize13pxlineheight28pxcolor222backgroundcolorfff': 1, 'linkmobilehovertextdecorationnone': 1, 'txtmobilemargintop22pxmarginleft9px': 1, 'icoinfomargin1px': 1, 'linkmobilemargintop9pxlineheight31px': 1, 'media': 1, 'only': 4, 'screen': 4, 'and': 4, 'webkitmindevicepixelratio': 1, '15': 2, 'mindevicepixelratio': 1, 'minresolution': 2, '144dpi': 1, '15dppx': 1, 'icosuggestbackgroundimageurlsearch1daumcdnnetsearchstaticscommonpir2weathericoweathermpngbackgroundsize43px': 1, '1680px': 1, 'icopctopbackgroundimageurlt1daumcdnnetdaumtopdecoimagestop2017rtnicopctop170828pngbackgroundsize250px': 1, 'icovertbackgroundimageurlt1daumcdnnetdaumtopdecoimagestop2017rtnicopctopvert170724pngbackgroundsize100px': 1, '500px': 1, 'txtpctopbackgroundimageurlt1daumcdnnetdaumtopdecoimagestop2017rtntxtpctop170915pngbackgroundsize600px': 1, 'bgpctop': 1, 'loginmybackgroundimageurlt1daumcdnnetdaumtopdecoimagestop2017rtnbgpctop170328pngbackgroundsize610px': 1, '490px': 1, 'numpctopbackgroundimageurlt1daumcdnnetdaumtopdecoimagestop2017rtnnumpctop170405pngbackgroundsize80px': 1, 'innernoticelayerbackgroundimageurlt1daumcdnnetdaumtopdecoimagestop2017rtnnoticestartpngbackgroundsize300px': 1, 'imgweatherbackgroundimageurlt1daumcdnnetdaumtopdecoimagestop2017rtnimgweather170628pngbackgroundsize300px': 1, '460px': 1, 'icowmbackgroundimageurlt1daumcdnnetdaumtopdecoimagestop2017rtnicowmpngbackgroundsize400px': 1, 'rolltxt': 3, 'webkittransition': 5, 'transform': 27, '0s': 5, 'linear': 5, 'moztransition': 5, 'mstransition': 5, 'otransition': 5, 'transition': 5, 'webkittransform': 7, 'translateY0': 5, 'moztransform': 7, 'mstransform': 7, 'otransform': 7, 'licurrent': 3, 'translateY20px': 5, '3s': 15, 'easeout': 10, 'translateY0px': 10, 'initial': 5, 'important': 5, 'positionabsolute': 1, 'backgroundcolorfff': 1, 'translateY28px': 10, 'opacity1': 1, 'linext': 1, 'opacity0': 1, 'cEtc': 3, 'listthumbnailwidth1858px': 1, 'listthumbnail2width990px': 1, 'ease': 5, 'translateX0': 5, '': 1, '주요': 2, '서비스': 5, '바로가기': 9, '오늘의': 6, '정보': 8, '미디어': 3, '실시간': 4, '이슈': 5, '멀티미디어': 2, '블로그': 6, '유익한': 2, '쇼핑': 3, '포토amp영상': 1, '웹': 1, '접근성': 1, '안내': 2, '자동실행': 1, '광고': 1, '설정': 1, '검색': 7, '통합': 2, '인기': 1, '검색어': 3, '트와이스': 1, '라이키': 1, '멜로홀릭': 1, '경수진': 1, '민아': 1, '솔로데뷔': 1, '김재철': 1, '압수수색': 1, '정은지': 1, '애국가': 1, '김주혁': 6, '사망': 2, '신태용': 1, '이동국': 3, '지진': 1, '대피훈련': 1, '정준하': 1, '고소취하': 1, '유연석': 6, '시구': 1, '도민호': 6, '신태용호': 1, '명단': 1, '한라산': 1, '상고대': 1, '한국시리즈': 2, '5차전': 2, '성시경': 1, '정유미': 1, 'lt이전': 1, 'gt다음': 1, '다음을': 1, '시작페이지로': 1, '카페': 3, '메일': 2, '뉴스': 4, '지도': 2, '증권': 1, '카카오TV': 3, '웹툰': 3, '브런치': 3, '사전': 2, '게임': 5, '별플레이': 2, '같이가치': 3, '주요서비스': 1, '더보기': 2, '⋁': 1, '전체': 1, '커뮤니케이션': 1, '티스토리': 2, '아지트': 1, '카카오스토리': 2, '스포츠': 4, '연예': 2, '아고라': 1, '쇼핑생활': 1, '쇼핑하우': 1, '금융': 1, '부동산': 2, '자동차': 2, '미즈넷': 2, '요리': 1, '문화엔터': 1, '영화': 3, '책': 1, '사전지식': 1, '어학사전': 1, '단어장': 1, '백과사전': 1, '팁': 2, '나눔펀딩': 1, '스토리펀딩': 2, '길찾기': 1, '로드뷰': 1, '버스정보': 1, '지하철노선도': 1, '카카오': 2, '소식': 1, '다음': 8, '전체보기': 2, '메뉴닫기': 1, '10': 1, '30': 1, '월': 1, '날씨': 21, '서울시': 1, '맑음': 18, '영상': 19, '9도': 5, '9°C': 5, '경기도': 1, '7도': 5, '7°C': 5, '인천시': 2, '대구시': 1, '대전시': 1, '광주시': 1, '부산시': 1, '11도': 4, '11°C': 4, '울산시': 1, '경상북도': 2, '8도': 2, '8°C': 2, '강원도': 2, '충청북도': 1, '6도': 1, '6°C': 1, '전라북도': 1, '전라남도': 2, '제주자치도': 1, '구름조금': 1, '13도': 1, '13°C': 1, '경상남도': 1, '10도': 1, '10°C': 1, '날찌정보': 1, '8897': 1, '펼치기': 1, '현재': 7, '지역': 1, '어제보다': 1, '°C': 1, '상세보기': 1, '미세먼지': 1, '통합대기': 1, 'X': 1, '날씨정보': 1, '닫기': 1, '선택됨': 1, '1탭': 1, '20만원': 1, '벌금': 1, '안무서워': 1, '활개치는': 1, '자료': 1, '모으며': 1, '폭로': 1, '준비난': 1, '그냥': 1, '꼴통': 1, '일반뉴스': 1, '39사회적': 1, '이슈39': 1, '사건': 1, '수사': 1, '외부': 1, '심의': 1, '받는다': 1, '채용비리': 1, '무관용': 1, '재확인한': 1, '김동연quot제보땐': 1, '기간': 1, '상관없이': 1, '소급quot': 1, '고동진': 1, '삼성': 1, '사장': 1, 'quot스마트폰': 1, '출고가는': 1, '이통사가': 1, '정한다quot': 1, '朴국정원': 1, '左성향단체': 1, '15곳middot문제인물': 1, '249명': 1, '39블랙리스트39': 1, '작성': 1, '39우편향39': 1, '안보교육': 1, 'DVD에도': 1, '국정원': 1, '개입개혁위': 1, '수사의뢰': 1, '권고': 1, 'liveSBS': 1, '8뉴스': 1, 'liveJTBC': 1, '뉴스룸': 1, '39어금니': 1, '아빠39': 1, '이영학': 1, '딸': 1, '구속法': 1, 'quot증거인멸middot도주': 1, '우려quot': 1, '특검': 1, 'quot삼성박근혜': 1, '유착quot삼성': 1, 'quot강요': 1, '피해자quot': 1, '설전middot반박': 1, '아동middot여성': 1, '실종사건에': 1, '형사들도': 1, '공동': 1, '대응한다': 1, '전교조': 1, '반대': 1, '학부모단체에': 1, '지원금': 1, '39펑펑39': 1, '간경화로': 1, '사망한': 1, '육각수': 6, '도민호의': 1, '빈소': 1, '이범호': 6, '우승': 1, '향한': 1, '만루홈런': 1, '폭발': 1, '그리스로': 1, '날아간': 1, '피겨여왕': 1, '김연아': 1, '뉴스홈': 1, '연재': 1, '랭킹': 1, 'TV': 2, '포토': 4, '미디어랩': 1, 'live': 1, 'KS': 1, 'KIA': 1, 'vs': 1, '두산': 1, '탭1전체': 2, '탭8': 1, 'lt': 4, '이전': 6, '탭': 8, 'gt': 4, '1위': 5, '2위': 5, '이유영': 5, '3위': 5, '4위': 5, '5위': 5, '멜론티켓': 5, '6위': 5, '7위': 5, '나무엑터스': 5, '8위': 5, '9위': 5, '추돌': 5, '10위': 5, '삼성동': 5, '교통사고': 5, '증시': 2, '영국': 2, '749053': 1, '9662': 1, '전일대비': 2, '하락1450': 1, '독일': 1, '1322704': 1, '9652': 1, '상승950': 1, '관련': 1, '링크모음': 1, '환율': 1, '운세': 1, 'uarr': 20, '상승999': 2, '상승243': 2, '상승221': 2, '상승102': 2, '상승94': 2, '상승87': 2, '상승57': 2, '상승30': 2, '상승24': 2, '상승34': 2, '20171030': 1, '1959기준': 1, 'X닫기': 1, 'TV하이라이트': 2, '대박이': 2, '수난시대': 2, '명장면': 2, '운동': 2, '좀': 3, '배워볼까': 2, '미운': 1, '우리': 1, '새끼': 1, '동영상': 16, '샘': 1, '오취리': 1, '친구의': 1, '가나': 1, '원빈': 1, '칭찬에': 1, '폭풍': 1, '으쓱': 1, '전체관람가': 1, '봉만대': 1, '감독': 1, '걱정이': 1, '마를': 1, '날이': 1, '없는': 1, '권오중': 1, '나의': 1, '외사친': 1, '오연수': 1, '이탈리아에서': 1, '잘생긴': 1, '아들들과': 1, '영상통화': 1, '슈퍼맨이': 1, '돌아왔다': 1, '시안이': 2, '장난꾸러기': 1, '장난에': 2, '오열': 2, '똥': 1, '냄새나': 1, '은행의': 1, '습격': 1, 'quot똥': 1, '냄새나quot': 1, '간식': 1, '사수': 1, '미션': 1, '위해': 1, '달리는': 1, '39늘보': 1, '빠기39': 1, '언제나': 1, '여유': 1, '만만한': 1, 'quot찌아니': 2, '몰라quot': 1, '더': 1, '이상': 1, '무소유': 1, '시안이가': 1, '아니다': 1, '거예요quot': 1, '39절정의': 1, '타격감39': 1, '버나디나': 1, '선취': 1, '적시타': 1, '감동의': 1, '유재학': 1, '드래프트': 1, '최초': 1, '5R': 1, '지명': 1, '커쇼': 1, '단일': 1, 'PS': 1, '최다': 1, '피홈런': 1, '불명예': 1, '하염없이': 1, '3점포를': 1, '바라보는': 1, '마에다': 1, '프로가': 1, '전수하는': 1, '어프로치': 1, '잘하는': 1, '법': 1, '해설자도': 1, '감탄한': 1, '뒤': 1, '돌려치기': 1, '수영': 1, '호흡할': 1, '때': 1, '주의해야': 1, '할': 1, '점': 1, '족구': 1, '한다': 1, '소리': 1, '듣고': 1, '싶으면': 1, '탭4': 1, '당신의': 1, '눈을': 1, '적실': 1, '39너의': 1, '췌장을': 1, '먹고': 1, '싶어39': 1, 'by': 4, '노지': 1, '구글': 1, '픽셀2': 1, 'XL': 1, '때아닌': 1, '디스플레이': 1, '붕어IQ': 1, '이웃에게': 1, '선물': 1, '받은': 1, '할로원': 1, '호박': 1, '케이크': 1, '옥포동': 1, '몽실언니': 1, '운동화': 1, '끈으로': 1, '만든': 1, '핸드메이드': 1, '액세서리': 1, '교보생명블로그': 1, '1boon': 1, '탭4전체': 1, '탭7': 1, '홈amp쿠킹': 1, '머니': 1, '동물': 1, '스타일': 1, 'Men': 1, '여행맛집': 1, '직장IN': 1, '뮤직': 1, '2017': 1, '대한민국': 1, '대상최종': 1, '후보작은': 1, '프로게이머가': 1, '전해주는': 1, '되게': 1, '좋은': 1, '정말': 1, '유용': 1, '이건': 1, '진짜': 1, '역대급이다': 1, '오버워치': 1, '코스프레': 1, '디바에요': 1, '초보자': 1, '함부로': 1, '도와주지': 1, '말아야': 1, '하는': 1, '이유': 2, '아뿔싸': 1, '3위했지만': 1, '급제동': 1, '실제': 1, '가격': 1, '달라': 1, '그랬다': 1, '이거지': 1, '대체': 1, '정체가': 1, '뭐길래': 1, '손에서': 1, '놓을': 1, '수가': 1, '없지': 1, '검불앤던전': 1, '주말에': 1, '본': 1, '토르가': 1, '여기에': 1, 'MARVEL': 1, '퓨처파이트': 1, '추천게임': 1, '그': 1, '감동을': 1, '기억한다면': 1, '뮤로': 1, '돌아오라': 1, '뮤': 1, '이그니션': 1, 'PLAY': 1, 'THE': 1, 'BEST': 1, '최고를': 1, '플레이하세요': 1, '피파온라인3': 1, '100억': 1, '뷰의': 1, '신화': 1, '웹RPG': 1, '神조자룡': 1, '신조자룡': 1, '최초의': 1, '여황제': 2, '전쟁을': 1, '시작하라': 1, '잘나가는': 1, '게임은': 1, '신규': 1, '서버에서': 1, '마법왕좌': 1, '검은사막': 1, '미스틱': 1, '각성': 1, '신들의': 1, '전쟁': 1, '사전알림': 1, '이벤트': 1, '탭10전체': 1, '탭11': 1, '보기': 4, '추천갤러리바로가기': 2, '이미지': 2, '목록': 2, '공지사항': 1, '개인정보처리방침': 2, '변경': 1, '소개': 1, '및': 1, '약관': 1, '회사소개': 1, '·': 9, '광고안내': 1, '검색등록': 1, '제휴문의': 1, '인재채용': 1, '서비스약관': 1, '청소년보호정책': 1, '웹접근성안내': 1, '고객센터': 1, 'Copyright': 1, '©': 1, 'Kakao': 1, 'Corp': 1, 'All': 1, 'rights': 1, 'reserved.': 1}\n"
     ]
    }
   ],
   "source": [
    "import string\n",
    "from urllib import request \n",
    "def trans(a):\n",
    "    list_a = list(a)\n",
    "    for i in range(0,len(list_a)):\n",
    "        for j in range(0,len(L)):\n",
    "            if list_a[i] == L[j]:\n",
    "                list_a[i] = ''\n",
    "    result = \"\"\n",
    "    for i in range(0,len(list_a)):\n",
    "        result = result + list_a[i]\n",
    "    return result\n",
    "\n",
    "def delete_empty(a):\n",
    "    i = 0\n",
    "    while (i != len(a)):\n",
    "        if a[i] == '':\n",
    "            del(a[i])\n",
    "        i +=1\n",
    "    return a\n",
    "\n",
    "def frequency(a):\n",
    "    result = {}\n",
    "    for i in range(0,len(a)):\n",
    "        if (result.get(a[i])):\n",
    "            result[a[i]] += 1 ## 기존에 있는 key 면 value 값 1 증가\n",
    "        else:\n",
    "            result[a[i]] = 1 ##사전에 a[i] 와 value 1추가\n",
    "    return result\n",
    "\n",
    "url = 'http://www.daum.net'\n",
    "f = request.urlopen(url)\n",
    "source_bytes = f.read()\n",
    "source = source_bytes.decode('utf-8')\n",
    "\n",
    "isOpen = False\n",
    "pureWord = []\n",
    "text = ''\n",
    "for i in source:\n",
    "    if i == '<':\n",
    "        isOpen = True\n",
    "        continue\n",
    "    if i == '>':\n",
    "        isOpen = False\n",
    "        continue\n",
    "    if isOpen == False and not i.isspace():\n",
    "        text = text + i\n",
    "        ##print (i)\n",
    "        ##print(text)\n",
    "        ##print (isOpen)\n",
    "    if isOpen == False and i.isspace() and text:\n",
    "        pureWord.append(text)\n",
    "        text=''\n",
    "\n",
    "L = [string.punctuation[i] for i in range(0,len(string.punctuation)-1)]\n",
    "\n",
    "for i in range(0,len(pureWord)-1):\n",
    "    pureWord[i] = trans(pureWord[i])\n",
    "\n",
    "pureWord = delete_empty(pureWord)\n",
    "\n",
    "frequency_word = {}\n",
    "frequency_word = frequency(pureWord)\n",
    "print(frequency_word)"
   ]
  },
  {
   "cell_type": "code",
   "execution_count": 15,
   "metadata": {},
   "outputs": [
    {
     "name": "stdout",
     "output_type": "stream",
     "text": [
      "{'The': 48, 'New': 16, 'York': 12, 'Times': 12, 'Breaking': 2, 'News': 6, 'World': 7, 'Multimedia': 2, 'var': 76, 'NYTDNYTDNYTDAbrafunctiontuse': 1, 'strictfunction': 1, 'ntvar': 1, 'nitreturn': 1, 'nn1nullfunction': 1, 'etniftvar': 1, 'eorn0in1u0c0if1ilength4294967296i0foreat': 1, 'r0u0c0oiuife2s215p27n4fss311518500249en1on2~ern3aieor341275144ieoeror882459459a15356943890s20te2orifs3fs8fs14fs16fors5slslsns0return': 1, 'l0var': 1, 'iucsfreturn': 1, 'ninitfunctionnrvar': 1, 'acsflhptdocumentcookiematch': 1, 'nyta2dtdocumentcookiematch': 1, 'ab72mnew': 1, 'RegExpabragmexectlocationsearchifgg2ddg2dg2ithrow': 1, 'new': 11, 'Errorcant': 1, 'init': 1, 'twiceifuridforddecodeURIComponentdsplita0a': 1, 'NYTDAbrainitHOMEComingUp2147483648control12147483648comingup1HOMENewsEvent23865470567full1429496729control1HOMEElectionPrediction3865470567on1429496729control1HOMEgeoTrending1460288881Control11417339208Header11417339207NoHeader1wwwaddiagnostic21474837104273492459null0wwwsignupfavortest7730941140177309411311773094113217730941143177309411341429496729510null0wwwreadlatertest11073741824control1360777253controlHoldout11073741824variant11356482286variant1Holdout11073741824variant21356482285variant2Holdout1wwwsignupfavortestv312884901891112884901892142949673041128849018851wwwsignupfavortestv4214748365control18589934591185899346021644245094418589934595185899345961wwwfabrikoff429496729611Liftoff1952062701195206261119520627211952062631195206264119520627511483911201148391121114839112211483911231148391124114839112513435973881343597389134359739121343597381313435973916134359738171214748364822us11735166787null0HPAATest214748364801214748364811ECSampleTest2147483648variantA02147483648variantB0ECDigiAbandonmentTest4294967296sendAbandonmentEmail1ECHdAbandonmentTest4294967296sendAbandonmentEmail1ECCrosswordsUpsellTest2147483648control12147483648upsell1ECNewSubOnboardingTest2147483648control12147483648sov11': 1, 'etnytimescom': 1, 'function': 36, '': 106, 'e': 8, 'if': 25, 'mobiletestwindowlocationhostname': 1, 'vi2': 1, 'documentcookiematch': 3, 'vi': 2, '1': 7, 'vi1': 1, 'nytnpvi': 1, 'b1testvi2': 1, 'WPProjectVivariantvi': 2, 'z1testvi2': 1, 'WPProjectVivariant0': 2, 'a2testvi2': 1, 'WPProjectVi2varianthpst': 1, 'b2testvi2': 1, 'WPProjectVi2varianthp': 1, 'c2testvi2': 1, 'WPProjectVi2variantst': 1, 'z2testvi2': 1, 'WPProjectVi2variant0': 1, '1testvi1': 1, '2testvi1': 1, 'else': 12, 'wwwtestwindowlocationhostname': 1, 'viwwwhp': 1, 'a2testvi': 1, 'WPProjectViwwwhpvarianthpst': 1, 'b2testvi': 1, 'WPProjectViwwwhpvarianthp': 1, 'c2testvi': 1, 'WPProjectViwwwhpvariantst': 1, 'z2testvi': 1, 'WPProjectViwwwhpvariant0': 1, 'x': 1, 'XMLHttpRequest': 1, 'xwithCredentials': 1, 'true': 2, 'xopenPOSTetnytimescom': 1, 'xsendsubjectaballoctest': 1, 'url': 2, 'encodeURIComponentwindowlocationhref': 1, 'instant1skipAugmenttruen': 1, 'documentaddEventListenerDOMContentLoaded': 1, 'windowNYTD': 3, 'windowNYTDGlobal': 1, 'displayBriefings': 1, 'time': 5, 'timedBriefings': 1, 'documentgetElementsByClassNametimedBriefing': 1, 'timedBriefingslength': 1, 'return': 8, 'attrClass': 3, 'attrStart': 1, 'attrEnd': 1, 'startTime': 3, 'endTime': 4, 'reFormat': 1, 'd2d2': 1, 'reHide': 1, 'timedBriefingHidei': 1, 'for': 31, 'i': 2, '0': 27, 'reHidetestattrClass': 2, 'timedBriefingsisetAttributeclass': 2, 'timedBriefingHide': 3, 'testTZ': 1, 'offset': 2, 'testTime': 1, 'Datenew': 1, 'DategetTime': 2, '3600': 1, '1000': 3, 'windowNYTDGlobaldisplayBriefingstestTimegetUTCHours': 1, '100': 3, 'testTimegetUTCMinutes': 1, 'testTimetoUTCStringreplace': 1, 'GMT': 1, 'now': 2, 'Date': 1, 'previewTime': 2, 'nowgetHours': 1, 'nowgetMinutes': 1, 'rePreviewTime': 1, 'previewTimed': 1, 'matches': 2, 'windowlocationsearchmatchrePreviewTime': 1, 'NumberparseIntmatches1': 1, 'windowNYTDGlobaldisplayBriefingspreviewTime': 1, 'googletaggoogletaggoogletagcmdgoogletagcmdfunctionvar': 1, 'tdocumentcreateElementscripttasync0ttypetextjavascriptvar': 1, 'ehttpsdocumentlocationprotocoltsrcehttpshttpwwwgoogletagservicescomtagjsgptjsvar': 1, 'odocumentgetElementsByTagNamescript0oparentNodeinsertBeforeto': 1, 'limitFabrikSavemoreFollowSuggestionsunfollowCommentsallTheEmphasesvideoVHSCovervideoVHSHomepageCovervideoVHSHomepageNewControlsvideoVHSNewControlsvideoVHSEmbeddedOnlyadditionalOpinionRegionshpViewabilityfreeTrialhpPrototypeuseCollectionApiForWellenableFlexFrameAdsweatherLocationfabrikWebsocketsOnlyNYTExperimenthpRealEstateAdjitterbugupdatedVideoPromoSmallvideoEmbed360PersonalizationApiUpdateglobalBriefingsremoveInternationalEditionclientSideABRAabraOverrideVersionsignupFavormapleFreeTrialpiiBlockDFPanchorsHttpssmarterLivingRecviDesktopTestcaslOptabraInCustomParamsblueKai': 1, 'require': 3, 'baseUrl': 1, 'httpsa1nytcomassets': 1, 'waitSeconds': 1, '20': 3, 'paths': 7, 'foundation': 1, 'homepage20171018133349jsfoundation': 1, 'shared': 1, 'homepage20171018133349jsshared': 1, 'homepage': 1, 'homepage20171018133349jshomepage': 2, 'application': 1, 'videoFactory': 1, 'httpsstatic01nytcomjs2buildvideo20videofactoryrequire': 1, 'videoPlaylist': 1, 'httpsstatic01nytcomjs2buildvideoplayersextended20appRequire': 1, 'authmtr': 1, 'httpsstatic01nytcomjsmtr': 1, 'authgrowl': 1, 'httpsstatic01nytcomjsauthgrowldefault': 1, 'vhs': 1, 'httpsstatic01nytcomvideovhsbuildvhs2xmin': 1, 'vhs3': 1, 'httpsstatic01nytcomvideostaticvhs3vhsmin': 1, 'requiremap': 1, 'foundationmain': 1, 'foundationlegacymain': 1, 'ltie10': 9, 'messengersuggestions': 5, 'display': 39, 'block': 15, 'important': 8, 'height': 7, '50px': 2, 'messagebed': 1, 'backgroundcolor': 3, 'f8e9d2': 1, 'borderbottom': 6, '1px': 9, 'solid': 12, 'ccc': 6, 'messagecontainer': 1, 'padding': 10, '11px': 3, '18px': 5, '30px': 2, 'actionlink': 1, 'fontfamily': 18, 'nytfranklin': 8, 'arial': 2, 'helvetica': 2, 'sansserif': 8, 'fontsize': 28, '10px': 9, 'fontweight': 16, 'bold': 2, 'color': 30, 'a81817': 3, 'texttransform': 6, 'uppercase': 5, 'alerticon': 1, 'background': 3, 'urlhttpsstatic01nytcomimagesiconsiconalert12x12a81817png': 1, 'norepeat': 1, 'width': 9, '12px': 12, 'inlineblock': 5, 'margintop': 17, '2px': 13, 'float': 5, 'none': 31, 'masthead': 1, 'navigation': 2, 'commentspanel': 1, 'ribbon': 1, '97px': 1, 'NYTimescom': 2, 'no': 1, 'longer': 1, 'supports': 1, 'Internet': 3, 'Explorer': 1, '9': 1, 'or': 4, 'earlier': 1, 'Please': 7, 'upgrade': 1, 'your': 15, 'browser': 1, 'LEARN': 1, 'MORE': 1, '»': 10, 'Sections': 4, 'Search': 5, 'Skip': 2, 'to': 69, 'content': 3, 'Subscribe': 5, 'Now': 5, 'Log': 1, 'In': 11, 'Settings': 1, 'English': 1, '中文': 1, 'Chinese': 1, 'Español': 1, 'Monday': 6, 'October': 1, '30': 1, '2017Today’s': 1, 'PaperVideo': 1, 'Quick': 1, 'Site': 10, 'Navigation': 7, 'US': 5, 'Politics': 4, 'NY': 2, 'Business': 4, 'Opinion': 9, 'Tech': 5, 'Science': 3, 'Health': 4, 'Sports': 4, 'Arts': 6, 'Style': 5, 'Food': 7, 'Travel': 5, 'Magazine': 7, 'T': 5, 'Real': 9, 'Estate': 4, 'all': 4, 'Close': 1, 'search': 1, 'Clear': 1, 'this': 7, 'text': 7, 'input': 2, 'Go': 4, 'Mobile': 3, 'geoipresolver': 1, '20160630': 1, 'functionafunctiontypeof': 1, 'definedefineamddefinenytintgeoipawindownytintgeoipafunctionuse': 1, 'strictvar': 1, 'anytgeoipbdocumentgetElementsByTagNamehtmlc1dcontinentcodecountrycoderegiondmacodepostalcodetimezonezoneabbrefunctionbvar': 1, 'cnew': 1, 'XMLHttpRequestdnullenulltryifdJSONparsesessionStoragegetItemadvoid': 1, '0dcountrycodereturn': 1, 'gdbdcatchhconloadfunctionareturn': 1, 'atargetefatargetundefinedtypeof': 1, 'e1gebe1conreadystatechangefunction4creadyState200cstatusconsoleerrorcstatuscopenGEThttpsgeoipnewsdevnytimescom0trycresponseTypejsoncatchhcsendffunctionavar': 1, 'bnullswitch0casejsonaresponseTypebaresponsedatabreakcase': 1, 'nullaresponsebJSONparsearesponsedatabreakcase': 1, 'nullaresponseTextbJSONparsearesponseTextmessagereturn': 1, 'void': 1, '0bbnullgfunctionefifbreturn1trysessionStoragesetItemaJSONstringifyecatchgifvoid': 1, '0ecforvar': 1, 'ij0idjjifvoid': 1, '0eivar': 1, 'kgeohieijoinb0classListaddkc0returnfunctiontypeof': 1, 'ffeehfunctionavar': 1, 'baswitch0case': 1, 'aindexOfzoneabbr0bareplacezoneabbrustimezonebreakcase': 1, 'aindexOfzone0bareplacezonezonebreakcase': 1, 'aindexOfcode0bareplacecodereturn': 1, 'breturn': 1, 'windowNYTINTTESTINGee': 1, 'requirenytintgeoip': 1, 'Fix': 2, 'Small': 2, 'Video': 5, 'Promo': 1, 'Heds': 1, 'storythemefeaturevideopromosmallupdatedvideopromosmall': 1, 'videopromosmallcontainer': 1, 'storyheading': 10, '0important': 1, 'MM': 1, 'icons': 1, 'in': 34, 'kickers': 1, 'kicker': 4, 'iconbefore': 1, 'top': 6, '0px': 16, 'mediaslideshow': 1, 'marginbottom': 14, 'Hiding': 1, 'Hacks': 1, 'nythpHideKickers': 1, 'nythpHideBylines': 1, 'byline': 2, 'nythpHideTimestamps': 1, 'timestamp': 2, 'banner': 1, 'hed': 1, 'modifications': 1, 'spanabtopregion': 4, 'storythemesummary': 3, 'lineheight': 22, '21rem': 1, 'spacing': 1, 'fixes': 1, 'collectionheadlines': 1, 'Alterations': 1, 'the': 78, 'Centered': 1, 'Feature': 1, 'Photo': 1, 'Spot': 1, 'Treatment': 1, 'bcolumn': 9, 'photospotregion': 3, 'storythemefeature': 4, '135rem': 1, '165rem': 1, '22px': 1, 'headline': 1, 'wrapping': 1, 'summary': 5, '1125rem': 2, '333': 1, 'margin': 9, '3px': 8, 'Bullet': 1, 'Treatments': 1, 'abcolumn': 12, 'collection': 11, 'article': 13, 'ul': 9, 'spanabcregion': 11, '8px': 6, 'ulrefer': 2, 'li': 3, 'position': 12, 'relative': 6, 'paddingleft': 4, '9px': 1, '13px': 6, '08125rem': 1, '400': 4, 'libefore': 2, 'borderradius': 1, '000': 6, 'absolute': 4, '7px': 1, 'left': 5, 'lilastchild': 2, 'articledatacollectionrenderstyleHpSumMediumMedia': 1, 'themenewsheadlines': 2, 'relativeimportant': 1, '4pximportant': 1, '8pximportant': 1, '2pximportant': 1, 'acolumn': 3, 'storythemesummaryheadlinemediumsummary': 5, 'mediumthumb': 1, 'clear': 4, 'marginleft': 2, 'firstcolumnregion': 2, 'aledepackageregion': 2, 'fontstyle': 3, 'italic': 1, 'collectionfirstchild': 2, '26px': 1, '1625rem': 1, '28px': 1, '175rem': 2, '700': 6, 'NewsDeveloping': 1, 'Headers': 1, 'nythpBreaking': 3, 'A81817': 2, 'bordertop': 4, 'paddingtop': 6, 'paddingbottom': 5, 'h6': 14, 'nytfranklinarialhelveticasansserif': 1, 'nythpDeveloping': 1, 'FD8249': 2, 'bordertopcolor': 1, 'nythpBreakingnythpNoRule': 1, 'border': 7, 'abovebannerregion': 3, 'BEGIN': 1, 'HPHEADER': 1, 'STYLING': 1, 'hpHeader': 22, 'h3collectionkicker': 5, 'nytfranklinhelveticaarialsansserif': 3, 'letterspacing': 3, '5px': 7, '15px': 6, '16px': 2, 'a': 65, 'avisited': 2, 'textdecoration': 7, 'h6hover': 3, 'h6active': 3, 'bordercolor': 7, '222222': 2, 'spanabledepackageregion': 3, 'ccolumn': 2, 'textalign': 6, 'center': 3, 'auto': 5, 'splitlayout': 2, 'nythpSplitCode': 2, 'hpLive': 3, 'hpDeveloping': 3, 'fd8249': 2, 'hpSingleRule': 1, 'e2e2e2': 3, 'added': 1, 'by': 21, 'matte': 1, 'fix': 1, 'slideshow': 1, 'bug': 1, 'loadercontainer': 1, 'Newsletter': 1, 'SignUp': 1, 'Modules': 1, 'updated': 1, '6282017': 1, 'divnotificationwidget': 1, 'minheight38px': 1, 'notificationsignup': 6, 'notificationstitle': 1, 'black': 4, 'nytcheltenhamshgeorgiatimes': 1, 'romantimesserif': 2, '200': 1, 'notificationtext': 2, '999': 3, 'notificationwidget': 25, 'button': 9, 'outline': 1, 'notifyemail': 1, '312px': 1, '14px': 8, 'a6a6a6': 1, 'rgba971361665': 1, 'bordertopleftradius': 3, 'borderbottomleftradius': 3, 'bordertoprightradius': 2, 'borderbottomrightradius': 2, 'boxshadow': 1, 'Helvetica': 6, 'notifyemailhover': 1, 'bordercolorrgba971361661': 1, 'borderwidth2px': 1, 'padding13px': 1, 'notifyemailerror': 1, 'FF9859': 2, '6288a5': 1, 'white': 1, '500': 3, 'capitalize': 1, 'dirtyform': 1, 'buttonhover': 2, 'signedin': 2, '326891': 5, 'diverror': 1, 'post': 1, 'subscribe': 3, 'notification': 2, 'span': 1, 'ffffff': 1, '600': 1, 'divdatastatusinitial': 5, 'displayinlineblock': 3, 'floatright': 1, 'divdatastatusworking': 2, 'opacity0': 1, 'already': 8, 'subscribed': 8, 'div': 10, 'divdatastatussubscribed': 2, '666': 1, '31px': 1, 'marginright8px': 1, 'accountname': 2, '6187a6important': 2, 'emailaddress': 1, 'viewportmedium10': 2, 'interactiveleadin': 1, 'maxwidth': 1, '375px': 1, 'paddingtop11px': 1, 'adatareactid002': 1, 'divdatastatusinitialdatashowdisclaimertrue': 3, 'divdisclaimer': 4, 'CCC': 2, 'divsignedindatastatusinitialdatashowdisclaimertrue': 1, '20px': 1, '70px': 1, 'right': 6, 'divnotsignedindatastatusinitialdatashowdisclaimertrue': 1, 'underline': 3, 'divwelcome': 1, 'Show': 2, 'All': 3, 'hack': 1, 'htmlshowAllGeoAb': 5, 'nythpElectionPredictionCCol': 1, 'nythpNYRegionPromo': 5, 'nythpGeoCanada': 1, 'nythpCAToday': 1, 'requirefoundationmain': 13, 'jquerynyt': 2, 'foundationhelpersutils': 1, 'foundationviewspagemanager': 3, 'utils': 1, 'pageManager': 4, 'documentreadyfunction': 2, 'param': 3, 'contentCollection': 2, 'smarterliving': 4, 'nythpSmarterLiving': 14, 'aeachfunction': 1, 'href': 5, 'thisattrhref': 2, 'utilsappendQueryParamshref': 1, 'zoom1': 1, 'nythpSmarterLivingafter': 2, 'nythpSmarterLivingbefore': 1, 'table': 1, 'both': 2, 'floatleft': 1, '177px': 1, 'articlestorythemesummary': 1, 'articlelastchild': 1, 'articlenthoftype2': 1, '21px': 1, 'themecomments': 1, 'refer': 1, '96px': 1, 'thumb': 1, '6px': 4, 'Top': 1, 'Russia': 5, 'Wields': 1, 'Oil': 2, 'Diplomacy': 1, 'Pushing': 1, 'on': 17, 'Interests': 1, 'By': 21, 'CLIFFORD': 1, 'KRAUSS': 1, 'Moscow': 2, 'forced': 1, 'sanctions': 1, 'find': 3, 'spheres': 1, 'of': 48, 'investment': 1, 'is': 9, 'building': 1, 'influence': 1, 'places': 1, 'where': 1, 'United': 1, 'States': 1, 'has': 9, 'stumbled': 1, 'It': 2, 'been': 3, 'pushing': 1, 'deeply': 1, 'into': 3, 'countries': 1, 'like': 3, 'Cuba': 1, 'China': 1, 'Egypt': 2, 'and': 43, 'Vietnam': 1, 'made': 2, 'flurry': 1, 'risky': 1, 'loans': 1, 'help': 1, 'Venezuela': 1, 'stave': 1, 'off': 1, 'debt': 1, 'default': 3, 'Trump': 7, 'Tries': 1, 'Shift': 2, 'Focus': 1, 'Amid': 1, 'Reports': 1, 'Looming': 1, 'Charges': 1, 'JULIE': 1, 'HIRSCHFELD': 1, 'DAVIS': 1, 'President': 3, 'attacked': 1, 'Hillary': 1, 'Clinton': 1, 'Twitter': 6, 'as': 12, 'he': 5, 'his': 5, 'advisers': 1, 'braced': 1, 'first': 3, 'public': 1, 'action': 5, 'from': 7, 'special': 1, 'prosecutor': 1, 'inquiry': 1, 'who': 5, 'reportedly': 1, 'poised': 1, 'issue': 1, 'an': 7, 'indictment': 1, 'Suspends': 1, 'Roger': 2, 'Stone': 2, 'After': 9, 'ExpletiveLaden': 2, 'Posts': 1, '‘Bedlam’': 1, 'Arizona': 1, 'Jeff': 1, 'Flake': 1, 'Departs': 1, 'Senate': 1, 'Race': 2, '2': 4, 'Navy': 2, 'SEALs': 2, 'Under': 2, 'Suspicion': 2, 'Death': 1, 'Green': 2, 'Beret': 2, 'Mali': 2, 'ERIC': 1, 'SCHMITT': 1, 'Staff': 1, 'Sgt': 1, 'Logan': 1, 'J': 2, 'Melgar': 1, '34': 1, 'veteran': 1, 'two': 2, 'deployments': 1, 'Afghanistan': 1, 'was': 5, 'found': 1, 'dead': 1, 'June': 1, '4': 2, 'superiors': 1, 'almost': 1, 'immediately': 1, 'suspected': 2, 'foul': 1, 'play': 1, 'Niger': 1, 'Where': 1, 'Troops': 1, 'Died': 2, 'Lawless': 1, 'Shifting': 1, 'Landscape': 1, 'Puerto': 2, 'Rico': 2, 'Cancels': 2, 'Grid': 1, 'Contract': 2, 'With': 7, 'Montana': 1, 'Firm': 1, 'FRANCES': 1, 'ROBLES': 1, 'DEBORAH': 1, 'ACOSTA': 1, 'move': 1, 'came': 1, 'after': 1, 'members': 1, 'Congress': 2, 'FEMA': 1, 'questioned': 1, 'how': 2, 'Whitefish': 2, 'Energy': 2, 'with': 6, 'connections': 2, 'secretary': 1, 'interior': 1, 'but': 4, 'only': 1, 'fulltime': 1, 'employees': 1, 'won': 1, 'contract': 1, 'up': 10, '300': 2, 'million': 1, 'California': 6, 'Lechery': 1, 'Finds': 1, 'Safe': 1, 'Haven': 1, 'Women': 1, 'Say': 1, 'JESS': 1, 'BIDGOOD': 1, 'MIRIAM': 1, 'JORDAN': 1, 'ADAM': 1, 'NAGOURNEY': 1, 'Sacramento': 1, 'legislative': 1, 'seat': 1, 'country’s': 1, 'most': 2, 'populous': 1, 'state': 1, 'women': 1, 'describe': 1, 'culture': 1, 'rampant': 1, 'sexual': 1, 'harassment': 1, 'system': 1, 'that': 11, 'does': 1, 'not': 2, 'take': 1, 'their': 3, 'complaints': 1, 'seriously': 1, 'nbspComments': 5, 'Rose': 2, 'McGowan': 2, 'Refusing': 2, 'Weinstein’s': 2, 'Hush': 2, 'Money': 4, 'Speaks': 2, 'Out': 3, 'Female': 1, 'Artists': 1, 'Sign': 17, 'Letter': 1, 'Against': 1, 'Sexual': 4, 'Harassment': 1, 'Daily': 3, '360': 3, '121': 1, 'Damage': 1, 'Deserted': 1, 'Barbuda': 1, 'Shannon': 1, 'StapletonReuters': 1, 'Technology': 2, 'Samsung': 1, 'More': 8, 'Will': 2, 'Catalonia': 2, 'Obey': 2, 'Madrid': 1, 'Civil': 2, 'Servants': 2, 'Decide': 2, '331': 1, 'AM': 6, 'ET': 6, 'Kurdish': 1, 'Leader': 2, 'Quits': 1, 'Latest': 1, 'Fallout': 2, 'From': 6, 'MuchCriticized': 1, 'Independence': 1, 'Vote': 1, 'Choice': 1, 'Fed': 1, 'Chairman': 1, 'Downgrades': 1, 'Deregulation': 1, 'Shakes': 1, 'Up': 17, 'Security': 1, 'Forces': 1, 'Deadly': 1, 'Ambush': 1, 'Police': 1, 'tipspromo': 7, 'nytlogo': 1, '1rem': 2, '6rem': 2, 'svg': 1, 'textbubble': 4, 'h1': 1, 'nytcheltenham': 2, 'times': 5, 'serif': 4, '15rem': 1, '09': 1, 'webkitfontsmoothing': 2, 'antialiased': 2, 'zindex': 2, 'h2': 1, 'nytcheltenhamsh': 2, '13': 3, '05rem': 1, 'contact': 1, 'borderstyle': 1, 'transparent': 1, 'Got': 1, 'confidential': 1, 'news': 7, 'tip': 1, 'offers': 2, 'several': 1, 'ways': 1, 'get': 4, 'touch': 1, 'provide': 1, 'materials': 1, 'our': 1, 'journalists': 2, 'Learn': 1, 'more': 2, 'gaq': 2, 'definenytg20161031tipshpassets': 1, 'httpsstatic01nytcomnewsgraphics20161031tipshp00b5b741a6c5682e24f945c547f78fbe98f2c27f': 1, 'definenytg20161031tipshpbigassets': 1, 'httpsstatic01nytcomnewsgraphics20161031tipshpassets': 1, 'requirehttpsstatic01nytcomnewsgraphics20161031tipshp00b5b741a6c5682e24f945c547f78fbe98f2c27fbuildjs': 1, 'generated': 1, 'srcscriptjs': 1, '796': 1, 'Irish': 1, 'Children': 6, 'Vanished': 1, 'Why': 3, 'Hear': 1, 'amateur': 1, 'historian': 1, 'investigated': 1, 'people': 2, 'whose': 1, 'memories': 1, 'helped': 1, 'bring': 1, 'tragedy': 1, 'light': 1, 'KASSIE': 1, 'BRACKEN': 1, 'Lost': 4, 'Tuam': 4, 'DAN': 1, 'BARRY': 1, 'For': 3, 'decades': 1, 'bones': 1, 'lay': 1, 'near': 1, 'home': 2, 'unmarried': 1, 'mothers': 1, 'babies': 1, 'until': 1, 'woman': 2, 'it': 4, 'her': 4, 'mission': 2, 'truth': 1, 'Your': 6, 'Briefing': 13, 'CHRIS': 1, 'STANFORD': 1, '557': 1, 'Here’s': 2, 'what': 1, 'you': 3, 'need': 1, 'know': 1, 'start': 1, 'day': 1, 'Today': 4, 'Preparing': 1, 'Next': 3, 'Sandy': 4, 'audiobrief': 8, 'image': 1, '75px': 2, '4px': 1, 'audio': 1, 'art19webplayer': 1, 'art19webplayerawpmicro': 2, 'awpleft': 1, 'borderright': 2, 'awpbrandlogo': 2, 'img': 1, 'awpembedbutton': 1, 'cursor': 2, 'pointer': 2, 'dailysublinks': 4, 'width100': 1, 'padding0': 1, 'margin10px': 1, 'p': 6, 'fontfamilynytfranklinarialhelveticasansserif': 1, 'fontweight400': 1, 'color000': 1, 'paddingright': 2, 'borderright1px': 1, 'alastchild': 1, 'borderrightnone': 1, 'Audio': 2, 'Listen': 1, '‘The': 2, 'Daily’': 1, 'We': 3, 'look': 1, 'at': 9, 'origins': 1, 'research': 1, 'Trump’s': 3, 'Mr': 2, 'lawyer': 1, 'discusses': 1, 'investigation': 1, 'Follow': 2, 'Apple': 1, 'Podcasts': 1, 'Radio': 1, 'Public': 3, 'Stitcher': 1, 'Smarter': 4, 'Living': 7, 'How': 5, 'Stop': 2, 'Robbing': 1, 'Yourself': 1, 'Good': 1, 'Sleep': 1, 'TIM': 1, 'HERRERA': 1, 'Welcome': 1, 'latest': 1, 'edition': 1, 'newsletter': 1, 'What': 2, 'Watch': 1, 'Halloween': 2, 'You': 6, 'can': 1, 'varieties': 1, 'ghosts': 1, 'monsters': 1, 'serial': 1, 'killers': 1, 'major': 1, 'streaming': 1, 'services': 1, 'main': 1, 'underscorenyt': 3, 'foundationviewsbaseview': 1, 'BaseView': 1, 'SmarterLiving': 2, 'BaseViewextend': 1, 'template': 2, 'datastoryid': 1, 'datacollectionrenderstyleHpSumSmallMediaHigh': 1, 'alt': 1, 'events': 1, 'click': 3, 'handleArticleLinkClick': 2, 'articles': 6, 'initialize': 3, 'const': 4, 'view': 5, 'thispageManagerflagsmarterLivingRec': 1, 'thisel': 2, 'thissetupImpressionTracking': 1, 'oncethissetupImpressionTracking': 1, 'ajax': 1, 'httpsrecapinytimescomsvcrecommendationsv4smarterlivingjson': 1, 'xhrFields': 1, 'withCredentials': 1, 'donefunctiondata': 1, 'viewsetupImpressionTracking': 1, 'eachdataassets': 1, 'functionitem': 1, 'viewarticlespushitemurl': 1, 'iterate': 1, 'over': 1, 'existing': 1, 'viewelfindarticleeachfunction': 1, 'index': 1, 'replace': 1, 'rec': 1, 'service': 1, 'thisreplaceWithviewtemplatedataassetsindex': 1, 'alwaysfunction': 1, 'unhide': 1, 'viewelcssdisplay': 1, 'setupImpressionTracking': 1, 'thispageManagerisComponentVisiblethisel': 2, 'thisrecordTrackingImpression': 2, 'thissubscribenytpagescroll': 1, 'thishandleScroll': 1, 'ev': 1, 'el': 2, 'evcurrentTarget': 1, 'thistrackingAppendParamselattrhref': 1, 'pgtype': 2, 'Homepage': 2, 'clickSource': 1, 'module': 4, 'region': 2, 'secondcolumnregion': 2, 'mData': 2, 'viewarticles': 2, 'elattrhref': 1, 'handleScroll': 1, 'thisstopSubscribingnytpagescroll': 1, 'recordTrackingImpression': 1, 'thistrackingTriggerImpressionImpression': 1, 'impression': 4, 'proxyEventType': 1, 'Get': 13, 'weekly': 1, 'roundup': 1, 'best': 1, 'advice': 1, 'living': 1, 'better': 1, 'smarter': 1, 'fulfilling': 1, 'life': 1, 'requireconfig': 6, 'nytintemailsubscriber': 6, 'httpsintnytcomapplicationsemailsubscriberclient': 6, 'requirenytintemailsubscriber': 6, 'functionSubscriber': 6, 'Subscribersetup': 6, 'containerId': 6, 'smarterlivingformonly': 1, 'productCode': 6, 'SL': 1, 'elementToHideOnSubscribe': 6, 'nythpsmarterlivingformonlyemailpromo': 1, 'unregisteredButton': 6, 'unregisteredPlaceholder': 6, 'email': 27, 'registeredButton': 6, 'alreadySubscribedMessage': 6, 'You’re': 7, 'thanksMessage': 6, 'You’ve': 6, 'signed': 6, 'emailPreferencesLinkText': 6, 'Update': 6, 'mail': 6, 'preferences': 6, 'errorMessage': 6, 'Error': 6, 'submitting': 6, 'please': 6, 'try': 6, 'again': 7, 'registeredWelcome': 6, 'setTimeoutfunction': 8, 'widget': 6, 'documentgetElementByIdsmarterlivingformonly': 1, 'container': 7, 'widgetgetElementsByTagNamediv0': 6, 'form': 6, 'widgetgetElementsByTagNameform0': 6, 'status': 6, 'containergetAttributedatastatus': 6, 'notify': 6, 'widgetgetElementsByClassNamenotifyemail0': 6, 'ifnotify': 6, 'undefined': 12, 'origtext': 6, 'notifygetAttributeplaceholder': 6, 'newtext': 6, 'enter': 6, 'address': 6, 'containergetElementsByTagNamebutton0': 6, 'widgetsetAttributeclassclearfix': 6, 'notifyaddEventListenermouseoverfunction': 6, 'notifysetAttributeplaceholdernewtext': 6, 'notifyaddEventListenermouseoutfunction': 6, 'notifysetAttributeplaceholderorigtext': 6, 'notifyaddEventListenerfocusfunction': 6, 'notifysetAttributeplaceholder': 6, 'ifform': 6, 'notifyaddEventListenerkeyupfunction': 6, 'formsetAttributeclassdirtyform': 6, 'containersetAttributeclassnotsignedin': 6, 'containersetAttributeclasssignedin': 6, '2000': 7, 'signupfavor': 7, 'signupfavortopborder': 1, '32px': 1, 'signupfavorbottomborder': 1, '33px': 1, 'ahover': 2, 'tagline': 3, '125rem': 2, 'normal': 2, 'georgia': 1, 'roman': 1, '10625rem': 1, 'rgba501041452': 1, '04em': 1, 'moztransition': 1, '02s': 4, 'ease': 4, 'webkittransition': 1, 'mstransition': 1, 'transition': 1, 'support': 1, 'nobreak': 1, 'whitespace': 1, 'nowrap': 1, 'signupfavorhover': 1, 'rgba501041451': 1, 'nythpsubpromo': 1, 'Journalism': 2, 'matters': 2, 'essential': 3, 'than': 3, 'ever': 3, 'functionmain': 1, 'requirejquerynyt': 3, 'foundationmodelsuserdata': 1, 'foundationtrackingtrackingmixin': 1, 'foundationhosts': 1, 'userData': 2, 'trackingMixin': 2, 'hosts': 2, 'signupPromo': 1, 'taglines': 1, 'promo1': 3, 'promo2': 2, 'Independent': 2, 'journalismMore': 1, 'promo3': 2, 'reporting': 1, 'promo4': 2, 'Trusted': 1, 'promo5': 2, 'journalism': 1, 'Like': 2, 'nowhere': 1, 'promo6': 2, 'Truth': 1, 'hard': 1, 'findBut': 1, 'easier': 1, 'looking': 1, 'Initialization': 1, 'called': 1, 'when': 2, 'instantiating': 1, 'method': 1, 'documentonclick': 1, 'ggraphicsubpromoclick': 1, 'functione': 1, 'epreventDefault': 2, 'signupPromohandleClick': 1, 'thisversion': 9, 'userDatareadyfunction': 1, 'signupPromohandleUserReady': 1, 'thislink': 3, 'httpswwwnytimescomDesktopHome': 1, 'trackImpression': 1, 'signupPromotrackingtrackingTriggerRaw': 1, 'signupPromoversion': 1, 'electionsubdesktophome': 2, 'handleUserReady': 1, 'consolelogabra': 1, 'windowNYTDAbrawwwsignupfavortestv4': 4, 'control': 1, 'userDataisHomeDeliverySubscriber': 1, 'userDataisWebSubscriber': 1, 'userDataisMobileSubscriber': 1, 'userDataisTabletSubscriber': 1, 'htmlhasClassgeocountryUS': 1, 'httpswwwnytimescomDesktopHomeINYT': 1, 'thiselfindsubscribelinkattrhref': 2, 'httpwwwnytimescomDesktopHomeINYT': 1, 'thisswitchText': 1, 'thiselfindtaglinehtmlSupport': 1, 'thiselfindsubscribehtmlSponsor': 1, 'student': 1, 'subscription': 1, 'today': 1, 'studentSponsor': 1, 'httpswwwnytimescomNativeSponsor': 2, 'user': 1, 'show': 1, 'element': 1, 'thiselremoveClasshidden': 1, 'thistrackImpression': 1, 'thiselclosestcolumnhasClassabcolumn': 1, 'thiseladdClasstopborder': 1, 'thiselclosestcolumnhasClassbcolumn': 1, 'thiseladdClasstopborderaddClassbottomborder': 1, 'switchText': 1, 'hasAbra': 3, 'false': 2, 'windowNYTDAbra': 1, 'check': 1, 'part': 1, 'AB': 1, 'test': 1, 'switch': 1, 'case': 6, 'thiselfindtaglinehtmlthistaglinespromo1': 1, 'break': 6, 'thiselfindtaglinehtmlthistaglinespromo2': 1, '3': 1, 'thiselfindtaglinehtmlthistaglinespromo3': 1, 'thiselfindtaglinehtmlthistaglinespromo4': 1, '5': 4, 'thiselfindtaglinehtmlthistaglinespromo5': 1, '6': 1, 'thiselfindtaglinehtmlthistaglinespromo6': 1, 'handleClick': 1, 'thistrackingtrackingTriggerRaw': 1, 'eventName': 1, 'signup': 1, 'interaction': 1, 'windowlocationhref': 1, 'signupPromolink': 1, 'signupPromotracking': 1, 'signupPromopageManager': 1, 'signupPromohosts': 1, 'signupPromoinitialize': 1, 'Hamill': 2, 'Malibu': 1, 'family': 3, 'dog': 1, 'Millie': 1, 'Credit': 1, 'Ture': 1, 'Lillegraven': 1, 'Luke': 1, 'Skywalker': 1, 'Mark': 3, 'always': 1, 'embraced': 1, '“Star': 1, 'Wars”': 1, 'legacy': 1, 'invited': 2, 'back': 1, '“The': 2, 'Force': 1, 'Awakens”': 1, 'Last': 2, 'Jedi”': 1, 'hesitated': 1, '“I': 1, 'just': 1, 'really': 1, 'scared”': 1, 'DAVE': 1, 'ITZKOFF': 1, 'Five': 2, 'Years': 4, 'Are': 6, 'Better': 2, 'Prepared': 2, 'PATRICK': 1, 'McGEEHAN': 1, 'WINNIE': 1, 'HU': 1, 'While': 1, 'much': 1, 'City’s': 1, 'battered': 1, 'infrastructure': 1, 'repaired': 1, 'even': 2, 'improved': 1, 'longterm': 1, 'resiliency': 1, 'measures': 1, 'are': 2, 'still': 1, 'years': 2, 'away': 1, 'Rebuilding': 2, 'YearsOn': 1, 'Staten': 2, 'Island': 2, 'Haunting': 2, 'Memories': 2, 'Warner': 2, 'Millionaire': 2, 'Who': 4, 'Became': 2, 'Tech’s': 2, 'Critic': 2, 'CECILIA': 1, 'KANG': 1, 'Democratic': 1, 'senator': 1, 'Virginia': 1, 'emblematic': 1, 'shifting': 1, 'politics': 1, 'big': 1, 'technology': 1, 'companies': 1, 'which': 1, 'face': 1, 'congressional': 1, 'hearings': 1, 'week': 1, 'Facebook’s': 2, 'Most': 2, 'Disturbing': 2, 'Problems': 2, 'Abroad': 2, 'Series': 2, 'Astros': 4, 'Dodgers': 4, '12': 2, '10': 2, 'innings': 2, 'Outlast': 1, 'Dramatic': 2, 'Slugfest': 2, 'BILLY': 1, 'WITZ': 1, '541': 1, 'game': 1, 'lasted': 1, 'hours': 1, '17': 1, 'minutes': 1, 'featured': 1, '25': 1, 'runs': 1, 'seven': 1, 'homers': 1, 'Houston': 3, 'Astros’': 1, 'win': 1, 'put': 1, 'them': 1, 'brink': 1, 'title': 1, 'Monrovia': 1, 'Journal': 1, 'An': 1, 'Executive': 1, 'Mansion': 1, 'Fit': 1, '—': 3, 'Ghosts': 1, 'HELENE': 1, 'COOPER': 1, 'No': 3, 'president': 1, 'slept': 1, 'mansion': 1, 'any': 2, 'extended': 1, 'period': 1, 'come': 1, 'decent': 1, 'end': 1, 'place': 1, 'Liberian': 1, 'will': 2, 'tell': 1, 'haunted': 1, 'jinxed': 1, 'Virtual': 2, 'Reality': 2, 'Gets': 2, 'Naughty': 2, 'ALYSON': 1, 'KRUEGER': 1, '240degree': 1, 'views': 1, 'headsets': 1, '“sweet': 1, 'musty': 1, 'scents”': 1, 'kind': 1, 'pornography': 1, 'realism': 1, 'exciting': 1, 'some': 1, 'disturbing': 1, 'others': 3, 'conditions': 4, 'geocoded': 2, 'htmlgeodma501': 1, 'htmlgeoregionNJ': 1, 'Hitch': 1, 'Ride': 1, 'de': 2, 'Blasio’s': 1, 'Coattails': 1, 'A': 12, 'Democrat': 2, 'Says': 1, 'DAVID': 1, 'GOODMAN': 1, 'Justin': 1, 'Brannan': 1, 'Brooklyn': 1, 'seeking': 1, 'election': 1, 'City': 2, 'Council': 1, 'shadow': 1, 'Mayor': 1, 'Blasio': 1, 'looms': 1, 'menacingly': 1, 'nythpGeoMBPromoAU': 3, 'nythpGeoMBPromoEU': 3, 'nythpGeoMBPromoAS': 2, 'nythpGeoCalTodayPromo': 2, 'htmlgeocontinentAS': 2, 'htmlgeocontinentOC': 2, 'htmlgeocountryAU': 10, 'htmlgeocontinentEU': 2, 'htmlgeocontinentAF': 2, 'htmlgeocontinentNAgeoregionCA': 2, 'nythpGeoMBPromo': 6, 'Morning': 12, 'Australia': 3, 'Edition': 4, 'stories': 5, 'matter': 5, 'readers': 4, 'through': 4, 'Friday': 4, 'morningbriefingwidgetau': 1, 'MBAU': 1, 'nythpmorningbriefingemailpromo': 5, 'documentgetElementByIdmorningbriefingwidgetau': 1, 'Asia': 2, 'morningbriefingwidgetas': 1, 'MBAE': 1, 'documentgetElementByIdmorningbriefingwidgetas': 1, 'Europe': 2, 'morningbriefingwidgeteu': 1, 'MBE': 1, 'documentgetElementByIdmorningbriefingwidgeteu': 1, 'Californians': 1, 'delivered': 1, 'weekday': 1, 'mornings': 1, 'californiatodaywidget': 1, 'CA': 1, 'documentgetElementByIdcaliforniatodaywidget': 1, 'Delivered': 1, 'inbox': 1, 'morningbriefingwidget': 1, 'NN': 1, 'documentgetElementByIdmorningbriefingwidget': 1, 'spanabbottomauregion': 1, 'visibility': 3, 'hidden': 2, 'spanabbottomregion': 13, 'columncolumnauregion': 3, 'column': 1, 'inherit': 1, 'visible': 1, 'spanablayout': 5, 'split3layout': 5, 'columnnthoftype1': 1, 'columnnthoftype4': 1, 'columnlastchild': 1, 'columnnthoftype3': 1, 'columnnthoftype6': 1, 'sectionheadingauregion': 5, 'sectionheading': 2, 'h2sectionheading': 1, 'h2sectionheadinghover': 1, 'h2sectionheadingactive': 1, 'divsplit3layoutappendspanabbottomauregion': 1, 'divsplit3layout': 3, 'divcolumnaddClasscolumnauregionremove': 1, 'divsplit3layoutprependAustralia': 1, 'Picks': 1, 'auHeight': 1, 'maxspanabbottomregion': 1, 'articlemapfunctioni': 1, 'elheight': 1, 'columncolumnauregioncssminheight': 1, 'auHeight6px': 1, 'Australian': 2, 'Government': 1, 'Rejects': 1, 'Move': 2, 'Indigenous': 2, '‘Recognition’': 1, 'government': 1, 'said': 1, 'proposal': 1, 'create': 1, 'body': 1, 'representing': 1, 'would': 1, 'have': 2, 'failed': 1, 'brought': 1, 'vote': 1, 'national': 1, 'referendum': 1, 'Deputy': 1, 'Among': 1, 'Lose': 1, 'Seats': 1, 'Over': 2, 'Citizenship': 1, 'high': 2, 'court': 1, 'ruled': 1, 'Barnaby': 1, 'Joyce': 1, 'other': 1, 'lawmakers': 1, 'had': 2, 'ineligible': 1, 'run': 1, 'Parliament': 1, 'because': 2, 'they': 1, 'held': 1, 'dual': 1, 'citizenship': 1, 'Japanese': 2, 'Foodways': 1, 'Mix': 1, 'Off': 1, 'Winding': 1, 'Road': 1, 'small': 1, 'town': 1, 'South': 1, 'Wales': 1, 'rewards': 1, 'visitors': 1, 'locals': 1, 'charming': 1, 'cafe': 1, 'Sight': 1, 'Insight': 1, 'Desert': 1, 'artist': 1, 'Andrea': 1, 'Zittel': 1, 'spent': 1, 'nearly': 1, 'exploring': 1, 'solitude': 1, 'she’s': 1, 'inviting': 1, 'join': 2, '“Experimental': 1, 'Cabins”': 1, 'At': 1, 'Dinner': 2, 'Party': 4, 'When': 4, 'Bad': 3, 'Guest': 1, 'author': 1, 'too': 1, 'miserable': 1, 'be': 3, 'polite': 1, 'dinner': 1, 'engagement': 1, 'didn’t': 1, 'want': 1, 'go': 1, 'rich': 1, 'man': 1, 'him': 1, 'MakeBelieve': 1, 'Is': 8, 'Too': 1, 'I': 5, 'my': 2, 'wife': 1, 'wasn’t': 1, 'going': 2, 'me': 1, 'son': 1, 'once': 1, 'she': 1, 'psychotic': 1, 'Silence': 2, 'Democrats': 3, 'MICHAEL': 1, 'TOMASKY': 1, 'aren’t': 1, 'potential': 1, '2020': 1, 'contenders': 1, 'taking': 1, 'stand': 1, 'way': 1, 'country': 1, 'heading': 1, 'Editorial': 3, 'Phil': 1, 'Murphy': 1, 'Governor': 2, 'Jersey': 1, 'Insect': 2, 'Armageddon': 2, 'Blow': 2, 'Checking': 1, 'My': 2, 'Male': 1, 'Privilege': 1, 'Leonhardt': 1, 'Donald': 2, 'Wants': 1, 'Raise': 1, 'Taxes': 1, 'Sex': 2, 'Love': 3, 'Aging': 1, 'Woman': 2, '451': 1, 'us': 1, 'Economy': 2, 'Can’t': 2, 'Grow': 2, 'Without': 2, 'Birth': 2, 'Control': 2, 'BRYCE': 1, 'COVERT': 1, 'promised': 1, 'growth': 1, 'He': 2, 'shouldn’t': 1, 'limit': 1, 'access': 1, 'contraception': 1, 'Neruda': 1, 'Pinochet': 1, 'Rumors': 1, 'Murder': 1, 'ARIEL': 1, 'DORFMAN': 1, '612': 1, 'Forensic': 1, 'investigations': 1, 'Pablo': 1, 'Neruda’s': 1, 'death': 1, '1973': 1, 'renewed': 1, 'speculation': 1, 'about': 1, 'actually': 1, 'died': 1, 'ccolumncolumn': 3, 'sectionopinion': 2, 'timetimestamp': 1, 'displaynone': 2, 'pthemecomments': 1, 'User': 1, 'Subscriptions': 5, 'To': 3, 'Find': 3, 'Story': 3, 'Needed': 3, 'Guide': 8, 'Fans': 2, 'Extra': 2, 'Innings': 2, 'LateGame': 2, 'Twists': 2, 'Reporters': 2, 'Less': 2, 'So': 2, 'Insider': 2, 'raquo': 33, 'Crossword': 4, 'Play': 2, 'Todayrsquos': 2, 'Puzzle': 2, 'Wordplay': 1, 'HIDE': 1, 'WATCHING': 1, 'HEADER': 1, 'portalcontainerheader': 1, 'Watching': 1, 'requirehomepagemain': 2, 'httpsintnytcomappsportalsassetsportalapp31573ba689b023d9e52c26c6d6aa32abjs': 1, 'requireportalapp': 1, 'functionPortal': 1, 'opts': 2, 'env': 1, 'productionpublished': 1, 'matchHeight': 1, 'match': 1, 'spanablayoutlayout': 1, 'maxHeight': 1, 'windowlocationsearchindexOfportalvariantwatchingNoScroll': 1, 'optsvariation': 1, 'simple': 1, 'optspoll': 1, 'optslimit': 1, 'watching': 1, 'Portalcreatenytinthpwatching': 1, 'nythpNeediestCasesPromo': 4, 'storythemefeaturepromo': 1, 'georgiatimes': 1, 'Neediest': 2, 'Cases': 2, 'Her': 1, 'Peers': 1, 'Made': 1, 'School': 2, 'Look': 2, 'Easy': 1, 'Hard': 1, 'Work': 2, 'She’s': 1, 'Catching': 1, 'dropping': 1, 'out': 1, 'school': 1, 'Wendy': 1, 'Genao': 1, 'earned': 1, 'equivalency': 1, 'diploma': 1, 'enrolled': 1, 'college': 1, 'She': 2, 'finally': 1, 'feels': 1, 'scholar': 1, 'its': 1, '106th': 1, 'year': 1, 'Fund': 1, 'provided': 1, 'direct': 1, 'assistance': 1, 'those': 1, 'struggling': 1, 'beyond': 1, 'Donate': 1, 'Our': 3, 'Advertisers': 1, 'Loading': 2, 'timesvideo': 1, 'explore': 1, 'videos': 1, 'Player': 1, 'Inside': 1, 'Nytimescom': 1, 'previous': 1, 'story': 2, 'next': 1, 'Book': 1, 'Review': 8, 'Behind': 1, 'Bars': 1, 'Crime': 1, 'Didn’t': 1, 'Commit': 1, 'Behavior': 1, 'Great': 1, 'Art': 6, 'Citing': 1, 'Woody': 1, 'Allen': 1, 'Bill': 2, 'Cosby': 1, 'Wagner': 1, 'Caravaggio': 1, 'discuss': 1, 'whether': 1, 'artist’s': 1, 'misdeeds': 1, 'should': 1, 'taint': 1, 'work': 1, 'Live': 1, 'Outsmarting': 1, 'Primitive': 1, 'Responses': 1, 'Fear': 1, 'Build': 2, 'Skin': 1, 'Care': 1, 'Routine': 1, 'Sunday': 3, 'Breast': 1, 'Cancer': 1, 'Serious': 1, 'Pink': 1, 'Not': 1, 'Thinking': 1, 'Feet': 1, 'Design': 3, 'Dutch': 1, 'Treasure': 1, 'Trove': 1, 'Returns': 2, 'Perfect': 1, 'Paint': 1, 'Michelle': 1, 'Obama': 1, 'Amy': 1, 'Sherald’s': 1, 'artistic': 1, 'hands': 1, 'former': 1, 'lady': 1, 'honored': 1, 'individual': 1, 'spectacular': 1, 'one': 1, 'deserves': 1, 'seen': 1, 'such': 1, 'Mind': 1, 'Mindfulness': 1, 'Chef': 1, 'Makes': 1, 'Case': 1, 'Local': 1, 'Alaskan': 1, 'Cuisine': 1, 'Yes': 2, 'Really': 1, 'Am': 1, 'This': 1, 'Beauty': 1, 'Pageant': 1, 'Sade’s': 1, 'Quiet': 1, 'Storm': 1, 'Cool': 1, 'Must': 1, 'Resist': 1, 'Madrid’s': 1, 'Rule': 1, 'Afghan': 1, 'Taliban': 1, 'Awash': 1, 'Heroin': 1, 'Cash': 1, 'Troubling': 1, 'Turn': 1, 'War': 3, 'Sixth': 1, 'Grade': 1, 'Straight': 1, 'Factory': 1, 'Day': 1, 'Forget': 1, 'Washington': 1, 'Far': 1, 'Uses': 1, 'Its': 1, 'Giant': 1, 'Rosneft': 1, 'Foreign': 1, 'Policy': 1, 'Tool': 1, 'OpEd': 3, 'Contributor': 1, 'Bryce': 1, 'Covert': 1, 'Misconduct': 1, 'California’s': 1, 'Capitol': 1, 'Difficult': 1, 'Escape': 1, 'Calls': 1, 'Hollywood': 1, 'Rebuild': 1, 'Power': 1, 'Lines': 1, 'Worries': 1, 'Big': 2, 'Companies': 1, 'Post': 1, 'Glowing': 1, 'Quarterly': 1, 'Profits': 1, 'Fanned': 1, 'Flames': 1, 'Which': 2, 'Faces': 1, 'Blowback': 1, 'Bans': 1, 'Two': 1, 'KremlinBacked': 1, 'Outlets': 1, 'Advertising': 1, 'Kevin': 2, 'Spacey': 2, 'Apologizes': 2, 'Allegation': 2, 'DecadesOld': 2, 'Advance': 2, 'Minor': 2, 'Reading': 1, 'Numbers': 1, 'Data': 1, 'Meets': 1, 'Literature': 1, 'Onstage': 1, 'JayZ': 1, 'Forgoes': 1, 'Distractions': 1, 'Drilling': 1, 'Down': 2, 'Message': 2, 'Suspended': 1, 'Tweets': 1, 'Strangling': 1, 'Attack': 1, 'Tax': 1, '‘MiddleClass': 1, 'Con': 1, 'Job’': 1, 'Fashion': 2, 'Fall': 3, 'Dead': 1, '‘Terry': 1, 'Richardson': 1, 'Just': 3, 'Tip': 1, 'Iceberg’': 1, 'Movies': 2, '‘Jigsaw’': 1, 'Carves': 1, 'Clooney’s': 1, '‘Suburbicon’': 1, 'Box': 1, 'Office': 1, 'Square’': 1, 'Takes': 1, 'Aim': 1, '2017': 2, 'Biggest': 1, 'Year': 1, 'Horror': 2, 'History': 1, 'PostSandy': 1, 'On': 2, 'Those': 1, 'Killed': 1, 'Hurricane': 1, 'leads': 1, 'series': 1, '32': 1, 'Dizzying': 1, 'BattleScarred': 1, 'West': 1, 'Wing': 1, 'Veteran': 1, 'Scripting': 1, 'NFL’s': 1, 'Anthem': 2, 'NFL': 1, 'Scores': 1, 'Texans': 1, 'Kneel': 1, 'During': 1, 'Protest': 1, 'Theater': 2, '‘Knives': 1, 'Hens’': 1, 'Wondrous': 1, 'Drama': 1, 'Lust': 1, 'Language': 1, 'Michael': 1, 'Moore': 1, 'Quarrel': 1, 'Broadway': 2, '‘M': 1, 'Butterfly’': 1, 'Heavier': 1, 'Wings': 1, 'Trilobites': 3, 'Astronomers': 1, 'Study': 1, 'Mystery': 1, 'Object': 1, 'Outside': 1, 'Solar': 1, 'System': 1, 'TurkeySize': 1, 'Dinosaur': 1, 'RaccoonLike': 1, 'Bandit': 1, 'Mask': 1, 'Oysters': 1, 'Can': 2, '‘Hear’': 1, 'They': 1, 'Probably': 1, 'Wish': 1, 'We’d': 1, 'Clam': 1, 'Obituaries': 2, 'Wopo': 1, 'Holup': 1, 'Adorned': 1, 'Spaces': 2, 'Dies': 3, '80': 1, 'Robert': 1, 'Blakeley': 1, 'Whose': 1, 'Shelter': 1, 'Symbolized': 1, 'Cold': 1, '95': 1, 'Fay': 1, 'Chiang': 1, '65': 1, 'Poet': 1, 'Championed': 1, 'AsianAmerican': 1, 'Culture': 1, 'Television': 2, '‘Stranger': 1, 'Things’': 1, 'Season': 1, 'Premiere': 1, 'Recap': 1, 'Lingering': 1, 'Effects': 1, 'Critic’s': 1, 'Notebook': 2, '‘TRL’': 1, 'Back': 2, 'MTV': 1, 'Undone': 1, 'Blocked': 1, 'Medicaid': 1, 'Expansion': 1, 'Maine': 1, 'Voters': 1, 'Could': 2, 'Overrule': 1, 'Him': 1, 'Old': 1, 'Age': 2, 'One': 1, 'Question': 1, 'Before': 1, 'Operation': 1, 'Frail': 1, 'Declares': 1, 'Opioid': 1, 'Crisis': 1, '‘Health': 1, 'Emergency’': 1, 'Requests': 1, 'Funds': 1, 'SpiceLaden': 1, 'Kerala': 1, 'Break': 1, 'Urban': 1, 'India': 1, 'Footsteps': 1, 'Chasing': 1, 'Spirit': 1, 'Fractured': 1, 'Spain': 1, 'Through': 1, 'García': 1, 'Lorca': 1, 'Bargain': 1, 'Destinations': 1, 'Books': 2, 'Nonfiction': 1, 'Stranger': 1, 'Than': 3, 'Fiction': 3, 'Best': 2, 'TrueCrime': 1, 'Stories': 1, 'Roundup': 2, 'Indebted': 1, 'Early': 1, 'Master': 1, 'Villains': 1, 'Ourselves': 1, 'Thriller': 1, 'Education': 4, 'Campus': 2, 'Hate': 1, 'Lives': 1, 'Administrators': 1, 'Need': 1, 'Catch': 1, 'Classroom': 1, 'Setting': 1, 'Suits': 1, 'Game': 1, 'Help': 2, 'Students': 1, 'Pay': 1, 'Right': 2, 'Price': 1, 'College': 1, 'Kitchen': 1, 'Warming': 1, 'Curry': 1, 'Wine': 1, 'Lesson': 1, 'Savennières': 1, 'Matt': 1, 'Orlando': 1, 'Brings': 1, 'Sun': 1, 'Copenhagen': 1, 'Issue': 3, 'AllHandsOnDeck': 1, 'Dumpling': 1, 'Fondue': 1, 'Bedroom': 2, 'Rover': 2, 'Maybe': 2, 'Even': 2, 'Condo': 2, 'View': 2, 'Be': 1, 'Illegal': 1, 'Apartment': 1, 'Shopping': 2, 'Wingback': 1, 'Chairs': 1, 'Upshot': 1, 'Silver': 1, 'Costs': 1, 'Gold': 1, 'Actions': 1, 'Have': 1, 'Scrambled': 1, 'Insurance': 1, 'Prices': 1, 'Draw': 1, 'Drug': 2, 'Overdose': 1, 'Epidemic': 1, 'Deaths': 1, 'America': 1, 'Rising': 1, 'Faster': 1, 'Ever': 1, 'Send': 1, 'Journalist': 1, '52Week': 1, 'Trot': 1, 'Around': 1, 'Globe': 1, 'Reporter’s': 1, 'Automobiles': 2, 'Automakers': 1, 'Chests': 1, 'Finance': 1, 'SelfDriving': 1, 'Future': 1, 'Subaru': 1, 'Admits': 1, 'Inspection': 1, 'Failings': 1, 'Another': 1, 'Japan’s': 1, 'Carmakers': 1, 'Wheels': 1, 'Forgetting': 1, 'Child': 1, 'Seat': 1, 'Kill': 1, 'Cars': 1, 'May': 1, 'Soon': 1, 'Warn': 1, 'Man': 1, 'Designing': 1, 'Instagram': 1, 'Some': 1, 'Things': 1, 'Editors': 1, 'Helsinki’s': 1, 'Saunas': 1, 'CAROLINE': 1, 'BIGGS': 1, 'serious': 1, 'animal': 1, 'lovers': 1, 'pets': 1, 'And': 1, 'doesn’t': 1, 'every': 1, 'member': 1, 'deserve': 1, 'own': 1, 'space': 1, 'Homes': 1, 'Sale': 2, 'Rent': 1, 'Mortgage': 1, 'Calculator': 1, 'EmailedMost': 1, 'ViewedTrendingRecommended': 1, 'Home': 2, 'Page': 1, 'Index': 2, 'windowmagnumwriteLogosmall': 1, 'httpsa1nytcomassetshomepage20171018133349imagesfoundationlogos': 1, 'standard': 1, 'siteindexbrandinglink': 1, 'Todays': 3, 'Paper': 1, 'Corrections': 1, 'Columnists': 1, 'Editorials': 1, 'Contributors': 1, 'Letters': 1, 'Dance': 1, 'Music': 1, 'NYC': 3, 'Events': 3, 'Jobs': 1, 'Weddings': 1, 'Celebrations': 1, 'Listings': 1, 'Reader': 1, 'Center': 1, 'Classifieds': 1, 'Tools': 1, 'Services': 1, 'Photography': 1, 'NYT': 1, 'Store': 1, 'Journeys': 1, 'Manage': 1, 'Account': 1, 'NYTCo': 1, 'Delivery': 1, 'Digital': 1, 'Email': 1, 'Newsletters': 1, 'Alerts': 1, 'Gift': 1, 'Corporate': 1, 'Rate': 1, 'Applications': 1, 'Replica': 1, 'Information': 2, 'copy': 1, 'Company': 1, 'Contact': 1, 'Us': 2, 'Advertise': 1, 'Ad': 1, 'Choices': 1, 'Privacy': 1, 'Terms': 2, 'Service': 1, 'Map': 1, 'Feedback': 1, 'Version': 1, 'windowlocationsearchindexOfdisabletagx': 1, 'requirehttpsa1nytcomanalyticstagxsimpleminjs': 1, 'pageManagertrackingFireEventQueue': 1, '--': 1}\n"
     ]
    }
   ],
   "source": [
    "import string\n",
    "from urllib import request \n",
    "def trans(a):\n",
    "    list_a = list(a)\n",
    "    for i in range(0,len(list_a)):\n",
    "        for j in range(0,len(L)):\n",
    "            if list_a[i] == L[j]:\n",
    "                list_a[i] = ''\n",
    "    result = \"\"\n",
    "    for i in range(0,len(list_a)):\n",
    "        result = result + list_a[i]\n",
    "    return result\n",
    "\n",
    "def delete_empty(a):\n",
    "    i = 0\n",
    "    while (i != len(a)):\n",
    "        if a[i] == '':\n",
    "            del(a[i])\n",
    "        i +=1\n",
    "    return a\n",
    "\n",
    "def frequency(a):\n",
    "    result = {}\n",
    "    for i in range(0,len(a)):\n",
    "        if (result.get(a[i])):\n",
    "            result[a[i]] += 1 ## 기존에 있는 key 면 value 값 1 증가\n",
    "        else:\n",
    "            result[a[i]] = 1 ##사전에 a[i] 와 value 1추가\n",
    "    return result\n",
    "\n",
    "url = 'http://www.nytimes.com'\n",
    "f = request.urlopen(url)\n",
    "source_bytes = f.read()\n",
    "source = source_bytes.decode('utf-8')\n",
    "\n",
    "isOpen = False\n",
    "pureWord = []\n",
    "text = ''\n",
    "for i in source:\n",
    "    if i == '<':\n",
    "        isOpen = True\n",
    "        continue\n",
    "    if i == '>':\n",
    "        isOpen = False\n",
    "        continue\n",
    "    if isOpen == False and not i.isspace():\n",
    "        text = text + i\n",
    "        ##print (i)\n",
    "        ##print(text)\n",
    "        ##print (isOpen)\n",
    "    if isOpen == False and i.isspace() and text:\n",
    "        pureWord.append(text)\n",
    "        text=''\n",
    "\n",
    "L = [string.punctuation[i] for i in range(0,len(string.punctuation)-1)]\n",
    "\n",
    "for i in range(0,len(pureWord)-1):\n",
    "    pureWord[i] = trans(pureWord[i])\n",
    "\n",
    "pureWord = delete_empty(pureWord)\n",
    "\n",
    "frequency_word = {}\n",
    "frequency_word = frequency(pureWord)\n",
    "print(frequency_word)"
   ]
  },
  {
   "cell_type": "markdown",
   "metadata": {
    "collapsed": true
   },
   "source": [
    "### 소감\n",
    "이번 과제를 하면서, 리스트 내포가 많이 흥미로웠다. 리스트를 쉽게 정의하고 할 수 있어서 편한것 같다. 사전의 사용법도 알게 되어서 좋았다. acmicpc 문제가 금방 풀려서, 약간 당황스러웠다. 다음 과제에는 더 재미있는 문제가 제출되었으면 한다. "
   ]
  }
 ],
 "metadata": {
  "kernelspec": {
   "display_name": "Python 3",
   "language": "python",
   "name": "python3"
  },
  "language_info": {
   "codemirror_mode": {
    "name": "ipython",
    "version": 3
   },
   "file_extension": ".py",
   "mimetype": "text/x-python",
   "name": "python",
   "nbconvert_exporter": "python",
   "pygments_lexer": "ipython3",
   "version": "3.6.1"
  }
 },
 "nbformat": 4,
 "nbformat_minor": 2
}
