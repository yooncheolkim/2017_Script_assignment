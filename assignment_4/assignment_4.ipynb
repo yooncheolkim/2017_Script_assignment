{
 "cells": [
  {
   "cell_type": "markdown",
   "metadata": {},
   "source": [
    "### [1번 문제] - 1"
   ]
  },
  {
   "cell_type": "code",
   "execution_count": 2,
   "metadata": {},
   "outputs": [
    {
     "name": "stdout",
     "output_type": "stream",
     "text": [
      "['pig ham', 'cat dog', 'ham bird', 'dog pig']\n",
      "['cat dog', 'dog pig', 'ham bird', 'pig ham']\n"
     ]
    }
   ],
   "source": [
    "import os\n",
    "f = open('s.txt')\n",
    "s = f.readline()\n",
    "res = []\n",
    "while s:\n",
    "    res.append(s)\n",
    "    s = f.readline()\n",
    "for i in range(0,len(res)-1):\n",
    "    res[i] = res[i][0:len(res[i])-1]\n",
    "    \n",
    "print(res)\n",
    "res.sort()\n",
    "print(res)\n",
    "f.close()\n",
    "\n",
    "f = open('s1.txt','w')\n",
    "res_1 = []\n",
    "for i in range(0, len(res)):\n",
    "    res_1.append(res[i]+'\\n')\n",
    "f.writelines(res_1)\n",
    "f.close()\n",
    "\n"
   ]
  },
  {
   "cell_type": "markdown",
   "metadata": {
    "collapsed": true
   },
   "source": [
    "- s.txt 파일 오픈, readline 함수를 이용하여, 각 줄을 읽어 온다.\n",
    "- 각 리스트의 끝에 줄바꿈 문자는 삭제해준다. res에 저장\n",
    "- list 의 sort 함수를 이용하여 정렬\n",
    "- write 모드로 다시 열어 wirte liens 함수를 이용하여 편집, 이때 줄바꿈문자 추가해줌"
   ]
  },
  {
   "cell_type": "markdown",
   "metadata": {},
   "source": [
    "### [1번 문제] - 2"
   ]
  },
  {
   "cell_type": "code",
   "execution_count": 3,
   "metadata": {},
   "outputs": [
    {
     "name": "stdout",
     "output_type": "stream",
     "text": [
      "['cat dog', 'dog pig', 'ham bird', 'pig ham']\n",
      "['ham bird', 'cat dog', 'pig ham', 'dog pig']\n"
     ]
    }
   ],
   "source": [
    "def cmp_by_second_str(a):\n",
    "    result = ''\n",
    "    meetspace = False\n",
    "    for i in range(0,len(a)):\n",
    "        if a[i] == ' ':\n",
    "            meetspace = True\n",
    "        if meetspace == True:\n",
    "            result = result+a[i]\n",
    "    return result\n",
    "\n",
    "print(res)\n",
    "res.sort(key=cmp_by_second_str)\n",
    "print(res)\n",
    "\n",
    "f = open('s2.txt','w')\n",
    "res_2 = []\n",
    "for i in range(0,len(res)):\n",
    "    res_2.append(res[i]+'\\n')\n",
    "f.writelines(res_2)\n",
    "f.close()"
   ]
  },
  {
   "cell_type": "markdown",
   "metadata": {},
   "source": [
    "- 위 문제에서 만들어 놓은 res를 이용한다.\n",
    "- 두번째 단어의 문자열을 return 하는 함수를 만들어 이 함수를 key 로 정렬한다.\n",
    "- '\\n'문자열을 res_2에 추가하고, 한줄씩 s2.txt를 편집."
   ]
  },
  {
   "cell_type": "markdown",
   "metadata": {},
   "source": [
    "### [1번 문제] - 3"
   ]
  },
  {
   "cell_type": "code",
   "execution_count": 4,
   "metadata": {},
   "outputs": [
    {
     "name": "stdout",
     "output_type": "stream",
     "text": [
      "['pig', 'ham', 'cat', 'dog', 'ham', 'bird', 'dog', 'pig']\n"
     ]
    }
   ],
   "source": [
    "f = open('s.txt', 'r')\n",
    "s = f.read()\n",
    "word = ''\n",
    "temp =[]\n",
    "for i in range(0,len(s)):\n",
    "    if s[i] ==' ' or s[i]=='\\n':\n",
    "        temp.append(word)\n",
    "        word = ''\n",
    "    else:\n",
    "        word = word + s[i]\n",
    "temp.append(word)\n",
    "print(temp)\n",
    "f.close()\n",
    "\n",
    "f= open('s3.txt','w')\n",
    "for i in range(0,len(temp)):\n",
    "    if (i+1)%3 ==0:\n",
    "        f.write(temp[i])\n",
    "        f.write('\\n')\n",
    "    else:\n",
    "        f.write(temp[i])\n",
    "        f.write(' ')\n",
    "f.close()"
   ]
  },
  {
   "cell_type": "markdown",
   "metadata": {},
   "source": [
    "- s.txt 에서 단어를 읽어와 temp 리스트에 추가\n",
    "- for문을 이용하여 인덱스가 3으로 나누어 지면 temp+'\\n'를 s3.txt에 추가\n",
    "- 3으로 나누어 지지 않으면 temp+' ' 을 추가"
   ]
  },
  {
   "cell_type": "markdown",
   "metadata": {},
   "source": [
    "### [2번 문제]"
   ]
  },
  {
   "cell_type": "code",
   "execution_count": 5,
   "metadata": {},
   "outputs": [
    {
     "name": "stdout",
     "output_type": "stream",
     "text": [
      "Welcome to Our Service\n",
      "\n",
      "     1. Sign Up\n",
      "     2. Sign In\n",
      "     3. Quit\n",
      "1\n",
      "input id2012136034\n",
      "input password125401\n",
      "input nameyooncheol\n",
      "input schoolkut\n",
      "Sorry, the entered ID is already used.\n",
      "input different id2012136034\n",
      "Sorry, the entered ID is already used.\n",
      "input different id2012136036\n",
      "complete insert!\n"
     ]
    }
   ],
   "source": [
    "import hashlib\n",
    "import os\n",
    "def check_id(i_id):\n",
    "    f = open('access.txt', 'r')\n",
    "    s = f.readline()\n",
    "    while s:\n",
    "        cnt_open = 0\n",
    "        cnt_close = 0\n",
    "        check = ''\n",
    "        for i in range(0,len(s)):\n",
    "            if s[i] == '[':\n",
    "                cnt_open = cnt_open+1\n",
    "                continue\n",
    "            elif s[i] ==']':\n",
    "                cnt_close = cnt_close+1\n",
    "                continue\n",
    "            if cnt_open ==1 and cnt_close ==0:\n",
    "                check = check + s[i]\n",
    "            if cnt_open >=2 or cnt_close >=1:\n",
    "                break\n",
    "        if(check == i_id):\n",
    "            f.close()\n",
    "            return True\n",
    "        s = f.readline()\n",
    "    f.close()\n",
    "    return False\n",
    "\n",
    "def check_id_pas(i_id,pas):\n",
    "    hasher = hashlib.sha1()\n",
    "    hasher.update(pas.encode('utf-8'))\n",
    "    password_hash = hasher.hexdigest()\n",
    "    \n",
    "    f = open('access.txt','r')\n",
    "    s = f.readline()\n",
    "    name = ''\n",
    "    while s:\n",
    "        cnt_open = 0\n",
    "        cnt_close = 0\n",
    "        check_recent_id = ''\n",
    "        check_recent_pas = ''\n",
    "        name = ''\n",
    "        for i in range(0,len(s)):\n",
    "            if s[i] == '[':\n",
    "                cnt_open = cnt_open+1\n",
    "                continue\n",
    "            elif s[i] ==']':\n",
    "                cnt_close = cnt_close+1\n",
    "                continue\n",
    "            if cnt_open == 1 and cnt_close == 0:\n",
    "                check_recent_id = check_recent_id+ s[i]\n",
    "            if cnt_open == 2 and cnt_close == 1:\n",
    "                check_recent_pas = check_recent_pas + s[i]\n",
    "            if cnt_open == 3 and cnt_close == 2:\n",
    "                name = name + s[i]\n",
    "            if cnt_open >=4 or cnt_close >=3:\n",
    "                break\n",
    "                \n",
    "        if(check_recent_id == i_id and check_recent_pas == password_hash):\n",
    "            f.close()\n",
    "            return (True, name)\n",
    "        s = f.readline()\n",
    "    f.close()\n",
    "    return (False, name)\n",
    "            \n",
    "            \n",
    "def insert_info(i_id,pas,name,school):\n",
    "    hasher = hashlib.sha1()\n",
    "    hasher.update(pas.encode('utf-8'))\n",
    "    password_hash = hasher.hexdigest()\n",
    "    \n",
    "    f = open('access.txt','a')\n",
    "    f.write('[' + i_id +']' + ':'+' '+'['+password_hash+'],['+name+'],['+school+']\\n')\n",
    "    f.close()\n",
    "    print(\"complete insert!\")\n",
    "    pass\n",
    "\n",
    "a = input('''Welcome to Our Service\n",
    "\n",
    "     1. Sign Up\n",
    "     2. Sign In\n",
    "     3. Quit\\n''')\n",
    "\n",
    "try :\n",
    "    f = open('access.txt','r')\n",
    "    f.close()\n",
    "except:\n",
    "    f = open('access.txt','w')\n",
    "    f.close()\n",
    "    \n",
    "if a=='1':\n",
    "    isinit = False\n",
    "    while True:\n",
    "        if isinit == False:\n",
    "            i_id = input('input id')\n",
    "            password = input('input password')\n",
    "            name = input('input name')\n",
    "            school = input('input school')\n",
    "            isinit = True\n",
    "        else:\n",
    "            i_id = input(\"input different id\")\n",
    "        \n",
    "        if check_id(i_id) == True:\n",
    "            print(\"Sorry, the entered ID is already used.\")\n",
    "        else:\n",
    "            insert_info(i_id,password,name,school)\n",
    "            break\n",
    "elif a=='2':\n",
    "    check_error = 0\n",
    "    while True:\n",
    "        if check_error == 0:\n",
    "            i_id_2 = input('input id')\n",
    "            password_2 = input('input password')\n",
    "        if check_error ==1:\n",
    "            password_2 = input('input different password')\n",
    "        \n",
    "        ischeck_id = check_id(i_id_2)\n",
    "        ischeck_id_pas = check_id_pas(i_id_2,password_2)\n",
    "        \n",
    "        ##아이디가 존재하지 않는경우\n",
    "        if ischeck_id == False:\n",
    "            print(\"Sorry, you are not a registered member.\")\n",
    "            check_error = 0\n",
    "        ##아이디는 존재하지만 password가 일치 하지 않는경우\n",
    "        if ischeck_id == True and ischeck_id_pas[0] == False:\n",
    "            print(\"Sorry, the entered password is not correct.\")\n",
    "            check_error = 1\n",
    "        if ischeck_id == True and ischeck_id_pas[0] == True:\n",
    "            print(\"Hello\"+\"[\"+ischeck_id_pas[1]+\"]!\")\n",
    "            break\n",
    "elif a =='3':\n",
    "    print(\"bye~\")"
   ]
  },
  {
   "cell_type": "markdown",
   "metadata": {},
   "source": [
    "### [3번 문제]"
   ]
  },
  {
   "cell_type": "code",
   "execution_count": 7,
   "metadata": {},
   "outputs": [
    {
     "data": {
      "text/plain": [
       "[2.2, 2.7, 3.2, 3.7]"
      ]
     },
     "execution_count": 7,
     "metadata": {},
     "output_type": "execute_result"
    }
   ],
   "source": [
    "def frange(stop,start = 0.0,step = 0.1):\n",
    "    if stop < start:\n",
    "        stop , start = start , stop\n",
    "    L = []\n",
    "    while start < stop:\n",
    "        L.append(round(start,10))\n",
    "        start = start + step\n",
    "    return L\n",
    "frange(2.2,4.0,0.5)"
   ]
  },
  {
   "cell_type": "markdown",
   "metadata": {},
   "source": [
    "- 음수를 인자로 받지 않으므로 stop 인자로 음수로 오는 걱정은 하지 않는다.\n",
    "- start인자로 stop 보다 큰 인자가 입력 되면, start를 stop 으로 사용해야 되기 때문에, swap 해준다.\n",
    "- float 자료형을 10자리로 끊기 위해 round를 사용하여 보기 쉽게 해준다."
   ]
  },
  {
   "cell_type": "markdown",
   "metadata": {},
   "source": [
    "### [4번 문제]"
   ]
  },
  {
   "cell_type": "code",
   "execution_count": 8,
   "metadata": {},
   "outputs": [
    {
     "name": "stdout",
     "output_type": "stream",
     "text": [
      "0\n",
      "3\n",
      "15\n",
      "5\n"
     ]
    }
   ],
   "source": [
    "def sum(*n):\n",
    "    result = 0\n",
    "    if len(n) == 0:\n",
    "        return 0\n",
    "    for i in range(0,len(n)):\n",
    "        result = result + n[i]\n",
    "    return result\n",
    "print(sum())\n",
    "print(sum(1, 2))\n",
    "print(sum(1, 2, 3, 4, 5))\n",
    "print(sum(1, 5, 7, 2, -10))"
   ]
  },
  {
   "cell_type": "markdown",
   "metadata": {},
   "source": [
    "- 가변인수를 사용한다. *\n",
    "- n의 사이즈가 0 이면 0을 리턴하고, 그렇지 않으면 for문을 이용 모두 더한 값을 출력한다."
   ]
  },
  {
   "cell_type": "markdown",
   "metadata": {},
   "source": [
    "### [5번 문제]"
   ]
  },
  {
   "cell_type": "code",
   "execution_count": 9,
   "metadata": {},
   "outputs": [
    {
     "data": {
      "text/plain": [
       "'ASAP'"
      ]
     },
     "execution_count": 9,
     "metadata": {},
     "output_type": "execute_result"
    }
   ],
   "source": [
    "def myinitial(a):\n",
    "    a = a.upper()\n",
    "    L = a.split()\n",
    "    res = list(map(lambda a :a[0],L))\n",
    "    result = \"\".join(res)\n",
    "    return result\n",
    "    \n",
    "myinitial(\"as soon as possible\")"
   ]
  },
  {
   "cell_type": "markdown",
   "metadata": {},
   "source": [
    "- 먼저 입력받은 문자열을 모두 대문자로 바꾸고, 공백은 기준으로 나누어 L에 저장\n",
    "- lambda 함수와, map을 이용하여, 첫번째 문자들을 담은 list를 res 저장\n",
    "- res 리스트를 빈칸으로 join 한 결과 인 result 리턴"
   ]
  },
  {
   "cell_type": "markdown",
   "metadata": {},
   "source": [
    "### [6번 문제]"
   ]
  },
  {
   "cell_type": "code",
   "execution_count": 10,
   "metadata": {},
   "outputs": [
    {
     "name": "stdout",
     "output_type": "stream",
     "text": [
      "120\n",
      "2432902008176640000\n",
      "11978571669969891796072783721689098736458938142546425857555362864628009582789845319680000000000000000\n",
      "93326215443944152681699238856266700490715968264381621468592963895217599993229915608941463976156518286253697920827223758251185210916864000000000000000000000000\n",
      "1220136825991110068701238785423046926253574342803192842192413588385845373153881997605496447502203281863013616477148203584163378722078177200480785205159329285477907571939330603772960859086270429174547882424912726344305670173270769461062802310452644218878789465754777149863494367781037644274033827365397471386477878495438489595537537990423241061271326984327745715546309977202781014561081188373709531016356324432987029563896628911658974769572087926928871281780070265174507768410719624390394322536422605234945850129918571501248706961568141625359056693423813008856249246891564126775654481886506593847951775360894005745238940335798476363944905313062323749066445048824665075946735862074637925184200459369692981022263971952597190945217823331756934581508552332820762820023402626907898342451712006207714640979456116127629145951237229913340169552363850942885592018727433795173014586357570828355780158735432768888680120399882384702151467605445407663535984174430480128938313896881639487469658817504506926365338175055478128640000000000000000000000000000000000000000000000000000000000000000000000000000000000000000000000000000000000000000000000000000\n",
      "2422040124750272179867875093812352218590983385729207299450679664929938160215647420444519051666484819249321456671497049842327525093874817343838393757631459228450828499972271274140160311057830558463636337124079332447820739281101037112665387537180790257577919273108262916904750405235055060084012219492892375635136296622020023178109619818046179906897450420548912610870589088056503913584562211037693288782960900195074130999799035970711436279339094292032866260496375825461427727555710003007752906141470639574390024988514914264449865006458873226951941899545970333910351588559232940829569276986080222200289966128343931630028789203382654749603473516314765262772257171154686716862814184728741187147936349501653197457455660413134506049122044947052623384682088864790673309569292384215611788014274954905914148362303226200246816441301934846080254998647325270606104512088058712293349862185399243309054299576381718806247238195232604642614329894070636163753672091232751612378348273840757873567717532879242518337119540602943609411629349009566043720836737401090882392975031224612531245642687296717053747734506443314924558119560479901478736209556925161517737110399754730551854066328420014728657896286936523787080206476327157136441318773432751007263108056958251693811280957243202460157111778617472683761623869704457588005158037495665069625778930898095725794710701639238231528115579619120287378689238934335198508665933917257143975277707590597511989345068701735940169672561864713107115016747368992690116082633762172346688969840862517264384000000000000000000000000000000000000000000000000000000000000000000000000000000000000000000000000000000000000000000000000000000000000000000000000000000000000000000000000000000\n",
      "67526802209645841583879061361800814224269427869589384312198268703685091643180416969132446952698303794226010370578672908593198347699886928591906501031587651846976759681112609524787093848004428636186893395272784450630354080243217646658024696659065951793757223520229235577548653833681102170973893746054649126415909143150172860721156685810655759230011450132992176454983227538696340112610447029002337004887877266387704586077293585433151612518800147764461182680822867092786694982831838641800997499819339206579415325649748486265233918911087114592440896594062675914294925816719862178374679272092637524786939036290035924271782253738059886933923447877769583003016705363339031413069155837518524761078342052635475632113169618774549275701480106933362990003732589370593557325299434734459295866728988740794174654391479926000848846686708729736713207285203712732201272410830836913052635365082888725171636081587151603468291106754640398232146673627370895934090777828827549554232436190464827998683927179246029919443251026464452337939599198528297828591122689960620361238248313158071643395848405047261412680039877733761849874447323867911712630023171745968278465780558568067035013885275080292137360491875164947724464221693533755035300065350065137490832039523382963747026185653050331832380991844842560750923543775188582096487476950254418365198999674684417286265442786651594404781622946901879166382930714196908227460133027605817864877377712193142137625430353718448269390732615776645283198828602917680224041088993892610506802195917247838900106910698057030379190571057605849323113308634452008179881165616449767648354161225066967961297609698742737923389391615207441152319392845687673311899247085327703421862972871644495409572259985563215471482083325653231777113271326579970310755604973969708949477374254974480294652427022436705380184064008853457214518515270985563195412993145274057688634448812449445800617631162768243125606424844709372022149908463572254912654907763445758543980999149122998104378965626781898655221443263601405152073199706585080288735040205417371277253096243200000000000000000000000000000000000000000000000000000000000000000000000000000000000000000000000000000000000000000000000000000000000000000000000000000000000000000000000000000000000000000000000000000000000000000000000000000000\n"
     ]
    },
    {
     "ename": "RecursionError",
     "evalue": "maximum recursion depth exceeded in comparison",
     "output_type": "error",
     "traceback": [
      "\u001b[1;31m---------------------------------------------------------------------------\u001b[0m",
      "\u001b[1;31mRecursionError\u001b[0m                            Traceback (most recent call last)",
      "\u001b[1;32m<ipython-input-10-04a1e16e28d8>\u001b[0m in \u001b[0;36m<module>\u001b[1;34m()\u001b[0m\n\u001b[0;32m     10\u001b[0m \u001b[0mprint\u001b[0m\u001b[1;33m(\u001b[0m\u001b[0mmyfact\u001b[0m\u001b[1;33m(\u001b[0m\u001b[1;36m700\u001b[0m\u001b[1;33m)\u001b[0m\u001b[1;33m)\u001b[0m\u001b[1;33m\u001b[0m\u001b[0m\n\u001b[0;32m     11\u001b[0m \u001b[0mprint\u001b[0m\u001b[1;33m(\u001b[0m\u001b[0mmyfact\u001b[0m\u001b[1;33m(\u001b[0m\u001b[1;36m900\u001b[0m\u001b[1;33m)\u001b[0m\u001b[1;33m)\u001b[0m\u001b[1;33m\u001b[0m\u001b[0m\n\u001b[1;32m---> 12\u001b[1;33m \u001b[0mprint\u001b[0m\u001b[1;33m(\u001b[0m\u001b[0mmyfact\u001b[0m\u001b[1;33m(\u001b[0m\u001b[1;36m1000\u001b[0m\u001b[1;33m)\u001b[0m\u001b[1;33m)\u001b[0m\u001b[1;33m\u001b[0m\u001b[0m\n\u001b[0m",
      "\u001b[1;32m<ipython-input-10-04a1e16e28d8>\u001b[0m in \u001b[0;36mmyfact\u001b[1;34m(n)\u001b[0m\n\u001b[0;32m      2\u001b[0m     \u001b[1;32mif\u001b[0m \u001b[0mn\u001b[0m \u001b[1;33m==\u001b[0m \u001b[1;36m1\u001b[0m\u001b[1;33m:\u001b[0m\u001b[1;33m\u001b[0m\u001b[0m\n\u001b[0;32m      3\u001b[0m         \u001b[1;32mreturn\u001b[0m \u001b[1;36m1\u001b[0m\u001b[1;33m\u001b[0m\u001b[0m\n\u001b[1;32m----> 4\u001b[1;33m     \u001b[1;32mreturn\u001b[0m \u001b[0mn\u001b[0m\u001b[1;33m*\u001b[0m\u001b[0mmyfact\u001b[0m\u001b[1;33m(\u001b[0m\u001b[0mn\u001b[0m\u001b[1;33m-\u001b[0m\u001b[1;36m1\u001b[0m\u001b[1;33m)\u001b[0m\u001b[1;33m\u001b[0m\u001b[0m\n\u001b[0m\u001b[0;32m      5\u001b[0m \u001b[0mprint\u001b[0m\u001b[1;33m(\u001b[0m\u001b[0mmyfact\u001b[0m\u001b[1;33m(\u001b[0m\u001b[1;36m5\u001b[0m\u001b[1;33m)\u001b[0m\u001b[1;33m)\u001b[0m\u001b[1;33m\u001b[0m\u001b[0m\n\u001b[0;32m      6\u001b[0m \u001b[0mprint\u001b[0m\u001b[1;33m(\u001b[0m\u001b[0mmyfact\u001b[0m\u001b[1;33m(\u001b[0m\u001b[1;36m20\u001b[0m\u001b[1;33m)\u001b[0m\u001b[1;33m)\u001b[0m\u001b[1;33m\u001b[0m\u001b[0m\n",
      "... last 1 frames repeated, from the frame below ...\n",
      "\u001b[1;32m<ipython-input-10-04a1e16e28d8>\u001b[0m in \u001b[0;36mmyfact\u001b[1;34m(n)\u001b[0m\n\u001b[0;32m      2\u001b[0m     \u001b[1;32mif\u001b[0m \u001b[0mn\u001b[0m \u001b[1;33m==\u001b[0m \u001b[1;36m1\u001b[0m\u001b[1;33m:\u001b[0m\u001b[1;33m\u001b[0m\u001b[0m\n\u001b[0;32m      3\u001b[0m         \u001b[1;32mreturn\u001b[0m \u001b[1;36m1\u001b[0m\u001b[1;33m\u001b[0m\u001b[0m\n\u001b[1;32m----> 4\u001b[1;33m     \u001b[1;32mreturn\u001b[0m \u001b[0mn\u001b[0m\u001b[1;33m*\u001b[0m\u001b[0mmyfact\u001b[0m\u001b[1;33m(\u001b[0m\u001b[0mn\u001b[0m\u001b[1;33m-\u001b[0m\u001b[1;36m1\u001b[0m\u001b[1;33m)\u001b[0m\u001b[1;33m\u001b[0m\u001b[0m\n\u001b[0m\u001b[0;32m      5\u001b[0m \u001b[0mprint\u001b[0m\u001b[1;33m(\u001b[0m\u001b[0mmyfact\u001b[0m\u001b[1;33m(\u001b[0m\u001b[1;36m5\u001b[0m\u001b[1;33m)\u001b[0m\u001b[1;33m)\u001b[0m\u001b[1;33m\u001b[0m\u001b[0m\n\u001b[0;32m      6\u001b[0m \u001b[0mprint\u001b[0m\u001b[1;33m(\u001b[0m\u001b[0mmyfact\u001b[0m\u001b[1;33m(\u001b[0m\u001b[1;36m20\u001b[0m\u001b[1;33m)\u001b[0m\u001b[1;33m)\u001b[0m\u001b[1;33m\u001b[0m\u001b[0m\n",
      "\u001b[1;31mRecursionError\u001b[0m: maximum recursion depth exceeded in comparison"
     ]
    }
   ],
   "source": [
    "def myfact(n):\n",
    "    if n == 1:\n",
    "        return 1\n",
    "    return n*myfact(n-1)\n",
    "print(myfact(5))\n",
    "print(myfact(20))\n",
    "print(myfact(70))\n",
    "print(myfact(100))\n",
    "print(myfact(500))\n",
    "print(myfact(700))\n",
    "print(myfact(900))\n",
    "print(myfact(1000))"
   ]
  },
  {
   "cell_type": "markdown",
   "metadata": {},
   "source": [
    "- 조금씩 수를 키워본 결과, 1000부터 오류 나는것을 확인 할수 있다.\n"
   ]
  },
  {
   "cell_type": "markdown",
   "metadata": {},
   "source": [
    "### [7번 문제]"
   ]
  },
  {
   "cell_type": "code",
   "execution_count": 13,
   "metadata": {},
   "outputs": [
    {
     "name": "stdout",
     "output_type": "stream",
     "text": [
      "['In', 'L', 'L2', 'Out', '_', '_7', '_9', '__', '___', '__builtin__', '__builtins__', '__doc__', '__loader__', '__name__', '__package__', '__spec__', '_dh', '_i', '_i1', '_i10', '_i11', '_i12', '_i13', '_i2', '_i3', '_i4', '_i5', '_i6', '_i7', '_i8', '_i9', '_ih', '_ii', '_iii', '_oh', '_sh', 'a', 'check_id', 'check_id_pas', 'cmp_by_second_str', 'delete_empty', 'exit', 'f', 'frange', 'frequency', 'frequency_word', 'get_ipython', 'hasher', 'hashlib', 'i', 'i_id', 'insert_info', 'isOpen', 'isinit', 'myfact', 'myinitial', 'name', 'os', 'password', 'pickle', 'pureWord', 'quit', 'request', 'res', 'res_1', 'res_2', 's', 'school', 'source', 'source_bytes', 'string', 'sum', 'temp', 'text', 'trans', 'url', 'url1', 'word']\n"
     ]
    }
   ],
   "source": [
    "print(dir())"
   ]
  },
  {
   "cell_type": "code",
   "execution_count": 14,
   "metadata": {},
   "outputs": [
    {
     "name": "stdout",
     "output_type": "stream",
     "text": [
      "['In', 'L', 'L2', 'Out', '_', '_7', '_9', '__', '___', '__builtin__', '__builtins__', '__doc__', '__loader__', '__name__', '__package__', '__spec__', '_dh', '_i', '_i1', '_i10', '_i11', '_i12', '_i13', '_i14', '_i2', '_i3', '_i4', '_i5', '_i6', '_i7', '_i8', '_i9', '_ih', '_ii', '_iii', '_oh', '_sh', 'a', 'check_id', 'check_id_pas', 'cmp_by_second_str', 'delete_empty', 'exit', 'f', 'frange', 'frequency', 'frequency_word', 'get_ipython', 'hasher', 'hashlib', 'i', 'i_id', 'insert_info', 'isOpen', 'isinit', 'myfact', 'myinitial', 'name', 'os', 'password', 'pickle', 'pureWord', 'quit', 'request', 'res', 'res_1', 'res_2', 's', 'school', 'source', 'source_bytes', 'string', 'sum', 'temp', 'text', 'trans', 'url', 'url1', 'word']\n"
     ]
    }
   ],
   "source": [
    "import string\n",
    "print(dir())"
   ]
  },
  {
   "cell_type": "code",
   "execution_count": 15,
   "metadata": {},
   "outputs": [
    {
     "name": "stdout",
     "output_type": "stream",
     "text": [
      "['Formatter', 'In', 'L', 'L2', 'Out', 'Template', '_', '_7', '_9', '__', '___', '__builtin__', '__builtins__', '__doc__', '__loader__', '__name__', '__package__', '__spec__', '_dh', '_i', '_i1', '_i10', '_i11', '_i12', '_i13', '_i14', '_i15', '_i2', '_i3', '_i4', '_i5', '_i6', '_i7', '_i8', '_i9', '_ih', '_ii', '_iii', '_oh', '_sh', 'a', 'ascii_letters', 'ascii_lowercase', 'ascii_uppercase', 'capwords', 'check_id', 'check_id_pas', 'cmp_by_second_str', 'delete_empty', 'digits', 'exit', 'f', 'frange', 'frequency', 'frequency_word', 'get_ipython', 'hasher', 'hashlib', 'hexdigits', 'i', 'i_id', 'insert_info', 'isOpen', 'isinit', 'myfact', 'myinitial', 'name', 'octdigits', 'os', 'password', 'pickle', 'printable', 'punctuation', 'pureWord', 'quit', 'request', 'res', 'res_1', 'res_2', 's', 'school', 'source', 'source_bytes', 'string', 'sum', 'temp', 'text', 'trans', 'url', 'url1', 'whitespace', 'word']\n"
     ]
    }
   ],
   "source": [
    "from string import *\n",
    "print(dir())"
   ]
  },
  {
   "cell_type": "markdown",
   "metadata": {},
   "source": [
    "- import string을 할경우, string 모듈을 포함하게 되고, string 내포 함수를 사용할수 있게 된다. 이름공간 string이 유지되고, string.~ 함수들을 사용할 수 있다.\n",
    "- from string import *를 할경우 string 모듈에 존재하는 '_'로 시작되는 이름들을 제외한 모든 이름들을 현재 공간으로 불러들인다."
   ]
  },
  {
   "cell_type": "markdown",
   "metadata": {},
   "source": [
    "### [8번 문제] - 1"
   ]
  },
  {
   "cell_type": "code",
   "execution_count": 16,
   "metadata": {},
   "outputs": [],
   "source": [
    "## 기존코드\n",
    "import string\n",
    "from urllib import request \n",
    "def trans(a):\n",
    "    list_a = list(a)\n",
    "    for i in range(0,len(list_a)):\n",
    "        for j in range(0,len(L)):\n",
    "            if list_a[i] == L[j]:\n",
    "                list_a[i] = ''\n",
    "    result = \"\"\n",
    "    for i in range(0,len(list_a)):\n",
    "        result = result + list_a[i]\n",
    "    return result\n",
    "\n",
    "def delete_empty(a):\n",
    "    i = 0\n",
    "    while (i != len(a)):\n",
    "        if a[i] == '':\n",
    "            del(a[i])\n",
    "        i +=1\n",
    "    return a\n",
    "\n",
    "def frequency(a):\n",
    "    result = {}\n",
    "    for i in range(0,len(a)):\n",
    "        if (result.get(a[i])):\n",
    "            result[a[i]] += 1 ## 기존에 있는 key 면 value 값 1 증가\n",
    "        else:\n",
    "            result[a[i]] = 1 ##사전에 a[i] 와 value 1추가\n",
    "    return result\n",
    "\n",
    "url = 'http://www.nytimes.com'\n",
    "f = request.urlopen(url)\n",
    "source_bytes = f.read()\n",
    "source = source_bytes.decode('utf-8')\n",
    "\n",
    "isOpen = False\n",
    "pureWord = []\n",
    "text = ''\n",
    "for i in source:\n",
    "    if i == '<':\n",
    "        isOpen = True\n",
    "        continue\n",
    "    if i == '>':\n",
    "        isOpen = False\n",
    "        continue\n",
    "    if isOpen == False and not i.isspace():\n",
    "        text = text + i\n",
    "        ##print (i)\n",
    "        ##print(text)\n",
    "        ##print (isOpen)\n",
    "    if isOpen == False and i.isspace() and text:\n",
    "        pureWord.append(text)\n",
    "        text=''\n",
    "\n",
    "L = [string.punctuation[i] for i in range(0,len(string.punctuation)-1)]\n",
    "\n",
    "for i in range(0,len(pureWord)-1):\n",
    "    pureWord[i] = trans(pureWord[i])\n",
    "\n",
    "pureWord = delete_empty(pureWord)\n",
    "\n",
    "frequency_word = {}\n",
    "frequency_word = frequency(pureWord)"
   ]
  },
  {
   "cell_type": "code",
   "execution_count": 17,
   "metadata": {},
   "outputs": [],
   "source": [
    "url = 'http://www.lextek.com/manuals/onix/stopwords1.html'\n",
    "f = request.urlopen(url)\n",
    "source_bytes = f.read()\n",
    "source = source_bytes.decode('utf-8')\n",
    "L = source.split()\n",
    "L = L[503:503+429]"
   ]
  },
  {
   "cell_type": "markdown",
   "metadata": {},
   "source": [
    "- 'http://www.lextek.com/manuals/onix/stopwords1.html' 에서 불용어들을 모두 가져옴"
   ]
  },
  {
   "cell_type": "code",
   "execution_count": 18,
   "metadata": {},
   "outputs": [],
   "source": [
    "L2 = list(frequency_word.keys())\n",
    "for i in range(0,len(L)):\n",
    "    if L[i] in frequency_word:\n",
    "        del frequency_word[L[i]]"
   ]
  },
  {
   "cell_type": "markdown",
   "metadata": {},
   "source": [
    "- frequency_word 에서 불용어들을 제거"
   ]
  },
  {
   "cell_type": "markdown",
   "metadata": {},
   "source": [
    "[8번 문제] - 2"
   ]
  },
  {
   "cell_type": "code",
   "execution_count": 19,
   "metadata": {},
   "outputs": [],
   "source": [
    "from urllib import request \n",
    "url1 = 'http://www.cnn.com'\n",
    "url2 = 'http://www.reddit.com'\n",
    "url3 = 'http://www.billboard.com'\n",
    "url4 = 'http://www.espn.com'\n",
    "url5 = 'http://www.ted.com'\n",
    "\n",
    "f = request.urlopen(url1)\n",
    "source_bytes = f.read()\n",
    "source = source_bytes.decode('utf-8')\n",
    "s = url1[7:len(url1)]\n",
    "ff = open(s+\".html\",'w',encoding='utf-8')\n",
    "ff.write(source)\n",
    "ff.close()\n",
    "\n",
    "f = request.urlopen(url2)\n",
    "source_bytes = f.read()\n",
    "source = source_bytes.decode('utf-8')\n",
    "s = url2[7:len(url2)]\n",
    "ff = open(s+\".html\",'w',encoding='utf-8')\n",
    "ff.write(source)\n",
    "ff.close()\n",
    "\n",
    "f = request.urlopen(url3)\n",
    "source_bytes = f.read()\n",
    "source = source_bytes.decode('utf-8')\n",
    "s = url3[7:len(url3)]\n",
    "ff = open(s+\".html\",'w',encoding='utf-8')\n",
    "ff.write(source)\n",
    "ff.close()\n",
    "\n",
    "f = request.urlopen(url4)\n",
    "source_bytes = f.read()\n",
    "source = source_bytes.decode('utf-8')\n",
    "s = url4[7:len(url4)]\n",
    "ff = open(s+\".html\",'w',encoding='utf-8')\n",
    "ff.write(source)\n",
    "ff.close()\n",
    "\n",
    "f = request.urlopen(url5)\n",
    "source_bytes = f.read()\n",
    "source = source_bytes.decode('utf-8')\n",
    "s = url5[7:len(url5)]\n",
    "ff = open(s+\".html\",'w',encoding='utf-8')\n",
    "ff.write(source)\n",
    "ff.close()"
   ]
  },
  {
   "cell_type": "markdown",
   "metadata": {},
   "source": [
    "- 각 url을 저장하여, http:// 을 제외한 나머지 문자열로 이름을 만들어 uft-8로 인코딩 하였다.\n",
    "- write(source) 로 저장"
   ]
  },
  {
   "cell_type": "markdown",
   "metadata": {},
   "source": [
    "### [8번 문제] - 3"
   ]
  },
  {
   "cell_type": "code",
   "execution_count": 20,
   "metadata": {},
   "outputs": [],
   "source": [
    "import pickle\n",
    "## 기존코드\n",
    "import string\n",
    "from urllib import request \n",
    "def trans(a):\n",
    "    list_a = list(a)\n",
    "    for i in range(0,len(list_a)):\n",
    "        for j in range(0,len(L)):\n",
    "            if list_a[i] == L[j]:\n",
    "                list_a[i] = ''\n",
    "    result = \"\"\n",
    "    for i in range(0,len(list_a)):\n",
    "        result = result + list_a[i]\n",
    "    return result\n",
    "\n",
    "def delete_empty(a):\n",
    "    i = 0\n",
    "    while (i != len(a)):\n",
    "        if a[i] == '':\n",
    "            del(a[i])\n",
    "        i +=1\n",
    "    return a\n",
    "\n",
    "def frequency(a):\n",
    "    result = {}\n",
    "    for i in range(0,len(a)):\n",
    "        if (result.get(a[i])):\n",
    "            result[a[i]] += 1 ## 기존에 있는 key 면 value 값 1 증가\n",
    "        else:\n",
    "            result[a[i]] = 1 ##사전에 a[i] 와 value 1추가\n",
    "    return result\n",
    "\n",
    "url = 'http://www.cnn.com'\n",
    "f = request.urlopen(url)\n",
    "source_bytes = f.read()\n",
    "source = source_bytes.decode('utf-8')\n",
    "\n",
    "isOpen = False\n",
    "pureWord = []\n",
    "text = ''\n",
    "for i in source:\n",
    "    if i == '<':\n",
    "        isOpen = True\n",
    "        continue\n",
    "    if i == '>':\n",
    "        isOpen = False\n",
    "        continue\n",
    "    if isOpen == False and not i.isspace():\n",
    "        text = text + i\n",
    "        ##print (i)\n",
    "        ##print(text)\n",
    "        ##print (isOpen)\n",
    "    if isOpen == False and i.isspace() and text:\n",
    "        pureWord.append(text)\n",
    "        text=''\n",
    "\n",
    "L = [string.punctuation[i] for i in range(0,len(string.punctuation)-1)]\n",
    "\n",
    "for i in range(0,len(pureWord)-1):\n",
    "    pureWord[i] = trans(pureWord[i])\n",
    "\n",
    "pureWord = delete_empty(pureWord)\n",
    "\n",
    "frequency_word = {}\n",
    "frequency_word = frequency(pureWord)\n",
    "\n",
    "url1 = 'http://www.lextek.com/manuals/onix/stopwords1.html'\n",
    "f = request.urlopen(url)\n",
    "source_bytes = f.read()\n",
    "source = source_bytes.decode('utf-8')\n",
    "L = source.split()\n",
    "L = L[503:503+429]\n",
    "\n",
    "L2 = list(frequency_word.keys())\n",
    "for i in range(0,len(L)):\n",
    "    if L[i] in frequency_word:\n",
    "        del frequency_word[L[i]]\n",
    "\n",
    "s= url[7:len(url)]\n",
    "f= open(s+'.words.frequency','bw')\n",
    "pickle.dump(frequency_word,f)\n",
    "f.close()"
   ]
  },
  {
   "cell_type": "code",
   "execution_count": 21,
   "metadata": {},
   "outputs": [
    {
     "ename": "IndentationError",
     "evalue": "expected an indented block (<ipython-input-21-e29701c353a8>, line 78)",
     "output_type": "error",
     "traceback": [
      "\u001b[1;36m  File \u001b[1;32m\"<ipython-input-21-e29701c353a8>\"\u001b[1;36m, line \u001b[1;32m78\u001b[0m\n\u001b[1;33m    s= url[7:len(url)]\u001b[0m\n\u001b[1;37m                      ^\u001b[0m\n\u001b[1;31mIndentationError\u001b[0m\u001b[1;31m:\u001b[0m expected an indented block\n"
     ]
    }
   ],
   "source": [
    "import pickle\n",
    "## 기존코드\n",
    "import string\n",
    "from urllib import request \n",
    "def trans(a):\n",
    "    list_a = list(a)\n",
    "    for i in range(0,len(list_a)):\n",
    "        for j in range(0,len(L)):\n",
    "            if list_a[i] == L[j]:\n",
    "                list_a[i] = ''\n",
    "    result = \"\"\n",
    "    for i in range(0,len(list_a)):\n",
    "        result = result + list_a[i]\n",
    "    return result\n",
    "\n",
    "def delete_empty(a):\n",
    "    i = 0\n",
    "    while (i != len(a)):\n",
    "        if a[i] == '':\n",
    "            del(a[i])\n",
    "        i +=1\n",
    "    return a\n",
    "\n",
    "def frequency(a):\n",
    "    result = {}\n",
    "    for i in range(0,len(a)):\n",
    "        if (result.get(a[i])):\n",
    "            result[a[i]] += 1 ## 기존에 있는 key 면 value 값 1 증가\n",
    "        else:\n",
    "            result[a[i]] = 1 ##사전에 a[i] 와 value 1추가\n",
    "    return result\n",
    "\n",
    "url = 'http://www.reddit.com'\n",
    "f = request.urlopen(url)\n",
    "source_bytes = f.read()\n",
    "source = source_bytes.decode('utf-8')\n",
    "\n",
    "isOpen = False\n",
    "pureWord = []\n",
    "text = ''\n",
    "for i in source:\n",
    "    if i == '<':\n",
    "        isOpen = True\n",
    "        continue\n",
    "    if i == '>':\n",
    "        isOpen = False\n",
    "        continue\n",
    "    if isOpen == False and not i.isspace():\n",
    "        text = text + i\n",
    "        ##print (i)\n",
    "        ##print(text)\n",
    "        ##print (isOpen)\n",
    "    if isOpen == False and i.isspace() and text:\n",
    "        pureWord.append(text)\n",
    "        text=''\n",
    "\n",
    "L = [string.punctuation[i] for i in range(0,len(string.punctuation)-1)]\n",
    "\n",
    "for i in range(0,len(pureWord)-1):\n",
    "    pureWord[i] = trans(pureWord[i])\n",
    "\n",
    "pureWord = delete_empty(pureWord)\n",
    "\n",
    "frequency_word = {}\n",
    "frequency_word = frequency(pureWord)\n",
    "\n",
    "url1 = 'http://www.lextek.com/manuals/onix/stopwords1.html'\n",
    "f = request.urlopen(url)\n",
    "source_bytes = f.read()\n",
    "source = source_bytes.decode('utf-8')\n",
    "L = source.split()\n",
    "L = L[503:503+429]\n",
    "\n",
    "L2 = list(frequency_word.keys())\n",
    "for i in range(0,len(L)):\n",
    "    if L[i] in frequency_word:\n",
    "\n",
    "s= url[7:len(url)]\n",
    "f= open(s+'.words.frequency','bw')\n",
    "pickle.dump(frequency_word,f)\n",
    "f.close()"
   ]
  },
  {
   "cell_type": "code",
   "execution_count": 22,
   "metadata": {
    "collapsed": true
   },
   "outputs": [],
   "source": [
    "import pickle\n",
    "## 기존코드\n",
    "import string\n",
    "from urllib import request \n",
    "def trans(a):\n",
    "    list_a = list(a)\n",
    "    for i in range(0,len(list_a)):\n",
    "        for j in range(0,len(L)):\n",
    "            if list_a[i] == L[j]:\n",
    "                list_a[i] = ''\n",
    "    result = \"\"\n",
    "    for i in range(0,len(list_a)):\n",
    "        result = result + list_a[i]\n",
    "    return result\n",
    "\n",
    "def delete_empty(a):\n",
    "    i = 0\n",
    "    while (i != len(a)):\n",
    "        if a[i] == '':\n",
    "            del(a[i])\n",
    "        i +=1\n",
    "    return a\n",
    "\n",
    "def frequency(a):\n",
    "    result = {}\n",
    "    for i in range(0,len(a)):\n",
    "        if (result.get(a[i])):\n",
    "            result[a[i]] += 1 ## 기존에 있는 key 면 value 값 1 증가\n",
    "        else:\n",
    "            result[a[i]] = 1 ##사전에 a[i] 와 value 1추가\n",
    "    return result\n",
    "\n",
    "url = 'http://www.billboard.com'\n",
    "f = request.urlopen(url)\n",
    "source_bytes = f.read()\n",
    "source = source_bytes.decode('utf-8')\n",
    "\n",
    "isOpen = False\n",
    "pureWord = []\n",
    "text = ''\n",
    "for i in source:\n",
    "    if i == '<':\n",
    "        isOpen = True\n",
    "        continue\n",
    "    if i == '>':\n",
    "        isOpen = False\n",
    "        continue\n",
    "    if isOpen == False and not i.isspace():\n",
    "        text = text + i\n",
    "        ##print (i)\n",
    "        ##print(text)\n",
    "        ##print (isOpen)\n",
    "    if isOpen == False and i.isspace() and text:\n",
    "        pureWord.append(text)\n",
    "        text=''\n",
    "\n",
    "L = [string.punctuation[i] for i in range(0,len(string.punctuation)-1)]\n",
    "\n",
    "for i in range(0,len(pureWord)-1):\n",
    "    pureWord[i] = trans(pureWord[i])\n",
    "\n",
    "pureWord = delete_empty(pureWord)\n",
    "\n",
    "frequency_word = {}\n",
    "frequency_word = frequency(pureWord)\n",
    "\n",
    "url1 = 'http://www.lextek.com/manuals/onix/stopwords1.html'\n",
    "f = request.urlopen(url)\n",
    "source_bytes = f.read()\n",
    "source = source_bytes.decode('utf-8')\n",
    "L = source.split()\n",
    "L = L[503:503+429]\n",
    "\n",
    "L2 = list(frequency_word.keys())\n",
    "for i in range(0,len(L)):\n",
    "    if L[i] in frequency_word:\n",
    "        del frequency_word[L[i]]\n",
    "\n",
    "s= url[7:len(url)]\n",
    "f= open(s+'.words.frequency','bw')\n",
    "pickle.dump(frequency_word,f)\n",
    "f.close()"
   ]
  },
  {
   "cell_type": "code",
   "execution_count": 23,
   "metadata": {
    "collapsed": true
   },
   "outputs": [],
   "source": [
    "import pickle\n",
    "## 기존코드\n",
    "import string\n",
    "from urllib import request \n",
    "def trans(a):\n",
    "    list_a = list(a)\n",
    "    for i in range(0,len(list_a)):\n",
    "        for j in range(0,len(L)):\n",
    "            if list_a[i] == L[j]:\n",
    "                list_a[i] = ''\n",
    "    result = \"\"\n",
    "    for i in range(0,len(list_a)):\n",
    "        result = result + list_a[i]\n",
    "    return result\n",
    "\n",
    "def delete_empty(a):\n",
    "    i = 0\n",
    "    while (i != len(a)):\n",
    "        if a[i] == '':\n",
    "            del(a[i])\n",
    "        i +=1\n",
    "    return a\n",
    "\n",
    "def frequency(a):\n",
    "    result = {}\n",
    "    for i in range(0,len(a)):\n",
    "        if (result.get(a[i])):\n",
    "            result[a[i]] += 1 ## 기존에 있는 key 면 value 값 1 증가\n",
    "        else:\n",
    "            result[a[i]] = 1 ##사전에 a[i] 와 value 1추가\n",
    "    return result\n",
    "\n",
    "url = 'http://www.espn.com'\n",
    "f = request.urlopen(url)\n",
    "source_bytes = f.read()\n",
    "source = source_bytes.decode('utf-8')\n",
    "\n",
    "isOpen = False\n",
    "pureWord = []\n",
    "text = ''\n",
    "for i in source:\n",
    "    if i == '<':\n",
    "        isOpen = True\n",
    "        continue\n",
    "    if i == '>':\n",
    "        isOpen = False\n",
    "        continue\n",
    "    if isOpen == False and not i.isspace():\n",
    "        text = text + i\n",
    "        ##print (i)\n",
    "        ##print(text)\n",
    "        ##print (isOpen)\n",
    "    if isOpen == False and i.isspace() and text:\n",
    "        pureWord.append(text)\n",
    "        text=''\n",
    "\n",
    "L = [string.punctuation[i] for i in range(0,len(string.punctuation)-1)]\n",
    "\n",
    "for i in range(0,len(pureWord)-1):\n",
    "    pureWord[i] = trans(pureWord[i])\n",
    "\n",
    "pureWord = delete_empty(pureWord)\n",
    "\n",
    "frequency_word = {}\n",
    "frequency_word = frequency(pureWord)\n",
    "\n",
    "url1 = 'http://www.lextek.com/manuals/onix/stopwords1.html'\n",
    "f = request.urlopen(url)\n",
    "source_bytes = f.read()\n",
    "source = source_bytes.decode('utf-8')\n",
    "L = source.split()\n",
    "L = L[503:503+429]\n",
    "\n",
    "L2 = list(frequency_word.keys())\n",
    "for i in range(0,len(L)):\n",
    "    if L[i] in frequency_word:\n",
    "        del frequency_word[L[i]]\n",
    "\n",
    "s= url[7:len(url)]\n",
    "f= open(s+'.words.frequency','bw')\n",
    "pickle.dump(frequency_word,f)\n",
    "f.close()"
   ]
  },
  {
   "cell_type": "code",
   "execution_count": 24,
   "metadata": {},
   "outputs": [
    {
     "name": "stdout",
     "output_type": "stream",
     "text": [
      "{'function': 5, 'H': 1, 'HclassNameHclassNamereplacebnojsbjs': 1, 'if': 4, 'documentcookiematch': 3, 'teduserid': 1, 'HclassNameHclassNamereplacebloggedoutbloggedin': 1, 'documentdocumentElement': 1, 'Ideas': 3, 'spreading': 3, 'iftop': 1, 'self': 1, 'toplocationreplacelocation': 1, 'functionirldo': 1, 'igaInfunctionirqirqpusharguments': 1, 'iGoogleAnalyticsObjectririrgaInirl1new': 1, 'Date': 3, 'ifl': 1, 'dyes': 1, 'd1': 1, 'ouserIdl2': 1, 'gacreateUA407817552tedcomo': 1, 'gasetdimension3loggedl': 1, 'In': 2, 'Out': 1, 'windowga': 1, 'teduseridexplruiddwindownavigator': 1, 'windownavigatordoNotTrack': 1, 'var': 8, 'googletag': 2, '': 7, 'googletagcmd': 2, 'googletagcmdpushfunction': 1, 'googletagpubadsenableAsyncRendering': 1, 'googletagenableServices': 1, 'gptProxydata': 1, 'gadsgptAd': 1, 'data': 4, 'qqfunctionqpusharguments': 1, 'ggfunctiongpusharguments': 1, 'envproductionassetBuster1511381108playerPathpbtedcdncomassetsplayerflashhlsplayer401002swfassetHosthttpspatedcdncomauthHosthttpsauthtedcomsettingsUrlhttpswwwtedcomsettingsaccountsignInUrlsessionnewsignOutUrlhttpsauthtedcomsessionlogoutsignInHelpUrlhttpsauthtedcomaccountpasswordnewsignUpUrlusersnewcsClientId7341760gaDimensionsbreakpointdimension1talkIddimension2authStatedimension3playlistIddimension5testIddimension7embedZonedimension8gaClientIddimension9tedUserIddimension10playContextdimension11sourceContextdimension12playbackRatedimension13playerModedimension14proxydimension15playTokendimension16subtitleLanguagedimension17playerPresentationdimension18': 1, 'TEDheadReady': 1, 'new': 8, 'TEDsignOutUrl': 1, 'referer': 1, 'locationprotocol': 1, 'locationhost': 1, 'sessionlogout': 1, 'TEDstartTime': 1, 'TEDisFirstVisit': 1, 'ga': 1, 'TEDabby': 1, 'absdocumentcookiematchabbywwg': 1, 'dms': 1, 'ts': 1, 't': 1, 'i1': 1, 'labslength': 1, 'i': 1, 'TEDabbyoverridden': 1, 'false': 2, 'TEDabbydisabled': 1, 'TEDabbytestssharemore': 1, 'b': 1, 'TEDcontrollerhome': 1, 'You': 2, 'have': 8, 'JavaScript': 2, 'disabled': 1, 'For': 1, 'best': 1, 'experience': 2, 'please': 1, 'turn': 1, 'on': 15, 'Heres': 2, 'how': 3, 'functiondh': 1, 'dcookiematch': 1, 'uconf0': 1, 'dwriteh': 1, 'guconfinituconfuconfclose': 1, 'documentnnYour': 1, 'account': 2, 'isnt': 1, 'active': 1, 'yetPlease': 1, 'click': 8, 'confirmation': 2, 'link': 1, 'we': 13, 'sent': 1, 'younIf': 1, 'you': 28, 'dont': 4, 'receive': 2, 'email': 7, 'within': 1, 'ten': 1, 'minutes': 1, 'cannsend': 1, 'it': 3, 'againnClosennnn': 1, 'contexthttpschemaorgtypeOrganizationnameTEDurlhttpwwwtedcomlogohttpspitedcdncomrpltedcdncomsocialtedlogofbpngvwAff13salternateNameTED': 1, 'TalkssameAshttpswwwfacebookcomTEDhttpswwwtwittercomtedtalkshttpswwwlinkedincomcompanytedconferenceshttpswwwyoutubecomuserTEDtalksDirectorhttpswwwpinterestcomtednews': 1, 'page': 1, 'lineheight': 1, '13': 1, 'p': 1, 'marginbottom': 2, 'adtext': 1, '5rem': 1, 'color': 1, '999999': 1, 'Menu': 1, 'Main': 1, 'menu': 1, 'Watch': 2, 'Talks': 7, 'Browse': 1, 'speakers': 3, 'Playlists': 1, '100': 1, 'minds': 3, 'TEDEd': 2, 'videos': 1, 'TEDx': 9, 'events': 6, 'Surprise': 1, 'Me': 1, 'The': 13, 'option': 2, 'Discover': 1, 'Topics': 1, 'Explore': 2, 'topic': 1, 'Books': 2, 'Short': 2, 'ideas': 5, 'Blog': 3, 'Our': 4, 'Newsletter': 1, 'Inspiration': 1, 'inbox': 2, 'Attend': 1, 'Conferences': 5, 'Take': 1, 'part': 2, 'in': 20, 'our': 10, 'TEDGlobal': 2, 'more': 13, 'Find': 1, 'attend': 2, 'screen': 1, 'Experience': 1, 'home': 2, 'or': 7, 'theaters': 1, 'Participate': 1, 'Nominate': 1, 'Recommend': 1, 'Prize': 4, 'recipients': 2, 'Fellows': 5, 'Organize': 1, 'a': 32, 'event': 2, 'Rules': 1, 'resources': 2, 'help': 3, 'plan': 2, 'Translate': 1, 'Bring': 1, 'nonEnglish': 2, 'speaking': 2, 'Get': 2, 'involved': 2, 'yearly': 2, 'prize': 2, 'worldchanging': 4, 'Join': 1, 'support': 2, 'innovators': 2, 'around': 3, 'globe': 1, 'About': 2, 'organization': 1, 'mission': 2, 'history': 3, 'team': 2, 'past': 3, 'present': 2, 'future': 2, 'Programs': 2, 'amp': 2, 'Initiatives': 1, 'Details': 1, 'about': 15, 'TEDs': 2, 'initiatives': 2, 'Partner': 1, 'Learn': 2, 'can': 11, 'partner': 2, 'Updates': 1, 'highlights': 2, 'global': 5, 'community': 2, 'Log': 1, 'Search': 2, 'Cancel': 1, 'search': 1, 'gmainNavinitmenuItemslabelWatchnamewatchitemsurltalkslabelTED': 1, 'TalksinfoBrowse': 1, 'speakersurlplaylistslabelPlaylistsinfo100': 1, 'mindsurlwatchtededlabelTEDEd': 1, 'videosinfoWatch': 1, 'TEDEdurlwatchtedxtalkslabelTEDx': 1, 'TalksinfoTalks': 1, 'eventsurlsurprisemelabelSurprise': 1, 'MeinfoThe': 1, 'youlabelDiscovernamediscoveritemsurltopicslabelTopicsinfoExplore': 1, 'topicurlreadtedbooksdrilldowntruelabelTED': 1, 'BooksinfoShort': 1, 'ideasurlhttpideastedcomlabelIdeas': 1, 'BloginfoOur': 1, 'ideasexternaltrueurlnewsletterlabelNewsletterinfoInspiration': 1, 'inboxlabelAttendnameattenditemsurlattendconferencesdrilldowntruelabelConferencesinfoTake': 1, 'moreurltedxeventslabelTEDx': 1, 'eventsinfoFind': 1, 'eventsurlattendtedonscreenlabelTED': 1, 'screeninfoExperience': 1, 'theaterslabelParticipatenameparticipateitemsurlparticipatenominatelabelNominateinfoRecommend': 1, 'moreurlparticipateorganizealocaltedxeventdrilldowntruelabelOrganize': 1, 'eventinfoRules': 1, 'eventurlparticipatetranslatedrilldowntruelabelTranslateinfoBring': 1, 'worldurlparticipatetedprizedrilldowntruelabelTED': 1, 'PrizeinfoGet': 1, 'ideasurlparticipatetedfellowsprogramlabelTED': 1, 'FellowsinfoJoin': 1, 'globelabelAboutnameaboutitemsurlaboutourorganizationdrilldowntruelabelOur': 1, 'organizationinfoOur': 1, 'moreurlaboutconferencesdrilldowntruelabelConferencesinfoTED': 1, 'futureurlaboutprogramsinitiativeslabelPrograms': 1, 'InitiativesinfoDetails': 1, 'initiativesurlaboutpartnerwithteddrilldowntruelabelPartner': 1, 'TEDinfoLearn': 1, 'usurlhttpblogtedcomlabelTED': 1, 'BloginfoUpdates': 1, 'communityexternaltrue': 1, 'An': 4, 'interview': 5, 'Queen': 4, 'Creole': 4, 'Cuisine': 2, 'Leah': 1, 'Chase': 2, 'Pat': 2, 'Mitchell': 1, 'might': 4, 'want': 6, 'think': 4, 'twice': 2, 'before': 2, 'an': 7, 'online': 5, 'ad': 2, 'Talk': 2, 'We39re': 2, 'building': 4, 'artificial': 2, 'intelligencepowered': 2, 'dystopia': 4, 'one': 4, 'at': 10, 'time': 4, 'What': 6, 'know': 4, 'cybercrime': 2, 'Playlist': 1, 'It39s': 1, 'hard': 2, 'protect': 2, 'yourself': 2, 'don39t': 2, 'where': 3, 'start': 4, '—': 3, 'these': 2, 'insightful': 2, 'infopacked': 2, 'offer': 2, 'jumping': 2, 'off': 2, 'point': 1, 'qspotlightTrackingsecondarytitleYou': 1, 'contentTED': 1, 'Were': 1, 'timeimagehttpspitedcdncomrpetedcdncomimagested467362adac9cd5a45a792d5a0405688eee0fef8a2880x1620jpgurlhttpswwwtedcomtalkszeyneptufekciwerebuildingadystopiajusttomakepeopleclickonadstypeimagesequence1id1017titleWhat': 1, 'cybercrimecontentPlaylist': 1, 'Its': 1, 'pointrnimagehttpspitedcdncomrpftedcdncomimagesplaylistswhattoknowaboutcybercrime9965856111200x627jpgurlhttpswwwtedcomplaylists531whattoknowaboutcybercrimetypeimagesequence2id999': 1, 'qspotlightTrackingprimaryid4490titleAn': 1, 'CuisinespeakerLeah': 1, 'Mitchellspeakerdescriptionnullthumbhttpspitedcdncomrs3amazonawscomtalkstarphotosuploadsd3d0f264fc5542c6b9ddb49f70731209LeahChase2017Wembedjpgcb20160511quality63uw512duration13600posted20171122T212833000Zratingsviews270538urltalksleahchaseandpatmitchellaninterviewwiththequeenofcreolecuisinelanguageencanonicalhttpswwwtedcomtalksleahchaseandpatmitchellaninterviewwiththequeenofcreolecuisine': 1, 'Newest': 1, 'How': 10, 'groups': 2, 'make': 6, 'good': 5, 'decisions': 3, 'Activism': 1, 'needs': 2, 'introverts': 1, 'Amazon': 2, 'Apple': 2, 'Facebook': 3, 'Google': 4, 'manipulate': 2, 'emotions': 1, 'hidden': 2, 'opportunities': 2, 'informal': 2, 'economy': 1, 'transform': 3, 'apocalypse': 2, 'fatigue': 2, 'into': 3, 'action': 3, 'warming': 1, 'Trending': 1, 'Why': 11, 'some': 5, 'people': 6, 'are': 4, 'altruistic': 2, 'than': 8, 'others': 1, 'great': 6, 'architecture': 2, 'should': 12, 'tell': 4, 'story': 2, 'Forget': 1, 'WiFi': 2, 'Meet': 2, 'LiFi': 2, 'Internet': 3, 'without': 3, 'screens': 2, 'look': 2, 'like': 5, 'this': 1, 'Stunning': 1, 'photos': 2, 'endangered': 2, 'Everglades': 1, 'public': 2, 'beheadings': 2, 'get': 9, 'millions': 2, 'views': 1, 'Heard': 1, 'Radio': 3, 'Hour': 2, 'Simple': 1, 'hacks': 2, 'life': 7, 'Parkinson39s': 1, 'Want': 1, 'kids': 2, 'learn': 3, 'well': 3, 'Feed': 2, 'them': 2, 'school': 2, 'later': 3, 'teens': 1, 'simple': 2, 'power': 5, 'handwashing': 1, 'cheap': 2, 'allterrain': 2, 'wheelchair': 1, 'Can': 1, 'art': 4, 'amend': 2, 'qnewHome1index0slugnewesttitleNewest': 1, 'Talksitemsid4490titleAn': 1, 'Cuisineslugleahchaseandpatmitchellaninterviewwiththequeenofcreolecuisineduration13600thumbhttpspitedcdncomrtalkstarphotoss3amazonawscomuploadsd3d0f264fc5542c6b9ddb49f70731209LeahChase2017Wembedjpgquality63w512urltalksleahchaseandpatmitchellaninterviewwiththequeenofcreolecuisinesponsorfalseid4669titleHow': 1, 'decisionsslugmarianosigmananddanarielyhowcangroupsmakegooddecisionsduration5170thumbhttpspitedcdncomrtalkstarphotoss3amazonawscomuploadscd815c00d50a455a8954e1b515e85f3dMarianoSigmanandDanAriely2017Vembedjpgquality63w512urltalksmarianosigmananddanarielyhowcangroupsmakegooddecisionssponsorfalseid3631titleActivism': 1, 'introvertsslugsarahcorbettactivismneedsintrovertsduration8370thumbhttpspitedcdncomrtalkstarphotoss3amazonawscomuploadsb947c3b8d08d4b3a97b496ae513885e7SarahCorbett2016Xembedjpgquality63w512urltalkssarahcorbettactivismneedsintrovertssponsorfalseid4539titleHow': 1, 'emotionsslugscottgallowayhowamazonapplefacebookandgooglemanipulateouremotionsduration11450thumbhttpspitedcdncomrtalkstarphotoss3amazonawscomuploadsa51a0a21cebc46dc9e805503fd2d4834ScottGalloway2017Sembedjpgquality63w512urltalksscottgallowayhowamazonapplefacebookandgooglemanipulateouremotionssponsorfalseid3642titleThe': 1, 'economyslugnitibhanthehiddenopportunitiesoftheinformaleconomyduration4460thumbhttpspitedcdncomrtalkstarphotoss3amazonawscomuploads8dbd755d3f914697a2da7a979e614562NitiBhan2017Gembedjpgquality63w512urltalksnitibhanthehiddenopportunitiesoftheinformaleconomysponsorfalseid4463titleHow': 1, 'warmingslugperespenstokneshowtotransformapocalypsefatigueintoactiononglobalwarmingduration9000thumbhttpspitedcdncomrtalkstarphotoss3amazonawscomuploadse40c6551d8c849cab5d2d6f0e2d9f442PerEspenStoknes2017Gembedjpgquality63w512urltalksperespenstokneshowtotransformapocalypsefatigueintoactiononglobalwarmingsponsorfalseid3617titleWhy': 1, 'do': 6, 'I': 12, 'To': 1, 'build': 1, 'capsules': 1, 'my': 6, 'heritageslugkaylabrietwhydoimakearttobuildtimecapsulesformyheritageduration3560thumbhttpspitedcdncomrtalkstarphotoss3amazonawscomuploadsd534db42136a44a7a0d6859573ca5bb4KaylaBriet2017Uembedjpgquality63w512urltalkskaylabrietwhydoimakearttobuildtimecapsulesformyheritagesponsorfalseid3365titleI': 1, 'children': 1, 'stop': 2, 'telling': 1, 'me': 2, 'Ill': 1, 'change': 1, 'mindslugchristenreighteridontwantchildrenstoptellingmeillchangemymindduration8760thumbhttpspitedcdncomrtalkstarphotoss3amazonawscomuploads640bf01e85024b4eb274200dba735e77ChristenReighter2016Xembedjpgquality63w512urltalkschristenreighteridontwantchildrenstoptellingmeillchangemymindsponsorfalseid3614titleHow': 1, 'dads': 1, 'dementia': 1, 'changed': 1, 'idea': 1, 'death': 5, 'lifeslugbethmalonehowmydadsdementiachangedmyideaofdeathandlifeduration4210thumbhttpspitedcdncomrtalkstarphotoss3amazonawscomuploadsfc69aa6dcee5439fae422384cdb85d78BethMalone2017Sembedjpgquality63w512urltalksbethmalonehowmydadsdementiachangedmyideaofdeathandlifesponsorfalseid3615titleHow': 1, 'military': 1, 'fights': 1, 'climate': 1, 'changeslugdavidtitleyhowthemilitaryfightsclimatechangeduration4610thumbhttpspitedcdncomrtalkstarphotoss3amazonawscomuploadsd713f8a629044c5eaad4a781aa8db687DavidTitley2017embedjpgquality63w512urltalksdavidtitleyhowthemilitaryfightsclimatechangesponsorfalseid3620titleThe': 1, 'Housing': 1, 'First': 1, 'approach': 1, 'homelessnesssluglloydpendletonthehousingfirstapproachtohomelessnessduration8250thumbhttpspitedcdncomrtalkstarphotoss3amazonawscomuploads91112473e67947a7bd99e84c15514decLloydPendleton2016Pembedjpgquality63w512urltalkslloydpendletonthehousingfirstapproachtohomelessnesssponsorfalseid3613titleHow': 1, 'talk': 6, 'listen': 1, 'transgender': 1, 'peopleslugjacksonbirdhowtotalkandlistentotransgenderpeopleduration3840thumbhttpspitedcdncomrtalkstarphotoss3amazonawscomuploads757d61e447174e0facb05ccad04d6a57JacksonBird2017Sembedjpgquality63w512urltalksjacksonbirdhowtotalkandlistentotransgenderpeoplesponsorfalseid4366titleWhat': 1, 'learned': 1, 'serving': 1, 'crime': 1, 'didnt': 1, 'commitslugteresanjorogewhatilearnedservingtimeforacrimeididntcommitduration7430thumbhttpspitedcdncomrtalkstarphotoss3amazonawscomuploads87977bdd8faf4a5a9ac4118d31e7e532TeresaNjoroge2017Wembedjpgquality63w512urltalksteresanjorogewhatilearnedservingtimeforacrimeididntcommitsponsorfalseid3612titleHow': 1, 'judges': 1, 'show': 1, 'respectslugvictoriapratthowjudgescanshowrespectduration9630thumbhttpspitedcdncomrtalkstarphotoss3amazonawscomuploads599c410dff8b402883977df1494093dfVictoriaPratt2017Sembedjpgquality63w512urltalksvictoriapratthowjudgescanshowrespectsponsorfalseid3616titleThe': 1, 'biggest': 1, 'risks': 1, 'facing': 1, 'cities': 1, 'solutionsslugrobertmuggahthebiggestrisksfacingcitiesandsomesolutionsduration10300thumbhttpspitedcdncomrtalkstarphotoss3amazonawscomuploads93a89e0272b04a82a77d41506ee7e315RobertMuggah2017Gembedjpgquality63w512urltalksrobertmuggahthebiggestrisksfacingcitiesandsomesolutionssponsorfalseid3606titleWe': 1, 'aim': 1, 'perfection': 1, 'fearing': 1, 'failureslugjonbowersweshouldaimforperfectionandstopfearingfailureduration6540thumbhttpspitedcdncomrtalkstarphotoss3amazonawscomuploads9edf62ef236642768e7193c42af15b48JonBowers2017Sembedjpgquality63w512urltalksjonbowersweshouldaimforperfectionandstopfearingfailuresponsorfalseid3632titleAn': 1, 'Mauritiuss': 1, 'first': 1, 'female': 1, 'presidentslugameenahguribfakimaninterviewwithmauritiussfirstfemalepresidentduration11300thumbhttpspitedcdncomrtalkstarphotoss3amazonawscomuploads51c2ac908d814e1db786caf8e3a3c21dAmeenahGuribFakim2017Gembedjpgquality63w512urltalksameenahguribfakimaninterviewwithmauritiussfirstfemalepresidentsponsorfalseid3593titleWhy': 1, 'wildfires': 1, 'gotten': 1, 'worse': 1, 'what': 2, 'itslugpaulhessburgwhywildfireshavegottenworseandhowwecanstopthemduration8510thumbhttpspitedcdncomrtalkstarphotoss3amazonawscomuploadsfdc20ea0fdf14e31a2d1a89bfc4d77bePaulHessburg2017Xembedjpgquality63w512urltalkspaulhessburgwhywildfireshavegottenworseandhowwecanstopthemsponsorfalseindex1slugtrendingtitleTrendingitemsid2584titleWhy': 1, 'othersslugabigailmarshwhysomepeoplearemorealtruisticthanothersduration7410thumbhttpspitedcdncomrtalkstarphotoss3amazonawscomuploads9837be998ed046dcbcf92e51eaf151f8AbigailMarsh2016Tembedjpgquality63w512urltalksabigailmarshwhysomepeoplearemorealtruisticthanotherssponsorfalseid2375titleWhy': 1, 'storyslugolescheerenwhygreatarchitectureshouldtellastoryduration9860thumbhttpspitedcdncomrtalkstarphotoss3amazonawscomuploadsdf8fd8488f1a427999a475919dd877c8OleScheeren2015Gembedjpgquality63w512urltalksolescheerenwhygreatarchitectureshouldtellastorysponsorfalseid2368titleForget': 1, 'Internetslugharaldhaasabreakthroughnewkindofwirelessinternetduration4440thumbhttpspitedcdncomrtalkstarphotoss3amazonawscomuploadsa488b09e2f9c4eba9d7433f578563b3bHaraldHaas2015Gembedjpgquality63w512urltalksharaldhaasabreakthroughnewkindofwirelessinternetsponsorfalseid2356titleAn': 1, 'thisslugtomuglowaninternetwithoutscreensmightlooklikethisduration5030thumbhttpspitedcdncomrtalkstarphotoss3amazonawscomuploads3020b2d496b9427cbaf6e03ed6dc35f5TomUglow2015Xembedjpgquality63w512urltalkstomuglowaninternetwithoutscreensmightlooklikethissponsorfalseid2334titleStunning': 1, 'Evergladesslugmacstonestunningphotosoftheendangeredevergladesduration11550thumbhttpspitedcdncomrpetedcdncomimagestedb2236fa5fe68cf8d207f7679b6da0d717d817c392880x1620jpgquality63w512urltalksmacstonestunningphotosoftheendangeredevergladessponsorfalseid2335titleWhy': 1, 'viewsslugfranceslarsonwhypublicbeheadingsgetmillionsofviewsduration9570thumbhttpspitedcdncomrpetedcdncomimagested781042f87671357480c70b7fc64d8898eae86efd2880x1620jpgquality63w512urltalksfranceslarsonwhypublicbeheadingsgetmillionsofviewssponsorfalseid2326titleHow': 1, 'fear': 2, 'drives': 1, 'American': 1, 'politicsslugdavidrothkopfhowfeardrivesamericanpoliticsduration10800thumbhttpspitedcdncomrpetedcdncomimagestede3382f47e4b18ba1fa1905aa685e2cd8c7747f812880x1620jpgquality63w512urltalksdavidrothkopfhowfeardrivesamericanpoliticssponsorfalseid2301titleWhat': 1, 'insects': 1, 'sex': 1, 'livesslugmarlenezukwhatwelearnfrominsectskinkysexlivesduration7180thumbhttpspitedcdncomrpetedcdncomimagested892ce7afa4977d20870d86127405b8698f1aedd82880x1620jpgquality63w512urltalksmarlenezukwhatwelearnfrominsectskinkysexlivessponsorfalseid2297titleA': 1, 'better': 5, 'way': 1, 'abortionslugaspenbakerabetterwaytotalkaboutabortionduration6580thumbhttpspitedcdncomrpetedcdncomimagested17755dc1be70bacbcedc8522d95e374acd129bed2880x1620jpgquality63w512urltalksaspenbakerabetterwaytotalkaboutabortionsponsorfalseid2168titleHow': 1, 'let': 1, 'altruism': 1, 'be': 3, 'guideslugmatthieuricardhowtoletaltruismbeyourguideduration9670thumbhttpspitedcdncomrpetedcdncomimagested2d1d6429e1014795935681d657bc7a63a358ff072880x1620jpgquality63w512urltalksmatthieuricardhowtoletaltruismbeyourguidesponsorfalseid2035titleThe': 1, '1s': 1, '0s': 1, 'behind': 1, 'cyber': 1, 'warfareslugchrisdomasthe1sand0sbehindcyberwarfareduration10050thumbhttpspitedcdncomrpetedcdncomimagesteddfa9208099b4ccc394db436eb4ff2fc0fd18e9112400x1800jpgquality63w512urltalkschrisdomasthe1sand0sbehindcyberwarfaresponsorfalseid1820titleEveryday': 1, 'itslugjameslyneeverydaycybercrimeandwhatyoucandoaboutitduration10460thumbhttpspitedcdncomrpetedcdncomimagestedb91bd6615e88fdd6de5685ed9c69ad9b15c8fd3b1600x1200jpgquality63w512urltalksjameslyneeverydaycybercrimeandwhatyoucandoaboutitsponsorfalseid1216titleCompassion': 1, 'true': 5, 'meaning': 1, 'empathyslugjoanhalifaxduration8410thumbhttpspitedcdncomrpetedcdncomimagested302a7986db1ae0d38772e7585be7dfb74c8d93832880x1620jpgquality63w512urltalksjoanhalifaxsponsorfalseid1202titleWireless': 1, 'every': 3, 'light': 1, 'bulbslugharaldhaaswirelessdatafromeverylightbulbduration7710thumbhttpspitedcdncomrpetedcdncomimagested8a3a6ed1d04200a0c9bedfd42f0bd9cfae022041800x600jpgquality63w512urltalksharaldhaaswirelessdatafromeverylightbulbsponsorfalseid667titleArchitecture': 1, 'that': 4, 'repairs': 1, 'itselfslugrachelarmstrongarchitecturethatrepairsitselfduration4520thumbhttpspitedcdncomrpetedcdncomimagested126194800x600jpgquality63w512urltalksrachelarmstrongarchitecturethatrepairsitselfsponsorfalseid169titleWozaslugvusimahlaselasencoreattedglobal2007duration2990thumbhttpspitedcdncomrpetedcdncomimagested15224480x360jpgquality63w512urltalksvusimahlaselasencoreattedglobal2007sponsorfalseid158titleThula': 1, 'Mamaslugvusimahlaselasingsthulamamaduration6060thumbhttpspitedcdncomrtalkstarphotoss3amazonawscomuploadsc10aacd55b2f4e308f565bf33696040eVusiMahlasela2007Gembedjpgquality63w512urltalksvusimahlaselasingsthulamamasponsorfalseid130titleWe': 1, 'Buddhasslugbobthurmansayswecanbebuddhasduration7260thumbhttpspitedcdncomrtalkstarphotoss3amazonawscomuploadsa6a1778baee0495aad911cdeb5f931b2RobertThurman2006Sembedjpgquality63w512urltalksbobthurmansayswecanbebuddhassponsorfalseindex2slugheardontedradiohourid16titleHeard': 1, 'Houritemsid2454titleSimple': 1, 'Parkinsonsslugmilehasonejisimplehacksforlifewithparkinsonsduration4170thumbhttpspitedcdncomrtalkstarphotoss3amazonawscomuploads99487aaa04924806ac4c804907d7c9dbMilehaSoneji2015Xembedjpgquality63w512urltalksmilehasonejisimplehacksforlifewithparkinsonssponsorfalseid2659titleWant': 1, 'wellslugsamkasswanttoteachkidswellfeedthemwellduration7280thumbhttpspitedcdncomrtalkstarphotoss3amazonawscomuploadsa5800df6c5ae404692611c5f9d545d58SamKass2015Pembedjpgquality63w512urltalkssamkasswanttoteachkidswellfeedthemwellsponsorfalseid2783titleWhy': 1, 'teensslugwendytroxelwhyschoolshouldstartlaterforteensduration6330thumbhttpspitedcdncomrtalkstarphotoss3amazonawscomuploads658384aa7691429d88eee90c211d604eWendyTroxel2016Xembedjpgquality63w512urltalkswendytroxelwhyschoolshouldstartlaterforteenssponsorfalseid2108titleThe': 1, 'handwashingslugmyriamsidibethesimplepowerofhandwashingduration7010thumbhttpspitedcdncomrpetedcdncomimagestedda1a3dced401c2eb862e4ae98ff7f53a1e710e5f2880x1620jpgquality63w512urltalksmyriamsidibethesimplepowerofhandwashingsponsorfalseid1616titleThe': 1, 'wheelchairslugamoswinterthecheapallterrainwheelchairduration6740thumbhttpspitedcdncomrtalkstarphotoss3amazonawscomuploads23319dea5ed44afabff2edc476974ba5AmosWinter2012Xembedjpgquality63w512urltalksamoswinterthecheapallterrainwheelchairsponsorfalseid2826titleCan': 1, 'historyslugtituskapharcanartamendhistoryduration7720thumbhttpspitedcdncomrtalkstarphotoss3amazonawscomuploadsd6e39d5aeed849c1b27c3db05c2b3adeTitusKaphar2017embedjpgquality63w512urltalkstituskapharcanartamendhistorysponsorfalseid2129titleHow': 1, 'painting': 1, 'communitiesslughaashahnhowpaintingcantransformcommunitiesduration6830thumbhttpspitedcdncomrpetedcdncomimagestedb67248a881f68a8bc5fc22451ccf2398cc19fa552880x1620jpgquality63w512urltalkshaashahnhowpaintingcantransformcommunitiessponsorfalseid2304titleStreet': 1, 'message': 1, 'hope': 1, 'peaceslugelseedstreetartwithamessageofhopeandpeaceduration3390thumbhttpspitedcdncomrpetedcdncomimagested83b6197ead1303d82f0ccc05495c3a1d4f58d6932880x1620jpgquality63w512urltalkselseedstreetartwithamessageofhopeandpeacesponsorfalseid2437titleHow': 1, 'yarn': 1, 'bombing': 1, 'grew': 2, 'worldwide': 1, 'movementslugmagdasayeghowyarnbombinggrewintoaworldwidemovementduration3300thumbhttpspitedcdncomrtalkstarphotoss3amazonawscomuploadsfe80ff322a394c6d8a04693ef9088e8bMagdaSayeg2015Yembedjpgquality63w512urltalksmagdasayeghowyarnbombinggrewintoaworldwidemovementsponsorfalseid286titleThe': 1, 'transformative': 1, 'classical': 1, 'musicslugbenjaminzanderonmusicandpassionduration12430thumbhttpspitedcdncomrpetedcdncomimagesteddb471b06b2f5f6ba97c7de8b232878ffe97186001600x1200jpgquality63w512urltalksbenjaminzanderonmusicandpassionsponsorfalseid1810titleWhy': 1, 'sleepslugrussellfosterwhydowesleepduration13060thumbhttpspitedcdncomrpetedcdncomimagested44c8a0d9e5982eab342c4151d702004b491e48e72880x1620jpgquality63w512urltalksrussellfosterwhydowesleepsponsorfalseid1132titleThe': 1, 'security': 1, 'mirageslugbruceschneierduration12650thumbhttpspitedcdncomrpetedcdncomimagested33baf93bd8a35229a99a0e3a6148b3a3a9043f332880x1620jpgquality63w512urltalksbruceschneiersponsorfalseid1999titleWhy': 1, 'veterans': 1, 'miss': 1, 'warslugsebastianjungerwhyveteransmisswarduration7880thumbhttpspitedcdncomrpetedcdncomimagested7378f62566fda3193f693a7fc150a2b82101a6ce1600x1200jpgquality63w512urltalkssebastianjungerwhyveteransmisswarsponsorfalseid1116titleLooking': 1, 'limitsslugcarolinecaseylookingpastlimitsduration11570thumbhttpspitedcdncomrpetedcdncomimagested2408c227c2e651234d417caf1b48fad0c1a66a1e800x600jpgquality63w512urltalkscarolinecaseylookingpastlimitssponsorfalseid366titleFlow': 1, 'secret': 3, 'happinessslugmihalycsikszentmihalyionflowduration11350thumbhttpspitedcdncomrpetedcdncomimagestedec28788873dd3e152461bc6c5c35d3694ab690232880x1620jpgquality63w512urltalksmihalycsikszentmihalyionflowsponsorfalseid2703titleI': 1, 'up': 2, 'Westboro': 1, 'Baptist': 1, 'Church': 1, 'why': 1, 'leftslugmeganphelpsroperigrewupinthewestborobaptistchurchhereswhyileftduration9170thumbhttpspitedcdncomrtalkstarphotoss3amazonawscomuploadsa797a8a0a6ea44c7876c0423df616f86MeganPhelpsRoper2017Sembedjpgquality63w512urltalksmeganphelpsroperigrewupinthewestborobaptistchurchhereswhyileftsponsorfalseid2669titleHow': 1, 'political': 1, 'conversationsslugrobbwillerhowtohavebetterpoliticalconversationsduration7210thumbhttpspitedcdncomrtalkstarphotoss3amazonawscomuploads994fd285072e4202add9b3adee314268RobbWiller2016Xembedjpgquality63w512urltalksrobbwillerhowtohavebetterpoliticalconversationssponsorfalseid2435title10': 1, 'ways': 2, 'conversationslugcelesteheadlee10waystohaveabetterconversationduration7040thumbhttpspitedcdncomrtalkstarphotoss3amazonawscomuploads42293f27ad854999a72b96b6d5d2c398CelesteHeadlee2015Xembedjpgquality63w512urltalkscelesteheadlee10waystohaveabetterconversationsponsorfalseid2182titleHow': 1, 'run': 2, 'company': 1, 'almost': 2, 'no': 1, 'rulesslugricardosemlerhowtorunacompanywithalmostnorulesduration13020thumbhttpspitedcdncomrpetedcdncomimagested07ece83dd77f758dd2c92e3fcb0ee6b404dc49a22880x1620jpgquality63w512urltalksricardosemlerhowtorunacompanywithalmostnorulessponsorfalseid2811titleHow': 1, 'face': 3, 'togetherslugrabbilordjonathansackshowwecanfacethefuturewithoutfeartogetherduration7560thumbhttpspitedcdncomrtalkstarphotoss3amazonawscomuploads6aacd6f53f014ec1a4a9e9980c903015RabbiLordJonathanSacks2017embedjpgquality63w512urltalksrabbilordjonathansackshowwecanfacethefuturewithoutfeartogethersponsorfalseid1269titleThe': 1, 'shared': 1, 'absurdityslugcharlietoddthesharedexperienceofabsurdityduration7240thumbhttpspitedcdncomrpetedcdncomimagested8dc555492cc7ba27b0a75df6d438f3b6bdf61ed8800x600jpgquality63w512urltalkscharlietoddthesharedexperienceofabsurditysponsorfalseid483titlePlay': 1, 'is': 4, 'just': 3, 'funslugstuartbrownsaysplayismorethanfunitsvitalduration16020thumbhttpspitedcdncomrpetedcdncomimagested77048800x600jpgquality63w512urltalksstuartbrownsaysplayismorethanfunitsvitalsponsorfalseid1102titleEvolutions': 1, 'gift': 1, 'play': 1, 'bonobo': 1, 'apes': 1, 'humansslugisabelbehnckeevolutionsgiftofplayfrombonoboapestohumansduration4210thumbhttpspitedcdncomrpetedcdncomimagested88e6a5e1aa0cca0c2eb687737e440b4061497c9c2880x1620jpgquality63w512urltalksisabelbehnckeevolutionsgiftofplayfrombonoboapestohumanssponsorfalsereactcontainer1': 1, 'playlists': 1, '25': 1, 'most': 1, 'popular': 1, 'all': 2, '7': 1, 'influence': 1, 'algorithms': 1, '4': 3, 'it39s': 1, 'sometimes': 2, 'bored': 1, '10': 1, 'watch': 2, 'during': 1, 'coffee': 1, 'break': 1, 'gadscreateStandardSlot': 1, 'adUnitId': 1, '5641ted2home': 1, 'containerId': 1, 'adunit': 1, 'size': 1, '300250': 1, 'targeting': 1, 'recommended': 1, 'today': 2, 'Everyday': 2, 'objects': 2, 'tragic': 2, 'histories': 1, 'A': 1, 'complicated': 2, 'hero': 2, 'war': 3, 'dictatorship': 1, 'saw': 2, 'path': 2, 'ending': 2, 'ethnic': 2, 'conflicts': 1, 'defense': 2, 'dialogue': 1, 'independent': 2, 'diplomat': 1, 'questioning': 1, 'tech': 3, 'ads': 1, 'handful': 2, 'companies': 2, 'control': 2, 'billions': 2, 'day': 1, 'era': 2, 'blind': 2, 'faith': 2, 'big': 2, 'must': 2, 'end': 7, 'compassion': 2, 'moral': 2, 'driverless': 2, 'cars': 2, 'Your': 3, 'social': 4, 'media': 4, 'quotlikesquot': 2, 'expose': 4, 'Lets': 1, 'really': 2, 'matters': 2, 'Life': 1, 'doesn39t': 2, 'Let39s': 1, 'dying': 1, 'Prepare': 1, 'makes': 2, 'living': 2, 'stories': 2, 'ourselves': 2, 'Getting': 1, 'things': 5, 'done': 1, 'Inside': 1, 'mind': 2, 'master': 2, 'procrastinator': 1, 'work': 5, 'happen': 2, 'Try': 1, 'something': 2, '30': 2, 'days': 1, 'care': 2, 'define': 2, 'fears': 2, 'instead': 2, 'goals': 2, 'puzzle': 2, 'motivation': 1, 'ocean': 3, 'amazing': 1, 'fascinating': 2, 'lives': 2, 'giant': 4, 'clams': 1, 'Underwater': 1, 'astonishments': 1, 'Hooked': 1, 'octopus': 1, 'wrecked': 2, 'found': 2, 'squid': 1, 'My': 1, 'wish': 2, 'Protect': 2, 'oceans': 1, 'will': 2, 'fail': 2, 'career': 1, 'leaders': 2, 'inspire': 2, 'calling': 1, 'find': 2, 'love': 1, 'Before': 1, 'die': 2, 'Should': 1, 'live': 2, 'résumé': 2, 'eulogy': 1, 'Check': 1, 'facts': 1, 'separate': 2, 'fact': 2, 'fiction': 2, 'danger': 2, 'single': 2, 'Don39t': 2, 'clickbait': 2, 'believe': 2, 'weird': 2, 'eyewitnesses': 2, 'wrong': 1, 'qnewHome1index3slugrecommendedtodayid66titlerecommended': 1, 'todayitemsid2063titleEveryday': 1, 'historiesslugziyahgaficeverydayobjectstragichistoriesduration2720thumbhttpspitedcdncomrpetedcdncomimagestedcc4f9948f0fb36f9e2df8d3777110b367c2373402400x1800jpgquality63w512urltalksziyahgaficeverydayobjectstragichistoriessponsorfalseid395titleA': 1, 'dictatorshipslugsamanthapoweronacomplicatedheroduration13890thumbhttpspitedcdncomrpetedcdncomimagested58276800x600jpgquality63w512urltalkssamanthapoweronacomplicatedherosponsorfalseid1651titleWhat': 1, 'warslugjaninedigiovanniwhatisawinthewarduration7130thumbhttpspitedcdncomrtalkstarphotoss3amazonawscomuploads43dae72886de46ba8f4d4eff5af2b537JaninediGiovanni2012Xembedjpgquality63w512urltalksjaninedigiovanniwhatisawinthewarsponsorfalseid1003titleThe': 1, 'conflictsslugstefanwolffthepathtoendingethnicconflictsduration10550thumbhttpspitedcdncomrpetedcdncomimagested249b094b159985d31d48ec26a5a947d4bb7ac4c1800x600jpgquality63w512urltalksstefanwolffthepathtoendingethnicconflictssponsorfalseid1321titleIn': 1, 'dialogueslugjonasgahrstoreindefenseofdialogueduration8980thumbhttpspitedcdncomrtalkstarphotoss3amazonawscomuploadsf3e1eb3816cc40f69db104ec48ca0d9eJonasGahrStore2011Xembedjpgquality63w512urltalksjonasgahrstoreindefenseofdialoguesponsorfalseid951titleAn': 1, 'diplomatslugcarnerossanindependentdiplomatduration12380thumbhttpspitedcdncomrpetedcdncomimagested197439800x600jpgquality63w512urltalkscarnerossanindependentdiplomatsponsorfalseindex4slugquestioningourtechid65titlequestioning': 1, 'techitemsid3595titleWere': 1, 'adsslugzeyneptufekciwerebuildingadystopiajusttomakepeopleclickonadsduration13750thumbhttpspitedcdncomrtalkstarphotoss3amazonawscomuploadsd42bfca817c649a3b797450405a5d6e7ZeynepTufekci2017Gembedjpgquality63w512urltalkszeyneptufekciwerebuildingadystopiajusttomakepeopleclickonadssponsorfalseid2802titleHow': 1, 'dayslugtristanharristhemanipulativetrickstechcompaniesusetocaptureyourattentionduration10200thumbhttpspitedcdncomrtalkstarphotoss3amazonawscomuploads511e2e3c9f1748fc955a8f257fc923c7TristanHarris2017embedjpgquality63w512urltalkstristanharristhemanipulativetrickstechcompaniesusetocaptureyourattentionsponsorfalseid2845titleThe': 1, 'endslugcathyoneiltheeraofblindfaithinbigdatamustendduration7980thumbhttpspitedcdncomrtalkstarphotoss3amazonawscomuploadscc1dd9adabcf4c058bda05433f7c9a5dCathyONeil2017embedjpgquality63w512urltalkscathyoneiltheeraofblindfaithinbigdatamustendsponsorfalseid1113titleEveryday': 1, 'Googleslugchademengtaneverydaycompassionatgoogleduration8480thumbhttpspitedcdncomrpetedcdncomimagested42d93cfae67c1944c2dc8e817899b8b44c26309e800x600jpgquality63w512urltalkschademengtaneverydaycompassionatgooglesponsorfalseid2824titleWhat': 1, 'makeslugiyadrahwanwhatmoraldecisionsshoulddriverlesscarsmakeduration8150thumbhttpspitedcdncomrtalkstarphotoss3amazonawscomuploads738fd43ca2274859ab122d666a1a63acIyadRahwan2016Xembedjpgquality63w512urltalksiyadrahwanwhatmoraldecisionsshoulddriverlesscarsmakesponsorfalseid1957titleYour': 1, 'likes': 2, 'thinkslugjennifergolbeckthecurlyfryconundrumwhysocialmedialikessaymorethanyoumightthinkduration5950thumbhttpspitedcdncomrpetedcdncomimagestedca07fd2063e0b3fbd34eb18890d6512da7ee73e31600x1200jpgquality63w512urltalksjennifergolbeckthecurlyfryconundrumwhysocialmedialikessaymorethanyoumightthinksponsorfalseindex5slugletstalkaboutdeathid62titleLets': 1, 'deathitemsid2325titleWhat': 1, 'lifeslugbjmillerwhatreallymattersattheendoflifeduration11470thumbhttpspitedcdncomrpetedcdncomimagested629930bb607d58f65c9b70beab410660a9afd9042880x1620jpgquality63w512urltalksbjmillerwhatreallymattersattheendoflifesponsorfalseid1832titleLife': 1, 'doesnt': 2, 'deathslugkelliswazeylifethatdoesntendwithdeathduration8340thumbhttpspitedcdncomrpetedcdncomimagestedf536277c81df0ee6ccee87ba3d6f7fa188079a381600x1200jpgquality63w512urltalkskelliswazeylifethatdoesntendwithdeathsponsorfalseid1399titleLets': 1, 'dyingslugpetersaulletstalkaboutdyingduration7990thumbhttpspitedcdncomrtalkstarphotoss3amazonawscomuploads7eaea18768cf4e9ba7e3d878e6d3aaedPeterSaul2011Xembedjpgquality63w512urltalkspetersaulletstalkaboutdyingsponsorfalseid1744titlePrepare': 1, 'lifeslugjudymacdonaldjohnstonprepareforagoodendoflifeduration3630thumbhttpspitedcdncomrpetedcdncomimagested48545da0486207f2d154d3699b5c5a0ba314245f1600x1200jpgquality63w512urltalksjudymacdonaldjohnstonprepareforagoodendoflifesponsorfalseid2778titleWhat': 1, 'deathsluglucykalanithiwhatmakeslifeworthlivinginthefaceofdeathduration9690thumbhttpspitedcdncomrtalkstarphotoss3amazonawscomuploadsb0fc5fdf3cb94d588c8178c6a0602bd3LucyKalanithi2016Pembedjpgquality63w512urltalkslucykalanithiwhatmakeslifeworthlivinginthefaceofdeathsponsorfalseid1891titleThe': 1, 'deathslugstephencavethe4storieswetellourselvesaboutdeathduration9330thumbhttpspitedcdncomrpetedcdncomimagested2c106addcfbfa8c7b3cf9f2c4ee88c52d9a515b21600x1200jpgquality63w512urltalksstephencavethe4storieswetellourselvesaboutdeathsponsorfalseindex6sluggettingthingsdoneid49titleGetting': 1, 'doneitemsid2458titleInside': 1, 'procrastinatorslugtimurbaninsidethemindofamasterprocrastinatorduration8430thumbhttpspitedcdncomrtalkstarphotoss3amazonawscomuploadsd5d00454d7aa434c8faeff2bc97c5f02TimUrban2016embedjpgquality63w512urltalkstimurbaninsidethemindofamasterprocrastinatorsponsorfalseid1014titleWhy': 1, 'workslugjasonfriedwhyworkdoesnthappenatworkduration9210thumbhttpspitedcdncomrpetedcdncomimagestedbe91c8b5f3a0798ddca31c761674bfac9e06c970800x600jpgquality63w512urltalksjasonfriedwhyworkdoesnthappenatworksponsorfalseid1183titleTry': 1, 'daysslugmattcuttstrysomethingnewfor30daysduration2070thumbhttpspitedcdncomrtalkstarphotoss3amazonawscomuploads424e6719762740bcae351ed70a66ed2aMattCutts2011Uembedjpgquality63w512urltalksmattcuttstrysomethingnewfor30dayssponsorfalseid2679titleHow': 1, 'aboutslugeduardobricenohowtogetbetteratthethingsyoucareaboutduration6820thumbhttpspitedcdncomrtalkstarphotoss3amazonawscomuploads961e2a052b0c4634a48710f649ec53c3EduardoBriceno2016Xembedjpgquality63w512urltalkseduardobricenohowtogetbetteratthethingsyoucareaboutsponsorfalseid2799titleWhy': 1, 'goalsslugtimferrisswhyyoushoulddefineyourfearsinsteadofyourgoalsduration8010thumbhttpspitedcdncomrtalkstarphotoss3amazonawscomuploads6b784c62b4d04b3aa1de89de39b002bcTimFerriss2017embedjpgquality63w512urltalkstimferrisswhyyoushoulddefineyourfearsinsteadofyourgoalssponsorfalseid618titleThe': 1, 'motivationslugdanpinkonmotivationduration11160thumbhttpspitedcdncomrpetedcdncomimagested110884800x600jpgquality63w512urltalksdanpinkonmotivationsponsorfalseindex7slugtheoceanisamazingid61titlethe': 1, 'amazingitemsid2872titleThe': 1, 'clamsslugmeilinneothefascinatingsecretlivesofgiantclamsduration3270thumbhttpspitedcdncomrtalkstarphotoss3amazonawscomuploads545ea99670304d8dbe241b2aaa2b0d80MeiLinNeo2017Uembedjpgquality63w512urltalksmeilinneothefascinatingsecretlivesofgiantclamssponsorfalseid206titleUnderwater': 1, 'astonishmentsslugdavidgalloshowsunderwaterastonishmentsduration3270thumbhttpspitedcdncomrpetedcdncomimagested49306f30dbac9aa73e1e57aca532330b9532cd7f1600x1200jpgquality63w512urltalksdavidgalloshowsunderwaterastonishmentssponsorfalseid830titleHooked': 1, 'octopusslugmikedegruyhookedbyoctopusduration10920thumbhttpspitedcdncomrpetedcdncomimagested163962800x600jpgquality63w512urltalksmikedegruyhookedbyoctopussponsorfalseid850titleHow': 1, 'oceanslugjeremyjacksonduration10990thumbhttpspitedcdncomrpetedcdncomimagested168503800x600jpgquality63w512urltalksjeremyjacksonsponsorfalseid1684titleHow': 1, 'squidslugedithwidderhowwefoundthegiantsquidduration5180thumbhttpspitedcdncomrpetedcdncomimagested2d4398c107f807b406d168c13d607a07492662cd2880x1620jpgquality63w512urltalksedithwidderhowwefoundthegiantsquidsponsorfalseid467titleMy': 1, 'oceansslugsylviaearlestedprizewishtoprotectouroceansduration10960thumbhttpspitedcdncomrpetedcdncomimagested73175800x600jpgquality63w512urltalkssylviaearlestedprizewishtoprotectouroceanssponsorfalseindex8slugwhatshouldidowithmylifeid15titleWhat': 1, 'lifeitemsid1384titleWhy': 1, 'careersluglarrysmithwhyyouwillfailtohaveagreatcareerduration9150thumbhttpspitedcdncomrpetedcdncomimagested0ba3ef25abbdde1e88c829366cc1838a1e58d5e21600x1200jpgquality63w512urltalkslarrysmithwhyyouwillfailtohaveagreatcareersponsorfalseid848titleHow': 1, 'actionslugsimonsinekhowgreatleadersinspireactionduration10840thumbhttpspitedcdncomrpetedcdncomimagested04916ee6e81065c8333e6546184af512eee37bbe2880x1620jpgquality63w512urltalkssimonsinekhowgreatleadersinspireactionsponsorfalseid2341titleWhy': 1, 'callingslugemiliewapnickwhysomeofusdonthaveonetruecallingduration7460thumbhttpspitedcdncomrpetedcdncomimagested11e3541d75d4afba6badc2c3c058b8cb4bfe58632880x1620jpgquality63w512urltalksemiliewapnickwhysomeofusdonthaveonetruecallingsponsorfalseid2332titleHow': 1, 'loveslugscottdinsmorehowtofindworkyouloveduration10670thumbhttpspitedcdncomrpetedcdncomimagested5023bc560bc149e7aad56c8dca0f47671b0056992880x1620jpgquality63w512urltalksscottdinsmorehowtofindworkyoulovesponsorfalseid1553titleBefore': 1, 'slugcandychangbeforeidieiwanttoduration3800thumbhttpspitedcdncomrpetedcdncomimagested5159576b119c7f11a8b0f8501ce3b04a6e091c4f1600x1200jpgquality63w512urltalkscandychangbeforeidieiwanttosponsorfalseid1973titleShould': 1, 'eulogyslugdavidbrooksshouldyouliveforyourresumeoryoureulogyduration3010thumbhttpspitedcdncomrtalkstarphotoss3amazonawscomuploads28ce0b5c21db421b85e43aa5a2ffc14fDavidBrooks2014embedjpgquality63w512urltalksdavidbrooksshouldyouliveforyourresumeoryoureulogysponsorfalseid947titleKeep': 1, 'yourselfslugdereksiverskeepyourgoalstoyourselfduration1950thumbhttpspitedcdncomrpetedcdncomimagested195575800x600jpgquality63w512urltalksdereksiverskeepyourgoalstoyourselfsponsorfalseid553titleDont': 1, 'eat': 1, 'marshmallowslugjoachimdeposadasaysdonteatthemarshmallowyetduration3580thumbhttpspitedcdncomrpetedcdncomimagested97f044f30b95fdfac851e11fded1d7c93faf34292880x1620jpgquality63w512urltalksjoachimdeposadasaysdonteatthemarshmallowyetsponsorfalseid453titleYour': 1, 'elusive': 1, 'creative': 1, 'geniusslugelizabethgilbertongeniusduration11490thumbhttpspitedcdncomrpetedcdncomimagestedf2f6d094758c36a61b3ee7992a9b197eb4c079792880x1620jpgquality63w512urltalkselizabethgilbertongeniussponsorfalseid1983titleSuccess': 1, 'failure': 1, 'drive': 1, 'keep': 1, 'creatingslugelizabethgilbertsuccessfailureandthedrivetokeepcreatingduration4380thumbhttpspitedcdncomrpetedcdncomimagestedaa39c73bae9d19372ed2059e7c8b0b7eb90998651600x1200jpgquality63w512urltalkselizabethgilbertsuccessfailureandthedrivetokeepcreatingsponsorfalseid1733titleGrit': 1, 'passion': 1, 'perseveranceslugangelaleeduckworthgritthepowerofpassionandperseveranceduration3720thumbhttpspitedcdncomrpetedcdncomimagesteded7fa3c2c9b79234201ef8ed40be228c3e93552c1600x1200jpgquality63w512urltalksangelaleeduckworthgritthepowerofpassionandperseverancesponsorfalseid2156titleThe': 1, 'believing': 1, 'improveslugcaroldweckthepowerofbelievingthatyoucanimproveduration6200thumbhttpspitedcdncomrpetedcdncomimagested85582d553035da22504c315ba5ec7ed727f163542880x1620jpgquality63w512urltalkscaroldweckthepowerofbelievingthatyoucanimprovesponsorfalseindex9slugcheckyourfactsid26titleCheck': 1, 'factsitemsid1630titleHow': 1, 'onlineslugmarkhamnolanhowtoseparatefactandfictiononlineduration8090thumbhttpspitedcdncomrpetedcdncomimagestedc11cd7bef22fe47795e530dc871cea3a872213111600x1200jpgquality63w512urltalksmarkhamnolanhowtoseparatefactandfictiononlinesponsorfalseid652titleThe': 1, 'storyslugchimamandaadichiethedangerofasinglestoryduration11290thumbhttpspitedcdncomrtalkstarphotoss3amazonawscomuploads8953d163926f43318f1f86db90b94f0bChimamandaAdichie2009Gembedjpgquality63w512urltalkschimamandaadichiethedangerofasinglestorysponsorfalseid2073titleDont': 1, 'Dont': 1, 'clickslugsallykohndontlikeclickbaitdontclickduration2760thumbhttpspitedcdncomrpetedcdncomimagested2285025aeba7becd431cfa04f05c592075491fcd2400x1800jpgquality63w512urltalkssallykohndontlikeclickbaitdontclicksponsorfalseid22titleWhy': 1, 'thingsslugmichaelshermeronbelievingstrangethingsduration8050thumbhttpspitedcdncomrpetedcdncomimagestedf9e5462fd10b5130015fab95f3be6ace3e0f4ef41600x1200jpgquality63w512urltalksmichaelshermeronbelievingstrangethingssponsorfalseid1560titleWhy': 1, 'wrongslugscottfrasertheproblemwitheyewitnesstestimonyduration12500thumbhttpspitedcdncomrpetedcdncomimagested650623dba1696ad755b8a729dc55e7e152a6b896800x600jpgquality63w512urltalksscottfrasertheproblemwitheyewitnesstestimonysponsorfalseid1957titleYour': 1, 'thinkslugjennifergolbeckthecurlyfryconundrumwhysocialmedialikessaymorethanyoumightthinkduration5950thumbhttpspitedcdncomrpetedcdncomimagestedca07fd2063e0b3fbd34eb18890d6512da7ee73e31600x1200jpgquality63w512urltalksjennifergolbeckthecurlyfryconundrumwhysocialmedialikessaymorethanyoumightthinksponsorfalseid2032titleWhy': 1, 'trust': 1, 'scientistsslugnaomioreskeswhyweshouldbelieveinscienceduration11540thumbhttpspitedcdncomrpetedcdncomimagesteda03b16b44edd4c66025791eccad2319363bf18602400x1800jpgquality63w512urltalksnaomioreskeswhyweshouldbelieveinsciencesponsorfalseid1958titleProtecting': 1, 'Twitter': 2, 'users': 1, 'themselvesslugdelharveythestrangenessofscaleattwitterduration5590thumbhttpspitedcdncomrpetedcdncomimagested630d123572ec57fd0a35a1b15016cf4a3d1ec40f1600x1200jpgquality63w512urltalksdelharveythestrangenessofscaleattwittersponsorfalseid1234titleBattling': 1, 'bad': 1, 'scienceslugbengoldacrebattlingbadscienceduration8590thumbhttpspitedcdncomrtalkstarphotoss3amazonawscomuploadsb61b0c8ac2b94adeb8bf4db3d7619c90BenGoldacre2011Gembedjpgquality63w512urltalksbengoldacrebattlingbadsciencesponsorfalseid1708titleWatson': 1, 'Jeopardy': 1, 'obsolete': 1, 'knowitallslugkenjenningswatsonjeopardyandmetheobsoleteknowitallduration10720thumbhttpspitedcdncomrpetedcdncomimagestedc1c6ba11c2170e47c9cae5e674edfd102a5b85f31600x1200jpgquality63w512urltalkskenjenningswatsonjeopardyandmetheobsoleteknowitallsponsorfalsereactcontainer2': 1, 'nonpartisan': 1, 'nonprofit': 1, 'devoted': 1, 'usually': 1, 'form': 1, 'short': 1, 'powerful': 1, 'began': 1, '1984': 1, 'as': 1, 'conference': 1, 'Technology': 1, 'Entertainment': 1, 'Design': 1, 'converged': 1, 'covers': 1, 'topics': 1, 'science': 1, 'business': 1, 'issues': 1, '110': 1, 'languages': 1, 'Meanwhile': 1, 'communities': 1, 'ggasendNonInteractionhomepageribbonimpressionnewest1trending2heardontedradiohour3recommendedtoday4questioningourtech5letstalkaboutdeath6gettingthingsdone7theoceanisamazing8whatshouldidowithmylife9checkyourfacts10animalsandus11explorephilosophy12apocalypsesoon13': 1, 'Ed': 1, 'Translators': 2, 'Institute': 1, 'Ways': 1, 'NPR': 1, 'More': 1, 'Follow': 1, 'Pinterest': 1, 'Instagram': 1, 'YouTube': 1, 'Speakers': 1, 'Organizers': 1, 'Community': 1, 'updates': 1, 'Subscribe': 1, 'notifications': 1, 'whenever': 1, 'published': 1, 'Daily': 2, 'Weekly': 2, 'address': 3, 'Please': 7, 'enter': 2, 'valid': 1, 'Did': 1, 'mean': 1, 'check': 4, 'try': 4, 'again': 4, 'details': 2, 'Sorry': 1, 'were': 1, 'currently': 1, 'having': 1, 'trouble': 1, 'processing': 1, 'newsletter': 1, 'signups': 1, 'Thanks': 1, 'If': 1, 'even': 1, 'ability': 1, 'save': 1, 'laternbspsign': 1, 'now46': 1, 'Language': 1, 'Selector': 1, 'TEDcom': 2, 'translations': 1, 'made': 1, 'possible': 1, 'volunteer': 1, 'translators': 1, 'Open': 1, 'Translation': 1, 'Project': 1, 'English': 1, 'Usage': 1, 'Policy': 2, 'Privacy': 1, 'Advertising': 1, 'Partnership': 1, 'Terms': 1, 'Use': 1, 'Contact': 1, 'Jobs': 1, 'Press': 1, 'Help': 1, 'copy': 1, 'LLC': 1, 'gads': 1, 'documentcreateElementscript': 2, 'gadsasync': 1, 'gadstype': 1, 'textjavascript': 1, 'useSSL': 2, 'https': 3, 'documentlocationprotocol': 2, 'gadssrc': 1, 'http': 1, 'wwwgoogletagservicescomtagjsgptjs': 1, 'node': 2, 'documentgetElementsByTagNamescript0': 2, 'nodeparentNodeinsertBeforegads': 1, 'functionsobam': 1, 'ascreateElementomsgetElementsByTagNameo0': 1, 'aasync1asrcb': 1, 'mparentNodeinsertBefoream': 1, 'documentscripthttpswwwgoogleanalyticscomanalyticsjs': 1, 'comscore': 2, 'comscorepush': 1, 'c1': 1, '2': 1, 'c2': 1, '7341760': 1, 's': 1, 'el': 2, 'sasync': 1, 'ssrc': 1, 'httpssb': 1, 'httpb': 1, 'scorecardresearchcombeaconjs': 1, 'elparentNodeinsertBefores': 1, 'functiondscuemrrdlocationsearchmatchgeoAZ2bifrdcookieindexOfc1edcreateElementsmdgetElementsByTagNames0easync1esrcurr1mparentNodeinsertBeforeemdocumentscript': 1, \"_tcn=1','https://geo-assets.tedcdn.com/cookie-notice/tcn.js?cb=1.0.2')\": 1}\n"
     ]
    }
   ],
   "source": [
    "import pickle\n",
    "## 기존코드\n",
    "import string\n",
    "from urllib import request \n",
    "def trans(a):\n",
    "    list_a = list(a)\n",
    "    for i in range(0,len(list_a)):\n",
    "        for j in range(0,len(L)):\n",
    "            if list_a[i] == L[j]:\n",
    "                list_a[i] = ''\n",
    "    result = \"\"\n",
    "    for i in range(0,len(list_a)):\n",
    "        result = result + list_a[i]\n",
    "    return result\n",
    "\n",
    "def delete_empty(a):\n",
    "    i = 0\n",
    "    while (i != len(a)):\n",
    "        if a[i] == '':\n",
    "            del(a[i])\n",
    "        i +=1\n",
    "    return a\n",
    "\n",
    "def frequency(a):\n",
    "    result = {}\n",
    "    for i in range(0,len(a)):\n",
    "        if (result.get(a[i])):\n",
    "            result[a[i]] += 1 ## 기존에 있는 key 면 value 값 1 증가\n",
    "        else:\n",
    "            result[a[i]] = 1 ##사전에 a[i] 와 value 1추가\n",
    "    return result\n",
    "\n",
    "url = 'http://www.ted.com'\n",
    "f = request.urlopen(url)\n",
    "source_bytes = f.read()\n",
    "source = source_bytes.decode('utf-8')\n",
    "\n",
    "isOpen = False\n",
    "pureWord = []\n",
    "text = ''\n",
    "for i in source:\n",
    "    if i == '<':\n",
    "        isOpen = True\n",
    "        continue\n",
    "    if i == '>':\n",
    "        isOpen = False\n",
    "        continue\n",
    "    if isOpen == False and not i.isspace():\n",
    "        text = text + i\n",
    "        ##print (i)\n",
    "        ##print(text)\n",
    "        ##print (isOpen)\n",
    "    if isOpen == False and i.isspace() and text:\n",
    "        pureWord.append(text)\n",
    "        text=''\n",
    "\n",
    "L = [string.punctuation[i] for i in range(0,len(string.punctuation)-1)]\n",
    "\n",
    "for i in range(0,len(pureWord)-1):\n",
    "    pureWord[i] = trans(pureWord[i])\n",
    "\n",
    "pureWord = delete_empty(pureWord)\n",
    "\n",
    "frequency_word = {}\n",
    "frequency_word = frequency(pureWord)\n",
    "\n",
    "url1 = 'http://www.lextek.com/manuals/onix/stopwords1.html'\n",
    "f = request.urlopen(url)\n",
    "source_bytes = f.read()\n",
    "source = source_bytes.decode('utf-8')\n",
    "L = source.split()\n",
    "L = L[503:503+429]\n",
    "\n",
    "L2 = list(frequency_word.keys())\n",
    "for i in range(0,len(L)):\n",
    "    if L[i] in frequency_word:\n",
    "        del frequency_word[L[i]]\n",
    "print(frequency_word)\n",
    "s= url[7:len(url)]\n",
    "f= open(s+'.words.frequency','bw')\n",
    "pickle.dump(frequency_word,f)\n",
    "f.close()"
   ]
  },
  {
   "cell_type": "markdown",
   "metadata": {},
   "source": [
    "- pickle 모듈을 활용하여 dump로 frequency 사전을 통째로 'bw' 모드로 오픈한 파일에 입력하였다."
   ]
  },
  {
   "cell_type": "markdown",
   "metadata": {},
   "source": [
    "### [8번 문제] - 4"
   ]
  },
  {
   "cell_type": "markdown",
   "metadata": {},
   "source": [
    "- 위 2번과 3번에서 구현함"
   ]
  },
  {
   "cell_type": "markdown",
   "metadata": {},
   "source": [
    "### [8번 문제] - 5"
   ]
  },
  {
   "cell_type": "code",
   "execution_count": 25,
   "metadata": {},
   "outputs": [
    {
     "name": "stdout",
     "output_type": "stream",
     "text": [
      "['function', 'u003ca', 'is']\n"
     ]
    }
   ],
   "source": [
    "import pickle\n",
    "f = open('www.cnn.com.words.frequency','rb')\n",
    "frequency = pickle.load(f)\n",
    "f.close()\n",
    "\n",
    "max = 0\n",
    "LL = list(frequency.keys())\n",
    "L1 = [LL[0], LL[1], LL[2]]\n",
    "for i in range(0,len(LL)):\n",
    "    if frequency[LL[i]] >= max:\n",
    "        max = frequency[LL[i]]\n",
    "        L1.append(LL[i])\n",
    "        L1.pop(0)\n",
    "print(L1)"
   ]
  },
  {
   "cell_type": "code",
   "execution_count": 26,
   "metadata": {},
   "outputs": [
    {
     "name": "stdout",
     "output_type": "stream",
     "text": [
      "['reddit', 'the', 'false']\n"
     ]
    }
   ],
   "source": [
    "import pickle\n",
    "f = open('www.reddit.com.words.frequency','rb')\n",
    "frequency = pickle.load(f)\n",
    "f.close()\n",
    "\n",
    "max = 0\n",
    "LL = list(frequency.keys())\n",
    "L1 = [LL[0], LL[1], LL[2]]\n",
    "for i in range(0,len(LL)):\n",
    "    if frequency[LL[i]] >= max:\n",
    "        max = frequency[LL[i]]\n",
    "        L1.append(LL[i])\n",
    "        L1.pop(0)\n",
    "print(L1)"
   ]
  },
  {
   "cell_type": "code",
   "execution_count": 27,
   "metadata": {},
   "outputs": [
    {
     "name": "stdout",
     "output_type": "stream",
     "text": [
      "['Photos', 'amp', 'on']\n"
     ]
    }
   ],
   "source": [
    "import pickle\n",
    "f = open('www.billboard.com.words.frequency','rb')\n",
    "frequency = pickle.load(f)\n",
    "del frequency['']\n",
    "f.close()\n",
    "\n",
    "max = 0\n",
    "LL = list(frequency.keys())\n",
    "L1 = [LL[0], LL[1], LL[2]]\n",
    "for i in range(0,len(LL)):\n",
    "    if frequency[LL[i]] >= max:\n",
    "        max = frequency[LL[i]]\n",
    "        L1.append(LL[i])\n",
    "        L1.pop(0)\n",
    "print(L1)"
   ]
  },
  {
   "cell_type": "code",
   "execution_count": 28,
   "metadata": {},
   "outputs": [
    {
     "name": "stdout",
     "output_type": "stream",
     "text": [
      "['on', 'to', 'the']\n"
     ]
    }
   ],
   "source": [
    "import pickle\n",
    "f = open('www.espn.com.words.frequency','rb')\n",
    "frequency = pickle.load(f)\n",
    "del frequency['']\n",
    "f.close()\n",
    "\n",
    "max = 0\n",
    "LL = list(frequency.keys())\n",
    "L1 = [LL[0], LL[1], LL[2]]\n",
    "for i in range(0,len(LL)):\n",
    "    if frequency[LL[i]] >= max:\n",
    "        max = frequency[LL[i]]\n",
    "        L1.append(LL[i])\n",
    "        L1.pop(0)\n",
    "print(L1)"
   ]
  },
  {
   "cell_type": "code",
   "execution_count": 29,
   "metadata": {},
   "outputs": [
    {
     "name": "stdout",
     "output_type": "stream",
     "text": [
      "['on', 'you', 'a']\n"
     ]
    }
   ],
   "source": [
    "import pickle\n",
    "f = open('www.ted.com.words.frequency','rb')\n",
    "frequency = pickle.load(f)\n",
    "del frequency['']\n",
    "f.close()\n",
    "\n",
    "max = 0\n",
    "LL = list(frequency.keys())\n",
    "L1 = [LL[0], LL[1], LL[2]]\n",
    "for i in range(0,len(LL)):\n",
    "    if frequency[LL[i]] >= max:\n",
    "        max = frequency[LL[i]]\n",
    "        L1.append(LL[i])\n",
    "        L1.pop(0)\n",
    "print(L1)"
   ]
  },
  {
   "cell_type": "markdown",
   "metadata": {},
   "source": [
    "- list를 큐처럼 이용하여, 현재 max보다 큰값이 들어오면, 가장 과거에 들어온 key값을 제거, 현재 빈도수가 가장 높은 key를 append 한다."
   ]
  },
  {
   "cell_type": "markdown",
   "metadata": {},
   "source": [
    "### [8번 문제] - 6"
   ]
  },
  {
   "cell_type": "markdown",
   "metadata": {},
   "source": [
    "### [8번 문제] - 7"
   ]
  },
  {
   "cell_type": "markdown",
   "metadata": {},
   "source": [
    "- 너무 긴 문자열은 제외 시키거나, 의미있는 단어들을 추출해야 될것 같다.\n",
    "- 결과 값에 따라, 사용자에게 선택받은 url과 그 빈도를 처리하여, 더 인공지능적인 검색이 가능하도록 할 수 있을것 같다.\n",
    "- 과제에서 구현한 frequency 사전에서 특정 사이트와 아무런 관련이 없는 단어들은 삭제해야 한다."
   ]
  },
  {
   "cell_type": "markdown",
   "metadata": {},
   "source": [
    "### [느낀점]"
   ]
  },
  {
   "cell_type": "markdown",
   "metadata": {},
   "source": [
    "이번 과제에는 아쉬운 부분이 너무 많았다. 불용어를 제거 하는 부분이 뜻대로 되지 않았고, 검색엔진을 구현하지 못해 너무 씁쓸하다. 하지만, 수업에서 파일 입출력, pikle 사용법, hash 암호화등등 새로운 개념을 알게 되어 매우 뜻깊었다. 과제에 대해 아쉬운점이라면, 과제에 대한 설명 부족과 8번문제 처럼 긴 코드가 요구되는 문제는 순서대로 구현하기 쉽게 문제가 주어졌으면 하는 바램이다."
   ]
  }
 ],
 "metadata": {
  "kernelspec": {
   "display_name": "Python 3",
   "language": "python",
   "name": "python3"
  },
  "language_info": {
   "codemirror_mode": {
    "name": "ipython",
    "version": 3
   },
   "file_extension": ".py",
   "mimetype": "text/x-python",
   "name": "python",
   "nbconvert_exporter": "python",
   "pygments_lexer": "ipython3",
   "version": "3.6.1"
  }
 },
 "nbformat": 4,
 "nbformat_minor": 2
}
