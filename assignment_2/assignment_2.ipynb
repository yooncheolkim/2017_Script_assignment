{
 "cells": [
  {
   "cell_type": "markdown",
   "metadata": {},
   "source": [
    "### assignment_2-01"
   ]
  },
  {
   "cell_type": "code",
   "execution_count": 1,
   "metadata": {
    "scrolled": false
   },
   "outputs": [
    {
     "name": "stdout",
     "output_type": "stream",
     "text": [
      "4\n"
     ]
    }
   ],
   "source": [
    "print(1 and 2 and 3 and 4)"
   ]
  },
  {
   "cell_type": "markdown",
   "metadata": {},
   "source": [
    "and 연산은 앞쪽이 true 이면, 뒤쪽도 확인 해야 한다.<br />\n",
    "그러므로, and 4까지 확인하고 4를 반환하는 결과를 보여준다."
   ]
  },
  {
   "cell_type": "code",
   "execution_count": 2,
   "metadata": {
    "scrolled": true
   },
   "outputs": [
    {
     "name": "stdout",
     "output_type": "stream",
     "text": [
      "1\n"
     ]
    }
   ],
   "source": [
    "print(1 or 2 or 3 or 4)"
   ]
  },
  {
   "cell_type": "markdown",
   "metadata": {},
   "source": [
    "or 연산은 앞쪽이 true 이면, 뒤쪽을 확인하지 않아도 된다.<br />\n",
    "그러므로, 1은 true 이므로, 1을 반환하는 결과를 보여준다."
   ]
  },
  {
   "cell_type": "markdown",
   "metadata": {},
   "source": [
    "위 두개의 결과를 이해 한다면, 밑의 결과도 이해할 수 있다."
   ]
  },
  {
   "cell_type": "code",
   "execution_count": 3,
   "metadata": {
    "scrolled": true
   },
   "outputs": [
    {
     "name": "stdout",
     "output_type": "stream",
     "text": [
      "2\n",
      "2\n",
      "1\n",
      "3\n"
     ]
    }
   ],
   "source": [
    "print(1 and 2 or 3 and 4)\n",
    "## 앞에 and가 나오므로, 2를 반환, 이후 or 가 나오므로, 뒤쪽은 확인하지 않는다.\n",
    "print((1 and 2) or (3 and 4))\n",
    "## 앞부분 2를 반환, or 가 나오므로 뒤쪽은 확인하지 않는다.\n",
    "print(1 or 2 and 3 or 4)\n",
    "## 1이 나오고 or가 나오므로 뒤쪽은 확인하지 않는다.\n",
    "print((1 or 2) and (3 or 4))\n",
    "## or 이므로 앞쪽의 1을 반환, 뒤쪽도 or 이므로 3을 반환 -> 이후 and 이므로 뒤쪽인 3을 반환"
   ]
  },
  {
   "cell_type": "markdown",
   "metadata": {},
   "source": [
    "### assignment_2-02"
   ]
  },
  {
   "cell_type": "code",
   "execution_count": 4,
   "metadata": {
    "collapsed": true
   },
   "outputs": [],
   "source": [
    "def div_path(a):\n",
    "    res1 = ''\n",
    "    res2 = ''\n",
    "    \n",
    "    for i in range(len(a)-1, 0,-1):\n",
    "        if a[i] == '/':\n",
    "            res1 = a[i+1:len(a)]\n",
    "            res2 = a[0:i]\n",
    "            break\n",
    "            \n",
    "    result = []\n",
    "    result.append(res2)\n",
    "    result.append(res1)\n",
    "    return result"
   ]
  },
  {
   "cell_type": "code",
   "execution_count": 6,
   "metadata": {
    "scrolled": true
   },
   "outputs": [
    {
     "name": "stdout",
     "output_type": "stream",
     "text": [
      "/home/chulsoo/test.txt\n",
      "['/home/chulsoo', 'test.txt']\n"
     ]
    }
   ],
   "source": [
    "a = input();\n",
    "print(div_path(a))"
   ]
  },
  {
   "cell_type": "markdown",
   "metadata": {},
   "source": [
    "문자열을 받아 문자열 끝에서 부터 참조하는 for문을 이용한다.<br/>\n",
    "for i in range(len(a)-1, 0,-1)<br/>"
   ]
  },
  {
   "cell_type": "markdown",
   "metadata": {},
   "source": [
    "그렇게 하여, '/'을 만나면, / 이후 부터 파일명이고, / 앞쪽은 경로명이 된다."
   ]
  },
  {
   "cell_type": "markdown",
   "metadata": {},
   "source": [
    "### assignment_2-03"
   ]
  },
  {
   "cell_type": "code",
   "execution_count": 10,
   "metadata": {
    "scrolled": false
   },
   "outputs": [
    {
     "name": "stdout",
     "output_type": "stream",
     "text": [
      "[-10, -5, -1, 0, 9, 100]\n"
     ]
    }
   ],
   "source": [
    "def list_union(lista,listb):\n",
    "    result = []\n",
    "    for i in lista:\n",
    "        if i in result:\n",
    "            continue\n",
    "        result.append(i)\n",
    "    for i in listb:\n",
    "        if i in result:\n",
    "            continue\n",
    "        result.append(i)\n",
    "    result.sort()\n",
    "    return result\n",
    "\n",
    "print(list_union([-10, -5, 0, -1], [100, 9, 0, 9]))"
   ]
  },
  {
   "cell_type": "markdown",
   "metadata": {},
   "source": [
    "두 리스트에 있는 값을 새로 만든 result 라는 리스트에 추가한다.<br/>\n",
    "이때, result에 있는 항목이면 continue를 사용, 넘어간다.<br/>\n",
    "마지막으로 sort하여 정렬한다."
   ]
  },
  {
   "cell_type": "markdown",
   "metadata": {},
   "source": [
    "### assignment_2-04"
   ]
  },
  {
   "cell_type": "code",
   "execution_count": 11,
   "metadata": {},
   "outputs": [
    {
     "name": "stdout",
     "output_type": "stream",
     "text": [
      "26\n",
      "4\n"
     ]
    }
   ],
   "source": [
    "def cycle(a):\n",
    "    if len(a) == 1:\n",
    "        a = '0' + a[0]\n",
    "    temp = int(a[1]) + int(a[0]) ##int형\n",
    "    newnum = a[1] + str(temp%10)  ##string형\n",
    "    cnt = 1\n",
    "    while True:\n",
    "        if newnum == a:\n",
    "            break\n",
    "        cnt += 1\n",
    "        temp = int(newnum[1]) +int(newnum[0])\n",
    "        newnum = newnum[1] + str(temp%10)\n",
    "    return cnt\n",
    "\n",
    "a = input()\n",
    "print (cycle(a))"
   ]
  },
  {
   "cell_type": "markdown",
   "metadata": {},
   "source": [
    "입력받은 수로 돌아 올때까지 걸리는 카운트수 계산하는 함수 정의 : cycle() <br/>\n",
    "temp 에 이전 수의 한자리씩을 더한 값을 저장<br/>\n",
    "newnum 에 새롭게 판단할 수를 저장<br/>\n",
    "처음 수 a 와 newnum 이 같게 되면 while 문을 빠져 나오면서 cnt를 반환한다.\n",
    "\n",
    "![img](./acmi1110.PNG)"
   ]
  },
  {
   "cell_type": "markdown",
   "metadata": {},
   "source": [
    "### assignment_2-05"
   ]
  },
  {
   "cell_type": "code",
   "execution_count": 12,
   "metadata": {
    "collapsed": true
   },
   "outputs": [],
   "source": [
    "from urllib import request \n",
    " \n",
    "url = 'http://cse.koreatech.ac.kr'\n",
    "f = request.urlopen(url)\n",
    "source_bytes = f.read()\n",
    "source = source_bytes.decode('utf-8')\n",
    "\n",
    "# 추후 숙제 답안 제출 때엔 아래 코드는 주석처리할 것                 \n",
    "##print(type(source_bytes))\n",
    "##print(type(source))\n",
    "##print(source)"
   ]
  },
  {
   "cell_type": "markdown",
   "metadata": {
    "collapsed": true
   },
   "source": [
    "- HTML 태그의 시작은 '<' 이므로, flag를 사용한다.<br/>\n",
    "- '<' 문자열을 만나면 flag = true<br/>\n",
    "- '>' 문자열을 만나면 flag = false<br/>\n",
    "- 그리고 flag를 만났고, 현재 참조하는 문자가 공백이 아니라면 text에 문자를 추가한다.<br/>\n",
    "- 그리고 공백을 만났을때 text는 한 단어가 되므로 pureWord에 추가 하도록 하여 단어를 추출하였다.<br/>"
   ]
  },
  {
   "cell_type": "code",
   "execution_count": 13,
   "metadata": {
    "scrolled": true
   },
   "outputs": [
    {
     "name": "stdout",
     "output_type": "stream",
     "text": [
      "단어 수 : 468\n",
      "\n",
      "\n",
      "['컴퓨터공학부', '//', 'Schoolfun', '-', 'Study', 'and', 'Fun', '--', '로그인', '로그인', '아이디', '비밀번호', '로그인', '유지', '브라우저를', '닫더라도', '로그인이', '계속', '유지될', '수', '있습니다.', '로그인', '유지', '기능을', '사용할', '경우', '다음', '접속부터는', '로그인할', '필요가', '없습니다.', '단,', '게임방,', '학교', '등', '공공장소에서', '이용', '시', '개인정보가', '유출될', '수', '있으니', '꼭', '로그아웃을', '해주세요.', '회원가입', 'ID/PW', '찾기', 'IT', '교육의', '글로벌', '메카!한국기술교육대학교', '컴퓨터공학부', 'Close', '소개', '구성원소개', '학사안내', '입학', '학부', '대학원', '학부광장', '자료실', '대학원', '공학교육인증', '학부서비스', 'Registration', '컴퓨터공학부', 'School', 'of', 'Computer', 'Science', 'and', 'Engineering', 'IT', '융합소프트웨어', '인력양성사업', 'CK', '(Creative', 'Korea)-I', '교육역량강화사업', '온라인', '컨텐츠', 'Online', 'Contents', 'for', 'Education', 'Capability', 'Empowerment', 'IT', '교육의', '글로벌', '메카', '한국기술교육대학교', '컴퓨터공학부', '홈페이지에', '오신', '것을환영합니다!', 'IT', '융합소프트웨어', '인력양성사업', '글로벌', '수준의', 'IT전문인력', '양성', 'IT융합분야에', '대한', '국제적인', '경쟁력', '고취', '바로가기', '교육역량강화사업', '컨텐츠', '교육역량강화사업', '온라인', '컨텐츠를', '소개합니다.', '바로가기', '공지사항', '2017년', '졸업작품', '영어발표', '경진대회', '및', '공학설계', '아이...', '2017-10-11', '09:24', '09:24', '[특성화]', '2017', 'IT융합', '프로그래밍', '경시대회', '모집', '공고', '2017-10-10', '15:49', '15:49', '[특성화]', 'ICTS', '2017', '중국', '전시회', '선발학생', '공고', '2017-09-28', '10:18', '10:18', '[특성화]', 'KES', '2017', '전시회', '선발학생', '공고', '2017-09-27', '15:20', '15:20', '[졸업작품', '전시회', '참가자', '필독]', '2017년', '졸업작품', '전시...', '2017-09-27', '13:24', '13:24', '자유게시판', '제6회', '레몬', '정보보호', '세미나', '개최', '2017-10-06', '23:40', '23:40', '예비역', '훈련', '및', '뒤풀이', '공지!', '2017-09-19', '21:16', '21:16', '모의토익비를', '지원해드립니다.^^', '2017-09-17', '20:08', '20:08', '4공학관', 'B동', '입구', '담배피우는', '문제로', '글을', '올립니다.', '2017-09-11', '22:13', '22:13', '학술소모임', '씨앗(Seed)에서', '신입', '회원', '모집', '및', '개강총...', '2017-09-05', '15:46', '15:46', '취업게시판', '[천안]', '(주)ABB코리아', '채용', '공고문', '-', '로봇사업부', '채용(...', '2017-09-29', '11:29', '11:29', '영풍전자(주)', '-', '[안산]_직무별[제조기술/품질/개발/마...', '2017-09-25', '10:04', '10:04', '[용인-수원(내년', '통합예정)]', '㈜라온옵틱스', '신입,', '경력...', '2017-09-25', '09:21', '09:21', '엑시콘', '산학공동연구소', '연구원', '모집(~9/18)', '2017-09-08', '13:46', '13:46', '[서울]', '에이치투오시스템테크놀로지(주)', 'IT개발', '및', '마...', '2017-09-04', '17:35', '17:35', 'Platum', '[현장]', '네이버,', '‘일상생활', '환경', '모두', '연결하겠다’', '2017-10-16', '10:24', '10:24', 'Videogame', 'developer', 'Bluehole’s', 'chairman', 'recognized', '...', '2017-10-16', '09:57', '09:57', 'Interview:', 'The', 'secret', 'behind', 'the', 'fashion', 'startup', 'St...', '2017-10-16', '09:52', '09:52', '네이버는', '쇼핑,', '다음은', '뉴스,', '구글은', '검색', '2017-10-16', '09:45', '09:45', '카카오택시,', '‘카카오T’', '로', '리브랜딩', '2017-10-16', '09:22', '09:22', '전자신문', \"'장비\", '중심', 'EMP', \"방호'\", '관심', '고조···기존', '건물에', '...', '2017-10-15', '18:00', '18:00', '[2017', '과기정통부장관배', '축구대회]LG유플러스,', 'SK...', '2017-10-15', '17:00', '17:00', '박병대', '삼성전자', '부사장,', '19일', '국감', '증인으로', '출석', '2017-10-15', '17:00', '17:00', '알뜰폰', '\"우리도', '기본료', '폐지해', '달라\"', '2017-10-15', '17:00', '17:00', '中', 'TCL,', '스마트폰', '사업부문', '지분', '49%', '매각', '2017-10-15', '17:00', '17:00', 'TechCrunch', 'Asics', 'is', 'using', 'microwave', 'technology', 'to', 'create', '...', '2017-10-16', '07:44', '07:44', 'Elon', 'Musk', 'banters', 'and', 'answers', 'rocketry', 'questio...', '2017-10-16', '06:30', '06:30', 'Mobile', 'phone', 'companies', 'appear', 'to', 'be', 'providing', '...', '2017-10-16', '05:04', '05:04', 'Russia', 'may', 'soon', 'issue', 'its', 'own', 'official', 'blockch...', '2017-10-16', '03:57', '03:57', 'User', 'outcry', 'prompts', 'OnePlus', 'to', 'step', 'down', 'its', 'e...', '2017-10-16', '00:22', '00:22', 'Back', 'to', 'Top', 'Leading', 'Together', 'for', 'Brighter', 'Future', '--', 'Quick', 'Navigation', '한국기술교육대학교', '홈페이지', '한국기술교육대학교', 'WEBMAIL', '한국기술교육대학교', '온라인', '평생교육원', 'IT', '융합소프트웨어', '인력양성사업', '컴퓨터공학부', '교직원', '업무', '자료실', '컴퓨터공학부', '포트폴리오--', 'Campus', 'Location', 'Contact', 'CSE', '충청남도', '천안시', '동남구', '병천면', '충절로', '1600한국기술교육대학교', '컴퓨터공학부', '학과사무실', 'TEL', '(041)', '560', '1460', '~', '1461', 'FAX', '(041)', '560', '1462', 'Facebook', 'Twitter', 'Google', 'Plus', 'Linkedin--', '(31253)', '충청남도', '천안시', '동남구', '병천면', '충절로', '1600', '(가전리,', '한국기술교육대학교)', '컴퓨터공학부', 'Copyright', '©', '2015.', 'All', 'rights', 'reserved']\n"
     ]
    }
   ],
   "source": [
    "isOpen = False\n",
    "pureWord = []\n",
    "text = ''\n",
    "for i in source:\n",
    "    if i == '<':\n",
    "        isOpen = True\n",
    "        continue\n",
    "    if i == '>':\n",
    "        isOpen = False\n",
    "        continue\n",
    "    if isOpen == False and not i.isspace():\n",
    "        text = text + i\n",
    "        ##print (i)\n",
    "        ##print(text)\n",
    "        ##print (isOpen)\n",
    "    if isOpen == False and i.isspace() and text:\n",
    "        pureWord.append(text)\n",
    "        text=''\n",
    "print(\"단어 수 : \" + str(len(pureWord)))\n",
    "print()\n",
    "print()\n",
    "print(pureWord)\n",
    "\n"
   ]
  }
 ],
 "metadata": {
  "kernelspec": {
   "display_name": "Python 3",
   "language": "python",
   "name": "python3"
  },
  "language_info": {
   "codemirror_mode": {
    "name": "ipython",
    "version": 3
   },
   "file_extension": ".py",
   "mimetype": "text/x-python",
   "name": "python",
   "nbconvert_exporter": "python",
   "pygments_lexer": "ipython3",
   "version": "3.6.1"
  }
 },
 "nbformat": 4,
 "nbformat_minor": 2
}
