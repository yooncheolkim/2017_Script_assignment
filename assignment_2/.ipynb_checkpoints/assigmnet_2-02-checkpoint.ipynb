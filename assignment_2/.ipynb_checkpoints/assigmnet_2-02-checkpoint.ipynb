{
 "cells": [
  {
   "cell_type": "code",
   "execution_count": 15,
   "metadata": {},
   "outputs": [],
   "source": [
    "def div_path(a):\n",
    "    res1 = ''\n",
    "    res2 = ''\n",
    "    \n",
    "    for i in range(len(a)-1, 0,-1):\n",
    "        if a[i] == '/':\n",
    "            res1 = a[i+1:len(a)]\n",
    "            res2 = a[0:i]\n",
    "            break\n",
    "            \n",
    "    result = []\n",
    "    result.append(res2)\n",
    "    result.append(res1)\n",
    "    return result"
   ]
  },
  {
   "cell_type": "code",
   "execution_count": 16,
   "metadata": {},
   "outputs": [
    {
     "name": "stdout",
     "output_type": "stream",
     "text": [
      "/home/chulsoo/test.txt\n",
      "['/home/chulsoo', 'test.txt']\n"
     ]
    }
   ],
   "source": [
    "a = input();\n",
    "print(div_path(a))"
   ]
  },
  {
   "cell_type": "markdown",
   "metadata": {},
   "source": [
    "문자열을 받아 문자열 끝에서 부터 참조하는 for문을 이용한다.<br/>\n",
    "for i in range(len(a)-1, 0,-1)</br>"
   ]
  },
  {
   "cell_type": "markdown",
   "metadata": {},
   "source": [
    "그렇게 하여, '/'을 만나면, / 이후 부터 파일명이고, / 앞쪽은 경로명이 된다."
   ]
  }
 ],
 "metadata": {
  "kernelspec": {
   "display_name": "Python 3",
   "language": "python",
   "name": "python3"
  },
  "language_info": {
   "codemirror_mode": {
    "name": "ipython",
    "version": 3
   },
   "file_extension": ".py",
   "mimetype": "text/x-python",
   "name": "python",
   "nbconvert_exporter": "python",
   "pygments_lexer": "ipython3",
   "version": "3.6.1"
  }
 },
 "nbformat": 4,
 "nbformat_minor": 2
}
