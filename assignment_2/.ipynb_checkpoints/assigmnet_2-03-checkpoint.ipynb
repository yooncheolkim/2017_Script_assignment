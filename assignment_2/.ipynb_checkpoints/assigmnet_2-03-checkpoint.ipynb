{
 "cells": [
  {
   "cell_type": "code",
   "execution_count": 1,
   "metadata": {
    "collapsed": true
   },
   "outputs": [],
   "source": [
    "def list_union(lista,listb):\n",
    "    result = []\n",
    "    for i in lista:\n",
    "        if i in result:\n",
    "            continue\n",
    "        result.append(i)\n",
    "    for i in listb:\n",
    "        if i in result:\n",
    "            continue\n",
    "        result.append(i)\n",
    "    result.sort()\n",
    "    return result"
   ]
  },
  {
   "cell_type": "code",
   "execution_count": 3,
   "metadata": {},
   "outputs": [
    {
     "name": "stdout",
     "output_type": "stream",
     "text": [
      "[-10, -5, -1, 0, 9, 100]\n"
     ]
    }
   ],
   "source": [
    "print(list_union([-10, -5, 0, -1], [100, 9, 0, 9]))"
   ]
  },
  {
   "cell_type": "markdown",
   "metadata": {},
   "source": [
    "두 리스트에 있는 값을 새로 만든 result 라는 리스트에 추가한다.<br/>\n",
    "이때, result에 있는 항목이면 continue를 사용, 넘어간다.<br/>\n",
    "마지막으로 sort하여 정렬한다."
   ]
  }
 ],
 "metadata": {
  "kernelspec": {
   "display_name": "Python 3",
   "language": "python",
   "name": "python3"
  },
  "language_info": {
   "codemirror_mode": {
    "name": "ipython",
    "version": 3
   },
   "file_extension": ".py",
   "mimetype": "text/x-python",
   "name": "python",
   "nbconvert_exporter": "python",
   "pygments_lexer": "ipython3",
   "version": "3.6.1"
  }
 },
 "nbformat": 4,
 "nbformat_minor": 2
}
