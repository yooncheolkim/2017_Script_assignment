{
 "cells": [
  {
   "cell_type": "code",
   "execution_count": 24,
   "metadata": {
    "collapsed": true
   },
   "outputs": [],
   "source": [
    "def cycle(a):\n",
    "    if len(a) == 1:\n",
    "        a = '0' + a[0]\n",
    "    temp = int(a[1]) + int(a[0]) ##int형\n",
    "    newnum = a[1] + str(temp%10)  ##string형\n",
    "    cnt = 1\n",
    "    while True:\n",
    "        if newnum == a:\n",
    "            break\n",
    "        cnt += 1\n",
    "        temp = int(newnum[1]) +int(newnum[0])\n",
    "        newnum = newnum[1] + str(temp%10)\n",
    "    return cnt"
   ]
  },
  {
   "cell_type": "code",
   "execution_count": 25,
   "metadata": {},
   "outputs": [
    {
     "name": "stdout",
     "output_type": "stream",
     "text": [
      "26\n",
      "84\n",
      "42\n",
      "26\n",
      "4\n"
     ]
    }
   ],
   "source": [
    "a = input()\n",
    "print (cycle(a))"
   ]
  },
  {
   "cell_type": "markdown",
   "metadata": {},
   "source": [
    "입력받은 수로 돌아 올때까지 걸리는 카운트수 계산하는 함수 정의 : cycle() <br/>\n",
    "temp 에 이전 수의 한자리씩을 더한 값을 저장<br/>\n",
    "newnum 에 새롭게 판단할 수를 저장<br/>\n",
    "처음 수 a 와 newnum 이 같게 되면 while 문을 빠져 나오면서 cnt를 반환한다."
   ]
  },
  {
   "cell_type": "markdown",
   "metadata": {},
   "source": [
    "![img](./acmi1110.PNG)"
   ]
  }
 ],
 "metadata": {
  "kernelspec": {
   "display_name": "Python 3",
   "language": "python",
   "name": "python3"
  },
  "language_info": {
   "codemirror_mode": {
    "name": "ipython",
    "version": 3
   },
   "file_extension": ".py",
   "mimetype": "text/x-python",
   "name": "python",
   "nbconvert_exporter": "python",
   "pygments_lexer": "ipython3",
   "version": "3.6.1"
  }
 },
 "nbformat": 4,
 "nbformat_minor": 2
}
